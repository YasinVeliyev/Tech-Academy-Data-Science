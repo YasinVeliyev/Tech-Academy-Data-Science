{
 "cells": [
  {
   "cell_type": "code",
   "execution_count": 1,
   "id": "f53fec9e-4479-46f9-b52f-ceeeb59a4358",
   "metadata": {},
   "outputs": [],
   "source": [
    "import os\n",
    "import pandas as pd\n",
    "from sklearn.feature_extraction.text import CountVectorizer,TfidfVectorizer,TfidfTransformer\n",
    "from sklearn.pipeline import Pipeline\n",
    "from sklearn.model_selection import train_test_split\n",
    "import sklearn\n",
    "from sklearn.linear_model import LogisticRegression\n",
    "from sklearn.naive_bayes import MultinomialNB\n",
    "import re\n",
    "from sklearn.metrics import *\n",
    "from sklearn.svm import SVC"
   ]
  },
  {
   "cell_type": "code",
   "execution_count": null,
   "id": "580f8713-918b-4f07-9d3e-61e20b295327",
   "metadata": {},
   "outputs": [],
   "source": []
  },
  {
   "cell_type": "code",
   "execution_count": 4,
   "id": "476376eb-1cb6-420b-add3-14c7653be2b7",
   "metadata": {},
   "outputs": [
    {
     "ename": "NameError",
     "evalue": "name 'data' is not defined",
     "output_type": "error",
     "traceback": [
      "\u001b[0;31m---------------------------------------------------------------------------\u001b[0m",
      "\u001b[0;31mNameError\u001b[0m                                 Traceback (most recent call last)",
      "Cell \u001b[0;32mIn[4], line 1\u001b[0m\n\u001b[0;32m----> 1\u001b[0m \u001b[43mdata\u001b[49m\n",
      "\u001b[0;31mNameError\u001b[0m: name 'data' is not defined"
     ]
    }
   ],
   "source": [
    "data"
   ]
  },
  {
   "cell_type": "code",
   "execution_count": 26,
   "id": "df9f8db1-f61e-4044-bc89-266240a7ba64",
   "metadata": {},
   "outputs": [],
   "source": [
    "# file_path = (\"data/neg\",\"data/pos\")\n",
    "# d ={\"x\":[],\"y\":[]}\n",
    "# data=pd.DataFrame(columns=[\"x\",\"y\"])\n",
    "# for (i,k) in enumerate(file_path):\n",
    "#     for file in os.listdir(k):\n",
    "#         with open(f\"{k}/{file}\",\"r\") as f:\n",
    "#             new=f.read()\n",
    "#             n = pd.DataFrame({\"x\":new,\"y\":i},index=[0])\n",
    "#             data=pd.concat([data,n])\n",
    "# data.to_csv(\"data/sentiment.csv\",index=None)"
   ]
  },
  {
   "cell_type": "code",
   "execution_count": 2,
   "id": "f626fdc0-e4b8-48fe-8389-25db10c09d17",
   "metadata": {},
   "outputs": [],
   "source": [
    "data=pd.read_csv(\"data/sentiment.csv\")"
   ]
  },
  {
   "cell_type": "code",
   "execution_count": 23,
   "id": "8847e6b2-62d5-4701-bea5-d5161c17e39e",
   "metadata": {},
   "outputs": [
    {
     "name": "stdout",
     "output_type": "stream",
     "text": [
      "bir müddət əvvəl peckinpah, ford, leone və Eastwood adları ilə insanlar western yaratdılar.\n",
      "əsl westernlər.\n",
      "bunlar iyirminci əsrin ən yaxşı filmlərindən bəziləri idi.\n",
      "o günlər keçdi.\n",
      "İndi qərbə keçmək üçün vəhşi vəhşi qərb kimi pisliklərimiz var.\n",
      "və bu rekord amerikan qanundankənarlarının dözülməz nağılı ilə yaxşılaşmır.\n",
      "Outlaws, b-film kralı James G-nin izni ilə Jesse James əfsanəsinin başqa bir təkrarıdır. robinson (nahaqdan ittiham olunan və soyuqluq faktoru kimi klassiklərin prodüseri).\n",
      "yazdan bəri təxirə salınan bu versiyada irland hunka hunka yanan məhəbbət Kolin Farrell (Şumaherin pələng diyarının ən yaxşı hissəsi) pis eşşək Cessi Ceyms rolunu oynayır.\n",
      "Təəssüf ki, onun xarakterinə dair hər hansı bir hiss ranchoda qaldı və bizə baxmaq üçün yalnız ali larter kimi şirin balaları qaldı (mənfi çırpılmış krem).\n",
      "Bu dəfəki dönüş: vətəndaş müharibəsində cənub milisləri kimi xidmətdən təzəcə çıxmış Cessi Ceyms (Farrell), qardaşı Frank (Qabriel Macht) və ondan kiçik dostu (Skott Kaan) silahlarını yerə qoyub evlərinə Missuriyə yollanırlar. müharibə bitdikdən sonra ailə təsərrüfatlarına baxır.\n",
      "lakin pis dəmir yolu baronu Thaddeus ( Harris Yulin ) və onun dostları Rolin Parker ( Terri O'Quinn ) və Allan Pinkerton ( Timoti Dalton ) oğlanlardan torpaqlarını dəmiryollarına təhvil vermələrini tələb etdikdə , onların kiçik azadlıq şəhərində problem yaranır .\n",
      "james və gənclər daha sonra dəmir yolu ilə mübarizə aparmaq üçün güclərini birləşdirirlər -- Missuri ştatında bankları qarət edərək, beləliklə, dəmiryolunun maliyyə profisiti kəsilir və yerli insanlara robin hood oynayırlar.\n",
      "Yol boyu oğlanlar dəstənin ən yaraşıqlısı, dəstənin ən məşhur kovboyu kimin və kimin mtv-nin bütün tələbi ilə canlı yayıma getməli olduğu üzərində mübahisə edir.\n",
      "Onlar eyni interyerə malik çoxsaylı bankları soyurlar , həmişə ən mehriban ürəklərlə , arxa fonda mobi mahnıları səslənərkən qıcıqlı toz tullantıları ilə gəzirlər .\n",
      "Onların paylaşdıqları hazırcavab zarafat əlamətdar kartın içərisinə yapışdırıla bilərdi.\n",
      "Burada ən böyük məyusluq Colin Farrell-in aktyorluğundadır.\n",
      "pələng diyarında böyük iş gördükdən sonra Farrell bu rolu 60 saniyəyə nicolas cagedən daha asan keçir.\n",
      "və onun amerikan ləhcəsi Riçard Gerenin çaqqaldakı irland aksentinə rəqibdir.\n",
      "Bonanza kimi hisslərlə birləşərək: yeniyetməlik illəri, bu homogenləşdirilmiş istehsal (həmişə populyar pg-13 reytinqini əldə etmək üçün azaldılır) bizə tez yorucu və darıxdırıcı olan yenilməz Jesse James verir.\n",
      "Timoti Dalton və Thaddeus Yağışlarının nəzakətli dözülməz yaramazları bütün filmi hər kəsin asılmalı olduğunu elan edərək filmdə qalan enerjini əmməklə keçirirlər.\n",
      "Qeyd etmək lazım deyil : Jesse James və onun dəstəsinin əsl hekayəsi amerikalı qanundan kənar adamların hiyləsi ilə heç bir oxşarlığı yoxdur .\n",
      "Bunun əvəzinə, film vəhşi qərb haqqında köhnə, dəhşətli nağıllarla doludur -- təxminən bir əsr əvvəl 5 sentlik jurnallarda dəbdən düşmüş nağıllar.\n"
     ]
    }
   ],
   "source": []
  },
  {
   "cell_type": "code",
   "execution_count": 3,
   "id": "d4af23c0-7745-40d1-9c96-807cb4c66ba1",
   "metadata": {},
   "outputs": [],
   "source": [
    "data[\"x\"] = data[\"x\"].apply(lambda txt:re.sub(\"[^\\w\\s]+|(\\w*w+\\w*)|a{3,}|\\d+|\\u200b|\\x14|^a{2,}\\w*$\",\"\",txt).lower())\n",
    "data[\"x\"] = data[\"x\"].apply(lambda txt:re.sub(\"\\s+.\\s+|\\n\",\" \",txt).lower())"
   ]
  },
  {
   "cell_type": "code",
   "execution_count": 4,
   "id": "1d441611-8c6f-4d62-a58b-bac810f38077",
   "metadata": {},
   "outputs": [],
   "source": [
    "data=sklearn.utils.shuffle(data)"
   ]
  },
  {
   "cell_type": "code",
   "execution_count": 92,
   "id": "58a29a35-38fa-4078-a6a4-97ce41455b41",
   "metadata": {},
   "outputs": [
    {
     "data": {
      "text/plain": [
       "'georges polti bir dəfə otuz altı dramatik vəziyyət adlı bir məqalə yazdı və burada bütün dramın otuz altı fərqli vəziyyətlə müəyyən edilə bilməyəcəyini iddia etdi bu ruhanilərin günəşin altında yeni heç nə yoxdur deyən bibliya peyğəmbərliyinin müasir ifadəsi ola bilər fakültə axşamdan səhərə qədər rejissor robert rodriguez tərəfindən çəkilmiş ən son film əlbəttə ki tipik  üslubunda bunu sübut edir bu nalayiq səfərdə orijinal materialın ölçülə bilən bir hissəsi yoxdur həm kukla ustalarından həm də cəsəd oğurlayanların işğalından elementlər çəkmək ssenarist kevin uilyamson scream krediti bizə orta amerikada ohayo hadisəli bir payızda keçən dəhşətli nağıl verir qeyriadi fond personajlarından istifadə edərək uilyamson müstəqillik günü kimi deyil arxa qapıdan həyata keçiriləcək yadplanetlilərin işğalını planlaşdırır parazit yadplanetlilər bərbad bir liseyin fakültəsini ələ keçirdilər və tezliklə tələbə korpusunun çoxunu zəbt etdilər və günü qazanmağı əsas personajlar ansamblına buraxdılar zövqün olmaması filmin əsas maneəsidir janr bu kimi keyfiyyət çatışmazlığı olan filmlərə baxsa da enerjili bir yanaşma ilə xilas oldular bu ues kraven tərəfindən idarə olunan fəryadla uğur qazanan lakin bu gəzinti üçün möhkəm bir şey çəkə bilməyən uilyamsonun qabiliyyətinə şübhənin kölgəsindən daha çoxunu salır yoxsa keçən yay nə etdiyinizi bilirəm fakültəni tipik slasher şəkilindən daha çox elmi fantastika ilə dizayn etsə də yenə də eyni nəticələrə gəlir stok personajlarını polad qəfəs matçına atın və görün kimin sağ çıxdığını görün bu səviyyədə əsas rolları virtual naməlumlar oynayır ön tərəfdə yalnız tanınan ilyas ağacı dərin zərbə var bundan başqa ekran veteranları yadplanetli müəllimlərin kiçik rolları üçün saxlanılır bəlkə uilyamsonun fikrincə son yay həmkarlarının fəryadları ilə qazandıqları şöhrətə nail olmaq istəyənlər lakin bunun üçün onların hamısı creek adlı yetkinliyin dəhşətlərindən bəhs edən öz  televiziya şousunda rol almalıdırlar deməyə ehtiyac yoxdur ki aktyorluq ən yüksək səviyyədən uzaqdır nə də zərurət belə olmalıdır bir və ya iki an əsl dəhşət var amma təəssüf ki  və rodriguez hekayəni elmifantastika istiqamətində kifayət qədər uzağa aparmadılar ümumilikdə fakültə öz bəhrəsini verməyən bir uzun zərbə idi'"
      ]
     },
     "execution_count": 92,
     "metadata": {},
     "output_type": "execute_result"
    }
   ],
   "source": [
    "data[\"x\"][0]"
   ]
  },
  {
   "cell_type": "code",
   "execution_count": 5,
   "id": "d7c0dc35-2f9b-4cea-a5f0-b1cf5a524890",
   "metadata": {},
   "outputs": [],
   "source": [
    "X=data[\"x\"]\n",
    "y=data[\"y\"]"
   ]
  },
  {
   "cell_type": "code",
   "execution_count": 68,
   "id": "b8f37e30-5098-4575-96f9-a5d93aa14965",
   "metadata": {},
   "outputs": [],
   "source": []
  },
  {
   "cell_type": "code",
   "execution_count": 95,
   "id": "8296fd1b-a8e1-47b9-9cf3-51fb9a69364d",
   "metadata": {},
   "outputs": [
    {
     "name": "stdout",
     "output_type": "stream",
     "text": [
      "              precision    recall  f1-score   support\n",
      "\n",
      "           0       0.92      0.88      0.90        98\n",
      "           1       0.89      0.93      0.91       102\n",
      "\n",
      "    accuracy                           0.91       200\n",
      "   macro avg       0.91      0.90      0.90       200\n",
      "weighted avg       0.91      0.91      0.90       200\n",
      "\n"
     ]
    }
   ],
   "source": [
    "X_train,X_test,y_train,y_test = train_test_split(X,y,train_size=0.90)\n",
    "pipe = Pipeline([\n",
    "    ('count_vect', CountVectorizer(ngram_range=(1,1),stop_words=[\"yəni\",\"də\",\"amma\",\"ancaq\",\"lakin\",\"isə\",\"ilə\",\"çünki\",\"ki\",\"ci\",\"ildən\",\"il\",\"cü\",\"cı\",\"cu\",\"il\"])),\n",
    "    (\"tfidf_transformer\",TfidfTransformer()),\n",
    "    ('model', SVC(C=0.80))])\n",
    "model = pipe.fit(X_train,y_train)\n",
    "y_predict = pipe.predict(X_test) \n",
    "accuracy=accuracy_score(y_predict,y_test)\n",
    "print(classification_report(y_predict,y_test))"
   ]
  },
  {
   "cell_type": "code",
   "execution_count": 103,
   "id": "dde18376-f04b-48e2-a1b3-83a65c3eb508",
   "metadata": {},
   "outputs": [],
   "source": [
    "stop_words=[\"və\",\"də\",\"hələ\",\"lakin\",\"ancaq\",\"amma\",\"çünki\",\"hərçənd\",\"halbuki\",\"isə\",\"ya\", \"ya da ki\",\"və ya\", \"və yaxud\", \"yaxud da\",\"gah\", \"gah da\", \"gah da ki\", \n",
    "            \"istər\", \"istərsə də\", \"həm\", \"həm də\", \"həm də ki\", \"o cümlədən\", \"o sıradan\", \"nəinki\", \"hətta\", \"habelə\", \"həmçinin\",\"əgər\", \"hərgah\",\"madam ki\", \n",
    "            \"indi ki\", \"yoxsa\", \"bir halda ki\",\"hərçənd\", \"hərçənd ki\", \"nə\", \"nə də\", \"nə də ki\",\"ki\", \"belə ki\"]\n",
    "stop_words =list(set(\",\".join(stop_words).split(\" \")))"
   ]
  },
  {
   "cell_type": "code",
   "execution_count": null,
   "id": "6193691d-08e7-437d-89ac-e5d4f0ed3066",
   "metadata": {},
   "outputs": [],
   "source": []
  },
  {
   "cell_type": "code",
   "execution_count": 96,
   "id": "e7a3ef8f-fc2c-40de-93ca-4e531802445c",
   "metadata": {},
   "outputs": [],
   "source": [
    "pd.to_pickle(model,\"svc_model91.pkl\")"
   ]
  },
  {
   "cell_type": "code",
   "execution_count": 93,
   "id": "81b4f76e-8c9a-4160-af48-31144be1e6ba",
   "metadata": {},
   "outputs": [
    {
     "name": "stdout",
     "output_type": "stream",
     "text": [
      "              precision    recall  f1-score   support\n",
      "\n",
      "           0       1.00      1.00      1.00       909\n",
      "           1       1.00      1.00      1.00       891\n",
      "\n",
      "    accuracy                           1.00      1800\n",
      "   macro avg       1.00      1.00      1.00      1800\n",
      "weighted avg       1.00      1.00      1.00      1800\n",
      "\n"
     ]
    }
   ],
   "source": [
    "print(classification_report(y_train,model.predict(X_train)))"
   ]
  },
  {
   "cell_type": "code",
   "execution_count": 77,
   "id": "68c3aa1f-19dd-4092-b903-4378db3ebfe4",
   "metadata": {},
   "outputs": [
    {
     "name": "stdout",
     "output_type": "stream",
     "text": [
      "              precision    recall  f1-score   support\n",
      "\n",
      "           0       0.89      0.93      0.91        97\n",
      "           1       0.93      0.89      0.91       103\n",
      "\n",
      "    accuracy                           0.91       200\n",
      "   macro avg       0.91      0.91      0.91       200\n",
      "weighted avg       0.91      0.91      0.91       200\n",
      "\n"
     ]
    }
   ],
   "source": [
    "# y_predict = pipe.predict(X_test)\n",
    "print(classification_report(y_predict,y_test))"
   ]
  },
  {
   "cell_type": "code",
   "execution_count": 97,
   "id": "ce06c082-8fec-42ad-aae2-f173380b1352",
   "metadata": {},
   "outputs": [],
   "source": [
    "pd.DataFrame({\"x\":X_test,\"y\":y_test}).to_csv(\"sentiment_test.csv\",index=None)\n",
    "pd.DataFrame({\"x\":X_train,\"y\":y_train}).to_csv(\"sentiment_train.csv\",index=None)"
   ]
  },
  {
   "cell_type": "code",
   "execution_count": 79,
   "id": "64b24e3c-eeb9-47a7-8c94-d6938647b59f",
   "metadata": {},
   "outputs": [
    {
     "data": {
      "text/plain": [
       "289     ci ildən bəri həm rəyçilər həm də kinosevərlər...\n",
       "626     konspekt zarafatsız bir polis məmurunun həyatı...\n",
       "1672    sünnət psixi yaralar və ailə sitcomu açılış se...\n",
       "413     filmin əvvəlində deyildiyi və filmin əsnasında...\n",
       "1667    çənələr ekranda tək bir görüntü göstərməzdən ə...\n",
       "                              ...                        \n",
       "267     yarasalar hər hansı bir qorxu filmi həvəskarın...\n",
       "545      çünki mən aliməm biz bunu edirik   dr alexand...\n",
       "753     çox tipik davam filminizə xoş gəlmisiniz sələf...\n",
       "544     ci ilin iyununda parisə gələndə fransanın əkiz...\n",
       "741     delikates rejissorlar mark carojeanpierre jeun...\n",
       "Name: x, Length: 200, dtype: object"
      ]
     },
     "execution_count": 79,
     "metadata": {},
     "output_type": "execute_result"
    }
   ],
   "source": [
    "X_test"
   ]
  },
  {
   "cell_type": "code",
   "execution_count": 98,
   "id": "a9745322-8ee2-47f7-8425-6a4f42b05098",
   "metadata": {},
   "outputs": [
    {
     "data": {
      "text/plain": [
       "1142    beləliklə burada klassik qorxu filmlərinin cu ...\n",
       "503     battlefield earth ci ilin ən pis filmidir və s...\n",
       "1762    baş rolda samuel olan mağara adamının sevgilis...\n",
       "145     kinosevərlərin diqqətinə siz mənasız bir zonay...\n",
       "1497    earth hindistanın britaniyadan müstəqillik qaz...\n",
       "                              ...                        \n",
       "329     robin williams ən nadir hədiyyələrə malikdir ə...\n",
       "28       heç vaxt məni heyrətə salmır hər dəfə düşünür...\n",
       "1911    yaşıl milin üç saat ərzində necə inkişaf etməs...\n",
       "97      qayalar  əslində  filmin bir neçə nöqtəsində y...\n",
       "808     casus oyunu hazırdır bunun üçün çarlinin mələk...\n",
       "Name: x, Length: 200, dtype: object"
      ]
     },
     "execution_count": 98,
     "metadata": {},
     "output_type": "execute_result"
    }
   ],
   "source": [
    "X_test"
   ]
  },
  {
   "cell_type": "code",
   "execution_count": 139,
   "id": "1c06dabd-a35f-4ce2-ac14-35e80a1b17a1",
   "metadata": {},
   "outputs": [
    {
     "data": {
      "text/plain": [
       "{''}"
      ]
     },
     "execution_count": 139,
     "metadata": {},
     "output_type": "execute_result"
    }
   ],
   "source": [
    "set(data[\"x\"].apply(lambda x:re.sub(\"\\w+|\\s+\",\"\",x)))"
   ]
  },
  {
   "cell_type": "code",
   "execution_count": 94,
   "id": "224197b6-6a3f-41a1-a334-bd31454c8185",
   "metadata": {},
   "outputs": [
    {
     "data": {
      "text/html": [
       "<div>\n",
       "<style scoped>\n",
       "    .dataframe tbody tr th:only-of-type {\n",
       "        vertical-align: middle;\n",
       "    }\n",
       "\n",
       "    .dataframe tbody tr th {\n",
       "        vertical-align: top;\n",
       "    }\n",
       "\n",
       "    .dataframe thead th {\n",
       "        text-align: right;\n",
       "    }\n",
       "</style>\n",
       "<table border=\"1\" class=\"dataframe\">\n",
       "  <thead>\n",
       "    <tr style=\"text-align: right;\">\n",
       "      <th></th>\n",
       "      <th>x</th>\n",
       "      <th>y</th>\n",
       "    </tr>\n",
       "  </thead>\n",
       "  <tbody>\n",
       "    <tr>\n",
       "      <th>1957</th>\n",
       "      <td>hunting  matt damon  təbii dahidir  bir film ...</td>\n",
       "      <td>1</td>\n",
       "    </tr>\n",
       "    <tr>\n",
       "      <th>541</th>\n",
       "      <td>yeni ünvan eyni köhnə münasibət film tövsiyə e...</td>\n",
       "      <td>0</td>\n",
       "    </tr>\n",
       "    <tr>\n",
       "      <th>1849</th>\n",
       "      <td>etiraf etməliyəm ki əvvəlcə bu filmi bəyənmədi...</td>\n",
       "      <td>1</td>\n",
       "    </tr>\n",
       "    <tr>\n",
       "      <th>1578</th>\n",
       "      <td>etiraf etməliyəm ki yeni romantik komediya ser...</td>\n",
       "      <td>1</td>\n",
       "    </tr>\n",
       "    <tr>\n",
       "      <th>1361</th>\n",
       "      <td>stiv soderberqin cu ildə kann kinofestivalında...</td>\n",
       "      <td>1</td>\n",
       "    </tr>\n",
       "    <tr>\n",
       "      <th>...</th>\n",
       "      <td>...</td>\n",
       "      <td>...</td>\n",
       "    </tr>\n",
       "    <tr>\n",
       "      <th>318</th>\n",
       "      <td>bu bütün zamanların ən uğurlu qorxu filmləri s...</td>\n",
       "      <td>0</td>\n",
       "    </tr>\n",
       "    <tr>\n",
       "      <th>1392</th>\n",
       "      <td>bu bəziləri sevimli kiçik bir ferma qızı franc...</td>\n",
       "      <td>1</td>\n",
       "    </tr>\n",
       "    <tr>\n",
       "      <th>1531</th>\n",
       "      <td>mənə həmişə deyirdilər ki həyatda qaçınılmaz i...</td>\n",
       "      <td>1</td>\n",
       "    </tr>\n",
       "    <tr>\n",
       "      <th>1139</th>\n",
       "      <td>fritz lanqın nasist almaniyasını tərk etdikdən...</td>\n",
       "      <td>1</td>\n",
       "    </tr>\n",
       "    <tr>\n",
       "      <th>1973</th>\n",
       "      <td>hər hansı bir serial qatil filminin ən böyük k...</td>\n",
       "      <td>1</td>\n",
       "    </tr>\n",
       "  </tbody>\n",
       "</table>\n",
       "<p>2000 rows × 2 columns</p>\n",
       "</div>"
      ],
      "text/plain": [
       "                                                      x  y\n",
       "1957   hunting  matt damon  təbii dahidir  bir film ...  1\n",
       "541   yeni ünvan eyni köhnə münasibət film tövsiyə e...  0\n",
       "1849  etiraf etməliyəm ki əvvəlcə bu filmi bəyənmədi...  1\n",
       "1578  etiraf etməliyəm ki yeni romantik komediya ser...  1\n",
       "1361  stiv soderberqin cu ildə kann kinofestivalında...  1\n",
       "...                                                 ... ..\n",
       "318   bu bütün zamanların ən uğurlu qorxu filmləri s...  0\n",
       "1392  bu bəziləri sevimli kiçik bir ferma qızı franc...  1\n",
       "1531  mənə həmişə deyirdilər ki həyatda qaçınılmaz i...  1\n",
       "1139  fritz lanqın nasist almaniyasını tərk etdikdən...  1\n",
       "1973  hər hansı bir serial qatil filminin ən böyük k...  1\n",
       "\n",
       "[2000 rows x 2 columns]"
      ]
     },
     "execution_count": 94,
     "metadata": {},
     "output_type": "execute_result"
    }
   ],
   "source": [
    "data"
   ]
  },
  {
   "cell_type": "code",
   "execution_count": 89,
   "id": "31532ae3-e2c0-46cb-a17e-02e24ff4f15d",
   "metadata": {},
   "outputs": [
    {
     "name": "stdout",
     "output_type": "stream",
     "text": [
      "beləliklə burada klassik qorxu filmlərinin 1999cu il remeyklərinin ikincisi var birincisi klassik hauntingin lal acınacaqlı lakin yaxşı remeyki idi indi perili təpədə evin çoxdan gözlənilən remeyki gəlir klassik rolunu oynayan vincent price bir qrup adama evində qalmaq üçün 100 000 ödəyən bir adam olaraq rol aldı gecəni sağ qalsalar pulu alırlar yaxşı deyilsə yurisdiksiyanı əldə edirsən filmi hələ görmədiyim üçün dvd yoldadır remeyki həqiqətən bəyənibistəməyəcəyimə əmin deyildim lakin əminəm ki keçər və geri qayıtmaq üçün əla bir hekayə xəttinə malikdir geoffrey rush inanılmaz performansı ilə fantastik rolda insanların ağlını qorxutmaq məqsədi daşıyan əyləncə parkının sahibi stiven praysdir arvadı evelyn qiymət dostları ilə ziyafət verir steven bu fikirdən narahatdır və öz siyahısını tərtib edir birtəhər kimsə  nəsə siyahı dəyişir və daha beş nəfər qonaqlığa dəvət olunur  eddi taye diqqs keçmiş beysbol oyunçusu sarah əli karter hər şeyi yenidən bağlaya bilən keçmiş köməkçi melissa briget uilson bir növ tokşou aparıcısı dr blackburn  peter ghallager  və watson  chris kattan  ağıllı ağızlı yumoristdir  onun edəcəyi şey bu beş nəfərə 000 000 dollar ödəməkdir əgər onlar gecəni yaşaya bilsələr bacarsalar pulu alarlar  yaxsi olmasa almirlar  perili təpədəki ev əvvəllər dəlixana idi i̇llər əvvəl ruhi xəstələrin qoparaq öldürdüyü dr orada  onu yeri bağlamağa məcbur etdi  çünki öldüsə  onlar da elədilər  orada olanların hamısı yanaraq öldü indi steven priceın evidir və bu beş nəfər üçün bu ziyafət təşkil edir normal görünən gecə kimi başlayan şey dəhşətli  qan sıçrayan gecəyə çevrilir sığınacaqda həqiqətən nə baş verdiyinin və bu qonaqların əslində niyə orada olduqlarının dərin qaranlıq sirləri açılır insanlar birbir yox olmağa başlayır suiqəsdlər ortaya çıxmağa başlayır və stiven prays evinin hər şeydən sonra sağ ola biləcəyini öyrənir insanlar bir vaxtlar ruhi xəstələrin saxlandığı otaqlar tapırlar bir vaxtlar insanların öldüyü otaqlar hələ də bu insanları ehtiva edə bilən otaqlar indi bu beş nəfər gecəni yaşayıb evdən sağ çıxmağa cəhd etməli və dəhşətli nəticələrlə birbirindən sağ çıxmalıdırlar mən rəsmi olaraq orijinalı görmədiyim üçün hansının daha yaxşı olduğunu deyə bilmərəm bununla belə deyə bilərəm ki bu filmi bəyəndim geoffrey rush zəngin stiven qiyməti kimi milyonda bir performans verir və vincent qiymət rolunu yerinə yetirərək əla iş görür famke jansen həyat yoldaşı kimi böyük və hətta bəzən qorxunc idi ali carter və taye diggs bir növ əsas personajlara çevrilir və universitet bluesda debüt edən ali carter burada taye diggs kimi fantastik performans göstərir chris kattan bizə böyük komik relyef verir və filmdə çoxlu komik sətirlər var peter gallager və brigette wilson da böyük idi və potensial qurbanlar kimi komandanlıq nümayiş etdirdilər süjet yaxşı düşünülmüş və çox cəlbedici idi filmin bütün yol boyunca narahatedici və ürpertici və hətta bəzən açıqaydın qorxulu atmosferi var mən hətta açılış kreditlərini mənim üçün bir az uğursuz tapdım gözləmədiyim bir şey çoxlu xüsusi effektləri olan haunting tipli bir film idi fantastik qan və xüsusi effektlərə malik olmasına baxmayaraq filmin cəmi 19 milyon dollarlıq büdcəsi var ki bu bütün yolu göstərmir amma deyə bilərsiniz film yaxşı yazılmışdır və bu yalnız əsas çatışmazlıq az inkişaf etmiş personajlar və bizdə qalan süjet boşluqlarıdır sonluq olduqca ağıllıdır və bəziləri bunu başa düşməyə də bilər deməliyəm ki perili təpədəki ev sürpriz oldu mən xüsusi effektlərlə qorxusuz və axmaq sonluqla başqa bir həyəcan gözləyirdim əvəzində qan qorxu və əla aktyor oyunu ilə yaxşı bir  filmi tapdım house on haunted hill  həqiqətən ciddi qəbul edə bilməyəcəyiniz filmlərdən biridir  yaxşı ssenari ilə yaxşı çəkilmiş film olsa da hələ də bəzi qüsurları var lakin bundan başqa film əyləncəli  ağıllı və qorxuludur və bizi təəccübləndirir ki  niyə belə remeyklər hər zaman edilə bilməz \n"
     ]
    }
   ],
   "source": [
    "print(data.iloc[0]['x'])"
   ]
  },
  {
   "cell_type": "code",
   "execution_count": null,
   "id": "4d301614-ce4d-44f4-b990-cbd44c8178b6",
   "metadata": {},
   "outputs": [],
   "source": []
  }
 ],
 "metadata": {
  "kernelspec": {
   "display_name": "Python 3 (ipykernel)",
   "language": "python",
   "name": "python3"
  },
  "language_info": {
   "codemirror_mode": {
    "name": "ipython",
    "version": 3
   },
   "file_extension": ".py",
   "mimetype": "text/x-python",
   "name": "python",
   "nbconvert_exporter": "python",
   "pygments_lexer": "ipython3",
   "version": "3.10.12"
  }
 },
 "nbformat": 4,
 "nbformat_minor": 5
}
