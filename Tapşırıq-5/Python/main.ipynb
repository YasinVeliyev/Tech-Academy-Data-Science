{
 "cells": [
  {
   "cell_type": "code",
   "execution_count": 167,
   "id": "7d8b4a1f-b800-4810-993d-17ec4b3fb9d0",
   "metadata": {},
   "outputs": [
    {
     "name": "stderr",
     "output_type": "stream",
     "text": [
      "/tmp/ipykernel_18011/86120159.py:8: SettingWithCopyWarning: \n",
      "A value is trying to be set on a copy of a slice from a DataFrame.\n",
      "Try using .loc[row_indexer,col_indexer] = value instead\n",
      "\n",
      "See the caveats in the documentation: https://pandas.pydata.org/pandas-docs/stable/user_guide/indexing.html#returning-a-view-versus-a-copy\n",
      "  data.iloc[:,1] = data.iloc[:,1].apply(lambda x:int(\"\".join(re.split(pattern,x)[:-1])))\n",
      "/tmp/ipykernel_18011/86120159.py:8: FutureWarning: In a future version, `df.iloc[:, i] = newvals` will attempt to set the values inplace instead of always setting a new array. To retain the old behavior, use either `df[df.columns[i]] = newvals` or, if columns are non-unique, `df.isetitem(i, newvals)`\n",
      "  data.iloc[:,1] = data.iloc[:,1].apply(lambda x:int(\"\".join(re.split(pattern,x)[:-1])))\n",
      "/tmp/ipykernel_18011/86120159.py:9: SettingWithCopyWarning: \n",
      "A value is trying to be set on a copy of a slice from a DataFrame.\n",
      "Try using .loc[row_indexer,col_indexer] = value instead\n",
      "\n",
      "See the caveats in the documentation: https://pandas.pydata.org/pandas-docs/stable/user_guide/indexing.html#returning-a-view-versus-a-copy\n",
      "  data.loc[:,\"Buraxilish ili\"]=data.loc[:,\"Buraxilish ili\"].apply(lambda x:int(x))\n"
     ]
    }
   ],
   "source": [
    "import pandas as pd\n",
    "import re\n",
    "from datetime import datetime\n",
    "pattern=\"\\s+\"\n",
    "\n",
    "df=pd.read_csv(\"turboaz.csv\")\n",
    "data=df[[\"Buraxilish ili\",\"Yurush\",\"Qiymet\"]]\n",
    "data.iloc[:,1] = data.iloc[:,1].apply(lambda x:int(\"\".join(re.split(pattern,x)[:-1])))\n",
    "data.loc[:,\"Buraxilish ili\"]=data.loc[:,\"Buraxilish ili\"].apply(lambda x:int(x))"
   ]
  },
  {
   "cell_type": "code",
   "execution_count": null,
   "id": "f201e380",
   "metadata": {},
   "outputs": [],
   "source": []
  },
  {
   "cell_type": "code",
   "execution_count": null,
   "id": "0381b53e-de59-4453-8584-aedb8d8bf963",
   "metadata": {},
   "outputs": [],
   "source": []
  },
  {
   "cell_type": "code",
   "execution_count": null,
   "id": "09d228e3-8018-4406-ab48-3a1ffff927f4",
   "metadata": {},
   "outputs": [],
   "source": []
  },
  {
   "cell_type": "code",
   "execution_count": 168,
   "id": "2e9e554d-aab3-4354-9040-a4c77eba064f",
   "metadata": {},
   "outputs": [
    {
     "name": "stderr",
     "output_type": "stream",
     "text": [
      "/tmp/ipykernel_18011/3661051641.py:7: SettingWithCopyWarning: \n",
      "A value is trying to be set on a copy of a slice from a DataFrame.\n",
      "Try using .loc[row_indexer,col_indexer] = value instead\n",
      "\n",
      "See the caveats in the documentation: https://pandas.pydata.org/pandas-docs/stable/user_guide/indexing.html#returning-a-view-versus-a-copy\n",
      "  data.loc[:,\"Qiymet\"]=data[\"Qiymet\"].apply(clean_price_and_convert)\n",
      "/tmp/ipykernel_18011/3661051641.py:7: FutureWarning: In a future version, `df.iloc[:, i] = newvals` will attempt to set the values inplace instead of always setting a new array. To retain the old behavior, use either `df[df.columns[i]] = newvals` or, if columns are non-unique, `df.isetitem(i, newvals)`\n",
      "  data.loc[:,\"Qiymet\"]=data[\"Qiymet\"].apply(clean_price_and_convert)\n"
     ]
    }
   ],
   "source": [
    "def clean_price_and_convert(col:str):\n",
    "    col=re.split(\"\\s+\",col)\n",
    "    if col[-1]==\"$\":\n",
    "        return float(col[0])*1.70\n",
    "    return float(col[0])\n",
    "        \n",
    "data.loc[:,\"Qiymet\"]=data[\"Qiymet\"].apply(clean_price_and_convert)"
   ]
  },
  {
   "cell_type": "code",
   "execution_count": 49,
   "id": "2eba3bf2-c9c5-45ef-9a4d-5db72c6ba420",
   "metadata": {},
   "outputs": [
    {
     "data": {
      "text/html": [
       "<div>\n",
       "<style scoped>\n",
       "    .dataframe tbody tr th:only-of-type {\n",
       "        vertical-align: middle;\n",
       "    }\n",
       "\n",
       "    .dataframe tbody tr th {\n",
       "        vertical-align: top;\n",
       "    }\n",
       "\n",
       "    .dataframe thead th {\n",
       "        text-align: right;\n",
       "    }\n",
       "</style>\n",
       "<table border=\"1\" class=\"dataframe\">\n",
       "  <thead>\n",
       "    <tr style=\"text-align: right;\">\n",
       "      <th></th>\n",
       "      <th>Buraxilish ili</th>\n",
       "      <th>Yurush</th>\n",
       "      <th>Qiymet</th>\n",
       "    </tr>\n",
       "  </thead>\n",
       "  <tbody>\n",
       "    <tr>\n",
       "      <th>0</th>\n",
       "      <td>24</td>\n",
       "      <td>366000</td>\n",
       "      <td>12500.0</td>\n",
       "    </tr>\n",
       "    <tr>\n",
       "      <th>1</th>\n",
       "      <td>9</td>\n",
       "      <td>102000</td>\n",
       "      <td>53550.0</td>\n",
       "    </tr>\n",
       "    <tr>\n",
       "      <th>2</th>\n",
       "      <td>21</td>\n",
       "      <td>469700</td>\n",
       "      <td>11700.0</td>\n",
       "    </tr>\n",
       "    <tr>\n",
       "      <th>3</th>\n",
       "      <td>25</td>\n",
       "      <td>556680</td>\n",
       "      <td>9700.0</td>\n",
       "    </tr>\n",
       "    <tr>\n",
       "      <th>4</th>\n",
       "      <td>23</td>\n",
       "      <td>300000</td>\n",
       "      <td>12700.0</td>\n",
       "    </tr>\n",
       "    <tr>\n",
       "      <th>...</th>\n",
       "      <td>...</td>\n",
       "      <td>...</td>\n",
       "      <td>...</td>\n",
       "    </tr>\n",
       "    <tr>\n",
       "      <th>1323</th>\n",
       "      <td>27</td>\n",
       "      <td>325000</td>\n",
       "      <td>8800.0</td>\n",
       "    </tr>\n",
       "    <tr>\n",
       "      <th>1324</th>\n",
       "      <td>29</td>\n",
       "      <td>280000</td>\n",
       "      <td>6300.0</td>\n",
       "    </tr>\n",
       "    <tr>\n",
       "      <th>1325</th>\n",
       "      <td>25</td>\n",
       "      <td>272000</td>\n",
       "      <td>10900.0</td>\n",
       "    </tr>\n",
       "    <tr>\n",
       "      <th>1326</th>\n",
       "      <td>23</td>\n",
       "      <td>207000</td>\n",
       "      <td>11300.0</td>\n",
       "    </tr>\n",
       "    <tr>\n",
       "      <th>1327</th>\n",
       "      <td>27</td>\n",
       "      <td>255700</td>\n",
       "      <td>10500.0</td>\n",
       "    </tr>\n",
       "  </tbody>\n",
       "</table>\n",
       "<p>1328 rows × 3 columns</p>\n",
       "</div>"
      ],
      "text/plain": [
       "      Buraxilish ili  Yurush   Qiymet\n",
       "0                 24  366000  12500.0\n",
       "1                  9  102000  53550.0\n",
       "2                 21  469700  11700.0\n",
       "3                 25  556680   9700.0\n",
       "4                 23  300000  12700.0\n",
       "...              ...     ...      ...\n",
       "1323              27  325000   8800.0\n",
       "1324              29  280000   6300.0\n",
       "1325              25  272000  10900.0\n",
       "1326              23  207000  11300.0\n",
       "1327              27  255700  10500.0\n",
       "\n",
       "[1328 rows x 3 columns]"
      ]
     },
     "execution_count": 49,
     "metadata": {},
     "output_type": "execute_result"
    }
   ],
   "source": [
    "data"
   ]
  },
  {
   "cell_type": "code",
   "execution_count": 6,
   "id": "e3192126-05fe-429f-bb15-238eefaa7253",
   "metadata": {},
   "outputs": [
    {
     "data": {
      "text/plain": [
       "0       366000\n",
       "1       102000\n",
       "2       469700\n",
       "3       556680\n",
       "4       300000\n",
       "         ...  \n",
       "1323    325000\n",
       "1324    280000\n",
       "1325    272000\n",
       "1326    207000\n",
       "1327    255700\n",
       "Name: Yurush, Length: 1328, dtype: int64"
      ]
     },
     "execution_count": 6,
     "metadata": {},
     "output_type": "execute_result"
    }
   ],
   "source": [
    "data[\"Yurush\"]"
   ]
  },
  {
   "cell_type": "code",
   "execution_count": 169,
   "id": "013aba7b-061d-466b-b8a0-8ad5a85bf978",
   "metadata": {},
   "outputs": [
    {
     "data": {
      "image/png": "[encoded data removed]",
      "text/plain": [
       "<Figure size 640x480 with 1 Axes>"
      ]
     },
     "metadata": {},
     "output_type": "display_data"
    }
   ],
   "source": [
    "import matplotlib.pyplot as plt\n",
    "plt.scatter(data[\"Yurush\"],data[\"Qiymet\"])\n",
    "plt.ylabel(\"Qiymet\")\n",
    "plt.xlabel(\"Yurush\")\n",
    "plt.show()"
   ]
  },
  {
   "cell_type": "code",
   "execution_count": 170,
   "id": "70f38fbc-d20d-4c01-825c-6662908a3b1d",
   "metadata": {},
   "outputs": [
    {
     "data": {
      "image/png": "[encoded data removed]",
      "text/plain": [
       "<Figure size 640x480 with 1 Axes>"
      ]
     },
     "metadata": {},
     "output_type": "display_data"
    },
    {
     "data": {
      "text/html": [
       "<div>\n",
       "<style scoped>\n",
       "    .dataframe tbody tr th:only-of-type {\n",
       "        vertical-align: middle;\n",
       "    }\n",
       "\n",
       "    .dataframe tbody tr th {\n",
       "        vertical-align: top;\n",
       "    }\n",
       "\n",
       "    .dataframe thead th {\n",
       "        text-align: right;\n",
       "    }\n",
       "</style>\n",
       "<table border=\"1\" class=\"dataframe\">\n",
       "  <thead>\n",
       "    <tr style=\"text-align: right;\">\n",
       "      <th></th>\n",
       "      <th>Buraxilish ili</th>\n",
       "      <th>Yurush</th>\n",
       "      <th>Qiymet</th>\n",
       "    </tr>\n",
       "  </thead>\n",
       "  <tbody>\n",
       "    <tr>\n",
       "      <th>0</th>\n",
       "      <td>1999</td>\n",
       "      <td>366000</td>\n",
       "      <td>12500.0</td>\n",
       "    </tr>\n",
       "    <tr>\n",
       "      <th>1</th>\n",
       "      <td>2014</td>\n",
       "      <td>102000</td>\n",
       "      <td>53550.0</td>\n",
       "    </tr>\n",
       "    <tr>\n",
       "      <th>2</th>\n",
       "      <td>2002</td>\n",
       "      <td>469700</td>\n",
       "      <td>11700.0</td>\n",
       "    </tr>\n",
       "    <tr>\n",
       "      <th>3</th>\n",
       "      <td>1998</td>\n",
       "      <td>556680</td>\n",
       "      <td>9700.0</td>\n",
       "    </tr>\n",
       "    <tr>\n",
       "      <th>4</th>\n",
       "      <td>2000</td>\n",
       "      <td>300000</td>\n",
       "      <td>12700.0</td>\n",
       "    </tr>\n",
       "    <tr>\n",
       "      <th>...</th>\n",
       "      <td>...</td>\n",
       "      <td>...</td>\n",
       "      <td>...</td>\n",
       "    </tr>\n",
       "    <tr>\n",
       "      <th>1323</th>\n",
       "      <td>1996</td>\n",
       "      <td>325000</td>\n",
       "      <td>8800.0</td>\n",
       "    </tr>\n",
       "    <tr>\n",
       "      <th>1324</th>\n",
       "      <td>1994</td>\n",
       "      <td>280000</td>\n",
       "      <td>6300.0</td>\n",
       "    </tr>\n",
       "    <tr>\n",
       "      <th>1325</th>\n",
       "      <td>1998</td>\n",
       "      <td>272000</td>\n",
       "      <td>10900.0</td>\n",
       "    </tr>\n",
       "    <tr>\n",
       "      <th>1326</th>\n",
       "      <td>2000</td>\n",
       "      <td>207000</td>\n",
       "      <td>11300.0</td>\n",
       "    </tr>\n",
       "    <tr>\n",
       "      <th>1327</th>\n",
       "      <td>1996</td>\n",
       "      <td>255700</td>\n",
       "      <td>10500.0</td>\n",
       "    </tr>\n",
       "  </tbody>\n",
       "</table>\n",
       "<p>1328 rows × 3 columns</p>\n",
       "</div>"
      ],
      "text/plain": [
       "      Buraxilish ili  Yurush   Qiymet\n",
       "0               1999  366000  12500.0\n",
       "1               2014  102000  53550.0\n",
       "2               2002  469700  11700.0\n",
       "3               1998  556680   9700.0\n",
       "4               2000  300000  12700.0\n",
       "...              ...     ...      ...\n",
       "1323            1996  325000   8800.0\n",
       "1324            1994  280000   6300.0\n",
       "1325            1998  272000  10900.0\n",
       "1326            2000  207000  11300.0\n",
       "1327            1996  255700  10500.0\n",
       "\n",
       "[1328 rows x 3 columns]"
      ]
     },
     "execution_count": 170,
     "metadata": {},
     "output_type": "execute_result"
    }
   ],
   "source": [
    "plt.scatter(data[\"Buraxilish ili\"],data[\"Qiymet\"])\n",
    "plt.ylabel(\"Qiymet\")\n",
    "plt.xlabel(\"Buraxilish ili\")\n",
    "plt.show()\n",
    "data"
   ]
  },
  {
   "cell_type": "code",
   "execution_count": 171,
   "id": "d76070b2-29fc-4adb-891b-8b6ee9ed014a",
   "metadata": {},
   "outputs": [],
   "source": [
    "def normalize_data(col):\n",
    "    print(col.max()-col.min())\n",
    "    return (col-col.mean())/(col.std())"
   ]
  },
  {
   "cell_type": "code",
   "execution_count": 172,
   "id": "f92d409d-3e29-4718-bd68-f4b392f6a69e",
   "metadata": {},
   "outputs": [
    {
     "name": "stdout",
     "output_type": "stream",
     "text": [
      "876000\n",
      "29\n",
      "98370.0\n"
     ]
    },
    {
     "name": "stderr",
     "output_type": "stream",
     "text": [
      "/tmp/ipykernel_18011/2948235354.py:2: SettingWithCopyWarning: \n",
      "A value is trying to be set on a copy of a slice from a DataFrame.\n",
      "Try using .loc[row_indexer,col_indexer] = value instead\n",
      "\n",
      "See the caveats in the documentation: https://pandas.pydata.org/pandas-docs/stable/user_guide/indexing.html#returning-a-view-versus-a-copy\n",
      "  data[\"Yurush\"]=normalize_data(data[\"Yurush\"])\n",
      "/tmp/ipykernel_18011/2948235354.py:3: SettingWithCopyWarning: \n",
      "A value is trying to be set on a copy of a slice from a DataFrame.\n",
      "Try using .loc[row_indexer,col_indexer] = value instead\n",
      "\n",
      "See the caveats in the documentation: https://pandas.pydata.org/pandas-docs/stable/user_guide/indexing.html#returning-a-view-versus-a-copy\n",
      "  data[\"Buraxilish ili\"]=normalize_data(data[\"Buraxilish ili\"])\n",
      "/tmp/ipykernel_18011/2948235354.py:4: SettingWithCopyWarning: \n",
      "A value is trying to be set on a copy of a slice from a DataFrame.\n",
      "Try using .loc[row_indexer,col_indexer] = value instead\n",
      "\n",
      "See the caveats in the documentation: https://pandas.pydata.org/pandas-docs/stable/user_guide/indexing.html#returning-a-view-versus-a-copy\n",
      "  data[\"Qiymet\"]=normalize_data(data[\"Qiymet\"])\n"
     ]
    },
    {
     "data": {
      "text/html": [
       "<div>\n",
       "<style scoped>\n",
       "    .dataframe tbody tr th:only-of-type {\n",
       "        vertical-align: middle;\n",
       "    }\n",
       "\n",
       "    .dataframe tbody tr th {\n",
       "        vertical-align: top;\n",
       "    }\n",
       "\n",
       "    .dataframe thead th {\n",
       "        text-align: right;\n",
       "    }\n",
       "</style>\n",
       "<table border=\"1\" class=\"dataframe\">\n",
       "  <thead>\n",
       "    <tr style=\"text-align: right;\">\n",
       "      <th></th>\n",
       "      <th>Buraxilish ili</th>\n",
       "      <th>Yurush</th>\n",
       "      <th>Qiymet</th>\n",
       "    </tr>\n",
       "  </thead>\n",
       "  <tbody>\n",
       "    <tr>\n",
       "      <th>0</th>\n",
       "      <td>-0.162484</td>\n",
       "      <td>0.715888</td>\n",
       "      <td>-0.191676</td>\n",
       "    </tr>\n",
       "    <tr>\n",
       "      <th>1</th>\n",
       "      <td>2.652017</td>\n",
       "      <td>-1.472811</td>\n",
       "      <td>2.815558</td>\n",
       "    </tr>\n",
       "    <tr>\n",
       "      <th>2</th>\n",
       "      <td>0.400416</td>\n",
       "      <td>1.575615</td>\n",
       "      <td>-0.250282</td>\n",
       "    </tr>\n",
       "    <tr>\n",
       "      <th>3</th>\n",
       "      <td>-0.350117</td>\n",
       "      <td>2.296725</td>\n",
       "      <td>-0.396798</td>\n",
       "    </tr>\n",
       "    <tr>\n",
       "      <th>4</th>\n",
       "      <td>0.025150</td>\n",
       "      <td>0.168713</td>\n",
       "      <td>-0.177024</td>\n",
       "    </tr>\n",
       "    <tr>\n",
       "      <th>...</th>\n",
       "      <td>...</td>\n",
       "      <td>...</td>\n",
       "      <td>...</td>\n",
       "    </tr>\n",
       "    <tr>\n",
       "      <th>1323</th>\n",
       "      <td>-0.725384</td>\n",
       "      <td>0.375976</td>\n",
       "      <td>-0.462730</td>\n",
       "    </tr>\n",
       "    <tr>\n",
       "      <th>1324</th>\n",
       "      <td>-1.100651</td>\n",
       "      <td>0.002902</td>\n",
       "      <td>-0.645874</td>\n",
       "    </tr>\n",
       "    <tr>\n",
       "      <th>1325</th>\n",
       "      <td>-0.350117</td>\n",
       "      <td>-0.063422</td>\n",
       "      <td>-0.308888</td>\n",
       "    </tr>\n",
       "    <tr>\n",
       "      <th>1326</th>\n",
       "      <td>0.025150</td>\n",
       "      <td>-0.602306</td>\n",
       "      <td>-0.279585</td>\n",
       "    </tr>\n",
       "    <tr>\n",
       "      <th>1327</th>\n",
       "      <td>-0.725384</td>\n",
       "      <td>-0.198557</td>\n",
       "      <td>-0.338191</td>\n",
       "    </tr>\n",
       "  </tbody>\n",
       "</table>\n",
       "<p>1328 rows × 3 columns</p>\n",
       "</div>"
      ],
      "text/plain": [
       "      Buraxilish ili    Yurush    Qiymet\n",
       "0          -0.162484  0.715888 -0.191676\n",
       "1           2.652017 -1.472811  2.815558\n",
       "2           0.400416  1.575615 -0.250282\n",
       "3          -0.350117  2.296725 -0.396798\n",
       "4           0.025150  0.168713 -0.177024\n",
       "...              ...       ...       ...\n",
       "1323       -0.725384  0.375976 -0.462730\n",
       "1324       -1.100651  0.002902 -0.645874\n",
       "1325       -0.350117 -0.063422 -0.308888\n",
       "1326        0.025150 -0.602306 -0.279585\n",
       "1327       -0.725384 -0.198557 -0.338191\n",
       "\n",
       "[1328 rows x 3 columns]"
      ]
     },
     "execution_count": 172,
     "metadata": {},
     "output_type": "execute_result"
    }
   ],
   "source": [
    "data_r=data.copy()\n",
    "data[\"Yurush\"]=normalize_data(data[\"Yurush\"])\n",
    "data[\"Buraxilish ili\"]=normalize_data(data[\"Buraxilish ili\"])\n",
    "data[\"Qiymet\"]=normalize_data(data[\"Qiymet\"])\n",
    "data"
   ]
  },
  {
   "cell_type": "code",
   "execution_count": 173,
   "id": "d3db0f15-0531-470b-8c25-83a69d5bfdc3",
   "metadata": {},
   "outputs": [
    {
     "data": {
      "text/html": [
       "<div>\n",
       "<style scoped>\n",
       "    .dataframe tbody tr th:only-of-type {\n",
       "        vertical-align: middle;\n",
       "    }\n",
       "\n",
       "    .dataframe tbody tr th {\n",
       "        vertical-align: top;\n",
       "    }\n",
       "\n",
       "    .dataframe thead th {\n",
       "        text-align: right;\n",
       "    }\n",
       "</style>\n",
       "<table border=\"1\" class=\"dataframe\">\n",
       "  <thead>\n",
       "    <tr style=\"text-align: right;\">\n",
       "      <th></th>\n",
       "      <th>Buraxilish ili</th>\n",
       "      <th>Yurush</th>\n",
       "      <th>Qiymet</th>\n",
       "    </tr>\n",
       "  </thead>\n",
       "  <tbody>\n",
       "    <tr>\n",
       "      <th>0</th>\n",
       "      <td>-0.162484</td>\n",
       "      <td>0.715888</td>\n",
       "      <td>-0.191676</td>\n",
       "    </tr>\n",
       "    <tr>\n",
       "      <th>1</th>\n",
       "      <td>2.652017</td>\n",
       "      <td>-1.472811</td>\n",
       "      <td>2.815558</td>\n",
       "    </tr>\n",
       "    <tr>\n",
       "      <th>2</th>\n",
       "      <td>0.400416</td>\n",
       "      <td>1.575615</td>\n",
       "      <td>-0.250282</td>\n",
       "    </tr>\n",
       "    <tr>\n",
       "      <th>3</th>\n",
       "      <td>-0.350117</td>\n",
       "      <td>2.296725</td>\n",
       "      <td>-0.396798</td>\n",
       "    </tr>\n",
       "    <tr>\n",
       "      <th>4</th>\n",
       "      <td>0.025150</td>\n",
       "      <td>0.168713</td>\n",
       "      <td>-0.177024</td>\n",
       "    </tr>\n",
       "    <tr>\n",
       "      <th>...</th>\n",
       "      <td>...</td>\n",
       "      <td>...</td>\n",
       "      <td>...</td>\n",
       "    </tr>\n",
       "    <tr>\n",
       "      <th>1323</th>\n",
       "      <td>-0.725384</td>\n",
       "      <td>0.375976</td>\n",
       "      <td>-0.462730</td>\n",
       "    </tr>\n",
       "    <tr>\n",
       "      <th>1324</th>\n",
       "      <td>-1.100651</td>\n",
       "      <td>0.002902</td>\n",
       "      <td>-0.645874</td>\n",
       "    </tr>\n",
       "    <tr>\n",
       "      <th>1325</th>\n",
       "      <td>-0.350117</td>\n",
       "      <td>-0.063422</td>\n",
       "      <td>-0.308888</td>\n",
       "    </tr>\n",
       "    <tr>\n",
       "      <th>1326</th>\n",
       "      <td>0.025150</td>\n",
       "      <td>-0.602306</td>\n",
       "      <td>-0.279585</td>\n",
       "    </tr>\n",
       "    <tr>\n",
       "      <th>1327</th>\n",
       "      <td>-0.725384</td>\n",
       "      <td>-0.198557</td>\n",
       "      <td>-0.338191</td>\n",
       "    </tr>\n",
       "  </tbody>\n",
       "</table>\n",
       "<p>1328 rows × 3 columns</p>\n",
       "</div>"
      ],
      "text/plain": [
       "      Buraxilish ili    Yurush    Qiymet\n",
       "0          -0.162484  0.715888 -0.191676\n",
       "1           2.652017 -1.472811  2.815558\n",
       "2           0.400416  1.575615 -0.250282\n",
       "3          -0.350117  2.296725 -0.396798\n",
       "4           0.025150  0.168713 -0.177024\n",
       "...              ...       ...       ...\n",
       "1323       -0.725384  0.375976 -0.462730\n",
       "1324       -1.100651  0.002902 -0.645874\n",
       "1325       -0.350117 -0.063422 -0.308888\n",
       "1326        0.025150 -0.602306 -0.279585\n",
       "1327       -0.725384 -0.198557 -0.338191\n",
       "\n",
       "[1328 rows x 3 columns]"
      ]
     },
     "execution_count": 173,
     "metadata": {},
     "output_type": "execute_result"
    }
   ],
   "source": [
    "data"
   ]
  },
  {
   "cell_type": "code",
   "execution_count": 69,
   "id": "bc501665-2f51-45cb-8011-bc48bce8e157",
   "metadata": {},
   "outputs": [],
   "source": [
    "import numpy as np"
   ]
  },
  {
   "cell_type": "code",
   "execution_count": 174,
   "id": "364c2e41-6ef5-4358-84cc-82b67096f7b9",
   "metadata": {},
   "outputs": [
    {
     "data": {
      "text/plain": [
       "array([[ 1.        , -0.16248371,  0.71588757],\n",
       "       [ 1.        ,  2.65201669, -1.4728113 ],\n",
       "       [ 1.        ,  0.40041637,  1.57561512],\n",
       "       ...,\n",
       "       [ 1.        , -0.35011707, -0.06342187],\n",
       "       [ 1.        ,  0.02514965, -0.60230607],\n",
       "       [ 1.        , -0.72538379, -0.19855745]])"
      ]
     },
     "execution_count": 174,
     "metadata": {},
     "output_type": "execute_result"
    }
   ],
   "source": [
    "x0=[1]*len(data)\n",
    "x1=data[\"Buraxilish ili\"]\n",
    "x2=data[\"Yurush\"]\n",
    "y=data[\"Qiymet\"]\n",
    "X=np.array([x0,x1,x2]).T\n",
    "W=np.array([0,11,5])\n",
    "X"
   ]
  },
  {
   "cell_type": "code",
   "execution_count": 175,
   "id": "2502e762-a813-41e5-8b41-6da9671168de",
   "metadata": {},
   "outputs": [
    {
     "data": {
      "text/plain": [
       "array([ 1.79211708, 21.80812704, 12.28265569, ..., -4.16839711,\n",
       "       -2.73488416, -8.97200889])"
      ]
     },
     "execution_count": 175,
     "metadata": {},
     "output_type": "execute_result"
    }
   ],
   "source": [
    "K=X.dot(W)\n",
    "K"
   ]
  },
  {
   "cell_type": "code",
   "execution_count": 176,
   "id": "df20ba9e-1031-4b2b-b5e0-bfa51355dfb1",
   "metadata": {},
   "outputs": [
    {
     "name": "stdout",
     "output_type": "stream",
     "text": [
      "35.20449774380465\n"
     ]
    }
   ],
   "source": [
    "def cost_function(X,y,W):\n",
    "    pred=X.dot(W)\n",
    "    res = np.sum((pred-y)**2)/2\n",
    "    return res/len(y)\n",
    "print(cost_function(X,y,W))"
   ]
  },
  {
   "cell_type": "code",
   "execution_count": 179,
   "id": "8a0b3bd2-d374-4f54-ae16-e701e7776656",
   "metadata": {},
   "outputs": [
    {
     "name": "stdout",
     "output_type": "stream",
     "text": [
      "Iteration 0\n",
      "Cost Function 35.20449774380465\n",
      "Iteration 1000\n",
      "Cost Function 4.612298032064187\n",
      "Iteration 2000\n",
      "Cost Function 0.9119499537610115\n",
      "Iteration 3000\n",
      "Cost Function 0.2508313800237101\n",
      "Iteration 4000\n",
      "Cost Function 0.13212385789239128\n",
      "Iteration 5000\n",
      "Cost Function 0.11080815932472735\n",
      "Iteration 6000\n",
      "Cost Function 0.10698060703055805\n",
      "Iteration 7000\n",
      "Cost Function 0.10629331280000208\n",
      "Iteration 8000\n",
      "Cost Function 0.10616989884688582\n",
      "Iteration 9000\n",
      "Cost Function 0.10614773802674994\n"
     ]
    },
    {
     "data": {
      "text/plain": [
       "[<matplotlib.lines.Line2D at 0x7fbab7394ca0>]"
      ]
     },
     "execution_count": 179,
     "metadata": {},
     "output_type": "execute_result"
    },
    {
     "data": {
      "image/png": "[encoded data removed]",
      "text/plain": [
       "<Figure size 640x480 with 1 Axes>"
      ]
     },
     "metadata": {},
     "output_type": "display_data"
    }
   ],
   "source": [
    "def gradientDescent(X,Y,W,alpha=0.002,iterations=10_000):\n",
    "    length=len(Y)\n",
    "    costH=[]\n",
    "    for i in range(0,iterations):\n",
    "        if i%1000==0:\n",
    "            print(f\"Iteration {i}\")\n",
    "            print(f\"Cost Function {cost_function(X,Y,W)}\")\n",
    "        h=X.dot(W)\n",
    "        diff=h-Y\n",
    "        g=X.T.dot(diff)/length\n",
    "        W=W-alpha*g\n",
    "        cost=cost_function(X,Y,W)\n",
    "        costH.append(cost)\n",
    "    return W,costH\n",
    "W2,cost=gradientDescent(X,y,W)\n",
    "plt.plot(cost)"
   ]
  },
  {
   "cell_type": "code",
   "execution_count": 198,
   "id": "d188a004-2279-43e5-af93-de181836c23f",
   "metadata": {},
   "outputs": [
    {
     "name": "stderr",
     "output_type": "stream",
     "text": [
      "/tmp/ipykernel_18011/1004247754.py:1: SettingWithCopyWarning: \n",
      "A value is trying to be set on a copy of a slice from a DataFrame.\n",
      "Try using .loc[row_indexer,col_indexer] = value instead\n",
      "\n",
      "See the caveats in the documentation: https://pandas.pydata.org/pandas-docs/stable/user_guide/indexing.html#returning-a-view-versus-a-copy\n",
      "  data[\"prediction\"]=X.dot(W2)\n"
     ]
    }
   ],
   "source": [
    "data[\"prediction\"]=X.dot(W2)"
   ]
  },
  {
   "cell_type": "code",
   "execution_count": 163,
   "id": "59f99a5a-9c73-4572-a899-49885472f8d8",
   "metadata": {},
   "outputs": [
    {
     "data": {
      "text/plain": [
       "nan"
      ]
     },
     "execution_count": 163,
     "metadata": {},
     "output_type": "execute_result"
    }
   ],
   "source": [
    "(data[\"prediction\"]-data[\"Qiymet\"]).max()"
   ]
  },
  {
   "cell_type": "code",
   "execution_count": 191,
   "id": "e389caae",
   "metadata": {},
   "outputs": [
    {
     "data": {
      "text/html": [
       "<div>\n",
       "<style scoped>\n",
       "    .dataframe tbody tr th:only-of-type {\n",
       "        vertical-align: middle;\n",
       "    }\n",
       "\n",
       "    .dataframe tbody tr th {\n",
       "        vertical-align: top;\n",
       "    }\n",
       "\n",
       "    .dataframe thead th {\n",
       "        text-align: right;\n",
       "    }\n",
       "</style>\n",
       "<table border=\"1\" class=\"dataframe\">\n",
       "  <thead>\n",
       "    <tr style=\"text-align: right;\">\n",
       "      <th></th>\n",
       "      <th>Buraxilish ili</th>\n",
       "      <th>Yurush</th>\n",
       "      <th>Qiymet</th>\n",
       "    </tr>\n",
       "  </thead>\n",
       "  <tbody>\n",
       "    <tr>\n",
       "      <th>0</th>\n",
       "      <td>-0.162484</td>\n",
       "      <td>0.715888</td>\n",
       "      <td>-0.191676</td>\n",
       "    </tr>\n",
       "    <tr>\n",
       "      <th>1</th>\n",
       "      <td>2.652017</td>\n",
       "      <td>-1.472811</td>\n",
       "      <td>2.815558</td>\n",
       "    </tr>\n",
       "    <tr>\n",
       "      <th>2</th>\n",
       "      <td>0.400416</td>\n",
       "      <td>1.575615</td>\n",
       "      <td>-0.250282</td>\n",
       "    </tr>\n",
       "    <tr>\n",
       "      <th>3</th>\n",
       "      <td>-0.350117</td>\n",
       "      <td>2.296725</td>\n",
       "      <td>-0.396798</td>\n",
       "    </tr>\n",
       "    <tr>\n",
       "      <th>4</th>\n",
       "      <td>0.025150</td>\n",
       "      <td>0.168713</td>\n",
       "      <td>-0.177024</td>\n",
       "    </tr>\n",
       "    <tr>\n",
       "      <th>...</th>\n",
       "      <td>...</td>\n",
       "      <td>...</td>\n",
       "      <td>...</td>\n",
       "    </tr>\n",
       "    <tr>\n",
       "      <th>1323</th>\n",
       "      <td>-0.725384</td>\n",
       "      <td>0.375976</td>\n",
       "      <td>-0.462730</td>\n",
       "    </tr>\n",
       "    <tr>\n",
       "      <th>1324</th>\n",
       "      <td>-1.100651</td>\n",
       "      <td>0.002902</td>\n",
       "      <td>-0.645874</td>\n",
       "    </tr>\n",
       "    <tr>\n",
       "      <th>1325</th>\n",
       "      <td>-0.350117</td>\n",
       "      <td>-0.063422</td>\n",
       "      <td>-0.308888</td>\n",
       "    </tr>\n",
       "    <tr>\n",
       "      <th>1326</th>\n",
       "      <td>0.025150</td>\n",
       "      <td>-0.602306</td>\n",
       "      <td>-0.279585</td>\n",
       "    </tr>\n",
       "    <tr>\n",
       "      <th>1327</th>\n",
       "      <td>-0.725384</td>\n",
       "      <td>-0.198557</td>\n",
       "      <td>-0.338191</td>\n",
       "    </tr>\n",
       "  </tbody>\n",
       "</table>\n",
       "<p>1328 rows × 3 columns</p>\n",
       "</div>"
      ],
      "text/plain": [
       "      Buraxilish ili    Yurush    Qiymet\n",
       "0          -0.162484  0.715888 -0.191676\n",
       "1           2.652017 -1.472811  2.815558\n",
       "2           0.400416  1.575615 -0.250282\n",
       "3          -0.350117  2.296725 -0.396798\n",
       "4           0.025150  0.168713 -0.177024\n",
       "...              ...       ...       ...\n",
       "1323       -0.725384  0.375976 -0.462730\n",
       "1324       -1.100651  0.002902 -0.645874\n",
       "1325       -0.350117 -0.063422 -0.308888\n",
       "1326        0.025150 -0.602306 -0.279585\n",
       "1327       -0.725384 -0.198557 -0.338191\n",
       "\n",
       "[1328 rows x 3 columns]"
      ]
     },
     "execution_count": 191,
     "metadata": {},
     "output_type": "execute_result"
    }
   ],
   "source": [
    "data"
   ]
  },
  {
   "cell_type": "code",
   "execution_count": 184,
   "id": "a1155300-08b2-4acb-bc74-1786e9a1251d",
   "metadata": {},
   "outputs": [
    {
     "data": {
      "text/plain": [
       "12372.206253702821"
      ]
     },
     "execution_count": 184,
     "metadata": {},
     "output_type": "execute_result"
    }
   ],
   "source": [
    "yurus=366000\n",
    "il=1999\n",
    "\n",
    "yurus_n=(yurus-data_r[\"Yurush\"].mean())/data_r[\"Yurush\"].std()\n",
    "il_n=(il-data_r[\"Buraxilish ili\"].mean())/data_r[\"Buraxilish ili\"].std()\n",
    "predicted=W2[0]+W2[1]*il_n+W2[2]*yurus_n\n",
    "data_r[\"Qiymet\"].std()*predicted+data_r[\"Qiymet\"].mean()"
   ]
  },
  {
   "cell_type": "code",
   "execution_count": 200,
   "id": "e3a0db1a-9889-447d-8eab-01105807b6a2",
   "metadata": {},
   "outputs": [
    {
     "data": {
      "text/html": [
       "<div>\n",
       "<style scoped>\n",
       "    .dataframe tbody tr th:only-of-type {\n",
       "        vertical-align: middle;\n",
       "    }\n",
       "\n",
       "    .dataframe tbody tr th {\n",
       "        vertical-align: top;\n",
       "    }\n",
       "\n",
       "    .dataframe thead th {\n",
       "        text-align: right;\n",
       "    }\n",
       "</style>\n",
       "<table border=\"1\" class=\"dataframe\">\n",
       "  <thead>\n",
       "    <tr style=\"text-align: right;\">\n",
       "      <th></th>\n",
       "      <th>Buraxilish ili</th>\n",
       "      <th>Yurush</th>\n",
       "      <th>Qiymet</th>\n",
       "      <th>prediction</th>\n",
       "    </tr>\n",
       "  </thead>\n",
       "  <tbody>\n",
       "    <tr>\n",
       "      <th>0</th>\n",
       "      <td>-0.162484</td>\n",
       "      <td>0.715888</td>\n",
       "      <td>-0.191676</td>\n",
       "      <td>-0.297400</td>\n",
       "    </tr>\n",
       "    <tr>\n",
       "      <th>1</th>\n",
       "      <td>2.652017</td>\n",
       "      <td>-1.472811</td>\n",
       "      <td>2.815558</td>\n",
       "      <td>2.012682</td>\n",
       "    </tr>\n",
       "    <tr>\n",
       "      <th>2</th>\n",
       "      <td>0.400416</td>\n",
       "      <td>1.575615</td>\n",
       "      <td>-0.250282</td>\n",
       "      <td>-0.196403</td>\n",
       "    </tr>\n",
       "    <tr>\n",
       "      <th>3</th>\n",
       "      <td>-0.350117</td>\n",
       "      <td>2.296725</td>\n",
       "      <td>-0.396798</td>\n",
       "      <td>-0.850672</td>\n",
       "    </tr>\n",
       "    <tr>\n",
       "      <th>4</th>\n",
       "      <td>0.025150</td>\n",
       "      <td>0.168713</td>\n",
       "      <td>-0.177024</td>\n",
       "      <td>-0.031744</td>\n",
       "    </tr>\n",
       "    <tr>\n",
       "      <th>...</th>\n",
       "      <td>...</td>\n",
       "      <td>...</td>\n",
       "      <td>...</td>\n",
       "      <td>...</td>\n",
       "    </tr>\n",
       "    <tr>\n",
       "      <th>1323</th>\n",
       "      <td>-0.725384</td>\n",
       "      <td>0.375976</td>\n",
       "      <td>-0.462730</td>\n",
       "      <td>-0.543035</td>\n",
       "    </tr>\n",
       "    <tr>\n",
       "      <th>1324</th>\n",
       "      <td>-1.100651</td>\n",
       "      <td>0.002902</td>\n",
       "      <td>-0.645874</td>\n",
       "      <td>-0.666038</td>\n",
       "    </tr>\n",
       "    <tr>\n",
       "      <th>1325</th>\n",
       "      <td>-0.350117</td>\n",
       "      <td>-0.063422</td>\n",
       "      <td>-0.308888</td>\n",
       "      <td>-0.193963</td>\n",
       "    </tr>\n",
       "    <tr>\n",
       "      <th>1326</th>\n",
       "      <td>0.025150</td>\n",
       "      <td>-0.602306</td>\n",
       "      <td>-0.279585</td>\n",
       "      <td>0.182792</td>\n",
       "    </tr>\n",
       "    <tr>\n",
       "      <th>1327</th>\n",
       "      <td>-0.725384</td>\n",
       "      <td>-0.198557</td>\n",
       "      <td>-0.338191</td>\n",
       "      <td>-0.383172</td>\n",
       "    </tr>\n",
       "  </tbody>\n",
       "</table>\n",
       "<p>1328 rows × 4 columns</p>\n",
       "</div>"
      ],
      "text/plain": [
       "      Buraxilish ili    Yurush    Qiymet  prediction\n",
       "0          -0.162484  0.715888 -0.191676   -0.297400\n",
       "1           2.652017 -1.472811  2.815558    2.012682\n",
       "2           0.400416  1.575615 -0.250282   -0.196403\n",
       "3          -0.350117  2.296725 -0.396798   -0.850672\n",
       "4           0.025150  0.168713 -0.177024   -0.031744\n",
       "...              ...       ...       ...         ...\n",
       "1323       -0.725384  0.375976 -0.462730   -0.543035\n",
       "1324       -1.100651  0.002902 -0.645874   -0.666038\n",
       "1325       -0.350117 -0.063422 -0.308888   -0.193963\n",
       "1326        0.025150 -0.602306 -0.279585    0.182792\n",
       "1327       -0.725384 -0.198557 -0.338191   -0.383172\n",
       "\n",
       "[1328 rows x 4 columns]"
      ]
     },
     "execution_count": 200,
     "metadata": {},
     "output_type": "execute_result"
    }
   ],
   "source": [
    "data"
   ]
  },
  {
   "cell_type": "code",
   "execution_count": 186,
   "id": "fec4c8dd-5ea1-4741-8175-2324548adb58",
   "metadata": {},
   "outputs": [],
   "source": [
    "from sklearn.linear_model import LinearRegression"
   ]
  },
  {
   "cell_type": "code",
   "execution_count": 187,
   "id": "3ebfd1e8-857b-44e6-85ee-c6c978662727",
   "metadata": {},
   "outputs": [
    {
     "data": {
      "text/plain": [
       "array([-0.20182606,  2.34095211,  0.18561911, ..., -0.28498084,\n",
       "        0.07711753, -0.58416369])"
      ]
     },
     "execution_count": 187,
     "metadata": {},
     "output_type": "execute_result"
    }
   ],
   "source": [
    "LinearRegression().fit(data.iloc[:,:2],data.iloc[:,2]).predict(data.iloc[:,:2])"
   ]
  },
  {
   "cell_type": "code",
   "execution_count": 197,
   "id": "131d505c-1d4d-483a-900d-39bfbe606af2",
   "metadata": {},
   "outputs": [
    {
     "data": {
      "text/html": [
       "<div>\n",
       "<style scoped>\n",
       "    .dataframe tbody tr th:only-of-type {\n",
       "        vertical-align: middle;\n",
       "    }\n",
       "\n",
       "    .dataframe tbody tr th {\n",
       "        vertical-align: top;\n",
       "    }\n",
       "\n",
       "    .dataframe thead th {\n",
       "        text-align: right;\n",
       "    }\n",
       "</style>\n",
       "<table border=\"1\" class=\"dataframe\">\n",
       "  <thead>\n",
       "    <tr style=\"text-align: right;\">\n",
       "      <th></th>\n",
       "      <th>Buraxilish ili</th>\n",
       "      <th>Yurush</th>\n",
       "      <th>Qiymet</th>\n",
       "    </tr>\n",
       "  </thead>\n",
       "  <tbody>\n",
       "    <tr>\n",
       "      <th>0</th>\n",
       "      <td>-0.162484</td>\n",
       "      <td>0.715888</td>\n",
       "      <td>-0.191676</td>\n",
       "    </tr>\n",
       "    <tr>\n",
       "      <th>1</th>\n",
       "      <td>2.652017</td>\n",
       "      <td>-1.472811</td>\n",
       "      <td>2.815558</td>\n",
       "    </tr>\n",
       "    <tr>\n",
       "      <th>2</th>\n",
       "      <td>0.400416</td>\n",
       "      <td>1.575615</td>\n",
       "      <td>-0.250282</td>\n",
       "    </tr>\n",
       "    <tr>\n",
       "      <th>3</th>\n",
       "      <td>-0.350117</td>\n",
       "      <td>2.296725</td>\n",
       "      <td>-0.396798</td>\n",
       "    </tr>\n",
       "    <tr>\n",
       "      <th>4</th>\n",
       "      <td>0.025150</td>\n",
       "      <td>0.168713</td>\n",
       "      <td>-0.177024</td>\n",
       "    </tr>\n",
       "    <tr>\n",
       "      <th>...</th>\n",
       "      <td>...</td>\n",
       "      <td>...</td>\n",
       "      <td>...</td>\n",
       "    </tr>\n",
       "    <tr>\n",
       "      <th>1323</th>\n",
       "      <td>-0.725384</td>\n",
       "      <td>0.375976</td>\n",
       "      <td>-0.462730</td>\n",
       "    </tr>\n",
       "    <tr>\n",
       "      <th>1324</th>\n",
       "      <td>-1.100651</td>\n",
       "      <td>0.002902</td>\n",
       "      <td>-0.645874</td>\n",
       "    </tr>\n",
       "    <tr>\n",
       "      <th>1325</th>\n",
       "      <td>-0.350117</td>\n",
       "      <td>-0.063422</td>\n",
       "      <td>-0.308888</td>\n",
       "    </tr>\n",
       "    <tr>\n",
       "      <th>1326</th>\n",
       "      <td>0.025150</td>\n",
       "      <td>-0.602306</td>\n",
       "      <td>-0.279585</td>\n",
       "    </tr>\n",
       "    <tr>\n",
       "      <th>1327</th>\n",
       "      <td>-0.725384</td>\n",
       "      <td>-0.198557</td>\n",
       "      <td>-0.338191</td>\n",
       "    </tr>\n",
       "  </tbody>\n",
       "</table>\n",
       "<p>1328 rows × 3 columns</p>\n",
       "</div>"
      ],
      "text/plain": [
       "      Buraxilish ili    Yurush    Qiymet\n",
       "0          -0.162484  0.715888 -0.191676\n",
       "1           2.652017 -1.472811  2.815558\n",
       "2           0.400416  1.575615 -0.250282\n",
       "3          -0.350117  2.296725 -0.396798\n",
       "4           0.025150  0.168713 -0.177024\n",
       "...              ...       ...       ...\n",
       "1323       -0.725384  0.375976 -0.462730\n",
       "1324       -1.100651  0.002902 -0.645874\n",
       "1325       -0.350117 -0.063422 -0.308888\n",
       "1326        0.025150 -0.602306 -0.279585\n",
       "1327       -0.725384 -0.198557 -0.338191\n",
       "\n",
       "[1328 rows x 3 columns]"
      ]
     },
     "execution_count": 197,
     "metadata": {},
     "output_type": "execute_result"
    }
   ],
   "source": [
    "data"
   ]
  },
  {
   "cell_type": "code",
   "execution_count": 189,
   "id": "82b75b0c-7125-4c59-987b-04a7245f84f1",
   "metadata": {},
   "outputs": [
    {
     "data": {
      "text/plain": [
       "12372.206253702821"
      ]
     },
     "execution_count": 189,
     "metadata": {},
     "output_type": "execute_result"
    }
   ],
   "source": [
    "yurus=20_000\n",
    "il=2005\n",
    "qiymet =15000\n",
    "predicted=W2[0]+W2[1]*il_n+W2[2]*yurus_n\n",
    "yurus_n=(yurus-data_r[\"Yurush\"].mean())/data_r[\"Yurush\"].std()\n",
    "il_n=(il-data_r[\"Buraxilish ili\"].mean())/data_r[\"Buraxilish ili\"].std()\n",
    "data_r[\"Qiymet\"].std()*predicted+data_r[\"Qiymet\"].mean()"
   ]
  },
  {
   "cell_type": "code",
   "execution_count": 209,
   "id": "d95f5037-7ad6-4ff0-ab97-fa02e659376d",
   "metadata": {},
   "outputs": [
    {
     "data": {
      "text/plain": [
       "<matplotlib.collections.PathCollection at 0x7fbab3dc1b40>"
      ]
     },
     "execution_count": 209,
     "metadata": {},
     "output_type": "execute_result"
    },
    {
     "data": {
      "image/png": "[encoded data removed]",
      "text/plain": [
       "<Figure size 640x480 with 1 Axes>"
      ]
     },
     "metadata": {},
     "output_type": "display_data"
    }
   ],
   "source": [
    "fig,axis=plt.subplots()\n",
    "axis.scatter(data[\"Yurush\"],data[\"Qiymet\"])\n"
   ]
  },
  {
   "cell_type": "code",
   "execution_count": 34,
   "id": "6e48fa25-f195-4292-893e-c710b65f7cf5",
   "metadata": {},
   "outputs": [
    {
     "name": "stdout",
     "output_type": "stream",
     "text": [
      "[ 0 11  5]\n",
      "Iteration 0\n",
      "Cost Function 35.20449774380465\n",
      "Iteration 1000\n",
      "Cost Function 0.439418919997543\n",
      "Iteration 2000\n",
      "Cost Function 0.439418919997543\n",
      "Iteration 3000\n",
      "Cost Function 0.439418919997543\n",
      "Iteration 4000\n",
      "Cost Function 0.439418919997543\n",
      "Iteration 5000\n",
      "Cost Function 0.439418919997543\n",
      "Iteration 6000\n",
      "Cost Function 0.439418919997543\n",
      "Iteration 7000\n",
      "Cost Function 0.439418919997543\n",
      "Iteration 8000\n",
      "Cost Function 0.439418919997543\n",
      "Iteration 9000\n",
      "Cost Function 0.439418919997543\n",
      "[ 5.54344645e-17  5.09091766e-02 -3.16454296e-02]\n"
     ]
    },
    {
     "data": {
      "image/png": "[encoded data removed]",
      "text/plain": [
       "<Figure size 640x480 with 1 Axes>"
      ]
     },
     "metadata": {},
     "output_type": "display_data"
    }
   ],
   "source": [
    "def gradientDescent_Ridge(X,Y,W,alpha=0.1,iterations=10_000,lambda_=0.8):\n",
    "    length=len(Y)\n",
    "    costH=[]\n",
    "    for i in range(0,iterations):\n",
    "        cost=cost_function(X,Y,W)+lambda_ * np.sum(W**2)\n",
    "        if i%1000==0:\n",
    "            print(f\"Iteration {i}\")\n",
    "            print(f\"Cost Function {cost_function(X,Y,W)}\")\n",
    "        h=X.dot(W)\n",
    "        diff=h-Y\n",
    "        g=X.T.dot(diff)/length\n",
    "        W=W-alpha*g-2*lambda_*W\n",
    "       \n",
    "        \n",
    "        costH.append(cost)\n",
    "    return W,costH\n",
    "print(W)\n",
    "W2,cost=gradientDescent_Ridge(X,y,W)\n",
    "plt.plot(cost)\n",
    "print(W2)"
   ]
  },
  {
   "cell_type": "code",
   "execution_count": 190,
   "id": "dcf8a06d-4fdf-4753-b360-01b963189b24",
   "metadata": {},
   "outputs": [
    {
     "name": "stdout",
     "output_type": "stream",
     "text": [
      "[ 0 11  5]\n",
      "Iteration 0\n",
      "Cost Function 35.20449774380465\n",
      "Iteration 1000\n",
      "Cost Function 0.12497564228195705\n",
      "Iteration 2000\n",
      "Cost Function 0.12497564228195705\n",
      "Iteration 3000\n",
      "Cost Function 0.12497564228195705\n",
      "Iteration 4000\n",
      "Cost Function 0.12497564228195705\n",
      "Iteration 5000\n",
      "Cost Function 0.12497564228195705\n",
      "Iteration 6000\n",
      "Cost Function 0.12497564228195705\n",
      "Iteration 7000\n",
      "Cost Function 0.12497564228195705\n",
      "Iteration 8000\n",
      "Cost Function 0.12497564228195705\n",
      "Iteration 9000\n",
      "Cost Function 0.12497564228195705\n",
      "[ 1.02489391e-14  6.04397837e-01 -2.78249196e-01]\n"
     ]
    },
    {
     "data": {
      "image/png": "[encoded data removed]",
      "text/plain": [
       "<Figure size 640x480 with 1 Axes>"
      ]
     },
     "metadata": {},
     "output_type": "display_data"
    }
   ],
   "source": [
    "def gradientDescent_lasso(X,Y,W,alpha=0.1,iterations=10_000,lambda_=0.02):\n",
    "    length=len(Y)\n",
    "    costH=[]\n",
    "    for i in range(0,iterations):\n",
    "        cost=cost_function(X,Y,W)+lambda_ * np.sum(np.abs(W))\n",
    "        if i%1000==0:\n",
    "            print(f\"Iteration {i}\")\n",
    "            print(f\"Cost Function {cost_function(X,Y,W)}\")\n",
    "        h=X.dot(W)\n",
    "        diff=h-Y\n",
    "        g=X.T.dot(diff)/length\n",
    "        W=W-alpha*g-lambda_*np.abs(W)\n",
    "       \n",
    "        \n",
    "        costH.append(cost)\n",
    "    return W,costH\n",
    "print(W)\n",
    "W2,cost=gradientDescent_lasso(X,y,W)\n",
    "plt.plot(cost)\n",
    "print(W2)"
   ]
  },
  {
   "cell_type": "code",
   "execution_count": null,
   "id": "4ee71066-f599-4c15-8ef5-6095973a1a8a",
   "metadata": {},
   "outputs": [],
   "source": []
  }
 ],
 "metadata": {
  "kernelspec": {
   "display_name": "Python 3 (ipykernel)",
   "language": "python",
   "name": "python3"
  },
  "language_info": {
   "codemirror_mode": {
    "name": "ipython",
    "version": 3
   },
   "file_extension": ".py",
   "mimetype": "text/x-python",
   "name": "python",
   "nbconvert_exporter": "python",
   "pygments_lexer": "ipython3",
   "version": "3.10.6"
  }
 },
 "nbformat": 4,
 "nbformat_minor": 5
}
