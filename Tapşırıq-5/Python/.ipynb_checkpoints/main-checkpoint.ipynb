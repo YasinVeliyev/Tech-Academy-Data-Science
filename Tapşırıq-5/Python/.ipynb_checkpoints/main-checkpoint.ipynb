{
 "cells": [
  {
   "cell_type": "code",
   "execution_count": 1,
   "id": "7d8b4a1f-b800-4810-993d-17ec4b3fb9d0",
   "metadata": {},
   "outputs": [
    {
     "data": {
      "text/html": [
       "<div>\n",
       "<style scoped>\n",
       "    .dataframe tbody tr th:only-of-type {\n",
       "        vertical-align: middle;\n",
       "    }\n",
       "\n",
       "    .dataframe tbody tr th {\n",
       "        vertical-align: top;\n",
       "    }\n",
       "\n",
       "    .dataframe thead th {\n",
       "        text-align: right;\n",
       "    }\n",
       "</style>\n",
       "<table border=\"1\" class=\"dataframe\">\n",
       "  <thead>\n",
       "    <tr style=\"text-align: right;\">\n",
       "      <th></th>\n",
       "      <th>Buraxilish ili</th>\n",
       "      <th>Yurush</th>\n",
       "      <th>Qiymet</th>\n",
       "    </tr>\n",
       "  </thead>\n",
       "  <tbody>\n",
       "    <tr>\n",
       "      <th>0</th>\n",
       "      <td>1999</td>\n",
       "      <td>366 000 km</td>\n",
       "      <td>12500 AZN</td>\n",
       "    </tr>\n",
       "    <tr>\n",
       "      <th>1</th>\n",
       "      <td>2014</td>\n",
       "      <td>102 000 km</td>\n",
       "      <td>31500 $</td>\n",
       "    </tr>\n",
       "    <tr>\n",
       "      <th>2</th>\n",
       "      <td>2002</td>\n",
       "      <td>469 700 km</td>\n",
       "      <td>11700 AZN</td>\n",
       "    </tr>\n",
       "    <tr>\n",
       "      <th>3</th>\n",
       "      <td>1998</td>\n",
       "      <td>556 680 km</td>\n",
       "      <td>9700 AZN</td>\n",
       "    </tr>\n",
       "    <tr>\n",
       "      <th>4</th>\n",
       "      <td>2000</td>\n",
       "      <td>300 000 km</td>\n",
       "      <td>12700 AZN</td>\n",
       "    </tr>\n",
       "    <tr>\n",
       "      <th>...</th>\n",
       "      <td>...</td>\n",
       "      <td>...</td>\n",
       "      <td>...</td>\n",
       "    </tr>\n",
       "    <tr>\n",
       "      <th>1323</th>\n",
       "      <td>1996</td>\n",
       "      <td>325 000 km</td>\n",
       "      <td>8800 AZN</td>\n",
       "    </tr>\n",
       "    <tr>\n",
       "      <th>1324</th>\n",
       "      <td>1994</td>\n",
       "      <td>280 000 km</td>\n",
       "      <td>6300 AZN</td>\n",
       "    </tr>\n",
       "    <tr>\n",
       "      <th>1325</th>\n",
       "      <td>1998</td>\n",
       "      <td>272 000 km</td>\n",
       "      <td>10900 AZN</td>\n",
       "    </tr>\n",
       "    <tr>\n",
       "      <th>1326</th>\n",
       "      <td>2000</td>\n",
       "      <td>207 000 km</td>\n",
       "      <td>11300 AZN</td>\n",
       "    </tr>\n",
       "    <tr>\n",
       "      <th>1327</th>\n",
       "      <td>1996</td>\n",
       "      <td>255 700 km</td>\n",
       "      <td>10500 AZN</td>\n",
       "    </tr>\n",
       "  </tbody>\n",
       "</table>\n",
       "<p>1328 rows × 3 columns</p>\n",
       "</div>"
      ],
      "text/plain": [
       "      Buraxilish ili      Yurush     Qiymet\n",
       "0               1999  366 000 km  12500 AZN\n",
       "1               2014  102 000 km    31500 $\n",
       "2               2002  469 700 km  11700 AZN\n",
       "3               1998  556 680 km   9700 AZN\n",
       "4               2000  300 000 km  12700 AZN\n",
       "...              ...         ...        ...\n",
       "1323            1996  325 000 km   8800 AZN\n",
       "1324            1994  280 000 km   6300 AZN\n",
       "1325            1998  272 000 km  10900 AZN\n",
       "1326            2000  207 000 km  11300 AZN\n",
       "1327            1996  255 700 km  10500 AZN\n",
       "\n",
       "[1328 rows x 3 columns]"
      ]
     },
     "execution_count": 1,
     "metadata": {},
     "output_type": "execute_result"
    }
   ],
   "source": [
    "import pandas as pd\n",
    "import re\n",
    "pattern=\"\\s+\"\n",
    "\n",
    "df=pd.read_csv(\"turboaz.csv\")\n",
    "data=df[[\"Buraxilish ili\",\"Yurush\",\"Qiymet\"]]\n",
    "data"
   ]
  },
  {
   "cell_type": "code",
   "execution_count": 2,
   "id": "0381b53e-de59-4453-8584-aedb8d8bf963",
   "metadata": {},
   "outputs": [
    {
     "name": "stderr",
     "output_type": "stream",
     "text": [
      "/tmp/ipykernel_4918/4113735572.py:1: SettingWithCopyWarning: \n",
      "A value is trying to be set on a copy of a slice from a DataFrame.\n",
      "Try using .loc[row_indexer,col_indexer] = value instead\n",
      "\n",
      "See the caveats in the documentation: https://pandas.pydata.org/pandas-docs/stable/user_guide/indexing.html#returning-a-view-versus-a-copy\n",
      "  data.loc[:,\"Yurush\"] = data[\"Yurush\"].apply(lambda x:int(\"\".join(re.split(pattern,x)[:-1])))\n",
      "/tmp/ipykernel_4918/4113735572.py:1: FutureWarning: In a future version, `df.iloc[:, i] = newvals` will attempt to set the values inplace instead of always setting a new array. To retain the old behavior, use either `df[df.columns[i]] = newvals` or, if columns are non-unique, `df.isetitem(i, newvals)`\n",
      "  data.loc[:,\"Yurush\"] = data[\"Yurush\"].apply(lambda x:int(\"\".join(re.split(pattern,x)[:-1])))\n",
      "/tmp/ipykernel_4918/4113735572.py:2: SettingWithCopyWarning: \n",
      "A value is trying to be set on a copy of a slice from a DataFrame.\n",
      "Try using .loc[row_indexer,col_indexer] = value instead\n",
      "\n",
      "See the caveats in the documentation: https://pandas.pydata.org/pandas-docs/stable/user_guide/indexing.html#returning-a-view-versus-a-copy\n",
      "  data[\"Buraxilish ili\"]=data[\"Buraxilish ili\"].apply(lambda x:int(x))\n"
     ]
    }
   ],
   "source": [
    "data.loc[:,\"Yurush\"] = data[\"Yurush\"].apply(lambda x:int(\"\".join(re.split(pattern,x)[:-1])))\n",
    "data[\"Buraxilish ili\"]=data[\"Buraxilish ili\"].apply(lambda x:int(x))"
   ]
  },
  {
   "cell_type": "code",
   "execution_count": 3,
   "id": "09d228e3-8018-4406-ab48-3a1ffff927f4",
   "metadata": {},
   "outputs": [
    {
     "data": {
      "text/plain": [
       "['366 000 km']"
      ]
     },
     "execution_count": 3,
     "metadata": {},
     "output_type": "execute_result"
    }
   ],
   "source": [
    "\"366 000 km\".split(\"\\s+\")"
   ]
  },
  {
   "cell_type": "code",
   "execution_count": 4,
   "id": "2e9e554d-aab3-4354-9040-a4c77eba064f",
   "metadata": {},
   "outputs": [
    {
     "name": "stderr",
     "output_type": "stream",
     "text": [
      "/tmp/ipykernel_4918/3661051641.py:7: SettingWithCopyWarning: \n",
      "A value is trying to be set on a copy of a slice from a DataFrame.\n",
      "Try using .loc[row_indexer,col_indexer] = value instead\n",
      "\n",
      "See the caveats in the documentation: https://pandas.pydata.org/pandas-docs/stable/user_guide/indexing.html#returning-a-view-versus-a-copy\n",
      "  data.loc[:,\"Qiymet\"]=data[\"Qiymet\"].apply(clean_price_and_convert)\n",
      "/tmp/ipykernel_4918/3661051641.py:7: FutureWarning: In a future version, `df.iloc[:, i] = newvals` will attempt to set the values inplace instead of always setting a new array. To retain the old behavior, use either `df[df.columns[i]] = newvals` or, if columns are non-unique, `df.isetitem(i, newvals)`\n",
      "  data.loc[:,\"Qiymet\"]=data[\"Qiymet\"].apply(clean_price_and_convert)\n"
     ]
    }
   ],
   "source": [
    "def clean_price_and_convert(col:str):\n",
    "    col=re.split(\"\\s+\",col)\n",
    "    if col[-1]==\"$\":\n",
    "        return float(col[0])*1.70\n",
    "    return float(col[0])\n",
    "        \n",
    "data.loc[:,\"Qiymet\"]=data[\"Qiymet\"].apply(clean_price_and_convert)"
   ]
  },
  {
   "cell_type": "code",
   "execution_count": 5,
   "id": "2eba3bf2-c9c5-45ef-9a4d-5db72c6ba420",
   "metadata": {},
   "outputs": [
    {
     "data": {
      "text/plain": [
       "0       12500.0\n",
       "1       53550.0\n",
       "2       11700.0\n",
       "3        9700.0\n",
       "4       12700.0\n",
       "         ...   \n",
       "1323     8800.0\n",
       "1324     6300.0\n",
       "1325    10900.0\n",
       "1326    11300.0\n",
       "1327    10500.0\n",
       "Name: Qiymet, Length: 1328, dtype: float64"
      ]
     },
     "execution_count": 5,
     "metadata": {},
     "output_type": "execute_result"
    }
   ],
   "source": [
    "data[\"Qiymet\"]"
   ]
  },
  {
   "cell_type": "code",
   "execution_count": 6,
   "id": "e3192126-05fe-429f-bb15-238eefaa7253",
   "metadata": {},
   "outputs": [
    {
     "data": {
      "text/plain": [
       "0       366000\n",
       "1       102000\n",
       "2       469700\n",
       "3       556680\n",
       "4       300000\n",
       "         ...  \n",
       "1323    325000\n",
       "1324    280000\n",
       "1325    272000\n",
       "1326    207000\n",
       "1327    255700\n",
       "Name: Yurush, Length: 1328, dtype: int64"
      ]
     },
     "execution_count": 6,
     "metadata": {},
     "output_type": "execute_result"
    }
   ],
   "source": [
    "data[\"Yurush\"]"
   ]
  },
  {
   "cell_type": "code",
   "execution_count": 7,
   "id": "013aba7b-061d-466b-b8a0-8ad5a85bf978",
   "metadata": {},
   "outputs": [
    {
     "data": {
      "image/png": "[encoded data removed]",
      "text/plain": [
       "<Figure size 640x480 with 1 Axes>"
      ]
     },
     "metadata": {},
     "output_type": "display_data"
    }
   ],
   "source": [
    "import matplotlib.pyplot as plt\n",
    "plt.scatter(data[\"Yurush\"],data[\"Qiymet\"])\n",
    "plt.ylabel(\"Qiymet\")\n",
    "plt.xlabel(\"Yurush\")\n",
    "plt.show()"
   ]
  },
  {
   "cell_type": "code",
   "execution_count": 8,
   "id": "70f38fbc-d20d-4c01-825c-6662908a3b1d",
   "metadata": {},
   "outputs": [
    {
     "data": {
      "image/png": "[encoded data removed]",
      "text/plain": [
       "<Figure size 640x480 with 1 Axes>"
      ]
     },
     "metadata": {},
     "output_type": "display_data"
    },
    {
     "data": {
      "text/html": [
       "<div>\n",
       "<style scoped>\n",
       "    .dataframe tbody tr th:only-of-type {\n",
       "        vertical-align: middle;\n",
       "    }\n",
       "\n",
       "    .dataframe tbody tr th {\n",
       "        vertical-align: top;\n",
       "    }\n",
       "\n",
       "    .dataframe thead th {\n",
       "        text-align: right;\n",
       "    }\n",
       "</style>\n",
       "<table border=\"1\" class=\"dataframe\">\n",
       "  <thead>\n",
       "    <tr style=\"text-align: right;\">\n",
       "      <th></th>\n",
       "      <th>Buraxilish ili</th>\n",
       "      <th>Yurush</th>\n",
       "      <th>Qiymet</th>\n",
       "    </tr>\n",
       "  </thead>\n",
       "  <tbody>\n",
       "    <tr>\n",
       "      <th>0</th>\n",
       "      <td>1999</td>\n",
       "      <td>366000</td>\n",
       "      <td>12500.0</td>\n",
       "    </tr>\n",
       "    <tr>\n",
       "      <th>1</th>\n",
       "      <td>2014</td>\n",
       "      <td>102000</td>\n",
       "      <td>53550.0</td>\n",
       "    </tr>\n",
       "    <tr>\n",
       "      <th>2</th>\n",
       "      <td>2002</td>\n",
       "      <td>469700</td>\n",
       "      <td>11700.0</td>\n",
       "    </tr>\n",
       "    <tr>\n",
       "      <th>3</th>\n",
       "      <td>1998</td>\n",
       "      <td>556680</td>\n",
       "      <td>9700.0</td>\n",
       "    </tr>\n",
       "    <tr>\n",
       "      <th>4</th>\n",
       "      <td>2000</td>\n",
       "      <td>300000</td>\n",
       "      <td>12700.0</td>\n",
       "    </tr>\n",
       "    <tr>\n",
       "      <th>...</th>\n",
       "      <td>...</td>\n",
       "      <td>...</td>\n",
       "      <td>...</td>\n",
       "    </tr>\n",
       "    <tr>\n",
       "      <th>1323</th>\n",
       "      <td>1996</td>\n",
       "      <td>325000</td>\n",
       "      <td>8800.0</td>\n",
       "    </tr>\n",
       "    <tr>\n",
       "      <th>1324</th>\n",
       "      <td>1994</td>\n",
       "      <td>280000</td>\n",
       "      <td>6300.0</td>\n",
       "    </tr>\n",
       "    <tr>\n",
       "      <th>1325</th>\n",
       "      <td>1998</td>\n",
       "      <td>272000</td>\n",
       "      <td>10900.0</td>\n",
       "    </tr>\n",
       "    <tr>\n",
       "      <th>1326</th>\n",
       "      <td>2000</td>\n",
       "      <td>207000</td>\n",
       "      <td>11300.0</td>\n",
       "    </tr>\n",
       "    <tr>\n",
       "      <th>1327</th>\n",
       "      <td>1996</td>\n",
       "      <td>255700</td>\n",
       "      <td>10500.0</td>\n",
       "    </tr>\n",
       "  </tbody>\n",
       "</table>\n",
       "<p>1328 rows × 3 columns</p>\n",
       "</div>"
      ],
      "text/plain": [
       "      Buraxilish ili  Yurush   Qiymet\n",
       "0               1999  366000  12500.0\n",
       "1               2014  102000  53550.0\n",
       "2               2002  469700  11700.0\n",
       "3               1998  556680   9700.0\n",
       "4               2000  300000  12700.0\n",
       "...              ...     ...      ...\n",
       "1323            1996  325000   8800.0\n",
       "1324            1994  280000   6300.0\n",
       "1325            1998  272000  10900.0\n",
       "1326            2000  207000  11300.0\n",
       "1327            1996  255700  10500.0\n",
       "\n",
       "[1328 rows x 3 columns]"
      ]
     },
     "execution_count": 8,
     "metadata": {},
     "output_type": "execute_result"
    }
   ],
   "source": [
    "plt.scatter(data[\"Buraxilish ili\"],data[\"Qiymet\"])\n",
    "plt.ylabel(\"Qiymet\")\n",
    "plt.xlabel(\"Buraxilish ili\")\n",
    "plt.show()\n",
    "data"
   ]
  },
  {
   "cell_type": "code",
   "execution_count": 9,
   "id": "d76070b2-29fc-4adb-891b-8b6ee9ed014a",
   "metadata": {},
   "outputs": [],
   "source": [
    "def normalize_data(col):\n",
    "    return (col-col.min())/(col.max()-col.min())"
   ]
  },
  {
   "cell_type": "code",
   "execution_count": 10,
   "id": "f92d409d-3e29-4718-bd68-f4b392f6a69e",
   "metadata": {},
   "outputs": [
    {
     "name": "stderr",
     "output_type": "stream",
     "text": [
      "/tmp/ipykernel_4918/3063427841.py:2: SettingWithCopyWarning: \n",
      "A value is trying to be set on a copy of a slice from a DataFrame.\n",
      "Try using .loc[row_indexer,col_indexer] = value instead\n",
      "\n",
      "See the caveats in the documentation: https://pandas.pydata.org/pandas-docs/stable/user_guide/indexing.html#returning-a-view-versus-a-copy\n",
      "  data[\"Yurush\"]=normalize_data(data[\"Yurush\"])\n",
      "/tmp/ipykernel_4918/3063427841.py:3: SettingWithCopyWarning: \n",
      "A value is trying to be set on a copy of a slice from a DataFrame.\n",
      "Try using .loc[row_indexer,col_indexer] = value instead\n",
      "\n",
      "See the caveats in the documentation: https://pandas.pydata.org/pandas-docs/stable/user_guide/indexing.html#returning-a-view-versus-a-copy\n",
      "  data[\"Buraxilish ili\"]=normalize_data(data[\"Buraxilish ili\"])\n",
      "/tmp/ipykernel_4918/3063427841.py:4: SettingWithCopyWarning: \n",
      "A value is trying to be set on a copy of a slice from a DataFrame.\n",
      "Try using .loc[row_indexer,col_indexer] = value instead\n",
      "\n",
      "See the caveats in the documentation: https://pandas.pydata.org/pandas-docs/stable/user_guide/indexing.html#returning-a-view-versus-a-copy\n",
      "  data[\"Qiymet\"]=normalize_data(data[\"Qiymet\"])\n"
     ]
    },
    {
     "data": {
      "text/html": [
       "<div>\n",
       "<style scoped>\n",
       "    .dataframe tbody tr th:only-of-type {\n",
       "        vertical-align: middle;\n",
       "    }\n",
       "\n",
       "    .dataframe tbody tr th {\n",
       "        vertical-align: top;\n",
       "    }\n",
       "\n",
       "    .dataframe thead th {\n",
       "        text-align: right;\n",
       "    }\n",
       "</style>\n",
       "<table border=\"1\" class=\"dataframe\">\n",
       "  <thead>\n",
       "    <tr style=\"text-align: right;\">\n",
       "      <th></th>\n",
       "      <th>Buraxilish ili</th>\n",
       "      <th>Yurush</th>\n",
       "      <th>Qiymet</th>\n",
       "    </tr>\n",
       "  </thead>\n",
       "  <tbody>\n",
       "    <tr>\n",
       "      <th>0</th>\n",
       "      <td>1999</td>\n",
       "      <td>366000</td>\n",
       "      <td>12500.0</td>\n",
       "    </tr>\n",
       "    <tr>\n",
       "      <th>1</th>\n",
       "      <td>2014</td>\n",
       "      <td>102000</td>\n",
       "      <td>53550.0</td>\n",
       "    </tr>\n",
       "    <tr>\n",
       "      <th>2</th>\n",
       "      <td>2002</td>\n",
       "      <td>469700</td>\n",
       "      <td>11700.0</td>\n",
       "    </tr>\n",
       "    <tr>\n",
       "      <th>3</th>\n",
       "      <td>1998</td>\n",
       "      <td>556680</td>\n",
       "      <td>9700.0</td>\n",
       "    </tr>\n",
       "    <tr>\n",
       "      <th>4</th>\n",
       "      <td>2000</td>\n",
       "      <td>300000</td>\n",
       "      <td>12700.0</td>\n",
       "    </tr>\n",
       "    <tr>\n",
       "      <th>...</th>\n",
       "      <td>...</td>\n",
       "      <td>...</td>\n",
       "      <td>...</td>\n",
       "    </tr>\n",
       "    <tr>\n",
       "      <th>1323</th>\n",
       "      <td>1996</td>\n",
       "      <td>325000</td>\n",
       "      <td>8800.0</td>\n",
       "    </tr>\n",
       "    <tr>\n",
       "      <th>1324</th>\n",
       "      <td>1994</td>\n",
       "      <td>280000</td>\n",
       "      <td>6300.0</td>\n",
       "    </tr>\n",
       "    <tr>\n",
       "      <th>1325</th>\n",
       "      <td>1998</td>\n",
       "      <td>272000</td>\n",
       "      <td>10900.0</td>\n",
       "    </tr>\n",
       "    <tr>\n",
       "      <th>1326</th>\n",
       "      <td>2000</td>\n",
       "      <td>207000</td>\n",
       "      <td>11300.0</td>\n",
       "    </tr>\n",
       "    <tr>\n",
       "      <th>1327</th>\n",
       "      <td>1996</td>\n",
       "      <td>255700</td>\n",
       "      <td>10500.0</td>\n",
       "    </tr>\n",
       "  </tbody>\n",
       "</table>\n",
       "<p>1328 rows × 3 columns</p>\n",
       "</div>"
      ],
      "text/plain": [
       "      Buraxilish ili  Yurush   Qiymet\n",
       "0               1999  366000  12500.0\n",
       "1               2014  102000  53550.0\n",
       "2               2002  469700  11700.0\n",
       "3               1998  556680   9700.0\n",
       "4               2000  300000  12700.0\n",
       "...              ...     ...      ...\n",
       "1323            1996  325000   8800.0\n",
       "1324            1994  280000   6300.0\n",
       "1325            1998  272000  10900.0\n",
       "1326            2000  207000  11300.0\n",
       "1327            1996  255700  10500.0\n",
       "\n",
       "[1328 rows x 3 columns]"
      ]
     },
     "execution_count": 10,
     "metadata": {},
     "output_type": "execute_result"
    }
   ],
   "source": [
    "data_r=data.copy()\n",
    "data[\"Yurush\"]=normalize_data(data[\"Yurush\"])\n",
    "data[\"Buraxilish ili\"]=normalize_data(data[\"Buraxilish ili\"])\n",
    "data[\"Qiymet\"]=normalize_data(data[\"Qiymet\"])\n",
    "data_r"
   ]
  },
  {
   "cell_type": "code",
   "execution_count": 11,
   "id": "d3db0f15-0531-470b-8c25-83a69d5bfdc3",
   "metadata": {},
   "outputs": [
    {
     "data": {
      "text/html": [
       "<div>\n",
       "<style scoped>\n",
       "    .dataframe tbody tr th:only-of-type {\n",
       "        vertical-align: middle;\n",
       "    }\n",
       "\n",
       "    .dataframe tbody tr th {\n",
       "        vertical-align: top;\n",
       "    }\n",
       "\n",
       "    .dataframe thead th {\n",
       "        text-align: right;\n",
       "    }\n",
       "</style>\n",
       "<table border=\"1\" class=\"dataframe\">\n",
       "  <thead>\n",
       "    <tr style=\"text-align: right;\">\n",
       "      <th></th>\n",
       "      <th>Buraxilish ili</th>\n",
       "      <th>Yurush</th>\n",
       "      <th>Qiymet</th>\n",
       "    </tr>\n",
       "  </thead>\n",
       "  <tbody>\n",
       "    <tr>\n",
       "      <th>0</th>\n",
       "      <td>0.344828</td>\n",
       "      <td>0.417808</td>\n",
       "      <td>0.115584</td>\n",
       "    </tr>\n",
       "    <tr>\n",
       "      <th>1</th>\n",
       "      <td>0.862069</td>\n",
       "      <td>0.116438</td>\n",
       "      <td>0.532886</td>\n",
       "    </tr>\n",
       "    <tr>\n",
       "      <th>2</th>\n",
       "      <td>0.448276</td>\n",
       "      <td>0.536187</td>\n",
       "      <td>0.107451</td>\n",
       "    </tr>\n",
       "    <tr>\n",
       "      <th>3</th>\n",
       "      <td>0.310345</td>\n",
       "      <td>0.635479</td>\n",
       "      <td>0.087120</td>\n",
       "    </tr>\n",
       "    <tr>\n",
       "      <th>4</th>\n",
       "      <td>0.379310</td>\n",
       "      <td>0.342466</td>\n",
       "      <td>0.117617</td>\n",
       "    </tr>\n",
       "    <tr>\n",
       "      <th>...</th>\n",
       "      <td>...</td>\n",
       "      <td>...</td>\n",
       "      <td>...</td>\n",
       "    </tr>\n",
       "    <tr>\n",
       "      <th>1323</th>\n",
       "      <td>0.241379</td>\n",
       "      <td>0.371005</td>\n",
       "      <td>0.077971</td>\n",
       "    </tr>\n",
       "    <tr>\n",
       "      <th>1324</th>\n",
       "      <td>0.172414</td>\n",
       "      <td>0.319635</td>\n",
       "      <td>0.052557</td>\n",
       "    </tr>\n",
       "    <tr>\n",
       "      <th>1325</th>\n",
       "      <td>0.310345</td>\n",
       "      <td>0.310502</td>\n",
       "      <td>0.099319</td>\n",
       "    </tr>\n",
       "    <tr>\n",
       "      <th>1326</th>\n",
       "      <td>0.379310</td>\n",
       "      <td>0.236301</td>\n",
       "      <td>0.103385</td>\n",
       "    </tr>\n",
       "    <tr>\n",
       "      <th>1327</th>\n",
       "      <td>0.241379</td>\n",
       "      <td>0.291895</td>\n",
       "      <td>0.095253</td>\n",
       "    </tr>\n",
       "  </tbody>\n",
       "</table>\n",
       "<p>1328 rows × 3 columns</p>\n",
       "</div>"
      ],
      "text/plain": [
       "      Buraxilish ili    Yurush    Qiymet\n",
       "0           0.344828  0.417808  0.115584\n",
       "1           0.862069  0.116438  0.532886\n",
       "2           0.448276  0.536187  0.107451\n",
       "3           0.310345  0.635479  0.087120\n",
       "4           0.379310  0.342466  0.117617\n",
       "...              ...       ...       ...\n",
       "1323        0.241379  0.371005  0.077971\n",
       "1324        0.172414  0.319635  0.052557\n",
       "1325        0.310345  0.310502  0.099319\n",
       "1326        0.379310  0.236301  0.103385\n",
       "1327        0.241379  0.291895  0.095253\n",
       "\n",
       "[1328 rows x 3 columns]"
      ]
     },
     "execution_count": 11,
     "metadata": {},
     "output_type": "execute_result"
    }
   ],
   "source": [
    "data"
   ]
  },
  {
   "cell_type": "code",
   "execution_count": 12,
   "id": "bc501665-2f51-45cb-8011-bc48bce8e157",
   "metadata": {},
   "outputs": [],
   "source": [
    "import numpy as np"
   ]
  },
  {
   "cell_type": "code",
   "execution_count": 13,
   "id": "364c2e41-6ef5-4358-84cc-82b67096f7b9",
   "metadata": {},
   "outputs": [
    {
     "data": {
      "text/plain": [
       "array([[1.        , 0.34482759, 0.41780822],\n",
       "       [1.        , 0.86206897, 0.11643836],\n",
       "       [1.        , 0.44827586, 0.53618721],\n",
       "       ...,\n",
       "       [1.        , 0.31034483, 0.31050228],\n",
       "       [1.        , 0.37931034, 0.23630137],\n",
       "       [1.        , 0.24137931, 0.29189498]])"
      ]
     },
     "execution_count": 13,
     "metadata": {},
     "output_type": "execute_result"
    }
   ],
   "source": [
    "x0=[1]*len(data)\n",
    "x1=data[\"Buraxilish ili\"]\n",
    "x2=data[\"Yurush\"]\n",
    "y=data[\"Qiymet\"]\n",
    "X=np.array([x0,x1,x2]).T\n",
    "\n",
    "W=np.array([0,11,5])\n",
    "X"
   ]
  },
  {
   "cell_type": "code",
   "execution_count": 14,
   "id": "2502e762-a813-41e5-8b41-6da9671168de",
   "metadata": {},
   "outputs": [
    {
     "data": {
      "text/plain": [
       "array([[1.        , 0.34482759, 0.41780822],\n",
       "       [1.        , 0.86206897, 0.11643836],\n",
       "       [1.        , 0.44827586, 0.53618721],\n",
       "       ...,\n",
       "       [1.        , 0.31034483, 0.31050228],\n",
       "       [1.        , 0.37931034, 0.23630137],\n",
       "       [1.        , 0.24137931, 0.29189498]])"
      ]
     },
     "execution_count": 14,
     "metadata": {},
     "output_type": "execute_result"
    }
   ],
   "source": [
    "X.dot(W)\n",
    "X"
   ]
  },
  {
   "cell_type": "code",
   "execution_count": 15,
   "id": "df20ba9e-1031-4b2b-b5e0-bfa51355dfb1",
   "metadata": {},
   "outputs": [
    {
     "name": "stdout",
     "output_type": "stream",
     "text": [
      "16.844546969941018\n"
     ]
    }
   ],
   "source": [
    "def cost_function(X,y,W):\n",
    "    pred=X.dot(W)\n",
    "    res = np.sum((pred-y)**2)/2\n",
    "    return res/len(y)\n",
    "print(cost_function(X,y,W))"
   ]
  },
  {
   "cell_type": "code",
   "execution_count": 39,
   "id": "8a0b3bd2-d374-4f54-ae16-e701e7776656",
   "metadata": {},
   "outputs": [
    {
     "name": "stdout",
     "output_type": "stream",
     "text": [
      "[0 5 5]\n",
      "Iteration 0\n",
      "Cost Function 5.7850479564818\n",
      "[0 5 5]\n",
      "Iteration 1000\n",
      "Cost Function 5.7850479564818\n",
      "[0 5 5]\n",
      "Iteration 2000\n",
      "Cost Function 5.7850479564818\n",
      "[0 5 5]\n",
      "Iteration 3000\n",
      "Cost Function 5.7850479564818\n",
      "[0 5 5]\n",
      "Iteration 4000\n",
      "Cost Function 5.7850479564818\n",
      "[0 5 5]\n",
      "Iteration 5000\n",
      "Cost Function 5.7850479564818\n",
      "[0 5 5]\n",
      "Iteration 6000\n",
      "Cost Function 5.7850479564818\n",
      "[0 5 5]\n",
      "Iteration 7000\n",
      "Cost Function 5.7850479564818\n",
      "[0 5 5]\n",
      "Iteration 8000\n",
      "Cost Function 5.7850479564818\n",
      "[0 5 5]\n",
      "Iteration 9000\n",
      "Cost Function 5.7850479564818\n"
     ]
    },
    {
     "data": {
      "text/plain": [
       "[<matplotlib.lines.Line2D at 0x7f812acac100>]"
      ]
     },
     "execution_count": 39,
     "metadata": {},
     "output_type": "execute_result"
    },
    {
     "data": {
      "image/png": "[encoded data removed]",
      "text/plain": [
       "<Figure size 640x480 with 1 Axes>"
      ]
     },
     "metadata": {},
     "output_type": "display_data"
    }
   ],
   "source": [
    "def gradientDescent(X,Y,W,alpha=0.01,iterations=10_000):\n",
    "    length=len(Y)\n",
    "    costH=[]\n",
    "    h=X.dot(W)\n",
    "    diff=h-Y\n",
    "    for i in range(0,iterations):\n",
    "        if i%1000==0:\n",
    "            print(W)\n",
    "            print(f\"Iteration {i}\")\n",
    "            print(f\"Cost Function {cost_function(X,Y,W)}\")\n",
    "        \n",
    "        W[0]=W[0]-np.sum(alpha*X.T[0]*diff/length)*-1\n",
    "        W[1] = W[1]-alpha*np.sum(X.T[1]*diff*X.T[1]*-1)/length\n",
    "        W[2] = W[2]-alpha*np.sum(X.T[2]*diff*X.T[2]*-1)/length\n",
    "        \n",
    "        cost=cost_function(X,Y,W)\n",
    "        costH.append(cost)\n",
    "    return W,costH\n",
    "W2,cost=gradientDescent(X,y,W)\n",
    "plt.plot(cost)"
   ]
  },
  {
   "cell_type": "code",
   "execution_count": 17,
   "id": "d188a004-2279-43e5-af93-de181836c23f",
   "metadata": {},
   "outputs": [
    {
     "name": "stderr",
     "output_type": "stream",
     "text": [
      "/tmp/ipykernel_4918/1004247754.py:1: SettingWithCopyWarning: \n",
      "A value is trying to be set on a copy of a slice from a DataFrame.\n",
      "Try using .loc[row_indexer,col_indexer] = value instead\n",
      "\n",
      "See the caveats in the documentation: https://pandas.pydata.org/pandas-docs/stable/user_guide/indexing.html#returning-a-view-versus-a-copy\n",
      "  data[\"prediction\"]=X.dot(W2)\n"
     ]
    }
   ],
   "source": [
    "data[\"prediction\"]=X.dot(W2)"
   ]
  },
  {
   "cell_type": "code",
   "execution_count": 18,
   "id": "59f99a5a-9c73-4572-a899-49885472f8d8",
   "metadata": {},
   "outputs": [
    {
     "data": {
      "text/plain": [
       "2.0511077970237848"
      ]
     },
     "execution_count": 18,
     "metadata": {},
     "output_type": "execute_result"
    }
   ],
   "source": [
    "(data[\"prediction\"]-data[\"Qiymet\"]).max()"
   ]
  },
  {
   "cell_type": "code",
   "execution_count": 19,
   "id": "a1155300-08b2-4acb-bc74-1786e9a1251d",
   "metadata": {},
   "outputs": [],
   "source": [
    "yurus=240_000\n",
    "il=2_000\n",
    "qiymet =11_500\n",
    "\n",
    "yurus_n=(yurus-data_r[\"Yurush\"].min())/(data_r[\"Yurush\"].max()-data_r[\"Yurush\"].min())\n",
    "il_n=(il-data_r[\"Buraxilish ili\"].min())/(data_r[\"Buraxilish ili\"].max()-data_r[\"Buraxilish ili\"].min())\n"
   ]
  },
  {
   "cell_type": "code",
   "execution_count": 20,
   "id": "e3a0db1a-9889-447d-8eab-01105807b6a2",
   "metadata": {},
   "outputs": [
    {
     "data": {
      "text/plain": [
       "-0.06212715689607484"
      ]
     },
     "execution_count": 20,
     "metadata": {},
     "output_type": "execute_result"
    }
   ],
   "source": [
    "predicted=W2[0]+W2[1]*il_n+W2[2]*yurus_n\n",
    "predicted"
   ]
  },
  {
   "cell_type": "code",
   "execution_count": 21,
   "id": "fec4c8dd-5ea1-4741-8175-2324548adb58",
   "metadata": {},
   "outputs": [
    {
     "data": {
      "text/plain": [
       "-4981.448423866882"
      ]
     },
     "execution_count": 21,
     "metadata": {},
     "output_type": "execute_result"
    }
   ],
   "source": [
    "(data_r[\"Qiymet\"].max()-data_r[\"Qiymet\"].min())*predicted+data_r[\"Qiymet\"].min()"
   ]
  },
  {
   "cell_type": "code",
   "execution_count": 22,
   "id": "3ebfd1e8-857b-44e6-85ee-c6c978662727",
   "metadata": {},
   "outputs": [
    {
     "data": {
      "text/plain": [
       "-6111.448423866882"
      ]
     },
     "execution_count": 22,
     "metadata": {},
     "output_type": "execute_result"
    }
   ],
   "source": [
    "(data_r[\"Qiymet\"].max()-data_r[\"Qiymet\"].min())*predicted"
   ]
  },
  {
   "cell_type": "code",
   "execution_count": 23,
   "id": "131d505c-1d4d-483a-900d-39bfbe606af2",
   "metadata": {},
   "outputs": [
    {
     "data": {
      "text/plain": [
       "1130.0"
      ]
     },
     "execution_count": 23,
     "metadata": {},
     "output_type": "execute_result"
    }
   ],
   "source": [
    "data_r[\"Qiymet\"].min()"
   ]
  },
  {
   "cell_type": "code",
   "execution_count": null,
   "id": "82b75b0c-7125-4c59-987b-04a7245f84f1",
   "metadata": {},
   "outputs": [],
   "source": []
  }
 ],
 "metadata": {
  "kernelspec": {
   "display_name": "Python 3 (ipykernel)",
   "language": "python",
   "name": "python3"
  },
  "language_info": {
   "codemirror_mode": {
    "name": "ipython",
    "version": 3
   },
   "file_extension": ".py",
   "mimetype": "text/x-python",
   "name": "python",
   "nbconvert_exporter": "python",
   "pygments_lexer": "ipython3",
   "version": "3.10.6"
  }
 },
 "nbformat": 4,
 "nbformat_minor": 5
}
