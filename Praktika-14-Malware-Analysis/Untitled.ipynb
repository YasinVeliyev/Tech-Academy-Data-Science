{
 "cells": [
  {
   "cell_type": "code",
   "execution_count": 1,
   "id": "d2edfb77-cc08-4b5b-a396-7304e8a80db7",
   "metadata": {},
   "outputs": [],
   "source": [
    "import pandas as pd"
   ]
  },
  {
   "cell_type": "code",
   "execution_count": 2,
   "id": "f880218e-4017-4bda-9dd3-34833fc56386",
   "metadata": {},
   "outputs": [],
   "source": [
    "data= pd.read_csv(\"malware_dataset.txt\",sep=\",\",header=0)"
   ]
  },
  {
   "cell_type": "code",
   "execution_count": 37,
   "id": "928883b4-c276-4a5e-af08-dd5334c4e3e0",
   "metadata": {
    "scrolled": true
   },
   "outputs": [],
   "source": [
    "data.to_csv(\"malware.csv\")"
   ]
  },
  {
   "cell_type": "code",
   "execution_count": 47,
   "id": "a00ad92e-6961-4c56-a3fa-970074677446",
   "metadata": {},
   "outputs": [
    {
     "data": {
      "text/plain": [
       "VirusShare_0000003e2307cd19b193ee4837b86b24    1\n",
       "VirusShare_000084aa66f691f4a1f905d960a7736b    1\n",
       "VirusShare_00021f36ab5875afa8a82b54c4223680    1\n",
       "VirusShare_00043b504ec0b9d082d883375b71f479    1\n",
       "VirusShare_00090b306c76f28fa20eff997c845a32    1\n",
       "Name: Name, dtype: int64"
      ]
     },
     "execution_count": 47,
     "metadata": {},
     "output_type": "execute_result"
    }
   ],
   "source": [
    "data[data[\"Malware\"]==1][\"Name\"].value_counts().sort_index().head()"
   ]
  },
  {
   "cell_type": "code",
   "execution_count": null,
   "id": "cd7c58e8-f188-4a38-8e5e-f54519d57580",
   "metadata": {},
   "outputs": [],
   "source": []
  }
 ],
 "metadata": {
  "kernelspec": {
   "display_name": "Python 3 (ipykernel)",
   "language": "python",
   "name": "python3"
  },
  "language_info": {
   "codemirror_mode": {
    "name": "ipython",
    "version": 3
   },
   "file_extension": ".py",
   "mimetype": "text/x-python",
   "name": "python",
   "nbconvert_exporter": "python",
   "pygments_lexer": "ipython3",
   "version": "3.10.12"
  }
 },
 "nbformat": 4,
 "nbformat_minor": 5
}
