{
 "cells": [
  {
   "cell_type": "code",
   "execution_count": 1,
   "id": "f3d2114f-6c96-4cb3-b8bb-1d5ef74659ca",
   "metadata": {},
   "outputs": [],
   "source": [
    "import os\n",
    "import pandas as pd\n",
    "from sklearn.feature_extraction.text import CountVectorizer,TfidfVectorizer,TfidfTransformer\n",
    "from sklearn.pipeline import Pipeline\n",
    "from sklearn.model_selection import train_test_split\n",
    "import sklearn\n",
    "from sklearn.linear_model import LogisticRegression\n",
    "import re\n",
    "from sklearn.metrics import *\n",
    "from sklearn.svm import SVC\n",
    "from sklearn.ensemble import RandomForestClassifier"
   ]
  },
  {
   "cell_type": "code",
   "execution_count": 121,
   "id": "17c86db7-ca22-409f-9acd-1cfc86c98fbb",
   "metadata": {},
   "outputs": [],
   "source": [
    "data = pd.read_csv(\"sentiment_analysis.csv\")"
   ]
  },
  {
   "cell_type": "code",
   "execution_count": 122,
   "id": "3418d40b-8060-401f-a5e5-e84c15333ddb",
   "metadata": {},
   "outputs": [],
   "source": [
    "data[\"x\"] = data[\"x\"].apply(lambda txt:re.sub(\"[\\(~\\^@\\*\\+#',\\.\\\"“\\?&`/\\|>=\\$\\[-]+\",\"\",txt).lower())"
   ]
  },
  {
   "cell_type": "code",
   "execution_count": 123,
   "id": "9b548a63-633f-4e4a-8149-601862375006",
   "metadata": {},
   "outputs": [
    {
     "data": {
      "text/plain": [
       "0        georges polti bir dəfə otuz altı dramatik vəzi...\n",
       "1        bu ruhanilərin günəşin altında yeni heç nə yox...\n",
       "2        fakültə axşamdan səhərə qədər rejissor robert ...\n",
       "3        bu nalayiq səfərdə orijinal materialın ölçülə ...\n",
       "4        həm kukla ustalarından həm də cəsəd oğurlayanl...\n",
       "                               ...                        \n",
       "64715    çox vaxt su anbarı itləri sizin tipik qanqster...\n",
       "64716    qəhvəxanadakı açılış səhnəsi filmi yüksək notd...\n",
       "64717    başqa bir səhnə rotun nəhəng bir çanta marixua...\n",
       "64718    bunların heç birinin çox süjet aktuallığı yoxd...\n",
       "64719    su anbarı itləri yaxşıdır amma bu fantastika d...\n",
       "Name: x, Length: 64720, dtype: object"
      ]
     },
     "execution_count": 123,
     "metadata": {},
     "output_type": "execute_result"
    }
   ],
   "source": [
    "data[\"x\"]"
   ]
  },
  {
   "cell_type": "code",
   "execution_count": 124,
   "id": "cb1633d6-50f2-428e-9d0e-541cad97a7f9",
   "metadata": {},
   "outputs": [],
   "source": [
    "data=sklearn.utils.shuffle(data)"
   ]
  },
  {
   "cell_type": "code",
   "execution_count": 126,
   "id": "dc3577fa-5b36-4b46-b1cb-c98a729881fd",
   "metadata": {},
   "outputs": [],
   "source": [
    "X=data[\"x\"]\n",
    "y=data[\"y\"]"
   ]
  },
  {
   "cell_type": "code",
   "execution_count": 127,
   "id": "3fba36dc-cb9e-45fc-b9d7-b0054a8a5557",
   "metadata": {},
   "outputs": [],
   "source": [
    "X_train,X_test,y_train,y_test = train_test_split(X,y,train_size=0.8)"
   ]
  },
  {
   "cell_type": "code",
   "execution_count": 128,
   "id": "9bd3c947-e1a7-4b35-b812-35b8c669b65e",
   "metadata": {},
   "outputs": [
    {
     "data": {
      "text/plain": [
       "64067    onların ilkin olaraq yeniyetmə zarafatları yem...\n",
       "35905    roller sahil gəmisi kimi kamera hərəkətləri il...\n",
       "20929     onlar əvvəlkindən 17% daha böyükdürlər! o ela...\n",
       "60985    hər iki rol birbirini çox gözəl tamamlayırdı v...\n",
       "27355    american pie 2 kassada bir neçə milyon qazanac...\n",
       "                               ...                        \n",
       "9326     film kifayət qədər yavaş templə irəliləyir lak...\n",
       "26849    qırıcı pilota bənzəyən axsayan robot haqqında ...\n",
       "37507    morgan freeman detektiv uilyam somerset rolunu...\n",
       "15593    qardaşı öldürüldükdən sonra tənha bir adamın q...\n",
       "59012    patrik həqiqətən də çoxalmaq üçün başqa bir ya...\n",
       "Name: x, Length: 12944, dtype: object"
      ]
     },
     "execution_count": 128,
     "metadata": {},
     "output_type": "execute_result"
    }
   ],
   "source": [
    "X_test"
   ]
  },
  {
   "cell_type": "code",
   "execution_count": 130,
   "id": "6b0f660e-af79-4af5-898d-563743c9330c",
   "metadata": {},
   "outputs": [],
   "source": [
    "pipe = Pipeline([('count_vect', CountVectorizer(ngram_range=(2,3))), (\"tfidf_transformer\",TfidfTransformer()),('log', LogisticRegression())])"
   ]
  },
  {
   "cell_type": "code",
   "execution_count": 131,
   "id": "5e5f178a-9f39-4c81-b3e9-2a884316a6d6",
   "metadata": {},
   "outputs": [],
   "source": [
    "model = pipe.fit(X_train,y_train)"
   ]
  },
  {
   "cell_type": "code",
   "execution_count": 132,
   "id": "32c342f4-9022-4f89-8541-d3169c4746cf",
   "metadata": {},
   "outputs": [
    {
     "data": {
      "text/plain": [
       "0.9769391223733004"
      ]
     },
     "execution_count": 132,
     "metadata": {},
     "output_type": "execute_result"
    }
   ],
   "source": [
    "model.score(X_train,y_train)"
   ]
  },
  {
   "cell_type": "code",
   "execution_count": 133,
   "id": "45a0cbf2-a28d-4383-94aa-28b7b5550763",
   "metadata": {},
   "outputs": [],
   "source": [
    "y_predict = pipe.predict(X_test)"
   ]
  },
  {
   "cell_type": "code",
   "execution_count": 134,
   "id": "2a98b5e7-ddb5-4389-995b-06085679cb86",
   "metadata": {},
   "outputs": [
    {
     "name": "stdout",
     "output_type": "stream",
     "text": [
      "              precision    recall  f1-score   support\n",
      "\n",
      "           0       0.52      0.63      0.57      5220\n",
      "           1       0.71      0.60      0.65      7724\n",
      "\n",
      "    accuracy                           0.61     12944\n",
      "   macro avg       0.61      0.62      0.61     12944\n",
      "weighted avg       0.63      0.61      0.62     12944\n",
      "\n"
     ]
    }
   ],
   "source": [
    "print(classification_report(y_predict,y_test))"
   ]
  },
  {
   "cell_type": "code",
   "execution_count": 18,
   "id": "73582716-5840-4cb5-bea2-ece4a6110b7d",
   "metadata": {},
   "outputs": [
    {
     "data": {
      "text/plain": [
       "4690"
      ]
     },
     "execution_count": 18,
     "metadata": {},
     "output_type": "execute_result"
    }
   ],
   "source": [
    "count_vect.vocabulary_.get(u'algorithm')"
   ]
  },
  {
   "cell_type": "code",
   "execution_count": 19,
   "id": "b051e524-69ae-484e-a19c-39981e60808e",
   "metadata": {},
   "outputs": [],
   "source": [
    "from sklearn.feature_extraction.text import TfidfTransformer"
   ]
  },
  {
   "cell_type": "code",
   "execution_count": 20,
   "id": "a8932bb8-5e2e-4cf0-b7d6-9d69e1e7ffd5",
   "metadata": {},
   "outputs": [],
   "source": [
    "tf_transformer = TfidfTransformer(use_idf=False).fit(X_train_counts)"
   ]
  },
  {
   "cell_type": "code",
   "execution_count": 21,
   "id": "69ffbb72-a5b9-49d5-8a92-0e2688edc023",
   "metadata": {},
   "outputs": [],
   "source": [
    "X_train_tf = tf_transformer.transform(X_train_counts)"
   ]
  },
  {
   "cell_type": "code",
   "execution_count": 22,
   "id": "789afd2c-4f3e-4654-96a6-4531dcba0db6",
   "metadata": {},
   "outputs": [],
   "source": [
    "from sklearn.naive_bayes import MultinomialNB"
   ]
  },
  {
   "cell_type": "code",
   "execution_count": 24,
   "id": "d122fe87-7008-4396-a899-f613459b7d08",
   "metadata": {},
   "outputs": [],
   "source": [
    "tfidf_transformer = TfidfTransformer()\n",
    "X_train_tfidf = tfidf_transformer.fit_transform(X_train_counts)"
   ]
  },
  {
   "cell_type": "code",
   "execution_count": 25,
   "id": "59e08418-3460-45a0-ac41-35b597bfc4f1",
   "metadata": {},
   "outputs": [],
   "source": [
    "clf = MultinomialNB().fit(X_train_tfidf, twenty_train.target)\n"
   ]
  },
  {
   "cell_type": "code",
   "execution_count": 27,
   "id": "7781b9f8-10af-43a7-9be8-57fb3a731fe4",
   "metadata": {},
   "outputs": [
    {
     "name": "stdout",
     "output_type": "stream",
     "text": [
      "'God is love' => soc.religion.christian\n",
      "'OpenGL on the GPU is fast' => comp.graphics\n"
     ]
    }
   ],
   "source": [
    "docs_new = ['God is love', 'OpenGL on the GPU is fast']\n",
    "X_new_counts = count_vect.transform(docs_new)\n",
    "X_new_tfidf = tfidf_transformer.transform(X_new_counts)\n",
    "\n",
    "predicted = clf.predict(X_new_tfidf)\n",
    "\n",
    "for doc, category in zip(docs_new, predicted):\n",
    "    print('%r => %s' % (doc, twenty_train.target_names[category]))"
   ]
  },
  {
   "cell_type": "code",
   "execution_count": 97,
   "id": "b2f62d2d-e344-4d03-aebd-6f258b0f3bb9",
   "metadata": {},
   "outputs": [],
   "source": [
    "data.to_csv(\"final.csv\")"
   ]
  },
  {
   "cell_type": "code",
   "execution_count": 129,
   "id": "eb4ace75-8e65-4508-82ac-1b99f2abbcc3",
   "metadata": {},
   "outputs": [
    {
     "data": {
      "text/plain": [
       "                                                                                                                                       3003\n",
       "                                                                                                                                       2968\n",
       "                                                                                                                                       2963\n",
       "                                                                                                                                       2933\n",
       "                                                                                                                                       2932\n",
       "                                                                                                                                       ... \n",
       "                                                                                                                                          1\n",
       "                                                                                                                                          1\n",
       "                                                                                                                                          1\n",
       "                                                                                                                                          1\n",
       "                                                                                                                                          1\n",
       "Name: x, Length: 102, dtype: int64"
      ]
     },
     "execution_count": 129,
     "metadata": {},
     "output_type": "execute_result"
    }
   ],
   "source": [
    "X.apply(lambda txt:re.sub(\"\\w\",\"\",txt)).value_counts()"
   ]
  },
  {
   "cell_type": "code",
   "execution_count": 110,
   "id": "bd9022c0-0534-4ec8-b095-3703fbbc1abd",
   "metadata": {},
   "outputs": [
    {
     "data": {
      "text/plain": [
       "0        g\n",
       "1        b\n",
       "2        f\n",
       "3        b\n",
       "4        h\n",
       "        ..\n",
       "64715    ç\n",
       "64716    q\n",
       "64717    b\n",
       "64718    b\n",
       "64719    s\n",
       "Name: x, Length: 64720, dtype: object"
      ]
     },
     "execution_count": 110,
     "metadata": {},
     "output_type": "execute_result"
    }
   ],
   "source": [
    "data[\"x\"]"
   ]
  },
  {
   "cell_type": "code",
   "execution_count": 109,
   "id": "54467afa-dfe6-4f28-a51a-3aea9b10eddf",
   "metadata": {},
   "outputs": [
    {
     "data": {
      "text/plain": [
       "' '"
      ]
     },
     "execution_count": 109,
     "metadata": {},
     "output_type": "execute_result"
    }
   ],
   "source": [
    "\"\".join(set(\"\".join(data[\"x\"].apply(lambda txt:re.sub(\"\\w\",\"\",txt)))))"
   ]
  },
  {
   "cell_type": "code",
   "execution_count": 21,
   "id": "b24c2697-b758-44aa-ae53-b47b48e08e9e",
   "metadata": {},
   "outputs": [],
   "source": [
    "a='&\"=–:,?}№;)\\'$-|.“!]/\\\\>”[`%\\n\\x14(~^@*+#'"
   ]
  },
  {
   "cell_type": "code",
   "execution_count": 22,
   "id": "e0227b33-1e78-445e-80b0-f101812b56c8",
   "metadata": {},
   "outputs": [
    {
     "data": {
      "text/plain": [
       "'&\"=–:,?}№;)\\'$-|.“!]/\\\\>”[`%\\n\\x14(~^@*+#'"
      ]
     },
     "execution_count": 22,
     "metadata": {},
     "output_type": "execute_result"
    }
   ],
   "source": [
    "a"
   ]
  },
  {
   "cell_type": "code",
   "execution_count": 60,
   "id": "c012a8fb-ed44-45fd-9a59-319996112cb5",
   "metadata": {},
   "outputs": [],
   "source": [
    "g=list(a)\n",
    "g.sort()"
   ]
  },
  {
   "cell_type": "code",
   "execution_count": 63,
   "id": "074acc70-a96a-4632-aa48-5075e89d0ddf",
   "metadata": {},
   "outputs": [
    {
     "data": {
      "text/plain": [
       "'\\n\\x14!\"#$%&\\'()*+,-./:;=>?@[\\\\]^`|}~–“”№'"
      ]
     },
     "execution_count": 63,
     "metadata": {},
     "output_type": "execute_result"
    }
   ],
   "source": [
    "\"\".join(g)"
   ]
  },
  {
   "cell_type": "code",
   "execution_count": null,
   "id": "891a446e-1b72-4ac1-a9a4-0c47ff99587f",
   "metadata": {},
   "outputs": [],
   "source": [
    "\"\"\"\\\\n!\\\"#\\$%&\\\\'\\(\\)\\*\\+,-\\./:;=>\\?@\\[\\\\\\]\\^`|}~–“”№\"\"\""
   ]
  },
  {
   "cell_type": "code",
   "execution_count": 67,
   "id": "d14374f3-b250-4010-84f2-2a3a510d5bf0",
   "metadata": {},
   "outputs": [],
   "source": [
    "import string"
   ]
  },
  {
   "cell_type": "code",
   "execution_count": 83,
   "id": "b1ac319e-c816-490b-8faa-b730390aa13d",
   "metadata": {},
   "outputs": [
    {
     "ename": "TypeError",
     "evalue": "unsupported operand type(s) for /: 'list' and 'int'",
     "output_type": "error",
     "traceback": [
      "\u001b[0;31m---------------------------------------------------------------------------\u001b[0m",
      "\u001b[0;31mTypeError\u001b[0m                                 Traceback (most recent call last)",
      "Cell \u001b[0;32mIn[83], line 1\u001b[0m\n\u001b[0;32m----> 1\u001b[0m \u001b[38;5;124m\"\u001b[39m\u001b[38;5;124m\"\u001b[39m\u001b[38;5;241m.\u001b[39mmaketrans(a,\u001b[38;5;124m\"\u001b[39m\u001b[38;5;124m\"\u001b[39m\u001b[38;5;241m.\u001b[39mjoin(\u001b[43m[\u001b[49m\u001b[38;5;124;43m'\u001b[39;49m\u001b[38;5;124;43m\"\u001b[39;49m\u001b[38;5;124;43m\"\u001b[39;49m\u001b[38;5;124;43m'\u001b[39;49m\u001b[43m]\u001b[49m\u001b[38;5;241;43m*\u001b[39;49m\u001b[38;5;28;43mlen\u001b[39;49m\u001b[43m(\u001b[49m\u001b[43ma\u001b[49m\u001b[43m)\u001b[49m\u001b[38;5;241;43m/\u001b[39;49m\u001b[38;5;241;43m2\u001b[39;49m))\n",
      "\u001b[0;31mTypeError\u001b[0m: unsupported operand type(s) for /: 'list' and 'int'"
     ]
    }
   ],
   "source": []
  },
  {
   "cell_type": "code",
   "execution_count": 81,
   "id": "c48801d5-5b97-4d7d-b75d-d48a326c1981",
   "metadata": {},
   "outputs": [
    {
     "data": {
      "text/plain": [
       "10"
      ]
     },
     "execution_count": 81,
     "metadata": {},
     "output_type": "execute_result"
    }
   ],
   "source": [
    "len(\"\".join(['\"\"']*5))"
   ]
  },
  {
   "cell_type": "code",
   "execution_count": null,
   "id": "90396420-74f9-46fc-a8a6-dabd06eecdc5",
   "metadata": {},
   "outputs": [],
   "source": []
  }
 ],
 "metadata": {
  "kernelspec": {
   "display_name": "Python 3 (ipykernel)",
   "language": "python",
   "name": "python3"
  },
  "language_info": {
   "codemirror_mode": {
    "name": "ipython",
    "version": 3
   },
   "file_extension": ".py",
   "mimetype": "text/x-python",
   "name": "python",
   "nbconvert_exporter": "python",
   "pygments_lexer": "ipython3",
   "version": "3.10.6"
  }
 },
 "nbformat": 4,
 "nbformat_minor": 5
}
