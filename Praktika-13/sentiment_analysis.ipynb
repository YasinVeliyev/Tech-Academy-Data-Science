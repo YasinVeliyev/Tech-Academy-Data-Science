{
 "cells": [
  {
   "cell_type": "code",
   "execution_count": 1,
   "id": "f53fec9e-4479-46f9-b52f-ceeeb59a4358",
   "metadata": {},
   "outputs": [],
   "source": [
    "import os\n",
    "import pandas as pd\n",
    "from sklearn.feature_extraction.text import CountVectorizer,TfidfVectorizer,TfidfTransformer\n",
    "from sklearn.pipeline import Pipeline\n",
    "from sklearn.model_selection import train_test_split\n",
    "import sklearn\n",
    "from sklearn.linear_model import LogisticRegression\n",
    "from sklearn.naive_bayes import MultinomialNB\n",
    "import re\n",
    "from sklearn.metrics import *"
   ]
  },
  {
   "cell_type": "code",
   "execution_count": null,
   "id": "580f8713-918b-4f07-9d3e-61e20b295327",
   "metadata": {},
   "outputs": [],
   "source": []
  },
  {
   "cell_type": "code",
   "execution_count": 53,
   "id": "476376eb-1cb6-420b-add3-14c7653be2b7",
   "metadata": {},
   "outputs": [
    {
     "data": {
      "text/html": [
       "<div>\n",
       "<style scoped>\n",
       "    .dataframe tbody tr th:only-of-type {\n",
       "        vertical-align: middle;\n",
       "    }\n",
       "\n",
       "    .dataframe tbody tr th {\n",
       "        vertical-align: top;\n",
       "    }\n",
       "\n",
       "    .dataframe thead th {\n",
       "        text-align: right;\n",
       "    }\n",
       "</style>\n",
       "<table border=\"1\" class=\"dataframe\">\n",
       "  <thead>\n",
       "    <tr style=\"text-align: right;\">\n",
       "      <th></th>\n",
       "      <th>x</th>\n",
       "      <th>y</th>\n",
       "    </tr>\n",
       "  </thead>\n",
       "  <tbody>\n",
       "    <tr>\n",
       "      <th>0</th>\n",
       "      <td>georges polti bir dəfə otuz altı dramatik vəzi...</td>\n",
       "      <td>0</td>\n",
       "    </tr>\n",
       "    <tr>\n",
       "      <th>1</th>\n",
       "      <td>bu ruhanilərin günəşin altında yeni heç nə yox...</td>\n",
       "      <td>0</td>\n",
       "    </tr>\n",
       "    <tr>\n",
       "      <th>2</th>\n",
       "      <td>fakültə axşamdan səhərə qədər rejissor robert ...</td>\n",
       "      <td>0</td>\n",
       "    </tr>\n",
       "    <tr>\n",
       "      <th>3</th>\n",
       "      <td>bu nalayiq səfərdə orijinal materialın ölçülə ...</td>\n",
       "      <td>0</td>\n",
       "    </tr>\n",
       "    <tr>\n",
       "      <th>4</th>\n",
       "      <td>həm kukla ustalarından həm də cəsəd oğurlayanl...</td>\n",
       "      <td>0</td>\n",
       "    </tr>\n",
       "    <tr>\n",
       "      <th>...</th>\n",
       "      <td>...</td>\n",
       "      <td>...</td>\n",
       "    </tr>\n",
       "    <tr>\n",
       "      <th>64715</th>\n",
       "      <td>çox vaxt su anbarı itləri sizin tipik qanqster...</td>\n",
       "      <td>1</td>\n",
       "    </tr>\n",
       "    <tr>\n",
       "      <th>64716</th>\n",
       "      <td>qəhvəxanadakı açılış səhnəsi filmi yüksək notd...</td>\n",
       "      <td>1</td>\n",
       "    </tr>\n",
       "    <tr>\n",
       "      <th>64717</th>\n",
       "      <td>başqa bir səhnə rotun nəhəng bir çanta marixua...</td>\n",
       "      <td>1</td>\n",
       "    </tr>\n",
       "    <tr>\n",
       "      <th>64718</th>\n",
       "      <td>bunların heç birinin çox süjet aktuallığı yoxd...</td>\n",
       "      <td>1</td>\n",
       "    </tr>\n",
       "    <tr>\n",
       "      <th>64719</th>\n",
       "      <td>su anbarı itləri yaxşıdır amma bu fantastika d...</td>\n",
       "      <td>1</td>\n",
       "    </tr>\n",
       "  </tbody>\n",
       "</table>\n",
       "<p>64720 rows × 2 columns</p>\n",
       "</div>"
      ],
      "text/plain": [
       "                                                       x  y\n",
       "0      georges polti bir dəfə otuz altı dramatik vəzi...  0\n",
       "1      bu ruhanilərin günəşin altında yeni heç nə yox...  0\n",
       "2      fakültə axşamdan səhərə qədər rejissor robert ...  0\n",
       "3      bu nalayiq səfərdə orijinal materialın ölçülə ...  0\n",
       "4      həm kukla ustalarından həm də cəsəd oğurlayanl...  0\n",
       "...                                                  ... ..\n",
       "64715  çox vaxt su anbarı itləri sizin tipik qanqster...  1\n",
       "64716  qəhvəxanadakı açılış səhnəsi filmi yüksək notd...  1\n",
       "64717  başqa bir səhnə rotun nəhəng bir çanta marixua...  1\n",
       "64718  bunların heç birinin çox süjet aktuallığı yoxd...  1\n",
       "64719  su anbarı itləri yaxşıdır amma bu fantastika d...  1\n",
       "\n",
       "[64720 rows x 2 columns]"
      ]
     },
     "execution_count": 53,
     "metadata": {},
     "output_type": "execute_result"
    }
   ],
   "source": [
    "data"
   ]
  },
  {
   "cell_type": "code",
   "execution_count": 29,
   "id": "df9f8db1-f61e-4044-bc89-266240a7ba64",
   "metadata": {},
   "outputs": [],
   "source": [
    "# file_path = (\"data/neg\",\"data/pos\")\n",
    "# data=pd.DataFrame(columns=[\"x\",\"y\"])\n",
    "# for (i,k) in enumerate(file_path):\n",
    "#     for file in os.listdir(k):\n",
    "#         with open(f\"{k}/{file}\",\"r\") as f:\n",
    "#             new=f.readlines()\n",
    "#             n = pd.DataFrame(zip(new,[i]*len(new)),columns=[\"x\",\"y\"])\n",
    "#             data=pd.concat([data,n])\n",
    "#             # for rey in f.readlines():\n",
    "# data.to_csv(\"data/sentiment.csv\",index=None)"
   ]
  },
  {
   "cell_type": "code",
   "execution_count": 51,
   "id": "f626fdc0-e4b8-48fe-8389-25db10c09d17",
   "metadata": {},
   "outputs": [],
   "source": [
    "data=pd.read_csv(\"data/sentiment.csv\")"
   ]
  },
  {
   "cell_type": "code",
   "execution_count": 52,
   "id": "d4af23c0-7745-40d1-9c96-807cb4c66ba1",
   "metadata": {},
   "outputs": [],
   "source": [
    "data[\"x\"] = data[\"x\"].apply(lambda txt:re.sub(\"[^\\w\\s]+|(\\w*w+\\w*)|a{3,}|\\u200b|\\x14|\\n|^a{2,}\\w*$\",\"\",txt).lower())\n",
    "data[\"x\"] = data[\"x\"].apply(lambda txt:re.sub(\"\\s+.\\s+\",\" \",txt).lower())"
   ]
  },
  {
   "cell_type": "code",
   "execution_count": 48,
   "id": "1d441611-8c6f-4d62-a58b-bac810f38077",
   "metadata": {},
   "outputs": [],
   "source": [
    "data=sklearn.utils.shuffle(data)"
   ]
  },
  {
   "cell_type": "code",
   "execution_count": 54,
   "id": "d7c0dc35-2f9b-4cea-a5f0-b1cf5a524890",
   "metadata": {},
   "outputs": [],
   "source": [
    "X=data[\"x\"]\n",
    "y=data[\"y\"]"
   ]
  },
  {
   "cell_type": "code",
   "execution_count": 55,
   "id": "b8f37e30-5098-4575-96f9-a5d93aa14965",
   "metadata": {},
   "outputs": [],
   "source": [
    "X_train,X_test,y_train,y_test = train_test_split(X,y,train_size=0.90)"
   ]
  },
  {
   "cell_type": "code",
   "execution_count": 62,
   "id": "8296fd1b-a8e1-47b9-9cf3-51fb9a69364d",
   "metadata": {},
   "outputs": [],
   "source": [
    "pipe = Pipeline([\n",
    "    ('count_vect', CountVectorizer(ngram_range=(1,4),stop_words=[\"yəni\",\"də\",\"amma\",\"ancaq\",\"lakin\",\"isə\",\"ilə\",\"çünki\",\"ki\"])),\n",
    "    (\"tfidf_transformer\",TfidfTransformer()),\n",
    "    ('model', LogisticRegression())])"
   ]
  },
  {
   "cell_type": "code",
   "execution_count": 6,
   "id": "dde18376-f04b-48e2-a1b3-83a65c3eb508",
   "metadata": {},
   "outputs": [],
   "source": [
    "stop_words=[\"və\",\"də\",\"hələ\",\"lakin\",\"ancaq\",\"amma\",\"çünki\",\"hərçənd\",\"halbuki\",\"isə\",\"ya\", \"ya da ki\",\"və ya\", \"və yaxud\", \"yaxud da\",\"gah\", \"gah da\", \"gah da ki\", \n",
    "            \"istər\", \"istərsə də\", \"həm\", \"həm də\", \"həm də ki\", \"o cümlədən\", \"o sıradan\", \"nəinki\", \"hətta\", \"habelə\", \"həmçinin\",\"əgər\", \"hərgah\",\"madam ki\", \n",
    "            \"indi ki\", \"yoxsa\", \"bir halda ki\",\"hərçənd\", \"hərçənd ki\", \"nə\", \"nə də\", \"nə də ki\",\"ki\", \"belə ki\"]\n",
    "stop_words =list(set(\",\".join(stop_words).split(\" \")))"
   ]
  },
  {
   "cell_type": "code",
   "execution_count": 37,
   "id": "6193691d-08e7-437d-89ac-e5d4f0ed3066",
   "metadata": {},
   "outputs": [],
   "source": [
    "# pipe = Pipeline([('count_vect', CountVectorizer(ngram_range=(2,4))),('log', LogisticRegression())])"
   ]
  },
  {
   "cell_type": "code",
   "execution_count": 64,
   "id": "e7a3ef8f-fc2c-40de-93ca-4e531802445c",
   "metadata": {},
   "outputs": [],
   "source": [
    "model = pipe.fit(X_train,y_train)"
   ]
  },
  {
   "cell_type": "code",
   "execution_count": 65,
   "id": "81b4f76e-8c9a-4160-af48-31144be1e6ba",
   "metadata": {},
   "outputs": [
    {
     "name": "stdout",
     "output_type": "stream",
     "text": [
      "              precision    recall  f1-score   support\n",
      "\n",
      "           0       0.96      0.96      0.96     28572\n",
      "           1       0.96      0.96      0.96     29676\n",
      "\n",
      "    accuracy                           0.96     58248\n",
      "   macro avg       0.96      0.96      0.96     58248\n",
      "weighted avg       0.96      0.96      0.96     58248\n",
      "\n"
     ]
    }
   ],
   "source": [
    "print(classification_report(y_train,model.predict(X_train)))"
   ]
  },
  {
   "cell_type": "code",
   "execution_count": 66,
   "id": "68c3aa1f-19dd-4092-b903-4378db3ebfe4",
   "metadata": {},
   "outputs": [
    {
     "name": "stdout",
     "output_type": "stream",
     "text": [
      "              precision    recall  f1-score   support\n",
      "\n",
      "           0       0.59      0.67      0.63      2845\n",
      "           1       0.71      0.64      0.67      3627\n",
      "\n",
      "    accuracy                           0.65      6472\n",
      "   macro avg       0.65      0.65      0.65      6472\n",
      "weighted avg       0.66      0.65      0.65      6472\n",
      "\n"
     ]
    }
   ],
   "source": [
    "y_predict = pipe.predict(X_test)\n",
    "print(classification_report(y_predict,y_test))"
   ]
  },
  {
   "cell_type": "code",
   "execution_count": 31,
   "id": "ce06c082-8fec-42ad-aae2-f173380b1352",
   "metadata": {},
   "outputs": [
    {
     "data": {
      "text/plain": [
       "array(['aa görüşlərində', 'aa görüşlərində qürurla',\n",
       "       'aa görüşlərində qürurla danışdıqları', ...,\n",
       "       'əşyaya çevrilsələr də', 'əşyaya çevrilsələr də tamaşaçı',\n",
       "       'əşyaya çevrilsələr də tamaşaçı bunun'], dtype=object)"
      ]
     },
     "execution_count": 31,
     "metadata": {},
     "output_type": "execute_result"
    }
   ],
   "source": [
    "pipe[\"count_vect\"].get_feature_names_out()"
   ]
  },
  {
   "cell_type": "code",
   "execution_count": 61,
   "id": "64b24e3c-eeb9-47a7-8c94-d6938647b59f",
   "metadata": {},
   "outputs": [
    {
     "data": {
      "text/html": [
       "<div>\n",
       "<style scoped>\n",
       "    .dataframe tbody tr th:only-of-type {\n",
       "        vertical-align: middle;\n",
       "    }\n",
       "\n",
       "    .dataframe tbody tr th {\n",
       "        vertical-align: top;\n",
       "    }\n",
       "\n",
       "    .dataframe thead th {\n",
       "        text-align: right;\n",
       "    }\n",
       "</style>\n",
       "<table border=\"1\" class=\"dataframe\">\n",
       "  <thead>\n",
       "    <tr style=\"text-align: right;\">\n",
       "      <th></th>\n",
       "      <th>x</th>\n",
       "      <th>y</th>\n",
       "    </tr>\n",
       "  </thead>\n",
       "  <tbody>\n",
       "    <tr>\n",
       "      <th>0</th>\n",
       "      <td>georges polti bir dəfə otuz altı dramatik vəzi...</td>\n",
       "      <td>0</td>\n",
       "    </tr>\n",
       "    <tr>\n",
       "      <th>1</th>\n",
       "      <td>bu ruhanilərin günəşin altında yeni heç nə yox...</td>\n",
       "      <td>0</td>\n",
       "    </tr>\n",
       "    <tr>\n",
       "      <th>2</th>\n",
       "      <td>fakültə axşamdan səhərə qədər rejissor robert ...</td>\n",
       "      <td>0</td>\n",
       "    </tr>\n",
       "    <tr>\n",
       "      <th>3</th>\n",
       "      <td>bu nalayiq səfərdə orijinal materialın ölçülə ...</td>\n",
       "      <td>0</td>\n",
       "    </tr>\n",
       "    <tr>\n",
       "      <th>4</th>\n",
       "      <td>həm kukla ustalarından həm də cəsəd oğurlayanl...</td>\n",
       "      <td>0</td>\n",
       "    </tr>\n",
       "    <tr>\n",
       "      <th>...</th>\n",
       "      <td>...</td>\n",
       "      <td>...</td>\n",
       "    </tr>\n",
       "    <tr>\n",
       "      <th>64715</th>\n",
       "      <td>çox vaxt su anbarı itləri sizin tipik qanqster...</td>\n",
       "      <td>1</td>\n",
       "    </tr>\n",
       "    <tr>\n",
       "      <th>64716</th>\n",
       "      <td>qəhvəxanadakı açılış səhnəsi filmi yüksək notd...</td>\n",
       "      <td>1</td>\n",
       "    </tr>\n",
       "    <tr>\n",
       "      <th>64717</th>\n",
       "      <td>başqa bir səhnə rotun nəhəng bir çanta marixua...</td>\n",
       "      <td>1</td>\n",
       "    </tr>\n",
       "    <tr>\n",
       "      <th>64718</th>\n",
       "      <td>bunların heç birinin çox süjet aktuallığı yoxd...</td>\n",
       "      <td>1</td>\n",
       "    </tr>\n",
       "    <tr>\n",
       "      <th>64719</th>\n",
       "      <td>su anbarı itləri yaxşıdır amma bu fantastika d...</td>\n",
       "      <td>1</td>\n",
       "    </tr>\n",
       "  </tbody>\n",
       "</table>\n",
       "<p>64720 rows × 2 columns</p>\n",
       "</div>"
      ],
      "text/plain": [
       "                                                       x  y\n",
       "0      georges polti bir dəfə otuz altı dramatik vəzi...  0\n",
       "1      bu ruhanilərin günəşin altında yeni heç nə yox...  0\n",
       "2      fakültə axşamdan səhərə qədər rejissor robert ...  0\n",
       "3      bu nalayiq səfərdə orijinal materialın ölçülə ...  0\n",
       "4      həm kukla ustalarından həm də cəsəd oğurlayanl...  0\n",
       "...                                                  ... ..\n",
       "64715  çox vaxt su anbarı itləri sizin tipik qanqster...  1\n",
       "64716  qəhvəxanadakı açılış səhnəsi filmi yüksək notd...  1\n",
       "64717  başqa bir səhnə rotun nəhəng bir çanta marixua...  1\n",
       "64718  bunların heç birinin çox süjet aktuallığı yoxd...  1\n",
       "64719  su anbarı itləri yaxşıdır amma bu fantastika d...  1\n",
       "\n",
       "[64720 rows x 2 columns]"
      ]
     },
     "execution_count": 61,
     "metadata": {},
     "output_type": "execute_result"
    }
   ],
   "source": [
    "data"
   ]
  },
  {
   "cell_type": "code",
   "execution_count": 124,
   "id": "a9745322-8ee2-47f7-8425-6a4f42b05098",
   "metadata": {},
   "outputs": [
    {
     "data": {
      "text/plain": [
       "<10x162 sparse matrix of type '<class 'numpy.int64'>'\n",
       "\twith 180 stored elements in Compressed Sparse Row format>"
      ]
     },
     "execution_count": 124,
     "metadata": {},
     "output_type": "execute_result"
    }
   ],
   "source": [
    "Z."
   ]
  },
  {
   "cell_type": "code",
   "execution_count": 96,
   "id": "1c06dabd-a35f-4ce2-ac14-35e80a1b17a1",
   "metadata": {},
   "outputs": [
    {
     "data": {
      "text/plain": [
       "{'', '̇', '̇̇', '̇̇̇'}"
      ]
     },
     "execution_count": 96,
     "metadata": {},
     "output_type": "execute_result"
    }
   ],
   "source": [
    "set(data[\"x\"].apply(lambda x:re.sub(\"\\w+|\\s+\",\"\",x)))"
   ]
  },
  {
   "cell_type": "code",
   "execution_count": 23,
   "id": "224197b6-6a3f-41a1-a334-bd31454c8185",
   "metadata": {},
   "outputs": [
    {
     "data": {
      "text/html": [
       "<div>\n",
       "<style scoped>\n",
       "    .dataframe tbody tr th:only-of-type {\n",
       "        vertical-align: middle;\n",
       "    }\n",
       "\n",
       "    .dataframe tbody tr th {\n",
       "        vertical-align: top;\n",
       "    }\n",
       "\n",
       "    .dataframe thead th {\n",
       "        text-align: right;\n",
       "    }\n",
       "</style>\n",
       "<table border=\"1\" class=\"dataframe\">\n",
       "  <thead>\n",
       "    <tr style=\"text-align: right;\">\n",
       "      <th></th>\n",
       "      <th>x</th>\n",
       "      <th>y</th>\n",
       "    </tr>\n",
       "  </thead>\n",
       "  <tbody>\n",
       "    <tr>\n",
       "      <th>0</th>\n",
       "      <td>georges polti bir dəfə otuz altı dramatik vəzi...</td>\n",
       "      <td>0</td>\n",
       "    </tr>\n",
       "    <tr>\n",
       "      <th>1</th>\n",
       "      <td>bu ruhanilərin günəşin altında yeni heç nə yox...</td>\n",
       "      <td>0</td>\n",
       "    </tr>\n",
       "    <tr>\n",
       "      <th>2</th>\n",
       "      <td>fakültə axşamdan səhərə qədər rejissor robert ...</td>\n",
       "      <td>0</td>\n",
       "    </tr>\n",
       "    <tr>\n",
       "      <th>3</th>\n",
       "      <td>bu nalayiq səfərdə orijinal materialın ölçülə ...</td>\n",
       "      <td>0</td>\n",
       "    </tr>\n",
       "    <tr>\n",
       "      <th>4</th>\n",
       "      <td>həm kukla ustalarından həm də cəsəd oğurlayanl...</td>\n",
       "      <td>0</td>\n",
       "    </tr>\n",
       "    <tr>\n",
       "      <th>...</th>\n",
       "      <td>...</td>\n",
       "      <td>...</td>\n",
       "    </tr>\n",
       "    <tr>\n",
       "      <th>64715</th>\n",
       "      <td>çox vaxt su anbarı itləri sizin tipik qanqster...</td>\n",
       "      <td>1</td>\n",
       "    </tr>\n",
       "    <tr>\n",
       "      <th>64716</th>\n",
       "      <td>qəhvəxanadakı açılış səhnəsi filmi yüksək notd...</td>\n",
       "      <td>1</td>\n",
       "    </tr>\n",
       "    <tr>\n",
       "      <th>64717</th>\n",
       "      <td>başqa bir səhnə rotun nəhəng bir çanta marixua...</td>\n",
       "      <td>1</td>\n",
       "    </tr>\n",
       "    <tr>\n",
       "      <th>64718</th>\n",
       "      <td>bunların heç birinin çox süjet aktuallığı yoxd...</td>\n",
       "      <td>1</td>\n",
       "    </tr>\n",
       "    <tr>\n",
       "      <th>64719</th>\n",
       "      <td>su anbarı itləri yaxşıdır amma bu fantastika d...</td>\n",
       "      <td>1</td>\n",
       "    </tr>\n",
       "  </tbody>\n",
       "</table>\n",
       "<p>64720 rows × 2 columns</p>\n",
       "</div>"
      ],
      "text/plain": [
       "                                                       x  y\n",
       "0      georges polti bir dəfə otuz altı dramatik vəzi...  0\n",
       "1      bu ruhanilərin günəşin altında yeni heç nə yox...  0\n",
       "2      fakültə axşamdan səhərə qədər rejissor robert ...  0\n",
       "3      bu nalayiq səfərdə orijinal materialın ölçülə ...  0\n",
       "4      həm kukla ustalarından həm də cəsəd oğurlayanl...  0\n",
       "...                                                  ... ..\n",
       "64715  çox vaxt su anbarı itləri sizin tipik qanqster...  1\n",
       "64716  qəhvəxanadakı açılış səhnəsi filmi yüksək notd...  1\n",
       "64717  başqa bir səhnə rotun nəhəng bir çanta marixua...  1\n",
       "64718  bunların heç birinin çox süjet aktuallığı yoxd...  1\n",
       "64719  su anbarı itləri yaxşıdır amma bu fantastika d...  1\n",
       "\n",
       "[64720 rows x 2 columns]"
      ]
     },
     "execution_count": 23,
     "metadata": {},
     "output_type": "execute_result"
    }
   ],
   "source": [
    "data"
   ]
  },
  {
   "cell_type": "code",
   "execution_count": null,
   "id": "31532ae3-e2c0-46cb-a17e-02e24ff4f15d",
   "metadata": {},
   "outputs": [],
   "source": []
  }
 ],
 "metadata": {
  "kernelspec": {
   "display_name": "Python 3 (ipykernel)",
   "language": "python",
   "name": "python3"
  },
  "language_info": {
   "codemirror_mode": {
    "name": "ipython",
    "version": 3
   },
   "file_extension": ".py",
   "mimetype": "text/x-python",
   "name": "python",
   "nbconvert_exporter": "python",
   "pygments_lexer": "ipython3",
   "version": "3.10.12"
  }
 },
 "nbformat": 4,
 "nbformat_minor": 5
}
