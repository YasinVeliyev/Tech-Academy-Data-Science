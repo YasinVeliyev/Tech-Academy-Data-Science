{
 "cells": [
  {
   "cell_type": "code",
   "execution_count": 1,
   "id": "f53fec9e-4479-46f9-b52f-ceeeb59a4358",
   "metadata": {},
   "outputs": [],
   "source": [
    "import os\n",
    "import pandas as pd\n",
    "from sklearn.feature_extraction.text import CountVectorizer,TfidfVectorizer,TfidfTransformer\n",
    "from sklearn.pipeline import Pipeline\n",
    "from sklearn.model_selection import train_test_split\n",
    "import sklearn\n",
    "from sklearn.linear_model import LogisticRegression\n",
    "from sklearn.naive_bayes import MultinomialNB\n",
    "import re\n",
    "from sklearn.metrics import *"
   ]
  },
  {
   "cell_type": "code",
   "execution_count": null,
   "id": "580f8713-918b-4f07-9d3e-61e20b295327",
   "metadata": {},
   "outputs": [],
   "source": []
  },
  {
   "cell_type": "code",
   "execution_count": 78,
   "id": "476376eb-1cb6-420b-add3-14c7653be2b7",
   "metadata": {},
   "outputs": [],
   "source": []
  },
  {
   "cell_type": "code",
   "execution_count": 14,
   "id": "df9f8db1-f61e-4044-bc89-266240a7ba64",
   "metadata": {},
   "outputs": [],
   "source": [
    "# file_path = (\"data/neg\",\"data/pos\")\n",
    "# data=pd.DataFrame(columns=[\"x\",\"y\"])\n",
    "# for (i,k) in enumerate(file_path):\n",
    "#     for file in os.listdir(k):\n",
    "#         with open(f\"{k}/{file}\",\"r\") as f:\n",
    "#             new=f.readlines()\n",
    "#             n = pd.DataFrame(zip(new,[i]*len(new)),columns=[\"x\",\"y\"])\n",
    "#             data=pd.concat([data,n])\n",
    "#             # for rey in f.readlines():\n",
    "# data.to_csv(\"data/sentiment.csv\",index=None)"
   ]
  },
  {
   "cell_type": "code",
   "execution_count": 2,
   "id": "f626fdc0-e4b8-48fe-8389-25db10c09d17",
   "metadata": {},
   "outputs": [],
   "source": [
    "data=pd.read_csv(\"data/sentiment.csv\")"
   ]
  },
  {
   "cell_type": "code",
   "execution_count": 32,
   "id": "d4af23c0-7745-40d1-9c96-807cb4c66ba1",
   "metadata": {},
   "outputs": [],
   "source": [
    "data[\"x\"] = data[\"x\"].apply(lambda txt:re.sub(\"[\\d\\(~\\^@\\*\\+#',\\.\\\"“\\?&`/\\|>=\\$\\[\\-”№:;%!\\n\\)–\\{\\}\\)\\]\\\\\\0_\\\\\\]+|w+|a{3,}|\\u200b|\\x14|^a{2,}$\",\"\",txt).lower())"
   ]
  },
  {
   "cell_type": "code",
   "execution_count": 33,
   "id": "1d441611-8c6f-4d62-a58b-bac810f38077",
   "metadata": {},
   "outputs": [],
   "source": [
    "data=sklearn.utils.shuffle(data)"
   ]
  },
  {
   "cell_type": "code",
   "execution_count": 34,
   "id": "d7c0dc35-2f9b-4cea-a5f0-b1cf5a524890",
   "metadata": {},
   "outputs": [],
   "source": [
    "X=data[\"x\"]\n",
    "y=data[\"y\"]"
   ]
  },
  {
   "cell_type": "code",
   "execution_count": 35,
   "id": "b8f37e30-5098-4575-96f9-a5d93aa14965",
   "metadata": {},
   "outputs": [],
   "source": [
    "X_train,X_test,y_train,y_test = train_test_split(X,y,train_size=0.85)"
   ]
  },
  {
   "cell_type": "code",
   "execution_count": 49,
   "id": "8296fd1b-a8e1-47b9-9cf3-51fb9a69364d",
   "metadata": {},
   "outputs": [],
   "source": [
    "pipe = Pipeline([('count_vect', TfidfVectorizer(ngram_range=(2,5),stop_words=stop_words)),('log', MultinomialNB())])"
   ]
  },
  {
   "cell_type": "code",
   "execution_count": 46,
   "id": "dde18376-f04b-48e2-a1b3-83a65c3eb508",
   "metadata": {},
   "outputs": [],
   "source": [
    "stop_words=[\"və\",\"də\",\"hələ\",\"lakin\",\"ancaq\",\"amma\",\"çünki\",\"hərçənd\",\"halbuki\",\"isə\",\"ya\", \"ya da ki\",\"və ya\", \"və yaxud\", \"yaxud da\",\"gah\", \"gah da\", \"gah da ki\", \n",
    "                                                            \"istər\", \"istərsə də\", \"həm\", \"həm də\", \"həm də ki\", \"o cümlədən\", \"o sıradan\", \"nəinki\", \"hətta\", \"habelə\", \"həmçinin\",\"əgər\", \"hərgah\",\"madam ki\", \"indi ki\", \"yoxsa\", \n",
    "                                                            \"bir halda ki\",\"hərçənd\", \"hərçənd ki\", \"nə\", \"nə də\", \"nə də ki\",\"ki\", \"belə ki\"]\n",
    "stop_words =list(set(\",\".join(stop_words).split(\" \")))"
   ]
  },
  {
   "cell_type": "code",
   "execution_count": 37,
   "id": "6193691d-08e7-437d-89ac-e5d4f0ed3066",
   "metadata": {},
   "outputs": [],
   "source": [
    "# pipe = Pipeline([('count_vect', CountVectorizer(ngram_range=(2,4))),('log', LogisticRegression())])"
   ]
  },
  {
   "cell_type": "code",
   "execution_count": 50,
   "id": "e7a3ef8f-fc2c-40de-93ca-4e531802445c",
   "metadata": {},
   "outputs": [
    {
     "name": "stderr",
     "output_type": "stream",
     "text": [
      "/home/yasin/.local/lib/python3.10/site-packages/sklearn/feature_extraction/text.py:409: UserWarning: Your stop_words may be inconsistent with your preprocessing. Tokenizing the stop words generated tokens ['amma', 'ancaq', 'belə', 'bir', 'cümlədən', 'gah', 'habelə', 'halbuki', 'hələ', 'həm', 'həmçinin', 'hərgah', 'hərçənd', 'hətta', 'indi', 'istər', 'istərsə', 'isə', 'lakin', 'madam', 'nə', 'nəinki', 'sıradan', 'və', 'ya', 'yaxud', 'yoxsa', 'çünki', 'əgər'] not in stop_words.\n",
      "  warnings.warn(\n"
     ]
    }
   ],
   "source": [
    "model = pipe.fit(X_train,y_train)"
   ]
  },
  {
   "cell_type": "code",
   "execution_count": 51,
   "id": "81b4f76e-8c9a-4160-af48-31144be1e6ba",
   "metadata": {},
   "outputs": [
    {
     "name": "stdout",
     "output_type": "stream",
     "text": [
      "              precision    recall  f1-score   support\n",
      "\n",
      "           0       0.99      0.98      0.98     26949\n",
      "           1       0.98      0.99      0.99     28063\n",
      "\n",
      "    accuracy                           0.99     55012\n",
      "   macro avg       0.99      0.99      0.99     55012\n",
      "weighted avg       0.99      0.99      0.99     55012\n",
      "\n"
     ]
    }
   ],
   "source": [
    "print(classification_report(y_train,model.predict(X_train)))"
   ]
  },
  {
   "cell_type": "code",
   "execution_count": 52,
   "id": "68c3aa1f-19dd-4092-b903-4378db3ebfe4",
   "metadata": {},
   "outputs": [
    {
     "name": "stdout",
     "output_type": "stream",
     "text": [
      "              precision    recall  f1-score   support\n",
      "\n",
      "           0       0.58      0.64      0.61      4373\n",
      "           1       0.68      0.62      0.64      5335\n",
      "\n",
      "    accuracy                           0.63      9708\n",
      "   macro avg       0.63      0.63      0.63      9708\n",
      "weighted avg       0.63      0.63      0.63      9708\n",
      "\n"
     ]
    }
   ],
   "source": [
    "y_predict = pipe.predict(X_test)\n",
    "print(classification_report(y_predict,y_test))"
   ]
  },
  {
   "cell_type": "code",
   "execution_count": 31,
   "id": "ce06c082-8fec-42ad-aae2-f173380b1352",
   "metadata": {},
   "outputs": [
    {
     "data": {
      "text/plain": [
       "array(['aa görüşlərində', 'aa görüşlərində qürurla',\n",
       "       'aa görüşlərində qürurla danışdıqları', ...,\n",
       "       'əşyaya çevrilsələr də', 'əşyaya çevrilsələr də tamaşaçı',\n",
       "       'əşyaya çevrilsələr də tamaşaçı bunun'], dtype=object)"
      ]
     },
     "execution_count": 31,
     "metadata": {},
     "output_type": "execute_result"
    }
   ],
   "source": [
    "pipe[\"count_vect\"].get_feature_names_out()"
   ]
  },
  {
   "cell_type": "code",
   "execution_count": 22,
   "id": "64b24e3c-eeb9-47a7-8c94-d6938647b59f",
   "metadata": {},
   "outputs": [
    {
     "data": {
      "text/html": [
       "<div>\n",
       "<style scoped>\n",
       "    .dataframe tbody tr th:only-of-type {\n",
       "        vertical-align: middle;\n",
       "    }\n",
       "\n",
       "    .dataframe tbody tr th {\n",
       "        vertical-align: top;\n",
       "    }\n",
       "\n",
       "    .dataframe thead th {\n",
       "        text-align: right;\n",
       "    }\n",
       "</style>\n",
       "<table border=\"1\" class=\"dataframe\">\n",
       "  <thead>\n",
       "    <tr style=\"text-align: right;\">\n",
       "      <th></th>\n",
       "      <th>x</th>\n",
       "      <th>y</th>\n",
       "    </tr>\n",
       "  </thead>\n",
       "  <tbody>\n",
       "    <tr>\n",
       "      <th>55345</th>\n",
       "      <td>yenə də xoşuma gəldi</td>\n",
       "      <td>1</td>\n",
       "    </tr>\n",
       "    <tr>\n",
       "      <th>37616</th>\n",
       "      <td>ürək qırışları var və aşiq olanlar var</td>\n",
       "      <td>1</td>\n",
       "    </tr>\n",
       "    <tr>\n",
       "      <th>37260</th>\n",
       "      <td>filmin simvolik zənginliyi var hər şey bir mən...</td>\n",
       "      <td>1</td>\n",
       "    </tr>\n",
       "    <tr>\n",
       "      <th>19313</th>\n",
       "      <td>o köhnə xalq nağılını çox münasib hesab etdiyi...</td>\n",
       "      <td>0</td>\n",
       "    </tr>\n",
       "    <tr>\n",
       "      <th>5081</th>\n",
       "      <td>o layihənin nəticələrinin çox tez açıqlanacağı...</td>\n",
       "      <td>0</td>\n",
       "    </tr>\n",
       "    <tr>\n",
       "      <th>...</th>\n",
       "      <td>...</td>\n",
       "      <td>...</td>\n",
       "    </tr>\n",
       "    <tr>\n",
       "      <th>24256</th>\n",
       "      <td>qəhrəmanlarımızı ölümcül vəziyyətlərə salmaq v...</td>\n",
       "      <td>0</td>\n",
       "    </tr>\n",
       "    <tr>\n",
       "      <th>26441</th>\n",
       "      <td>iki personajın iştirak etdiyi son an ürəkdən v...</td>\n",
       "      <td>0</td>\n",
       "    </tr>\n",
       "    <tr>\n",
       "      <th>9382</th>\n",
       "      <td>əslində çox pisdir</td>\n",
       "      <td>0</td>\n",
       "    </tr>\n",
       "    <tr>\n",
       "      <th>33976</th>\n",
       "      <td>hələ də insanları döymək üçün əşyaların istifa...</td>\n",
       "      <td>1</td>\n",
       "    </tr>\n",
       "    <tr>\n",
       "      <th>10788</th>\n",
       "      <td>komediya deyil</td>\n",
       "      <td>0</td>\n",
       "    </tr>\n",
       "  </tbody>\n",
       "</table>\n",
       "<p>64720 rows × 2 columns</p>\n",
       "</div>"
      ],
      "text/plain": [
       "                                                       x  y\n",
       "55345                               yenə də xoşuma gəldi  1\n",
       "37616             ürək qırışları var və aşiq olanlar var  1\n",
       "37260  filmin simvolik zənginliyi var hər şey bir mən...  1\n",
       "19313  o köhnə xalq nağılını çox münasib hesab etdiyi...  0\n",
       "5081   o layihənin nəticələrinin çox tez açıqlanacağı...  0\n",
       "...                                                  ... ..\n",
       "24256  qəhrəmanlarımızı ölümcül vəziyyətlərə salmaq v...  0\n",
       "26441  iki personajın iştirak etdiyi son an ürəkdən v...  0\n",
       "9382                                  əslində çox pisdir  0\n",
       "33976  hələ də insanları döymək üçün əşyaların istifa...  1\n",
       "10788                                     komediya deyil  0\n",
       "\n",
       "[64720 rows x 2 columns]"
      ]
     },
     "execution_count": 22,
     "metadata": {},
     "output_type": "execute_result"
    }
   ],
   "source": [
    "data"
   ]
  },
  {
   "cell_type": "code",
   "execution_count": 124,
   "id": "a9745322-8ee2-47f7-8425-6a4f42b05098",
   "metadata": {},
   "outputs": [
    {
     "data": {
      "text/plain": [
       "<10x162 sparse matrix of type '<class 'numpy.int64'>'\n",
       "\twith 180 stored elements in Compressed Sparse Row format>"
      ]
     },
     "execution_count": 124,
     "metadata": {},
     "output_type": "execute_result"
    }
   ],
   "source": [
    "Z."
   ]
  },
  {
   "cell_type": "code",
   "execution_count": 96,
   "id": "1c06dabd-a35f-4ce2-ac14-35e80a1b17a1",
   "metadata": {},
   "outputs": [
    {
     "data": {
      "text/plain": [
       "{'', '̇', '̇̇', '̇̇̇'}"
      ]
     },
     "execution_count": 96,
     "metadata": {},
     "output_type": "execute_result"
    }
   ],
   "source": [
    "set(data[\"x\"].apply(lambda x:re.sub(\"\\w+|\\s+\",\"\",x)))"
   ]
  },
  {
   "cell_type": "code",
   "execution_count": 85,
   "id": "224197b6-6a3f-41a1-a334-bd31454c8185",
   "metadata": {},
   "outputs": [
    {
     "data": {
      "text/html": [
       "<div>\n",
       "<style scoped>\n",
       "    .dataframe tbody tr th:only-of-type {\n",
       "        vertical-align: middle;\n",
       "    }\n",
       "\n",
       "    .dataframe tbody tr th {\n",
       "        vertical-align: top;\n",
       "    }\n",
       "\n",
       "    .dataframe thead th {\n",
       "        text-align: right;\n",
       "    }\n",
       "</style>\n",
       "<table border=\"1\" class=\"dataframe\">\n",
       "  <thead>\n",
       "    <tr style=\"text-align: right;\">\n",
       "      <th></th>\n",
       "      <th>x</th>\n",
       "      <th>y</th>\n",
       "    </tr>\n",
       "  </thead>\n",
       "  <tbody>\n",
       "    <tr>\n",
       "      <th>39188</th>\n",
       "      <td>gedin və bir dəfədən çox baxın   o</td>\n",
       "      <td>1</td>\n",
       "    </tr>\n",
       "    <tr>\n",
       "      <th>6199</th>\n",
       "      <td>keçən il tamaşaçılara at pıçıltısı və joe blac...</td>\n",
       "      <td>0</td>\n",
       "    </tr>\n",
       "    <tr>\n",
       "      <th>35458</th>\n",
       "      <td>millie pulunu mertona buraxacaq və o sonra kat...</td>\n",
       "      <td>1</td>\n",
       "    </tr>\n",
       "    <tr>\n",
       "      <th>52175</th>\n",
       "      <td>yenə  ey yaxşı</td>\n",
       "      <td>1</td>\n",
       "    </tr>\n",
       "    <tr>\n",
       "      <th>973</th>\n",
       "      <td>filmin son kadrı gəmidəki təxribatçının iştira...</td>\n",
       "      <td>0</td>\n",
       "    </tr>\n",
       "    <tr>\n",
       "      <th>...</th>\n",
       "      <td>...</td>\n",
       "      <td>...</td>\n",
       "    </tr>\n",
       "    <tr>\n",
       "      <th>55339</th>\n",
       "      <td>hər ikisi eyni vaxtda başlasa da aktiv xidmət ...</td>\n",
       "      <td>1</td>\n",
       "    </tr>\n",
       "    <tr>\n",
       "      <th>48575</th>\n",
       "      <td>on bir yaşlı haley joel osment öz performansı ...</td>\n",
       "      <td>1</td>\n",
       "    </tr>\n",
       "    <tr>\n",
       "      <th>349</th>\n",
       "      <td>bu yer üzündə əyləncəli və məcburedici deyil</td>\n",
       "      <td>0</td>\n",
       "    </tr>\n",
       "    <tr>\n",
       "      <th>59906</th>\n",
       "      <td>bilirəm ki bu əsl hekayə və ya başqa bir şey d...</td>\n",
       "      <td>1</td>\n",
       "    </tr>\n",
       "    <tr>\n",
       "      <th>15920</th>\n",
       "      <td>heç romantik deyil və bəzi yerlərdə ancaq gülməli</td>\n",
       "      <td>0</td>\n",
       "    </tr>\n",
       "  </tbody>\n",
       "</table>\n",
       "<p>64720 rows × 2 columns</p>\n",
       "</div>"
      ],
      "text/plain": [
       "                                                       x  y\n",
       "39188                 gedin və bir dəfədən çox baxın   o  1\n",
       "6199   keçən il tamaşaçılara at pıçıltısı və joe blac...  0\n",
       "35458  millie pulunu mertona buraxacaq və o sonra kat...  1\n",
       "52175                                    yenə  ey yaxşı   1\n",
       "973    filmin son kadrı gəmidəki təxribatçının iştira...  0\n",
       "...                                                  ... ..\n",
       "55339  hər ikisi eyni vaxtda başlasa da aktiv xidmət ...  1\n",
       "48575  on bir yaşlı haley joel osment öz performansı ...  1\n",
       "349         bu yer üzündə əyləncəli və məcburedici deyil  0\n",
       "59906  bilirəm ki bu əsl hekayə və ya başqa bir şey d...  1\n",
       "15920  heç romantik deyil və bəzi yerlərdə ancaq gülməli  0\n",
       "\n",
       "[64720 rows x 2 columns]"
      ]
     },
     "execution_count": 85,
     "metadata": {},
     "output_type": "execute_result"
    }
   ],
   "source": [
    "data"
   ]
  },
  {
   "cell_type": "code",
   "execution_count": null,
   "id": "31532ae3-e2c0-46cb-a17e-02e24ff4f15d",
   "metadata": {},
   "outputs": [],
   "source": []
  }
 ],
 "metadata": {
  "kernelspec": {
   "display_name": "Python 3 (ipykernel)",
   "language": "python",
   "name": "python3"
  },
  "language_info": {
   "codemirror_mode": {
    "name": "ipython",
    "version": 3
   },
   "file_extension": ".py",
   "mimetype": "text/x-python",
   "name": "python",
   "nbconvert_exporter": "python",
   "pygments_lexer": "ipython3",
   "version": "3.10.12"
  }
 },
 "nbformat": 4,
 "nbformat_minor": 5
}
