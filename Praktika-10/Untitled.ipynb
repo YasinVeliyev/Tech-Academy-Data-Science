{
 "cells": [
  {
   "cell_type": "code",
   "execution_count": 18,
   "id": "0e1d4b88-1d49-48c5-bcd4-27149b16f56f",
   "metadata": {},
   "outputs": [],
   "source": [
    "from keras.models import Sequential\n",
    "from keras.layers import Conv2D, MaxPooling2D, Dense, Flatten, Dropout\n",
    "# import metric\n",
    "from keras.metrics import categorical_crossentropy\n",
    "# optimization method \n",
    "from keras.optimizers import SGD\n",
    "import os\n",
    "import cv2\n",
    "from PIL import Image\n",
    "import numpy as np\n",
    "import shutil"
   ]
  },
  {
   "cell_type": "code",
   "execution_count": 2,
   "id": "6ba0fd9c-1eec-4882-b9df-f0f1b6bc91ef",
   "metadata": {},
   "outputs": [],
   "source": [
    "def Alexnet():\n",
    "  # Initialize the model\n",
    "  model = Sequential()\n",
    "\n",
    "  # layer 1: convolutional layer + max-pooling layer\n",
    "  model.add(Conv2D(filters = 96, kernel_size = (11,11), strides= 4, padding = 'valid', activation='relu', input_shape = (227,227,3)))\n",
    "  model.add(MaxPooling2D(pool_size = (3,3), strides = 2))\n",
    "\n",
    "  # layer 2: convolutional layer + max-pooling layer \n",
    "  model.add(Conv2D(filters = 256, kernel_size = (5,5), padding = 'same', activation = 'relu'))\n",
    "  model.add(MaxPooling2D(pool_size = (3,3), strides = 2))\n",
    "\n",
    "  # layers 3-5: three convolutional layers + 1 max-pooling layer\n",
    "  model.add(Conv2D(filters = 384, kernel_size = (3,3), padding = 'same', activation = 'relu'))\n",
    "  model.add(Conv2D(filters = 384, kernel_size = (3,3), padding = 'same', activation = 'relu'))\n",
    "  model.add(Conv2D(filters = 256, kernel_size = (3,3), padding = 'same', activation = 'relu'))\n",
    "  model.add(MaxPooling2D(pool_size = (3,3), strides = 2))\n",
    "\n",
    "  # layers 6 - 8: two fully connected hidden layers and one fully connected output layer\n",
    "  model.add(Flatten())\n",
    "  model.add(Dense(4096, activation = 'relu'))\n",
    "  model.add(Dropout(0.5))\n",
    "  model.add(Dense(4096, activation = 'relu'))\n",
    "  model.add(Dropout(0.5))\n",
    "  model.add(Dense(1000, activation = 'softmax'))\n",
    "\n",
    "  # compile the model with a loss funciton, a metric and and optimizer method for estimating the loss function\n",
    "  opt = SGD(lr = 0.1)\n",
    "  model.compile(loss = categorical_crossentropy,\n",
    "                optimizer = opt,\n",
    "                metrics = ['accuracy'])\n",
    "\n",
    "  return model"
   ]
  },
  {
   "cell_type": "code",
   "execution_count": 26,
   "id": "376e85c8-95f2-4b6f-8f6a-6837af4d9e57",
   "metadata": {},
   "outputs": [],
   "source": [
    "# os.makedirs(os.getcwd()+\"/train/dogs\")"
   ]
  },
  {
   "cell_type": "code",
   "execution_count": 9,
   "id": "81df828b-a28b-4253-9d17-d22f834bc904",
   "metadata": {},
   "outputs": [],
   "source": [
    "# os.makedirs(os.getcwd()+\"/train/cats\")"
   ]
  },
  {
   "cell_type": "code",
   "execution_count": 25,
   "id": "255861a8-85c8-4d94-aacc-ad2e97aecc75",
   "metadata": {},
   "outputs": [],
   "source": [
    "for i in os.listdir(os.getcwd()+\"/train\"):\n",
    "    if not os.path.isdir(i):\n",
    "        os.rename(f\"{os.getcwd()}/train/{i}\",f\"{os.getcwd()}/train/{i.replace('.','s/',1)}\")"
   ]
  },
  {
   "cell_type": "code",
   "execution_count": 27,
   "id": "4b873452-f9ba-4c1c-92a0-add7b50510c1",
   "metadata": {
    "tags": []
   },
   "outputs": [
    {
     "data": {
      "text/plain": [
       "['cats', 'dogs']"
      ]
     },
     "execution_count": 27,
     "metadata": {},
     "output_type": "execute_result"
    }
   ],
   "source": [
    "os.listdir(os.getcwd()+\"/train\")"
   ]
  },
  {
   "cell_type": "code",
   "execution_count": null,
   "id": "d0d75dc8-fb65-4614-85fc-2e2d805a1c3e",
   "metadata": {},
   "outputs": [],
   "source": []
  },
  {
   "cell_type": "code",
   "execution_count": 38,
   "id": "74a123ca-064c-430a-a5fb-d6e17b67f61f",
   "metadata": {},
   "outputs": [],
   "source": [
    "\n",
    "animals = ['dogs', 'cats']\n",
    "def load_images_and_labels(data_path, animals): \n",
    "    X = []\n",
    "    y = []\n",
    "    i = 0\n",
    "    for index, animal in enumerate(animals): \n",
    "        for img_name in os.listdir(f\"{data_path}/{animal}/\"):\n",
    "            i = i +1\n",
    "            print(i)\n",
    "            img = cv2.imread(f\"{data_path}/{animal}/{img_name}\")\n",
    "            if img is not None: \n",
    "                img = cv2.cvtColor(img, cv2.COLOR_BGR2RGB)\n",
    "                img_array = Image.fromarray(img, 'RGB')\n",
    "                # resize image to 227x227 which is the required input size of the Alexnet model\n",
    "                img_rs = img_array.resize((227,227))\n",
    "                # convert the image to array\n",
    "                img_rs = np.array(img_rs)\n",
    "                X.append(img_rs)\n",
    "                y.append(index)\n",
    "    return X, y"
   ]
  },
  {
   "cell_type": "code",
   "execution_count": 35,
   "id": "05974751-3b80-4f4d-aa26-46eb4719ae7f",
   "metadata": {},
   "outputs": [
    {
     "name": "stdout",
     "output_type": "stream",
     "text": [
      "Model: \"sequential_7\"\n",
      "_________________________________________________________________\n",
      " Layer (type)                Output Shape              Param #   \n",
      "=================================================================\n",
      " conv2d_35 (Conv2D)          (None, 55, 55, 96)        34944     \n",
      "                                                                 \n",
      " max_pooling2d_21 (MaxPoolin  (None, 27, 27, 96)       0         \n",
      " g2D)                                                            \n",
      "                                                                 \n",
      " conv2d_36 (Conv2D)          (None, 27, 27, 256)       614656    \n",
      "                                                                 \n",
      " max_pooling2d_22 (MaxPoolin  (None, 13, 13, 256)      0         \n",
      " g2D)                                                            \n",
      "                                                                 \n",
      " conv2d_37 (Conv2D)          (None, 13, 13, 384)       885120    \n",
      "                                                                 \n",
      " conv2d_38 (Conv2D)          (None, 13, 13, 384)       1327488   \n",
      "                                                                 \n",
      " conv2d_39 (Conv2D)          (None, 13, 13, 256)       884992    \n",
      "                                                                 \n",
      " max_pooling2d_23 (MaxPoolin  (None, 6, 6, 256)        0         \n",
      " g2D)                                                            \n",
      "                                                                 \n",
      " flatten_7 (Flatten)         (None, 9216)              0         \n",
      "                                                                 \n",
      " dense_21 (Dense)            (None, 4096)              37752832  \n",
      "                                                                 \n",
      " dropout_14 (Dropout)        (None, 4096)              0         \n",
      "                                                                 \n",
      " dense_22 (Dense)            (None, 4096)              16781312  \n",
      "                                                                 \n",
      " dropout_15 (Dropout)        (None, 4096)              0         \n",
      "                                                                 \n",
      " dense_23 (Dense)            (None, 1000)              4097000   \n",
      "                                                                 \n",
      "=================================================================\n",
      "Total params: 62,378,344\n",
      "Trainable params: 62,378,344\n",
      "Non-trainable params: 0\n",
      "_________________________________________________________________\n"
     ]
    }
   ],
   "source": [
    "Alexnet_model = Alexnet()\n",
    "Alexnet_model.summary()"
   ]
  },
  {
   "cell_type": "code",
   "execution_count": null,
   "id": "e38fe342-dabd-4677-afcb-84de3f77a95e",
   "metadata": {},
   "outputs": [],
   "source": []
  }
 ],
 "metadata": {
  "kernelspec": {
   "display_name": "Python 3 (ipykernel)",
   "language": "python",
   "name": "python3"
  },
  "language_info": {
   "codemirror_mode": {
    "name": "ipython",
    "version": 3
   },
   "file_extension": ".py",
   "mimetype": "text/x-python",
   "name": "python",
   "nbconvert_exporter": "python",
   "pygments_lexer": "ipython3",
   "version": "3.10.6"
  }
 },
 "nbformat": 4,
 "nbformat_minor": 5
}
