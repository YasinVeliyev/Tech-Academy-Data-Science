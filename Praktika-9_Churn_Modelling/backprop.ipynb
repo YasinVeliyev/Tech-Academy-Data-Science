{
 "cells": [
  {
   "cell_type": "code",
   "execution_count": 18,
   "id": "88442509-3188-47d5-b896-54c478b527ca",
   "metadata": {},
   "outputs": [],
   "source": [
    "import numpy as np\n",
    "import matplotlib.pyplot as plt\n",
    "from sklearn.datasets import load_breast_cancer"
   ]
  },
  {
   "cell_type": "code",
   "execution_count": 171,
   "id": "cb41fa02-b90a-4a16-b450-cb9740dd6e4a",
   "metadata": {},
   "outputs": [],
   "source": [
    "def init_params(layer_dims):\n",
    "    np.random.seed(3)\n",
    "    return [np.random.randn(d+1,1) for d in layer_dims]"
   ]
  },
  {
   "cell_type": "code",
   "execution_count": 140,
   "id": "ac8eeecb-7971-4d26-8078-822665139cff",
   "metadata": {},
   "outputs": [
    {
     "data": {
      "text/plain": [
       "[array([[ 1.78862847,  0.43650985],\n",
       "        [ 0.09649747, -1.8634927 ],\n",
       "        [-0.2773882 , -0.35475898],\n",
       "        [-0.08274148, -0.62700068],\n",
       "        [-0.04381817, -0.47721803]]),\n",
       " array([[-1.31386475,  0.88462238],\n",
       "        [ 0.88131804,  1.70957306],\n",
       "        [ 0.05003364, -0.40467741],\n",
       "        [-0.54535995, -1.54647732],\n",
       "        [ 0.98236743, -1.10106763],\n",
       "        [-1.18504653, -0.2056499 ]])]"
      ]
     },
     "execution_count": 140,
     "metadata": {},
     "output_type": "execute_result"
    }
   ],
   "source": [
    "init_params([5,6])"
   ]
  },
  {
   "cell_type": "code",
   "execution_count": 98,
   "id": "2a065e9c-4788-4acc-8b91-2325f5078054",
   "metadata": {},
   "outputs": [],
   "source": [
    "def sigmoid(Z):\n",
    "    A = 1/(1+np.exp(np.dot(-1, Z)))\n",
    "    cache = (Z)\n",
    "    \n",
    "    return A, cache"
   ]
  },
  {
   "cell_type": "code",
   "execution_count": 123,
   "id": "5a1b67b2-68ea-4466-8f47-e8963baee544",
   "metadata": {},
   "outputs": [],
   "source": [
    "def forward_prop(X, params):\n",
    "    \n",
    "    A = X # input to first layer i.e. training data\n",
    "    caches = []\n",
    "    L = len(params)//2\n",
    "    for l in range(0, L):\n",
    "        A_prev = A\n",
    "    \n",
    "        # Linear Hypothesis\n",
    "        Z = np.dot(params['W'+str(l)], A_prev) + params['b'+str(l)] \n",
    "        print(Z,\"\\n\",\"-\"*30)\n",
    "        # Storing the linear cache\n",
    "        linear_cache = (A_prev, params['W'+str(l)], params['b'+str(l)]) \n",
    "        \n",
    "        # Applying sigmoid on linear hypothesis\n",
    "        A, activation_cache = sigmoid(Z) \n",
    "        print(\"A\",A,activation_cache)\n",
    "         # storing the both linear and activation cache\n",
    "        cache = (linear_cache, activation_cache)\n",
    "        caches.append(cache)\n",
    "    \n",
    "    return A, caches"
   ]
  },
  {
   "cell_type": "code",
   "execution_count": 124,
   "id": "cf70df4d-8f7c-45ed-842b-5cef458e674b",
   "metadata": {},
   "outputs": [],
   "source": [
    "def cost_function(A, Y):\n",
    "    m = Y.shape[0]\n",
    "    cost = (-1/m)*(np.dot(np.log(A), Y.T) + np.dot(log(1-A), 1-Y.T)) \n",
    "    return cost"
   ]
  },
  {
   "cell_type": "code",
   "execution_count": 125,
   "id": "95c38eca-6982-441d-aece-a9ee1bbbb5aa",
   "metadata": {},
   "outputs": [],
   "source": [
    "def backprop(AL, Y, caches):\n",
    "    grads = {}\n",
    "    L = len(caches)\n",
    "    m = AL.shape[1]\n",
    "    Y = Y.reshape(AL.shape)\n",
    "    \n",
    "    dAL = -(np.divide(Y, AL) - np.divide(1-Y, 1-AL))\n",
    "    \n",
    "    current_cache = caches[L-1]\n",
    "    grads['dA'+str(L-1)], grads['dW'+str(L-1)], grads['db'+str(L-1)] = one_layer_backward(dAL, current_cache)\n",
    "    \n",
    "    for l in reversed(range(L-1)):\n",
    "        \n",
    "        current_cache = caches[l]\n",
    "        dA_prev_temp, dW_temp, db_temp = one_layer_backward(grads[\"dA\" + str(l+1)], current_cache)\n",
    "        grads[\"dA\" + str(l)] = dA_prev_temp\n",
    "        grads[\"dW\" + str(l + 1)] = dW_temp\n",
    "        grads[\"db\" + str(l + 1)] = db_temp\n",
    "        \n",
    "    return grads"
   ]
  },
  {
   "cell_type": "code",
   "execution_count": 126,
   "id": "e200742f-202d-46de-a2e6-43e4d06dca1b",
   "metadata": {},
   "outputs": [],
   "source": [
    "def update_parameters(parameters, grads, learning_rate):\n",
    "    L = len(parameters) // 2\n",
    "    \n",
    "    for l in range(L):\n",
    "        parameters['W'+str(l+1)] = parameters['W'+str(l+1)] -learning_rate*grads['W'+str(l+1)]\n",
    "        parameters['b'+str(l+1)] = parameters['b'+str(l+1)] -  learning_rate*grads['b'+str(l+1)]\n",
    "        \n",
    "    return parameters"
   ]
  },
  {
   "cell_type": "code",
   "execution_count": 127,
   "id": "fadff500-8bc6-4eb2-aa11-65195768a251",
   "metadata": {},
   "outputs": [],
   "source": [
    "def train(X, Y, layer_dims, epochs, lr):\n",
    "    params = init_params(layer_dims)\n",
    "    print(params)\n",
    "    cost_history = []\n",
    "    for i in range(epochs):\n",
    "        Y_hat, caches = forward_prop(X, params)\n",
    "        print(Y_hat)\n",
    "        cost = cost_function(Y_hat, Y)\n",
    "        cost_history.append(cost)\n",
    "        grads = backprop(Y_hat, Y, caches)\n",
    "        params = update_parameters(params, grads, lr)\n",
    "    return params, cost_history"
   ]
  },
  {
   "cell_type": "code",
   "execution_count": 128,
   "id": "c115401d-67f3-4acc-a591-f650fac0ce8e",
   "metadata": {},
   "outputs": [],
   "source": [
    "data=load_breast_cancer()\n",
    "X=data[\"data\"]\n",
    "Y=data[\"target\"]"
   ]
  },
  {
   "cell_type": "code",
   "execution_count": 129,
   "id": "f8c5d113-4d95-46a3-8eec-da662f086d6c",
   "metadata": {},
   "outputs": [
    {
     "name": "stdout",
     "output_type": "stream",
     "text": [
      "{'W0': array([[ 0.01788628,  0.0043651 ],\n",
      "       [ 0.00096497, -0.01863493],\n",
      "       [-0.00277388, -0.00354759],\n",
      "       [-0.00082741, -0.00627001],\n",
      "       [-0.00043818, -0.00477218],\n",
      "       [-0.01313865,  0.00884622],\n",
      "       [ 0.00881318,  0.01709573],\n",
      "       [ 0.00050034, -0.00404677],\n",
      "       [-0.0054536 , -0.01546477],\n",
      "       [ 0.00982367, -0.01101068],\n",
      "       [-0.01185047, -0.0020565 ],\n",
      "       [ 0.01486148,  0.00236716],\n",
      "       [-0.01023785, -0.00712993],\n",
      "       [ 0.00625245, -0.00160513],\n",
      "       [-0.00768836, -0.00230031],\n",
      "       [ 0.00745056,  0.01976111],\n",
      "       [-0.01244123, -0.00626417],\n",
      "       [-0.00803766, -0.02419083],\n",
      "       [-0.00923792, -0.01023876],\n",
      "       [ 0.01123978, -0.00131914],\n",
      "       [-0.01623285,  0.00646675],\n",
      "       [-0.00356271, -0.01743141],\n",
      "       [-0.0059665 , -0.00588594],\n",
      "       [-0.00873882,  0.00029714],\n",
      "       [-0.02248258, -0.00267762],\n",
      "       [ 0.01013183,  0.00852798],\n",
      "       [ 0.01108187,  0.01119391],\n",
      "       [ 0.01487543, -0.01118301],\n",
      "       [ 0.00845833, -0.0186089 ],\n",
      "       [-0.00602885, -0.01914472]]), 'b0': array([[0.],\n",
      "       [0.],\n",
      "       [0.],\n",
      "       [0.],\n",
      "       [0.],\n",
      "       [0.],\n",
      "       [0.],\n",
      "       [0.],\n",
      "       [0.],\n",
      "       [0.],\n",
      "       [0.],\n",
      "       [0.],\n",
      "       [0.],\n",
      "       [0.],\n",
      "       [0.],\n",
      "       [0.],\n",
      "       [0.],\n",
      "       [0.],\n",
      "       [0.],\n",
      "       [0.],\n",
      "       [0.],\n",
      "       [0.],\n",
      "       [0.],\n",
      "       [0.],\n",
      "       [0.],\n",
      "       [0.],\n",
      "       [0.],\n",
      "       [0.],\n",
      "       [0.],\n",
      "       [0.]]), 'W1': array([[ 0.01048148,  0.01333738],\n",
      "       [-0.00197415,  0.01774645],\n",
      "       [-0.00674728,  0.00150617],\n",
      "       [ 0.00152946, -0.01064195],\n",
      "       [ 0.00437947,  0.01938978],\n",
      "       [-0.01024931,  0.00899338],\n",
      "       [-0.00154507,  0.01769627],\n",
      "       [ 0.00483788,  0.00676216]]), 'b1': array([[0.],\n",
      "       [0.],\n",
      "       [0.],\n",
      "       [0.],\n",
      "       [0.],\n",
      "       [0.],\n",
      "       [0.],\n",
      "       [0.]])}\n"
     ]
    },
    {
     "ename": "ValueError",
     "evalue": "shapes (30,2) and (569,30) not aligned: 2 (dim 1) != 569 (dim 0)",
     "output_type": "error",
     "traceback": [
      "\u001b[0;31m---------------------------------------------------------------------------\u001b[0m",
      "\u001b[0;31mValueError\u001b[0m                                Traceback (most recent call last)",
      "Cell \u001b[0;32mIn [129], line 1\u001b[0m\n\u001b[0;32m----> 1\u001b[0m train(X,Y,[\u001b[38;5;241m30\u001b[39m,\u001b[38;5;241m8\u001b[39m],\u001b[38;5;241m2\u001b[39m,\u001b[38;5;241m0.03\u001b[39m)\n",
      "Cell \u001b[0;32mIn [127], line 6\u001b[0m, in \u001b[0;36mtrain\u001b[0;34m(X, Y, layer_dims, epochs, lr)\u001b[0m\n\u001b[1;32m      4\u001b[0m cost_history \u001b[38;5;241m=\u001b[39m []\n\u001b[1;32m      5\u001b[0m \u001b[38;5;28;01mfor\u001b[39;00m i \u001b[38;5;129;01min\u001b[39;00m \u001b[38;5;28mrange\u001b[39m(epochs):\n\u001b[0;32m----> 6\u001b[0m     Y_hat, caches \u001b[38;5;241m=\u001b[39m \u001b[43mforward_prop\u001b[49m\u001b[43m(\u001b[49m\u001b[43mX\u001b[49m\u001b[43m,\u001b[49m\u001b[43m \u001b[49m\u001b[43mparams\u001b[49m\u001b[43m)\u001b[49m\n\u001b[1;32m      7\u001b[0m     \u001b[38;5;28mprint\u001b[39m(Y_hat)\n\u001b[1;32m      8\u001b[0m     cost \u001b[38;5;241m=\u001b[39m cost_function(Y_hat, Y)\n",
      "Cell \u001b[0;32mIn [123], line 10\u001b[0m, in \u001b[0;36mforward_prop\u001b[0;34m(X, params)\u001b[0m\n\u001b[1;32m      7\u001b[0m A_prev \u001b[38;5;241m=\u001b[39m A\n\u001b[1;32m      9\u001b[0m \u001b[38;5;66;03m# Linear Hypothesis\u001b[39;00m\n\u001b[0;32m---> 10\u001b[0m Z \u001b[38;5;241m=\u001b[39m \u001b[43mnp\u001b[49m\u001b[38;5;241;43m.\u001b[39;49m\u001b[43mdot\u001b[49m\u001b[43m(\u001b[49m\u001b[43mparams\u001b[49m\u001b[43m[\u001b[49m\u001b[38;5;124;43m'\u001b[39;49m\u001b[38;5;124;43mW\u001b[39;49m\u001b[38;5;124;43m'\u001b[39;49m\u001b[38;5;241;43m+\u001b[39;49m\u001b[38;5;28;43mstr\u001b[39;49m\u001b[43m(\u001b[49m\u001b[43ml\u001b[49m\u001b[43m)\u001b[49m\u001b[43m]\u001b[49m\u001b[43m,\u001b[49m\u001b[43m \u001b[49m\u001b[43mA_prev\u001b[49m\u001b[43m)\u001b[49m \u001b[38;5;241m+\u001b[39m params[\u001b[38;5;124m'\u001b[39m\u001b[38;5;124mb\u001b[39m\u001b[38;5;124m'\u001b[39m\u001b[38;5;241m+\u001b[39m\u001b[38;5;28mstr\u001b[39m(l)] \n\u001b[1;32m     11\u001b[0m \u001b[38;5;28mprint\u001b[39m(Z,\u001b[38;5;124m\"\u001b[39m\u001b[38;5;130;01m\\n\u001b[39;00m\u001b[38;5;124m\"\u001b[39m,\u001b[38;5;124m\"\u001b[39m\u001b[38;5;124m-\u001b[39m\u001b[38;5;124m\"\u001b[39m\u001b[38;5;241m*\u001b[39m\u001b[38;5;241m30\u001b[39m)\n\u001b[1;32m     12\u001b[0m \u001b[38;5;66;03m# Storing the linear cache\u001b[39;00m\n",
      "File \u001b[0;32m<__array_function__ internals>:180\u001b[0m, in \u001b[0;36mdot\u001b[0;34m(*args, **kwargs)\u001b[0m\n",
      "\u001b[0;31mValueError\u001b[0m: shapes (30,2) and (569,30) not aligned: 2 (dim 1) != 569 (dim 0)"
     ]
    }
   ],
   "source": [
    "train(X,Y,[30,8],2,0.03)"
   ]
  },
  {
   "cell_type": "code",
   "execution_count": 95,
   "id": "69182e74-f191-4733-a8e9-86a11329523a",
   "metadata": {},
   "outputs": [
    {
     "data": {
      "text/plain": [
       "array([[-0.92429374,  0.88130113,  0.55644294],\n",
       "       [ 0.74689153, -0.34836832, -1.81101917],\n",
       "       [ 0.95789639,  1.22632133, -1.48331661],\n",
       "       [ 0.13791604,  1.19325258, -1.07572355],\n",
       "       [ 1.76768278, -0.34903246, -1.07539011]])"
      ]
     },
     "execution_count": 95,
     "metadata": {},
     "output_type": "execute_result"
    }
   ],
   "source": [
    "np.random.randn(5,3)"
   ]
  },
  {
   "cell_type": "code",
   "execution_count": 110,
   "id": "e729f77a-f83b-4479-a552-88c62d37891a",
   "metadata": {},
   "outputs": [
    {
     "data": {
      "text/plain": [
       "(30,)"
      ]
     },
     "execution_count": 110,
     "metadata": {},
     "output_type": "execute_result"
    }
   ],
   "source": [
    "X[0].shape"
   ]
  },
  {
   "cell_type": "code",
   "execution_count": 111,
   "id": "a5f9bf70-5c36-441a-b903-d0f9803c0691",
   "metadata": {},
   "outputs": [],
   "source": [
    "W=np.random.randn(30,1)"
   ]
  },
  {
   "cell_type": "code",
   "execution_count": null,
   "id": "739bece5-0a6b-4b45-869f-6d56d8297f25",
   "metadata": {},
   "outputs": [],
   "source": []
  },
  {
   "cell_type": "code",
   "execution_count": null,
   "id": "faf43990-d364-4c15-9c05-28bdd760f0da",
   "metadata": {},
   "outputs": [],
   "source": []
  },
  {
   "cell_type": "code",
   "execution_count": 160,
   "id": "8b41d67e-6a5f-40f9-a30e-5e5e60a3c6a5",
   "metadata": {},
   "outputs": [],
   "source": [
    "X_=np.ones((X.shape[0],X.shape[1]+1))\n",
    "X_[:,1:]=X"
   ]
  },
  {
   "cell_type": "code",
   "execution_count": 159,
   "id": "6fc40d51-d038-407c-ad92-bc1a2e451e6f",
   "metadata": {},
   "outputs": [
    {
     "name": "stdout",
     "output_type": "stream",
     "text": [
      "18.1 µs ± 2.52 µs per loop (mean ± std. dev. of 7 runs, 10,000 loops each)\n"
     ]
    }
   ],
   "source": [
    "%timeit np.hstack((np.ones((X.shape[0],1)),X))"
   ]
  },
  {
   "cell_type": "code",
   "execution_count": null,
   "id": "85b3b6c1-8daf-405e-b52a-1c2787aab333",
   "metadata": {},
   "outputs": [],
   "source": []
  },
  {
   "cell_type": "code",
   "execution_count": null,
   "id": "487525fa-12aa-45e6-9014-43ab94c85964",
   "metadata": {},
   "outputs": [],
   "source": []
  },
  {
   "cell_type": "code",
   "execution_count": 172,
   "id": "fd7d8bdd-3803-4997-aa5a-ac1d07070d39",
   "metadata": {},
   "outputs": [
    {
     "data": {
      "text/plain": [
       "array([-2475.17375334])"
      ]
     },
     "execution_count": 172,
     "metadata": {},
     "output_type": "execute_result"
    }
   ],
   "source": [
    "W=init_params([30,8])\n",
    "# for i in X_.dot(W[0]):\n",
    "#     print(i)\n",
    "X_[0].dot(W[0])"
   ]
  },
  {
   "cell_type": "code",
   "execution_count": 170,
   "id": "b85fbdc8-1819-4c94-b04c-12b75045ac18",
   "metadata": {},
   "outputs": [
    {
     "data": {
      "text/plain": [
       "(31, 2)"
      ]
     },
     "execution_count": 170,
     "metadata": {},
     "output_type": "execute_result"
    }
   ],
   "source": [
    "W[0].shape"
   ]
  },
  {
   "cell_type": "code",
   "execution_count": 173,
   "id": "597bb71e-0c54-42f7-9216-98bb7806d006",
   "metadata": {},
   "outputs": [
    {
     "data": {
      "text/plain": [
       "[array([[ 1.78862847],\n",
       "        [ 0.43650985],\n",
       "        [ 0.09649747],\n",
       "        [-1.8634927 ],\n",
       "        [-0.2773882 ],\n",
       "        [-0.35475898],\n",
       "        [-0.08274148],\n",
       "        [-0.62700068],\n",
       "        [-0.04381817],\n",
       "        [-0.47721803],\n",
       "        [-1.31386475],\n",
       "        [ 0.88462238],\n",
       "        [ 0.88131804],\n",
       "        [ 1.70957306],\n",
       "        [ 0.05003364],\n",
       "        [-0.40467741],\n",
       "        [-0.54535995],\n",
       "        [-1.54647732],\n",
       "        [ 0.98236743],\n",
       "        [-1.10106763],\n",
       "        [-1.18504653],\n",
       "        [-0.2056499 ],\n",
       "        [ 1.48614836],\n",
       "        [ 0.23671627],\n",
       "        [-1.02378514],\n",
       "        [-0.7129932 ],\n",
       "        [ 0.62524497],\n",
       "        [-0.16051336],\n",
       "        [-0.76883635],\n",
       "        [-0.23003072],\n",
       "        [ 0.74505627]]),\n",
       " array([[ 1.97611078],\n",
       "        [-1.24412333],\n",
       "        [-0.62641691],\n",
       "        [-0.80376609],\n",
       "        [-2.41908317],\n",
       "        [-0.92379202],\n",
       "        [-1.02387576],\n",
       "        [ 1.12397796],\n",
       "        [-0.13191423]])]"
      ]
     },
     "execution_count": 173,
     "metadata": {},
     "output_type": "execute_result"
    }
   ],
   "source": [
    "W"
   ]
  },
  {
   "cell_type": "code",
   "execution_count": 208,
   "id": "b45ebe97-50d7-4da6-86c3-86ba25724e9c",
   "metadata": {},
   "outputs": [],
   "source": [
    "def init_params_f(layer_dims):\n",
    "    np.random.seed(3)\n",
    "    params = {}\n",
    "    L = len(layer_dims)\n",
    "    \n",
    "    for l in range(1, L):\n",
    "        params['W'+str(l)] = np.random.randn(layer_dims[l], layer_dims[l-1])*0.01\n",
    "        params['b'+str(l)] = np.zeros((layer_dims[l], 1))\n",
    "    return params  "
   ]
  },
  {
   "cell_type": "code",
   "execution_count": 231,
   "id": "1d99475d-e8f6-4fcb-83c9-c0c033f59a85",
   "metadata": {},
   "outputs": [],
   "source": [
    "params=init_params_f([30,8])"
   ]
  },
  {
   "cell_type": "code",
   "execution_count": 258,
   "id": "7430e96e-9013-4154-93f7-33cf6ff5d6c0",
   "metadata": {},
   "outputs": [],
   "source": [
    "def init_params(layer_dims):\n",
    "    np.random.seed(3)\n",
    "    return [np.random.randn(layer_dims[dims-1]+1,layer_dims[dims]) for dims in range(1,len(layer_dims))]\n"
   ]
  },
  {
   "cell_type": "code",
   "execution_count": 259,
   "id": "53c83ee2-1b23-4209-a717-5321aa06ce5f",
   "metadata": {},
   "outputs": [],
   "source": [
    "W=init_params([30,8])"
   ]
  },
  {
   "cell_type": "code",
   "execution_count": 274,
   "id": "87beae2a-80f0-493c-9cfa-60073daeda44",
   "metadata": {},
   "outputs": [
    {
     "data": {
      "text/plain": [
       "(8, 30)"
      ]
     },
     "execution_count": 274,
     "metadata": {},
     "output_type": "execute_result"
    }
   ],
   "source": [
    "params[\"W1\"].shape"
   ]
  },
  {
   "cell_type": "code",
   "execution_count": 261,
   "id": "fbaeee51-b217-4fba-a194-d7f15087ad93",
   "metadata": {},
   "outputs": [
    {
     "data": {
      "text/plain": [
       "8"
      ]
     },
     "execution_count": 261,
     "metadata": {},
     "output_type": "execute_result"
    }
   ],
   "source": [
    "len(params[\"W1\"])"
   ]
  },
  {
   "cell_type": "code",
   "execution_count": 266,
   "id": "c3556f3e-1990-4f23-85b8-123890c807f9",
   "metadata": {},
   "outputs": [
    {
     "data": {
      "text/plain": [
       "8"
      ]
     },
     "execution_count": 266,
     "metadata": {},
     "output_type": "execute_result"
    }
   ],
   "source": [
    "len(X_.dot(W[0])[0])"
   ]
  },
  {
   "cell_type": "code",
   "execution_count": 276,
   "id": "7b324ee0-9835-42ba-9292-23d10f1df0e2",
   "metadata": {},
   "outputs": [
    {
     "data": {
      "text/plain": [
       "(31, 8)"
      ]
     },
     "execution_count": 276,
     "metadata": {},
     "output_type": "execute_result"
    }
   ],
   "source": [
    "W[0].shape"
   ]
  },
  {
   "cell_type": "code",
   "execution_count": 281,
   "id": "9c471011-2057-4ac7-b643-451401a9dbc8",
   "metadata": {},
   "outputs": [
    {
     "ename": "ValueError",
     "evalue": "shapes (569,30) and (8,30) not aligned: 30 (dim 1) != 8 (dim 0)",
     "output_type": "error",
     "traceback": [
      "\u001b[0;31m---------------------------------------------------------------------------\u001b[0m",
      "\u001b[0;31mValueError\u001b[0m                                Traceback (most recent call last)",
      "Cell \u001b[0;32mIn [281], line 1\u001b[0m\n\u001b[0;32m----> 1\u001b[0m X\u001b[38;5;241m.\u001b[39mdot(params[\u001b[38;5;124m\"\u001b[39m\u001b[38;5;124mW1\u001b[39m\u001b[38;5;124m\"\u001b[39m])\n",
      "\u001b[0;31mValueError\u001b[0m: shapes (569,30) and (8,30) not aligned: 30 (dim 1) != 8 (dim 0)"
     ]
    }
   ],
   "source": [
    "X.dot(params[\"W1\"])"
   ]
  },
  {
   "cell_type": "code",
   "execution_count": 282,
   "id": "5f9333f8-c642-4dd6-abe1-eccaf4231bd4",
   "metadata": {},
   "outputs": [
    {
     "ename": "ValueError",
     "evalue": "shapes (8,30) and (569,30) not aligned: 30 (dim 1) != 569 (dim 0)",
     "output_type": "error",
     "traceback": [
      "\u001b[0;31m---------------------------------------------------------------------------\u001b[0m",
      "\u001b[0;31mValueError\u001b[0m                                Traceback (most recent call last)",
      "Cell \u001b[0;32mIn [282], line 1\u001b[0m\n\u001b[0;32m----> 1\u001b[0m np\u001b[38;5;241m.\u001b[39mdot(params[\u001b[38;5;124m\"\u001b[39m\u001b[38;5;124mW1\u001b[39m\u001b[38;5;124m\"\u001b[39m],X)\n",
      "File \u001b[0;32m<__array_function__ internals>:180\u001b[0m, in \u001b[0;36mdot\u001b[0;34m(*args, **kwargs)\u001b[0m\n",
      "\u001b[0;31mValueError\u001b[0m: shapes (8,30) and (569,30) not aligned: 30 (dim 1) != 569 (dim 0)"
     ]
    }
   ],
   "source": [
    "np.dot(params[\"W1\"],X)"
   ]
  },
  {
   "cell_type": "code",
   "execution_count": 283,
   "id": "88e16e70-f89e-4da1-a21f-af1d79fb1750",
   "metadata": {},
   "outputs": [
    {
     "ename": "ValueError",
     "evalue": "shapes (8,30) and (569,30) not aligned: 30 (dim 1) != 569 (dim 0)",
     "output_type": "error",
     "traceback": [
      "\u001b[0;31m---------------------------------------------------------------------------\u001b[0m",
      "\u001b[0;31mValueError\u001b[0m                                Traceback (most recent call last)",
      "Cell \u001b[0;32mIn [283], line 100\u001b[0m\n\u001b[1;32m     96\u001b[0m         params \u001b[38;5;241m=\u001b[39m update_parameters(params, grads, lr)\n\u001b[1;32m     99\u001b[0m     \u001b[38;5;28;01mreturn\u001b[39;00m params, cost_history\n\u001b[0;32m--> 100\u001b[0m train(X,Y,[\u001b[38;5;241m30\u001b[39m,\u001b[38;5;241m8\u001b[39m],\u001b[38;5;241m2\u001b[39m,\u001b[38;5;241m0.03\u001b[39m)\n",
      "Cell \u001b[0;32mIn [283], line 91\u001b[0m, in \u001b[0;36mtrain\u001b[0;34m(X, Y, layer_dims, epochs, lr)\u001b[0m\n\u001b[1;32m     88\u001b[0m cost_history \u001b[38;5;241m=\u001b[39m []\n\u001b[1;32m     90\u001b[0m \u001b[38;5;28;01mfor\u001b[39;00m i \u001b[38;5;129;01min\u001b[39;00m \u001b[38;5;28mrange\u001b[39m(epochs):\n\u001b[0;32m---> 91\u001b[0m     Y_hat, caches \u001b[38;5;241m=\u001b[39m \u001b[43mforward_prop\u001b[49m\u001b[43m(\u001b[49m\u001b[43mX\u001b[49m\u001b[43m,\u001b[49m\u001b[43m \u001b[49m\u001b[43mparams\u001b[49m\u001b[43m)\u001b[49m\n\u001b[1;32m     92\u001b[0m     cost \u001b[38;5;241m=\u001b[39m cost_function(Y_hat, Y)\n\u001b[1;32m     93\u001b[0m     cost_history\u001b[38;5;241m.\u001b[39mappend(cost)\n",
      "Cell \u001b[0;32mIn [283], line 25\u001b[0m, in \u001b[0;36mforward_prop\u001b[0;34m(X, params)\u001b[0m\n\u001b[1;32m     22\u001b[0m A_prev \u001b[38;5;241m=\u001b[39m A\n\u001b[1;32m     24\u001b[0m \u001b[38;5;66;03m# Linear Hypothesis\u001b[39;00m\n\u001b[0;32m---> 25\u001b[0m Z \u001b[38;5;241m=\u001b[39m \u001b[43mnp\u001b[49m\u001b[38;5;241;43m.\u001b[39;49m\u001b[43mdot\u001b[49m\u001b[43m(\u001b[49m\u001b[43mparams\u001b[49m\u001b[43m[\u001b[49m\u001b[38;5;124;43m'\u001b[39;49m\u001b[38;5;124;43mW\u001b[39;49m\u001b[38;5;124;43m'\u001b[39;49m\u001b[38;5;241;43m+\u001b[39;49m\u001b[38;5;28;43mstr\u001b[39;49m\u001b[43m(\u001b[49m\u001b[43ml\u001b[49m\u001b[43m)\u001b[49m\u001b[43m]\u001b[49m\u001b[43m,\u001b[49m\u001b[43m \u001b[49m\u001b[43mA_prev\u001b[49m\u001b[43m)\u001b[49m \u001b[38;5;241m+\u001b[39m params[\u001b[38;5;124m'\u001b[39m\u001b[38;5;124mb\u001b[39m\u001b[38;5;124m'\u001b[39m\u001b[38;5;241m+\u001b[39m\u001b[38;5;28mstr\u001b[39m(l)] \n\u001b[1;32m     27\u001b[0m \u001b[38;5;66;03m# Storing the linear cache\u001b[39;00m\n\u001b[1;32m     28\u001b[0m linear_cache \u001b[38;5;241m=\u001b[39m (A_prev, params[\u001b[38;5;124m'\u001b[39m\u001b[38;5;124mW\u001b[39m\u001b[38;5;124m'\u001b[39m\u001b[38;5;241m+\u001b[39m\u001b[38;5;28mstr\u001b[39m(l)], params[\u001b[38;5;124m'\u001b[39m\u001b[38;5;124mb\u001b[39m\u001b[38;5;124m'\u001b[39m\u001b[38;5;241m+\u001b[39m\u001b[38;5;28mstr\u001b[39m(l)]) \n",
      "File \u001b[0;32m<__array_function__ internals>:180\u001b[0m, in \u001b[0;36mdot\u001b[0;34m(*args, **kwargs)\u001b[0m\n",
      "\u001b[0;31mValueError\u001b[0m: shapes (8,30) and (569,30) not aligned: 30 (dim 1) != 569 (dim 0)"
     ]
    }
   ],
   "source": [
    "def init_params(layer_dims):\n",
    "    np.random.seed(3)\n",
    "    params = {}\n",
    "    L = len(layer_dims)\n",
    "    \n",
    "    for l in range(1, L):\n",
    "        params['W'+str(l)] = np.random.randn(layer_dims[l], layer_dims[l-1])*0.01\n",
    "        params['b'+str(l)] = np.zeros((layer_dims[l], 1))\n",
    "        \n",
    "    return params\n",
    "def sigmoid(Z):\n",
    "    A = 1/(1+np.exp(np.dot(-1, Z)))\n",
    "    cache = (Z)\n",
    "    \n",
    "    return A, cache\n",
    "def forward_prop(X, params):\n",
    "    \n",
    "    A = X # input to first layer i.e. training data\n",
    "    caches = []\n",
    "    L = len(params)//2\n",
    "    for l in range(1, L+1):\n",
    "        A_prev = A\n",
    "        \n",
    "        # Linear Hypothesis\n",
    "        Z = np.dot(params['W'+str(l)], A_prev) + params['b'+str(l)] \n",
    "        \n",
    "        # Storing the linear cache\n",
    "        linear_cache = (A_prev, params['W'+str(l)], params['b'+str(l)]) \n",
    "        \n",
    "        # Applying sigmoid on linear hypothesis\n",
    "        A, activation_cache = sigmoid(Z) \n",
    "        \n",
    "         # storing the both linear and activation cache\n",
    "        cache = (linear_cache, activation_cache)\n",
    "        caches.append(cache)\n",
    "    \n",
    "    return A, caches\n",
    "def cost_function(A, Y):\n",
    "    m = Y.shape[1]\n",
    "    \n",
    "    cost = (-1/m)*(np.dot(np.log(A), Y.T) + np.dot(log(1-A), 1-Y.T)) \n",
    "    \n",
    "    return cost\n",
    "def one_layer_backward(dA, cache):\n",
    "    linear_cache, activation_cache = cache\n",
    "    \n",
    "    Z = activation_cache\n",
    "    dZ = dA*sigmoid(Z)*(1-sigmoid(Z)) # The derivative of the sigmoid function\n",
    "    \n",
    "    A_prev, W, b = linear_cache\n",
    "    m = A_prev.shape[1]\n",
    "    \n",
    "    dW = (1/m)*np.dot(dZ, A_prev.T)\n",
    "    db = (1/m)*np.sum(dZ, axis=1, keepdims=True)\n",
    "    dA_prev = np.dot(W.T, dZ)\n",
    "    \n",
    "    return dA_prev, dW, db\n",
    "def backprop(AL, Y, caches):\n",
    "    grads = {}\n",
    "    L = len(caches)\n",
    "    m = AL.shape[1]\n",
    "    Y = Y.reshape(AL.shape)\n",
    "    \n",
    "    dAL = -(np.divide(Y, AL) - np.divide(1-Y, 1-AL))\n",
    "    \n",
    "    current_cache = caches[L-1]\n",
    "    grads['dA'+str(L-1)], grads['dW'+str(L-1)], grads['db'+str(L-1)] = one_layer_backward(dAL, current_cache)\n",
    "    \n",
    "    for l in reversed(range(L-1)):\n",
    "        \n",
    "        current_cache = caches[l]\n",
    "        dA_prev_temp, dW_temp, db_temp = one_layer_backward(grads[\"dA\" + str(l+1)], current_cache)\n",
    "        grads[\"dA\" + str(l)] = dA_prev_temp\n",
    "        grads[\"dW\" + str(l + 1)] = dW_temp\n",
    "        grads[\"db\" + str(l + 1)] = db_temp\n",
    "        \n",
    "    return grads\n",
    "def update_parameters(parameters, grads, learning_rate):\n",
    "    L = len(parameters) // 2\n",
    "    \n",
    "    for l in range(L):\n",
    "        parameters['W'+str(l+1)] = parameters['W'+str(l+1)] -learning_rate*grads['W'+str(l+1)]\n",
    "        parameters['b'+str(l+1)] = parameters['b'+str(l+1)] -  learning_rate*grads['b'+str(l+1)]\n",
    "        \n",
    "    return parameters\n",
    "def train(X, Y, layer_dims, epochs, lr):\n",
    "    params = init_params(layer_dims)\n",
    "    cost_history = []\n",
    "    \n",
    "    for i in range(epochs):\n",
    "        Y_hat, caches = forward_prop(X, params)\n",
    "        cost = cost_function(Y_hat, Y)\n",
    "        cost_history.append(cost)\n",
    "        grads = backprop(Y_hat, Y, caches)\n",
    "        \n",
    "        params = update_parameters(params, grads, lr)\n",
    "        \n",
    "        \n",
    "    return params, cost_history\n",
    "train(X,Y,[30,8],2,0.03)"
   ]
  },
  {
   "cell_type": "code",
   "execution_count": 294,
   "id": "173d2442-6639-4aa7-94ad-ac73ed18bed9",
   "metadata": {},
   "outputs": [
    {
     "data": {
      "text/plain": [
       "[-0.9999999958776927,\n",
       " -0.999999969540041,\n",
       " -0.9999997749296758,\n",
       " -0.9999983369439446,\n",
       " -0.9999877116507956,\n",
       " -0.9999092042625951,\n",
       " -0.9993292997390671,\n",
       " -0.9950547536867306,\n",
       " -0.9640275800758168,\n",
       " -0.7615941559557649,\n",
       " 0.0,\n",
       " 0.7615941559557649,\n",
       " 0.9640275800758169,\n",
       " 0.9950547536867305,\n",
       " 0.999329299739067,\n",
       " 0.9999092042625951,\n",
       " 0.9999877116507956,\n",
       " 0.9999983369439447,\n",
       " 0.9999997749296758,\n",
       " 0.999999969540041]"
      ]
     },
     "execution_count": 294,
     "metadata": {},
     "output_type": "execute_result"
    }
   ],
   "source": [
    "[(np.exp(i*2)-1)/(np.exp(i*2)+1) for i in range(-10,10)]"
   ]
  },
  {
   "cell_type": "code",
   "execution_count": 295,
   "id": "0cfe62a9-ff35-4243-a3dc-490684b20b7f",
   "metadata": {},
   "outputs": [
    {
     "data": {
      "text/plain": [
       "[-0.9999999958776927,\n",
       " -0.9999999695400409,\n",
       " -0.9999997749296758,\n",
       " -0.9999983369439447,\n",
       " -0.9999877116507956,\n",
       " -0.9999092042625951,\n",
       " -0.999329299739067,\n",
       " -0.9950547536867305,\n",
       " -0.9640275800758169,\n",
       " -0.7615941559557649,\n",
       " 0.0,\n",
       " 0.7615941559557649,\n",
       " 0.9640275800758169,\n",
       " 0.9950547536867305,\n",
       " 0.999329299739067,\n",
       " 0.9999092042625951,\n",
       " 0.9999877116507956,\n",
       " 0.9999983369439447,\n",
       " 0.9999997749296758,\n",
       " 0.9999999695400409]"
      ]
     },
     "execution_count": 295,
     "metadata": {},
     "output_type": "execute_result"
    }
   ],
   "source": [
    "[np.tanh(i) for i in range(-10,10)]"
   ]
  },
  {
   "cell_type": "code",
   "execution_count": null,
   "id": "63b97268-b30c-4972-a1b5-c095ad694e92",
   "metadata": {},
   "outputs": [],
   "source": []
  }
 ],
 "metadata": {
  "kernelspec": {
   "display_name": "Python 3 (ipykernel)",
   "language": "python",
   "name": "python3"
  },
  "language_info": {
   "codemirror_mode": {
    "name": "ipython",
    "version": 3
   },
   "file_extension": ".py",
   "mimetype": "text/x-python",
   "name": "python",
   "nbconvert_exporter": "python",
   "pygments_lexer": "ipython3",
   "version": "3.10.6"
  }
 },
 "nbformat": 4,
 "nbformat_minor": 5
}
