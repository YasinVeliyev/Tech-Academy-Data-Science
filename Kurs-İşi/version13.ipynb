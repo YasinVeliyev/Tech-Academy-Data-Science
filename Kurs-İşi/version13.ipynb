{
 "cells": [
  {
   "cell_type": "code",
   "execution_count": 1,
   "id": "556e9746",
   "metadata": {
    "_cell_guid": "b1076dfc-b9ad-4769-8c92-a6c4dae69d19",
    "_uuid": "8f2839f25d086af736a60e9eeb907d3b93b6e0e5",
    "execution": {
     "iopub.execute_input": "2023-08-24T17:59:23.707078Z",
     "iopub.status.busy": "2023-08-24T17:59:23.706560Z",
     "iopub.status.idle": "2023-08-24T17:59:33.906622Z",
     "shell.execute_reply": "2023-08-24T17:59:33.905515Z"
    },
    "papermill": {
     "duration": 10.212228,
     "end_time": "2023-08-24T17:59:33.909041",
     "exception": false,
     "start_time": "2023-08-24T17:59:23.696813",
     "status": "completed"
    },
    "tags": []
   },
   "outputs": [
    {
     "name": "stderr",
     "output_type": "stream",
     "text": [
      "/opt/conda/lib/python3.10/site-packages/scipy/__init__.py:146: UserWarning: A NumPy version >=1.16.5 and <1.23.0 is required for this version of SciPy (detected version 1.23.5\n",
      "  warnings.warn(f\"A NumPy version >={np_minversion} and <{np_maxversion}\"\n",
      "/opt/conda/lib/python3.10/site-packages/tensorflow_io/python/ops/__init__.py:98: UserWarning: unable to load libtensorflow_io_plugins.so: unable to open file: libtensorflow_io_plugins.so, from paths: ['/opt/conda/lib/python3.10/site-packages/tensorflow_io/python/ops/libtensorflow_io_plugins.so']\n",
      "caused by: ['/opt/conda/lib/python3.10/site-packages/tensorflow_io/python/ops/libtensorflow_io_plugins.so: undefined symbol: _ZN3tsl6StatusC1EN10tensorflow5error4CodeESt17basic_string_viewIcSt11char_traitsIcEENS_14SourceLocationE']\n",
      "  warnings.warn(f\"unable to load libtensorflow_io_plugins.so: {e}\")\n",
      "/opt/conda/lib/python3.10/site-packages/tensorflow_io/python/ops/__init__.py:104: UserWarning: file system plugins are not loaded: unable to open file: libtensorflow_io.so, from paths: ['/opt/conda/lib/python3.10/site-packages/tensorflow_io/python/ops/libtensorflow_io.so']\n",
      "caused by: ['/opt/conda/lib/python3.10/site-packages/tensorflow_io/python/ops/libtensorflow_io.so: undefined symbol: _ZTVN10tensorflow13GcsFileSystemE']\n",
      "  warnings.warn(f\"file system plugins are not loaded: {e}\")\n"
     ]
    },
    {
     "name": "stdout",
     "output_type": "stream",
     "text": [
      "/kaggle/input/HandwrittenData/A_Z Handwritten Data.csv\n"
     ]
    }
   ],
   "source": [
    "# This Python 3 environment comes with many helpful analytics libraries installed\n",
    "# It is defined by the kaggle/python Docker image: https://github.com/kaggle/docker-python\n",
    "# For example, here's several helpful packages to load\n",
    "\n",
    "import numpy as np # linear algebra\n",
    "import pandas as pd # data processing, CSV file I/O (e.g. pd.read_csv)\n",
    "\n",
    "from sklearn.model_selection import train_test_split\n",
    "from sklearn.metrics import accuracy_score,classification_report\n",
    "\n",
    "from keras import Sequential,losses\n",
    "from keras.layers import Dense,Conv2D,MaxPooling2D,Flatten,Dropout\n",
    "from keras.optimizers import SGD\n",
    "from keras.utils import np_utils,plot_model\n",
    "\n",
    "from tensorflow.keras.preprocessing.image import ImageDataGenerator\n",
    "from tensorflow.keras.callbacks import ModelCheckpoint\n",
    "\n",
    "# Input data files are available in the read-only \"../input/\" directory\n",
    "# For example, running this (by clicking run or pressing Shift+Enter) will list all files under the input directory\n",
    "\n",
    "import os\n",
    "for dirname, _, filenames in os.walk('/kaggle/input'):\n",
    "    for filename in filenames:\n",
    "        print(os.path.join(dirname, filename))\n",
    "\n",
    "# You can write up to 20GB to the current directory (/kaggle/working/) that gets preserved as output when you create a version using \"Save & Run All\" \n",
    "# You can also write temporary files to /kaggle/temp/, but they won't be saved outside of the current session"
   ]
  },
  {
   "cell_type": "code",
   "execution_count": 2,
   "id": "6eba008e",
   "metadata": {
    "execution": {
     "iopub.execute_input": "2023-08-24T17:59:33.922533Z",
     "iopub.status.busy": "2023-08-24T17:59:33.921133Z",
     "iopub.status.idle": "2023-08-24T18:00:07.463248Z",
     "shell.execute_reply": "2023-08-24T18:00:07.462178Z"
    },
    "papermill": {
     "duration": 33.551279,
     "end_time": "2023-08-24T18:00:07.465763",
     "exception": false,
     "start_time": "2023-08-24T17:59:33.914484",
     "status": "completed"
    },
    "tags": []
   },
   "outputs": [],
   "source": [
    "df=pd.read_csv(\"/kaggle/input/HandwrittenData/A_Z Handwritten Data.csv\")"
   ]
  },
  {
   "cell_type": "code",
   "execution_count": 3,
   "id": "57325e0f",
   "metadata": {
    "execution": {
     "iopub.execute_input": "2023-08-24T18:00:07.478400Z",
     "iopub.status.busy": "2023-08-24T18:00:07.478082Z",
     "iopub.status.idle": "2023-08-24T18:00:12.509987Z",
     "shell.execute_reply": "2023-08-24T18:00:12.508302Z"
    },
    "papermill": {
     "duration": 5.041139,
     "end_time": "2023-08-24T18:00:12.512813",
     "exception": false,
     "start_time": "2023-08-24T18:00:07.471674",
     "status": "completed"
    },
    "tags": []
   },
   "outputs": [
    {
     "name": "stdout",
     "output_type": "stream",
     "text": [
      "Count of Images Before deduplicating process 372450\n",
      "Count of Images After deduplicating process 201095\n"
     ]
    }
   ],
   "source": [
    "print(\"Count of Images Before deduplicating process\",len(df))\n",
    "df.drop_duplicates(inplace=True)\n",
    "print(\"Count of Images After deduplicating process\",len(df))"
   ]
  },
  {
   "cell_type": "code",
   "execution_count": 4,
   "id": "780443ed",
   "metadata": {
    "execution": {
     "iopub.execute_input": "2023-08-24T18:00:12.526964Z",
     "iopub.status.busy": "2023-08-24T18:00:12.525757Z",
     "iopub.status.idle": "2023-08-24T18:00:12.530731Z",
     "shell.execute_reply": "2023-08-24T18:00:12.529844Z"
    },
    "papermill": {
     "duration": 0.01396,
     "end_time": "2023-08-24T18:00:12.532933",
     "exception": false,
     "start_time": "2023-08-24T18:00:12.518973",
     "status": "completed"
    },
    "tags": []
   },
   "outputs": [],
   "source": [
    "datagen = ImageDataGenerator(width_shift_range=4,height_shift_range=4,validation_split=0.2)"
   ]
  },
  {
   "cell_type": "code",
   "execution_count": 5,
   "id": "81f04c55",
   "metadata": {
    "execution": {
     "iopub.execute_input": "2023-08-24T18:00:12.544621Z",
     "iopub.status.busy": "2023-08-24T18:00:12.544313Z",
     "iopub.status.idle": "2023-08-24T18:00:12.549192Z",
     "shell.execute_reply": "2023-08-24T18:00:12.548256Z"
    },
    "papermill": {
     "duration": 0.013274,
     "end_time": "2023-08-24T18:00:12.551528",
     "exception": false,
     "start_time": "2023-08-24T18:00:12.538254",
     "status": "completed"
    },
    "tags": []
   },
   "outputs": [],
   "source": [
    "X = df.loc[:,\"0.1\":]\n",
    "y = df.loc[:,\"0\"]"
   ]
  },
  {
   "cell_type": "code",
   "execution_count": 6,
   "id": "dc7a4e83",
   "metadata": {
    "execution": {
     "iopub.execute_input": "2023-08-24T18:00:12.562959Z",
     "iopub.status.busy": "2023-08-24T18:00:12.562674Z",
     "iopub.status.idle": "2023-08-24T18:00:14.819016Z",
     "shell.execute_reply": "2023-08-24T18:00:14.817995Z"
    },
    "papermill": {
     "duration": 2.264863,
     "end_time": "2023-08-24T18:00:14.821437",
     "exception": false,
     "start_time": "2023-08-24T18:00:12.556574",
     "status": "completed"
    },
    "tags": []
   },
   "outputs": [],
   "source": [
    "X=X.values.reshape(len(X),28,28,1)\n",
    "X_train,X_test,y_train,y_test = train_test_split(X,y,train_size=0.85)\n",
    "X_train = X_train/255\n",
    "X_test = X_test/255\n",
    "y_train=np_utils.to_categorical(y_train)"
   ]
  },
  {
   "cell_type": "code",
   "execution_count": 7,
   "id": "39f7725f",
   "metadata": {
    "execution": {
     "iopub.execute_input": "2023-08-24T18:00:14.833526Z",
     "iopub.status.busy": "2023-08-24T18:00:14.833224Z",
     "iopub.status.idle": "2023-08-24T18:43:18.807097Z",
     "shell.execute_reply": "2023-08-24T18:43:18.805295Z"
    },
    "papermill": {
     "duration": 2583.982485,
     "end_time": "2023-08-24T18:43:18.809364",
     "exception": false,
     "start_time": "2023-08-24T18:00:14.826879",
     "status": "completed"
    },
    "tags": []
   },
   "outputs": [
    {
     "name": "stdout",
     "output_type": "stream",
     "text": [
      "Epoch 1/40\n",
      "\n",
      "Epoch 1: val_accuracy improved from -inf to 0.90666, saving model to model_sgd.pkl\n",
      "1069/1069 - 58s - loss: 0.8635 - accuracy: 0.7507 - val_loss: 0.3231 - val_accuracy: 0.9067 - 58s/epoch - 55ms/step\n",
      "Epoch 2/40\n",
      "\n",
      "Epoch 2: val_accuracy improved from 0.90666 to 0.95033, saving model to model_sgd.pkl\n",
      "1069/1069 - 56s - loss: 0.2221 - accuracy: 0.9342 - val_loss: 0.1736 - val_accuracy: 0.9503 - 56s/epoch - 52ms/step\n",
      "Epoch 3/40\n",
      "\n",
      "Epoch 3: val_accuracy improved from 0.95033 to 0.95691, saving model to model_sgd.pkl\n",
      "1069/1069 - 57s - loss: 0.1728 - accuracy: 0.9489 - val_loss: 0.1546 - val_accuracy: 0.9569 - 57s/epoch - 53ms/step\n",
      "Epoch 4/40\n",
      "\n",
      "Epoch 4: val_accuracy improved from 0.95691 to 0.95855, saving model to model_sgd.pkl\n",
      "1069/1069 - 56s - loss: 0.1371 - accuracy: 0.9601 - val_loss: 0.1463 - val_accuracy: 0.9586 - 56s/epoch - 52ms/step\n",
      "Epoch 5/40\n",
      "\n",
      "Epoch 5: val_accuracy improved from 0.95855 to 0.96045, saving model to model_sgd.pkl\n",
      "1069/1069 - 57s - loss: 0.1211 - accuracy: 0.9651 - val_loss: 0.1373 - val_accuracy: 0.9605 - 57s/epoch - 53ms/step\n",
      "Epoch 6/40\n",
      "\n",
      "Epoch 6: val_accuracy improved from 0.96045 to 0.96642, saving model to model_sgd.pkl\n",
      "1069/1069 - 55s - loss: 0.1096 - accuracy: 0.9681 - val_loss: 0.1176 - val_accuracy: 0.9664 - 55s/epoch - 52ms/step\n",
      "Epoch 7/40\n",
      "\n",
      "Epoch 7: val_accuracy improved from 0.96642 to 0.97028, saving model to model_sgd.pkl\n",
      "1069/1069 - 56s - loss: 0.1007 - accuracy: 0.9715 - val_loss: 0.1042 - val_accuracy: 0.9703 - 56s/epoch - 52ms/step\n",
      "Epoch 8/40\n",
      "\n",
      "Epoch 8: val_accuracy improved from 0.97028 to 0.97353, saving model to model_sgd.pkl\n",
      "1069/1069 - 56s - loss: 0.0945 - accuracy: 0.9722 - val_loss: 0.0974 - val_accuracy: 0.9735 - 56s/epoch - 52ms/step\n",
      "Epoch 9/40\n",
      "\n",
      "Epoch 9: val_accuracy improved from 0.97353 to 0.97505, saving model to model_sgd.pkl\n",
      "1069/1069 - 56s - loss: 0.0910 - accuracy: 0.9739 - val_loss: 0.0932 - val_accuracy: 0.9750 - 56s/epoch - 52ms/step\n",
      "Epoch 10/40\n",
      "\n",
      "Epoch 10: val_accuracy improved from 0.97505 to 0.97619, saving model to model_sgd.pkl\n",
      "1069/1069 - 56s - loss: 0.0855 - accuracy: 0.9749 - val_loss: 0.0890 - val_accuracy: 0.9762 - 56s/epoch - 52ms/step\n",
      "Epoch 11/40\n",
      "\n",
      "Epoch 11: val_accuracy did not improve from 0.97619\n",
      "1069/1069 - 55s - loss: 0.0814 - accuracy: 0.9767 - val_loss: 0.0946 - val_accuracy: 0.9728 - 55s/epoch - 51ms/step\n",
      "Epoch 12/40\n",
      "\n",
      "Epoch 12: val_accuracy did not improve from 0.97619\n",
      "1069/1069 - 55s - loss: 0.0779 - accuracy: 0.9773 - val_loss: 0.0850 - val_accuracy: 0.9762 - 55s/epoch - 51ms/step\n",
      "Epoch 13/40\n",
      "\n",
      "Epoch 13: val_accuracy did not improve from 0.97619\n",
      "1069/1069 - 56s - loss: 0.0761 - accuracy: 0.9782 - val_loss: 0.0858 - val_accuracy: 0.9755 - 56s/epoch - 52ms/step\n",
      "Epoch 14/40\n",
      "\n",
      "Epoch 14: val_accuracy improved from 0.97619 to 0.97835, saving model to model_sgd.pkl\n",
      "1069/1069 - 66s - loss: 0.0744 - accuracy: 0.9786 - val_loss: 0.0787 - val_accuracy: 0.9784 - 66s/epoch - 62ms/step\n",
      "Epoch 15/40\n",
      "\n",
      "Epoch 15: val_accuracy did not improve from 0.97835\n",
      "1069/1069 - 55s - loss: 0.0707 - accuracy: 0.9794 - val_loss: 0.0837 - val_accuracy: 0.9774 - 55s/epoch - 52ms/step\n",
      "Epoch 16/40\n",
      "\n",
      "Epoch 16: val_accuracy did not improve from 0.97835\n",
      "1069/1069 - 56s - loss: 0.0693 - accuracy: 0.9802 - val_loss: 0.0839 - val_accuracy: 0.9770 - 56s/epoch - 52ms/step\n",
      "Epoch 17/40\n",
      "\n",
      "Epoch 17: val_accuracy did not improve from 0.97835\n",
      "1069/1069 - 56s - loss: 0.0677 - accuracy: 0.9802 - val_loss: 0.0820 - val_accuracy: 0.9781 - 56s/epoch - 52ms/step\n",
      "Epoch 18/40\n",
      "\n",
      "Epoch 18: val_accuracy did not improve from 0.97835\n",
      "1069/1069 - 55s - loss: 0.0664 - accuracy: 0.9808 - val_loss: 0.0800 - val_accuracy: 0.9782 - 55s/epoch - 52ms/step\n",
      "Epoch 19/40\n",
      "\n",
      "Epoch 19: val_accuracy improved from 0.97835 to 0.98069, saving model to model_sgd.pkl\n",
      "1069/1069 - 56s - loss: 0.0652 - accuracy: 0.9812 - val_loss: 0.0722 - val_accuracy: 0.9807 - 56s/epoch - 52ms/step\n",
      "Epoch 20/40\n",
      "\n",
      "Epoch 20: val_accuracy did not improve from 0.98069\n",
      "1069/1069 - 55s - loss: 0.0635 - accuracy: 0.9812 - val_loss: 0.0753 - val_accuracy: 0.9800 - 55s/epoch - 51ms/step\n",
      "Epoch 21/40\n",
      "\n",
      "Epoch 21: val_accuracy did not improve from 0.98069\n",
      "1069/1069 - 56s - loss: 0.0611 - accuracy: 0.9822 - val_loss: 0.0693 - val_accuracy: 0.9806 - 56s/epoch - 52ms/step\n",
      "Epoch 22/40\n",
      "\n",
      "Epoch 22: val_accuracy did not improve from 0.98069\n",
      "1069/1069 - 56s - loss: 0.0613 - accuracy: 0.9824 - val_loss: 0.0775 - val_accuracy: 0.9793 - 56s/epoch - 52ms/step\n",
      "Epoch 23/40\n",
      "\n",
      "Epoch 23: val_accuracy did not improve from 0.98069\n",
      "1069/1069 - 55s - loss: 0.0594 - accuracy: 0.9821 - val_loss: 0.0717 - val_accuracy: 0.9804 - 55s/epoch - 52ms/step\n",
      "Epoch 24/40\n",
      "\n",
      "Epoch 24: val_accuracy did not improve from 0.98069\n",
      "1069/1069 - 55s - loss: 0.0588 - accuracy: 0.9830 - val_loss: 0.0739 - val_accuracy: 0.9801 - 55s/epoch - 52ms/step\n",
      "Epoch 25/40\n",
      "\n",
      "Epoch 25: val_accuracy did not improve from 0.98069\n",
      "1069/1069 - 54s - loss: 0.0580 - accuracy: 0.9830 - val_loss: 0.0731 - val_accuracy: 0.9802 - 54s/epoch - 51ms/step\n",
      "Epoch 26/40\n",
      "\n",
      "Epoch 26: val_accuracy improved from 0.98069 to 0.98213, saving model to model_sgd.pkl\n",
      "1069/1069 - 56s - loss: 0.0565 - accuracy: 0.9833 - val_loss: 0.0702 - val_accuracy: 0.9821 - 56s/epoch - 53ms/step\n",
      "Epoch 27/40\n",
      "\n",
      "Epoch 27: val_accuracy did not improve from 0.98213\n",
      "1069/1069 - 55s - loss: 0.0568 - accuracy: 0.9834 - val_loss: 0.0735 - val_accuracy: 0.9795 - 55s/epoch - 51ms/step\n",
      "Epoch 28/40\n",
      "\n",
      "Epoch 28: val_accuracy did not improve from 0.98213\n",
      "1069/1069 - 55s - loss: 0.0552 - accuracy: 0.9839 - val_loss: 0.0712 - val_accuracy: 0.9813 - 55s/epoch - 51ms/step\n",
      "Epoch 29/40\n",
      "\n",
      "Epoch 29: val_accuracy improved from 0.98213 to 0.98230, saving model to model_sgd.pkl\n",
      "1069/1069 - 56s - loss: 0.0553 - accuracy: 0.9838 - val_loss: 0.0662 - val_accuracy: 0.9823 - 56s/epoch - 52ms/step\n",
      "Epoch 30/40\n",
      "\n",
      "Epoch 30: val_accuracy did not improve from 0.98230\n",
      "1069/1069 - 55s - loss: 0.0530 - accuracy: 0.9847 - val_loss: 0.0742 - val_accuracy: 0.9803 - 55s/epoch - 51ms/step\n",
      "Epoch 31/40\n",
      "\n",
      "Epoch 31: val_accuracy did not improve from 0.98230\n",
      "1069/1069 - 54s - loss: 0.0524 - accuracy: 0.9846 - val_loss: 0.0701 - val_accuracy: 0.9809 - 54s/epoch - 51ms/step\n",
      "Epoch 32/40\n",
      "\n",
      "Epoch 32: val_accuracy improved from 0.98230 to 0.98242, saving model to model_sgd.pkl\n",
      "1069/1069 - 56s - loss: 0.0524 - accuracy: 0.9846 - val_loss: 0.0675 - val_accuracy: 0.9824 - 56s/epoch - 53ms/step\n",
      "Epoch 33/40\n",
      "\n",
      "Epoch 33: val_accuracy did not improve from 0.98242\n",
      "1069/1069 - 55s - loss: 0.0507 - accuracy: 0.9853 - val_loss: 0.0722 - val_accuracy: 0.9806 - 55s/epoch - 52ms/step\n",
      "Epoch 34/40\n",
      "\n",
      "Epoch 34: val_accuracy improved from 0.98242 to 0.98306, saving model to model_sgd.pkl\n",
      "1069/1069 - 56s - loss: 0.0505 - accuracy: 0.9850 - val_loss: 0.0636 - val_accuracy: 0.9831 - 56s/epoch - 53ms/step\n",
      "Epoch 35/40\n",
      "\n",
      "Epoch 35: val_accuracy did not improve from 0.98306\n",
      "1069/1069 - 55s - loss: 0.0500 - accuracy: 0.9857 - val_loss: 0.0659 - val_accuracy: 0.9824 - 55s/epoch - 51ms/step\n",
      "Epoch 36/40\n",
      "\n",
      "Epoch 36: val_accuracy did not improve from 0.98306\n",
      "1069/1069 - 55s - loss: 0.0501 - accuracy: 0.9852 - val_loss: 0.0647 - val_accuracy: 0.9821 - 55s/epoch - 51ms/step\n",
      "Epoch 37/40\n",
      "\n",
      "Epoch 37: val_accuracy did not improve from 0.98306\n",
      "1069/1069 - 54s - loss: 0.0494 - accuracy: 0.9855 - val_loss: 0.0718 - val_accuracy: 0.9804 - 54s/epoch - 51ms/step\n",
      "Epoch 38/40\n",
      "\n",
      "Epoch 38: val_accuracy improved from 0.98306 to 0.98309, saving model to model_sgd.pkl\n",
      "1069/1069 - 54s - loss: 0.0482 - accuracy: 0.9860 - val_loss: 0.0644 - val_accuracy: 0.9831 - 54s/epoch - 51ms/step\n",
      "Epoch 39/40\n",
      "\n",
      "Epoch 39: val_accuracy did not improve from 0.98309\n",
      "1069/1069 - 54s - loss: 0.0497 - accuracy: 0.9852 - val_loss: 0.0658 - val_accuracy: 0.9826 - 54s/epoch - 50ms/step\n",
      "Epoch 40/40\n",
      "\n",
      "Epoch 40: val_accuracy did not improve from 0.98309\n",
      "1069/1069 - 54s - loss: 0.0472 - accuracy: 0.9861 - val_loss: 0.0655 - val_accuracy: 0.9827 - 54s/epoch - 50ms/step\n"
     ]
    },
    {
     "data": {
      "text/plain": [
       "<keras.callbacks.History at 0x7d3feffd97e0>"
      ]
     },
     "execution_count": 7,
     "metadata": {},
     "output_type": "execute_result"
    }
   ],
   "source": [
    "model=Sequential()\n",
    "model.add(Conv2D(16,(3,3),activation=\"relu\"))\n",
    "model.add(MaxPooling2D(strides=(1,1)))\n",
    "model.add(Conv2D(8,(3,3),activation=\"relu\"))\n",
    "model.add(MaxPooling2D(strides=(1,1)))\n",
    "model.add(Conv2D(8,(3,3),activation=\"relu\"))\n",
    "model.add(MaxPooling2D(strides=(1,1)))\n",
    "model.add(Flatten())\n",
    "\n",
    "# The dense layer is a neural network layer that is connected deeply, \n",
    "# which means each neuron in the dense layer receives input from all neurons of its previous layer. \n",
    "# The dense layer is found to be the most commonly used layer in the models.\n",
    "\n",
    "model.add(Dense(128,activation=\"relu\")) \n",
    "model.add(Dense(64,activation=\"relu\"))\n",
    "model.add(Dense(26,activation=\"softmax\"))\n",
    "model.compile(loss=losses.categorical_crossentropy,metrics=[\"accuracy\"],optimizer=SGD(learning_rate=0.05))\n",
    "checkpoint = ModelCheckpoint(filepath=\"model_sgd.pkl\",monitor=\"val_accuracy\",verbose=2,save_best_only=True,mode=\"max\")\n",
    "model.fit(datagen.flow(X_train, y_train, batch_size=128,subset=\"training\"),\n",
    "          validation_data=datagen.flow(X_train, y_train, batch_size=128,subset=\"validation\"),\n",
    "          epochs=40,batch_size=128,verbose=2,callbacks=[checkpoint])"
   ]
  },
  {
   "cell_type": "code",
   "execution_count": 8,
   "id": "c9999da1",
   "metadata": {
    "execution": {
     "iopub.execute_input": "2023-08-24T18:43:18.841800Z",
     "iopub.status.busy": "2023-08-24T18:43:18.840236Z",
     "iopub.status.idle": "2023-08-24T18:43:21.918755Z",
     "shell.execute_reply": "2023-08-24T18:43:21.917632Z"
    },
    "papermill": {
     "duration": 3.096843,
     "end_time": "2023-08-24T18:43:21.920987",
     "exception": false,
     "start_time": "2023-08-24T18:43:18.824144",
     "status": "completed"
    },
    "tags": []
   },
   "outputs": [
    {
     "name": "stdout",
     "output_type": "stream",
     "text": [
      "943/943 [==============================] - 2s 2ms/step\n"
     ]
    },
    {
     "data": {
      "text/plain": [
       "0.9862091828277806"
      ]
     },
     "execution_count": 8,
     "metadata": {},
     "output_type": "execute_result"
    }
   ],
   "source": [
    "y_predict=model.predict(X_test)\n",
    "y_predict = np.argmax(y_predict,axis=1)\n",
    "accuracy_score(y_predict,y_test)"
   ]
  },
  {
   "cell_type": "code",
   "execution_count": 9,
   "id": "beed50f3",
   "metadata": {
    "execution": {
     "iopub.execute_input": "2023-08-24T18:43:21.957830Z",
     "iopub.status.busy": "2023-08-24T18:43:21.957476Z",
     "iopub.status.idle": "2023-08-24T18:43:22.043020Z",
     "shell.execute_reply": "2023-08-24T18:43:22.041735Z"
    },
    "papermill": {
     "duration": 0.106564,
     "end_time": "2023-08-24T18:43:22.045387",
     "exception": false,
     "start_time": "2023-08-24T18:43:21.938823",
     "status": "completed"
    },
    "tags": []
   },
   "outputs": [
    {
     "name": "stdout",
     "output_type": "stream",
     "text": [
      "              precision    recall  f1-score   support\n",
      "\n",
      "           0       0.99      0.98      0.99      1143\n",
      "           1       0.97      0.99      0.98       679\n",
      "           2       0.98      0.99      0.99      1797\n",
      "           3       0.95      0.97      0.96       778\n",
      "           4       0.99      0.98      0.99       949\n",
      "           5       0.97      0.98      0.98       169\n",
      "           6       0.99      0.96      0.98       476\n",
      "           7       0.97      0.97      0.97       615\n",
      "           8       0.99      0.99      0.99       176\n",
      "           9       0.97      0.98      0.97       698\n",
      "          10       0.98      0.97      0.98       515\n",
      "          11       0.99      0.98      0.98       945\n",
      "          12       0.99      1.00      0.99      1491\n",
      "          13       0.98      0.99      0.99      1464\n",
      "          14       0.99      0.99      0.99      4399\n",
      "          15       0.99      0.99      0.99      1575\n",
      "          16       0.98      0.96      0.97       520\n",
      "          17       0.98      0.99      0.98       892\n",
      "          18       1.00      1.00      1.00      3704\n",
      "          19       0.99      0.99      0.99      1757\n",
      "          20       0.99      0.99      0.99      2199\n",
      "          21       0.98      0.99      0.98       409\n",
      "          22       0.97      0.99      0.98       839\n",
      "          23       0.98      0.99      0.99       511\n",
      "          24       0.99      0.97      0.98       938\n",
      "          25       0.99      0.99      0.99       527\n",
      "\n",
      "    accuracy                           0.99     30165\n",
      "   macro avg       0.98      0.98      0.98     30165\n",
      "weighted avg       0.99      0.99      0.99     30165\n",
      "\n"
     ]
    }
   ],
   "source": [
    "print(classification_report(y_predict,y_test))"
   ]
  },
  {
   "cell_type": "code",
   "execution_count": 10,
   "id": "97be00cf",
   "metadata": {
    "execution": {
     "iopub.execute_input": "2023-08-24T18:43:22.085499Z",
     "iopub.status.busy": "2023-08-24T18:43:22.083881Z",
     "iopub.status.idle": "2023-08-24T18:43:22.185163Z",
     "shell.execute_reply": "2023-08-24T18:43:22.184086Z"
    },
    "papermill": {
     "duration": 0.122551,
     "end_time": "2023-08-24T18:43:22.187645",
     "exception": false,
     "start_time": "2023-08-24T18:43:22.065094",
     "status": "completed"
    },
    "tags": []
   },
   "outputs": [
    {
     "data": {
      "text/plain": [
       "'/kaggle/working/model_sgd.pkl.zip'"
      ]
     },
     "execution_count": 10,
     "metadata": {},
     "output_type": "execute_result"
    }
   ],
   "source": [
    "import shutil\n",
    "shutil.make_archive(\"model_sgd.pkl\", 'zip', \"/kaggle/working/model_sgd.pkl\")"
   ]
  },
  {
   "cell_type": "code",
   "execution_count": 11,
   "id": "e65f37ae",
   "metadata": {
    "execution": {
     "iopub.execute_input": "2023-08-24T18:43:22.224957Z",
     "iopub.status.busy": "2023-08-24T18:43:22.224638Z",
     "iopub.status.idle": "2023-08-24T18:43:22.497729Z",
     "shell.execute_reply": "2023-08-24T18:43:22.496644Z"
    },
    "papermill": {
     "duration": 0.294098,
     "end_time": "2023-08-24T18:43:22.500023",
     "exception": false,
     "start_time": "2023-08-24T18:43:22.205925",
     "status": "completed"
    },
    "tags": []
   },
   "outputs": [
    {
     "data": {
      "image/png": "[encoded data removed]",
      "text/plain": [
       "<IPython.core.display.Image object>"
      ]
     },
     "execution_count": 11,
     "metadata": {},
     "output_type": "execute_result"
    }
   ],
   "source": [
    "plot_model(model, to_file='cnn_sgd.png')"
   ]
  },
  {
   "cell_type": "code",
   "execution_count": 12,
   "id": "b95fea60",
   "metadata": {
    "execution": {
     "iopub.execute_input": "2023-08-24T18:43:22.538779Z",
     "iopub.status.busy": "2023-08-24T18:43:22.537893Z",
     "iopub.status.idle": "2023-08-24T18:43:23.362880Z",
     "shell.execute_reply": "2023-08-24T18:43:23.361924Z"
    },
    "papermill": {
     "duration": 0.846369,
     "end_time": "2023-08-24T18:43:23.365647",
     "exception": false,
     "start_time": "2023-08-24T18:43:22.519278",
     "status": "completed"
    },
    "tags": []
   },
   "outputs": [],
   "source": [
    "from keras.models import load_model\n",
    "model1=load_model(\"/kaggle/working/model_sgd.pkl\")"
   ]
  },
  {
   "cell_type": "code",
   "execution_count": 13,
   "id": "b1cf931f",
   "metadata": {
    "execution": {
     "iopub.execute_input": "2023-08-24T18:43:23.403635Z",
     "iopub.status.busy": "2023-08-24T18:43:23.403336Z",
     "iopub.status.idle": "2023-08-24T18:43:26.058868Z",
     "shell.execute_reply": "2023-08-24T18:43:26.057725Z"
    },
    "papermill": {
     "duration": 2.67672,
     "end_time": "2023-08-24T18:43:26.061048",
     "exception": false,
     "start_time": "2023-08-24T18:43:23.384328",
     "status": "completed"
    },
    "tags": []
   },
   "outputs": [
    {
     "name": "stdout",
     "output_type": "stream",
     "text": [
      "943/943 [==============================] - 2s 2ms/step\n"
     ]
    },
    {
     "data": {
      "text/plain": [
       "0.9868722028841372"
      ]
     },
     "execution_count": 13,
     "metadata": {},
     "output_type": "execute_result"
    }
   ],
   "source": [
    "y_predict=model1.predict(X_test)\n",
    "y_predict = np.argmax(y_predict,axis=1)\n",
    "accuracy_score(y_predict,y_test)"
   ]
  },
  {
   "cell_type": "code",
   "execution_count": 14,
   "id": "4e67b65a",
   "metadata": {
    "execution": {
     "iopub.execute_input": "2023-08-24T18:43:26.104994Z",
     "iopub.status.busy": "2023-08-24T18:43:26.104659Z",
     "iopub.status.idle": "2023-08-24T18:43:26.184645Z",
     "shell.execute_reply": "2023-08-24T18:43:26.183524Z"
    },
    "papermill": {
     "duration": 0.10408,
     "end_time": "2023-08-24T18:43:26.187062",
     "exception": false,
     "start_time": "2023-08-24T18:43:26.082982",
     "status": "completed"
    },
    "tags": []
   },
   "outputs": [
    {
     "name": "stdout",
     "output_type": "stream",
     "text": [
      "              precision    recall  f1-score   support\n",
      "\n",
      "           0       0.99      0.99      0.99      1141\n",
      "           1       0.99      0.98      0.99       695\n",
      "           2       0.98      0.99      0.99      1795\n",
      "           3       0.97      0.92      0.94       837\n",
      "           4       0.99      0.99      0.99       935\n",
      "           5       0.97      0.99      0.98       168\n",
      "           6       0.98      0.99      0.98       457\n",
      "           7       0.98      0.98      0.98       614\n",
      "           8       0.98      0.98      0.98       177\n",
      "           9       0.96      0.98      0.97       688\n",
      "          10       0.97      0.97      0.97       510\n",
      "          11       0.99      0.97      0.98       947\n",
      "          12       1.00      0.99      0.99      1512\n",
      "          13       0.99      0.99      0.99      1486\n",
      "          14       0.98      0.99      0.99      4320\n",
      "          15       0.99      0.99      0.99      1577\n",
      "          16       0.98      0.98      0.98       502\n",
      "          17       0.99      0.98      0.98       905\n",
      "          18       1.00      1.00      1.00      3706\n",
      "          19       1.00      0.99      0.99      1759\n",
      "          20       0.99      0.99      0.99      2208\n",
      "          21       0.98      1.00      0.99       411\n",
      "          22       0.97      0.99      0.98       841\n",
      "          23       0.98      0.99      0.98       508\n",
      "          24       0.99      0.97      0.98       943\n",
      "          25       0.98      0.99      0.99       523\n",
      "\n",
      "    accuracy                           0.99     30165\n",
      "   macro avg       0.98      0.98      0.98     30165\n",
      "weighted avg       0.99      0.99      0.99     30165\n",
      "\n"
     ]
    }
   ],
   "source": [
    "print(classification_report(y_predict,y_test))"
   ]
  },
  {
   "cell_type": "code",
   "execution_count": 15,
   "id": "c0a37134",
   "metadata": {
    "execution": {
     "iopub.execute_input": "2023-08-24T18:43:26.230834Z",
     "iopub.status.busy": "2023-08-24T18:43:26.230521Z",
     "iopub.status.idle": "2023-08-24T18:43:26.262288Z",
     "shell.execute_reply": "2023-08-24T18:43:26.261328Z"
    },
    "papermill": {
     "duration": 0.071234,
     "end_time": "2023-08-24T18:43:26.280091",
     "exception": false,
     "start_time": "2023-08-24T18:43:26.208857",
     "status": "completed"
    },
    "tags": []
   },
   "outputs": [
    {
     "name": "stdout",
     "output_type": "stream",
     "text": [
      "Model: \"sequential\"\n",
      "_________________________________________________________________\n",
      " Layer (type)                Output Shape              Param #   \n",
      "=================================================================\n",
      " conv2d (Conv2D)             (None, None, None, 16)    160       \n",
      "                                                                 \n",
      " max_pooling2d (MaxPooling2D  (None, None, None, 16)   0         \n",
      " )                                                               \n",
      "                                                                 \n",
      " conv2d_1 (Conv2D)           (None, None, None, 8)     1160      \n",
      "                                                                 \n",
      " max_pooling2d_1 (MaxPooling  (None, None, None, 8)    0         \n",
      " 2D)                                                             \n",
      "                                                                 \n",
      " conv2d_2 (Conv2D)           (None, None, None, 8)     584       \n",
      "                                                                 \n",
      " max_pooling2d_2 (MaxPooling  (None, None, None, 8)    0         \n",
      " 2D)                                                             \n",
      "                                                                 \n",
      " flatten (Flatten)           (None, None)              0         \n",
      "                                                                 \n",
      " dense (Dense)               (None, 128)               369792    \n",
      "                                                                 \n",
      " dense_1 (Dense)             (None, 64)                8256      \n",
      "                                                                 \n",
      " dense_2 (Dense)             (None, 26)                1690      \n",
      "                                                                 \n",
      "=================================================================\n",
      "Total params: 381,642\n",
      "Trainable params: 381,642\n",
      "Non-trainable params: 0\n",
      "_________________________________________________________________\n"
     ]
    }
   ],
   "source": [
    "model.summary()"
   ]
  },
  {
   "cell_type": "code",
   "execution_count": null,
   "id": "aeda6bd1",
   "metadata": {
    "papermill": {
     "duration": 0.022609,
     "end_time": "2023-08-24T18:43:26.325879",
     "exception": false,
     "start_time": "2023-08-24T18:43:26.303270",
     "status": "completed"
    },
    "tags": []
   },
   "outputs": [],
   "source": []
  }
 ],
 "metadata": {
  "kernelspec": {
   "display_name": "Python 3",
   "language": "python",
   "name": "python3"
  },
  "language_info": {
   "codemirror_mode": {
    "name": "ipython",
    "version": 3
   },
   "file_extension": ".py",
   "mimetype": "text/x-python",
   "name": "python",
   "nbconvert_exporter": "python",
   "pygments_lexer": "ipython3",
   "version": "3.10.12"
  },
  "papermill": {
   "default_parameters": {},
   "duration": 2657.229432,
   "end_time": "2023-08-24T18:43:30.132109",
   "environment_variables": {},
   "exception": null,
   "input_path": "__notebook__.ipynb",
   "output_path": "__notebook__.ipynb",
   "parameters": {},
   "start_time": "2023-08-24T17:59:12.902677",
   "version": "2.4.0"
  }
 },
 "nbformat": 4,
 "nbformat_minor": 5
}
