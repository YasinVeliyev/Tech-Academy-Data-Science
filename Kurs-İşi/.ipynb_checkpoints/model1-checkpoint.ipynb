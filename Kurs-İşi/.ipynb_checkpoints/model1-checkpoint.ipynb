{
  "nbformat": 4,
  "nbformat_minor": 0,
  "metadata": {
    "colab": {
      "provenance": []
    },
    "kernelspec": {
      "name": "python3",
      "display_name": "Python 3"
    },
    "language_info": {
      "name": "python"
    }
  },
  "cells": [
    {
      "cell_type": "code",
      "source": [
        "import pandas as pd\n",
        "import numpy as np\n",
        "from sklearn.model_selection import train_test_split\n",
        "from keras.layers import Dense,Conv2D,MaxPooling2D,Flatten,Dropout\n",
        "from keras import Sequential\n",
        "from keras import losses\n",
        "from keras.utils import np_utils\n",
        "from sklearn.metrics import *"
      ],
      "metadata": {
        "id": "eTKq3XZM-j4g"
      },
      "execution_count": 2,
      "outputs": []
    },
    {
      "cell_type": "code",
      "execution_count": 3,
      "metadata": {
        "id": "6X9-Slzx-Wa9"
      },
      "outputs": [],
      "source": [
        "# df = pd.read_csv(\"/content/drive/MyDrive/Kurs-isi/A_Z Handwritten Data.csv\")\n",
        "# df = df.sample(frac=1)"
      ]
    },
    {
      "cell_type": "code",
      "source": [
        "df = pd.read_csv(\"/content/drive/MyDrive/Kurs-isi/train2.csv\")\n"
      ],
      "metadata": {
        "id": "3y9yscpmGgSy"
      },
      "execution_count": 4,
      "outputs": []
    },
    {
      "cell_type": "code",
      "source": [
        "X = df.iloc[:,2:]\n",
        "y=df.iloc[:,1]"
      ],
      "metadata": {
        "id": "Lx4_dY-3-kEw"
      },
      "execution_count": 16,
      "outputs": []
    },
    {
      "cell_type": "code",
      "source": [
        "X=X.values.reshape((332450,28,28,1))"
      ],
      "metadata": {
        "id": "UHq1tPCp-8Js"
      },
      "execution_count": 11,
      "outputs": []
    },
    {
      "cell_type": "code",
      "source": [
        "X_train,X_test,y_train,y_test = train_test_split(X,y,train_size=0.80)\n",
        "X_train = X_train/255\n",
        "X_test = X_test/255\n",
        "y_train=np_utils.to_categorical(y_train)"
      ],
      "metadata": {
        "id": "BuejPdKXD435"
      },
      "execution_count": 12,
      "outputs": []
    },
    {
      "cell_type": "code",
      "source": [
        "model=Sequential()\n",
        "model.add(Conv2D(8,(3,3),activation=\"relu\"))\n",
        "model.add(MaxPooling2D(strides=(1,1)))\n",
        "model.add(Conv2D(4,(3,3),activation=\"relu\"))\n",
        "model.add(MaxPooling2D(strides=(1,1)))\n",
        "model.add(Dense(64,activation=\"relu\"))\n",
        "model.add(Dropout(0.3))\n",
        "model.add(Dense(32,activation=\"relu\"))\n",
        "model.add(Flatten())\n",
        "model.add(Dense(26,activation=\"softmax\"))\n",
        "model.compile(loss=losses.categorical_crossentropy,metrics=[\"accuracy\"],optimizer=\"adam\")"
      ],
      "metadata": {
        "id": "Ddfh7KN-_An7"
      },
      "execution_count": 13,
      "outputs": []
    },
    {
      "cell_type": "code",
      "source": [
        "model.fit(X_train,y_train,epochs=10,batch_size=128,verbose=2,validation_split=0.2)"
      ],
      "metadata": {
        "colab": {
          "base_uri": "https://localhost:8080/"
        },
        "id": "a-WTKU09_ENm",
        "outputId": "dac17281-72a0-4c59-d55c-6107123e1ce0"
      },
      "execution_count": 14,
      "outputs": [
        {
          "output_type": "stream",
          "name": "stdout",
          "text": [
            "Epoch 1/10\n",
            "1663/1663 - 357s - loss: 0.2426 - accuracy: 0.9316 - val_loss: 0.1172 - val_accuracy: 0.9676 - 357s/epoch - 215ms/step\n",
            "Epoch 2/10\n",
            "1663/1663 - 366s - loss: 0.0966 - accuracy: 0.9728 - val_loss: 0.0925 - val_accuracy: 0.9746 - 366s/epoch - 220ms/step\n",
            "Epoch 3/10\n",
            "1663/1663 - 356s - loss: 0.0712 - accuracy: 0.9800 - val_loss: 0.0721 - val_accuracy: 0.9806 - 356s/epoch - 214ms/step\n",
            "Epoch 4/10\n",
            "1663/1663 - 365s - loss: 0.0560 - accuracy: 0.9838 - val_loss: 0.0740 - val_accuracy: 0.9800 - 365s/epoch - 219ms/step\n",
            "Epoch 5/10\n",
            "1663/1663 - 358s - loss: 0.0454 - accuracy: 0.9868 - val_loss: 0.0623 - val_accuracy: 0.9844 - 358s/epoch - 215ms/step\n",
            "Epoch 6/10\n",
            "1663/1663 - 357s - loss: 0.0358 - accuracy: 0.9895 - val_loss: 0.0638 - val_accuracy: 0.9843 - 357s/epoch - 215ms/step\n",
            "Epoch 7/10\n",
            "1663/1663 - 356s - loss: 0.0310 - accuracy: 0.9905 - val_loss: 0.0578 - val_accuracy: 0.9862 - 356s/epoch - 214ms/step\n",
            "Epoch 8/10\n",
            "1663/1663 - 354s - loss: 0.0245 - accuracy: 0.9923 - val_loss: 0.0607 - val_accuracy: 0.9852 - 354s/epoch - 213ms/step\n",
            "Epoch 9/10\n",
            "1663/1663 - 355s - loss: 0.0208 - accuracy: 0.9935 - val_loss: 0.0573 - val_accuracy: 0.9872 - 355s/epoch - 213ms/step\n",
            "Epoch 10/10\n",
            "1663/1663 - 356s - loss: 0.0178 - accuracy: 0.9941 - val_loss: 0.0627 - val_accuracy: 0.9857 - 356s/epoch - 214ms/step\n"
          ]
        },
        {
          "output_type": "execute_result",
          "data": {
            "text/plain": [
              "<keras.callbacks.History at 0x7c8dc4f62530>"
            ]
          },
          "metadata": {},
          "execution_count": 14
        }
      ]
    },
    {
      "cell_type": "code",
      "source": [
        "pd.to_pickle(model,\"cnn_03.pkl\")"
      ],
      "metadata": {
        "id": "k2OR1HRtDUj9"
      },
      "execution_count": 17,
      "outputs": []
    },
    {
      "cell_type": "code",
      "source": [
        "y_predict=model.predict(X_train)"
      ],
      "metadata": {
        "colab": {
          "base_uri": "https://localhost:8080/"
        },
        "id": "DWPFilQPFlo_",
        "outputId": "5d4feb82-c55b-4f2b-d0f1-ccf693af16e0"
      },
      "execution_count": 21,
      "outputs": [
        {
          "output_type": "stream",
          "name": "stdout",
          "text": [
            "8312/8312 [==============================] - 125s 15ms/step\n"
          ]
        }
      ]
    },
    {
      "cell_type": "code",
      "source": [
        "y_pred = np.argmax(y_predict,axis=1)"
      ],
      "metadata": {
        "id": "4ZdKo6z8VjCD"
      },
      "execution_count": 27,
      "outputs": []
    },
    {
      "cell_type": "code",
      "source": [
        "accuracy_score(y_pred,np.argmax(y_train,axis=1))"
      ],
      "metadata": {
        "colab": {
          "base_uri": "https://localhost:8080/"
        },
        "id": "akR2TPNHV232",
        "outputId": "3dbc0b29-d8dd-4d79-877c-21b77fd24d2b"
      },
      "execution_count": 29,
      "outputs": [
        {
          "output_type": "execute_result",
          "data": {
            "text/plain": [
              "0.9939727778613325"
            ]
          },
          "metadata": {},
          "execution_count": 29
        }
      ]
    },
    {
      "cell_type": "code",
      "source": [
        "y_pred"
      ],
      "metadata": {
        "colab": {
          "base_uri": "https://localhost:8080/"
        },
        "id": "yDy8IHb_V6Fu",
        "outputId": "46063f28-c134-420f-94bc-f4916adddc55"
      },
      "execution_count": 28,
      "outputs": [
        {
          "output_type": "execute_result",
          "data": {
            "text/plain": [
              "array([19, 21, 17, ...,  0, 20, 16])"
            ]
          },
          "metadata": {},
          "execution_count": 28
        }
      ]
    },
    {
      "cell_type": "code",
      "source": [
        "/"
      ],
      "metadata": {
        "id": "sqMcbPn9Xv03"
      },
      "execution_count": null,
      "outputs": []
    }
  ]
}