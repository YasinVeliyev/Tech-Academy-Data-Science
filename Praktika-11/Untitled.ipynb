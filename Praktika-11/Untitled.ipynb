{
 "cells": [
  {
   "cell_type": "code",
   "execution_count": 3,
   "id": "53462dbf-6196-4e75-9405-50329a33a112",
   "metadata": {},
   "outputs": [],
   "source": [
    "import pandas as pd\n",
    "import re\n",
    "import numpy as np\n",
    "import matplotlib.pyplot as plt\n",
    "from keras.models import Sequential\n",
    "from keras.layers import Dense,Dropout,Flatten,BatchNormalization\n",
    "from keras.layers.convolutional import Convolution2D,MaxPooling2D\n",
    "from keras.utils import np_utils\n",
    "from keras.losses import *\n",
    "import tensorflow as tf\n",
    "from keras.preprocessing.image import ImageDataGenerator"
   ]
  },
  {
   "cell_type": "code",
   "execution_count": 4,
   "id": "86399cfb-102c-4d2b-9376-10518df38b00",
   "metadata": {},
   "outputs": [],
   "source": [
    "from sklearn.metrics import *"
   ]
  },
  {
   "cell_type": "code",
   "execution_count": 5,
   "id": "54ed6e95-684d-4707-b3ff-3a005e062322",
   "metadata": {},
   "outputs": [],
   "source": [
    "# dataTrain=pd.read_csv(\"HandChars32_150_Train.txt\",sep=\"[0-9]{2,}#00#[0-9]{2,}#32#32#\",engine=\"python\")\n",
    "# dataTest=pd.read_csv(\"HandChars32_50_Test.txt\",sep=\"[0-9]{2,}#[0-9]{2,}#[0-9]{2,}#32#32#\",engine=\"python\")\n",
    "\n",
    "dataTrain=pd.read_csv(\"HandChars32_150_Train.txt\",sep=\"#\",engine=\"python\")\n",
    "dataTest=pd.read_csv(\"HandChars32_50_Test.txt\",sep=\"#\",engine=\"python\")\n",
    "data=pd.concat([dataTrain,dataTest])\n",
    "data=data.reset_index()\n",
    "data.drop(\"index\",inplace=True,axis=1)\n",
    "\n",
    "X_data=data[\"Data\"].copy()\n",
    "Y_data=data[\"PatN\"].copy()\n",
    "Y=np_utils.to_categorical(Y_data)"
   ]
  },
  {
   "cell_type": "code",
   "execution_count": 6,
   "id": "b85fe813-1629-4e35-bfbb-01673b0d9273",
   "metadata": {
    "tags": []
   },
   "outputs": [],
   "source": [
    "X=[]\n",
    "for i in X_data:\n",
    "    X.append([float(j) for j in i])\n",
    "X=np.array(X).reshape(5600,32,32,1)"
   ]
  },
  {
   "cell_type": "code",
   "execution_count": 11,
   "id": "b83447fe-f0dd-490b-bb04-8b6e5ee00600",
   "metadata": {},
   "outputs": [],
   "source": [
    "datagen=ImageDataGenerator(\n",
    "    width_shift_range=[-50,0,50,40,-30,60,70,80]\n",
    "    #width_shift_range=0.35\n",
    ")"
   ]
  },
  {
   "cell_type": "code",
   "execution_count": null,
   "id": "d17767a1-ff6f-4fd4-bacb-3e2db7b4c4f1",
   "metadata": {},
   "outputs": [],
   "source": [
    "X=datagen.flow(X,y=Y)"
   ]
  },
  {
   "cell_type": "code",
   "execution_count": null,
   "id": "30473910-fce9-4974-884b-fad21b6fdd9d",
   "metadata": {},
   "outputs": [],
   "source": [
    "X"
   ]
  },
  {
   "cell_type": "code",
   "execution_count": 50,
   "id": "1d6bfc17-c6f9-46cb-9c74-4b7bb892f8d5",
   "metadata": {},
   "outputs": [],
   "source": [
    "# dataTrain[\"Data\"]=dataTrain[\"Data\"].apply(lambda d:np.array(list(d),dtype=\"int\").reshape(32,32))\n",
    "# dataTest[\"Data\"]=dataTest[\"Data\"].apply(lambda d:np.array(list(d),dtype=\"int\").reshape(32,32))"
   ]
  },
  {
   "cell_type": "code",
   "execution_count": null,
   "id": "3063686f-6050-4c69-b03f-df13f26b5a08",
   "metadata": {},
   "outputs": [],
   "source": []
  },
  {
   "cell_type": "code",
   "execution_count": 81,
   "id": "2f779af0-1b6e-4ada-9b95-55f2b242c075",
   "metadata": {},
   "outputs": [
    {
     "data": {
      "text/plain": [
       "32"
      ]
     },
     "execution_count": 81,
     "metadata": {},
     "output_type": "execute_result"
    }
   ],
   "source": [
    "len(X[0])"
   ]
  },
  {
   "cell_type": "code",
   "execution_count": 11,
   "id": "22dec6ff-936b-4fbe-8d85-82d13d5afc2b",
   "metadata": {},
   "outputs": [
    {
     "data": {
      "text/plain": [
       "28"
      ]
     },
     "execution_count": 11,
     "metadata": {},
     "output_type": "execute_result"
    }
   ],
   "source": [
    "len(Y[0])"
   ]
  },
  {
   "cell_type": "code",
   "execution_count": null,
   "id": "70231701-3b76-4635-9222-62492fd8a91f",
   "metadata": {},
   "outputs": [],
   "source": []
  },
  {
   "cell_type": "code",
   "execution_count": null,
   "id": "1b08caa5-70ff-45fa-b71d-2b330368dba5",
   "metadata": {},
   "outputs": [],
   "source": []
  },
  {
   "cell_type": "code",
   "execution_count": null,
   "id": "9094fdbe-6887-43d7-b6b0-f9f40c8423b4",
   "metadata": {},
   "outputs": [],
   "source": []
  },
  {
   "cell_type": "code",
   "execution_count": 82,
   "id": "a76890f4-9393-4b12-bc5f-7d075c227b95",
   "metadata": {},
   "outputs": [
    {
     "data": {
      "text/plain": [
       "<matplotlib.image.AxesImage at 0x7fbeaea45e10>"
      ]
     },
     "execution_count": 82,
     "metadata": {},
     "output_type": "execute_result"
    },
    {
     "data": {
      "image/png": "[encoded data removed]",
      "text/plain": [
       "<Figure size 640x480 with 1 Axes>"
      ]
     },
     "metadata": {},
     "output_type": "display_data"
    }
   ],
   "source": [
    "plt.imshow(X[0])"
   ]
  },
  {
   "cell_type": "code",
   "execution_count": null,
   "id": "b6596703-24e4-4c93-a58b-6365dbba8580",
   "metadata": {},
   "outputs": [],
   "source": []
  },
  {
   "cell_type": "code",
   "execution_count": null,
   "id": "76e25f26-93db-4e0e-898b-144218e47071",
   "metadata": {},
   "outputs": [],
   "source": []
  },
  {
   "cell_type": "code",
   "execution_count": 52,
   "id": "12bb473e-cbef-4050-af50-8d8379661c15",
   "metadata": {},
   "outputs": [],
   "source": [
    "from sklearn.model_selection import  train_test_split\n",
    "\n",
    "def baseline_model():\n",
    "    model=Sequential()\n",
    "    model.add(Convolution2D(32,(3,3),activation=\"relu\"))\n",
    "    model.add(MaxPooling2D(strides=(1,1)))\n",
    "    model.add(Dropout(0.3))\n",
    "    model.add(Flatten())\n",
    "    model.add(Dense(256,activation=\"relu\"))\n",
    "    model.add(Dropout(0.3))\n",
    "    model.add(Dense(28,activation=\"softmax\"))\n",
    "    model.compile(loss=categorical_crossentropy,metrics=[\"accuracy\"],optimizer=\"adam\")\n",
    "    return model"
   ]
  },
  {
   "cell_type": "code",
   "execution_count": null,
   "id": "0110e132-a8f1-4868-960d-f5b9003e820c",
   "metadata": {},
   "outputs": [],
   "source": []
  },
  {
   "cell_type": "code",
   "execution_count": 54,
   "id": "8a8136cd-5596-4fc7-84c8-e6464b2baef4",
   "metadata": {},
   "outputs": [
    {
     "name": "stdout",
     "output_type": "stream",
     "text": [
      "Epoch 1/15\n",
      "15/15 - 7s - loss: 1.9060 - accuracy: 0.4519 - val_loss: 0.8516 - val_accuracy: 0.7685 - 7s/epoch - 467ms/step\n",
      "Epoch 2/15\n",
      "15/15 - 5s - loss: 0.7764 - accuracy: 0.7727 - val_loss: 0.6312 - val_accuracy: 0.8125 - 5s/epoch - 321ms/step\n",
      "Epoch 3/15\n",
      "15/15 - 5s - loss: 0.5022 - accuracy: 0.8534 - val_loss: 0.4980 - val_accuracy: 0.8527 - 5s/epoch - 314ms/step\n",
      "Epoch 4/15\n",
      "15/15 - 5s - loss: 0.3429 - accuracy: 0.8966 - val_loss: 0.4453 - val_accuracy: 0.8673 - 5s/epoch - 311ms/step\n",
      "Epoch 5/15\n",
      "15/15 - 4s - loss: 0.2284 - accuracy: 0.9348 - val_loss: 0.4053 - val_accuracy: 0.8782 - 4s/epoch - 286ms/step\n",
      "Epoch 6/15\n",
      "15/15 - 4s - loss: 0.1589 - accuracy: 0.9523 - val_loss: 0.3969 - val_accuracy: 0.8782 - 4s/epoch - 281ms/step\n",
      "Epoch 7/15\n",
      "15/15 - 4s - loss: 0.1006 - accuracy: 0.9763 - val_loss: 0.3861 - val_accuracy: 0.8814 - 4s/epoch - 286ms/step\n",
      "Epoch 8/15\n",
      "15/15 - 4s - loss: 0.0766 - accuracy: 0.9842 - val_loss: 0.3588 - val_accuracy: 0.8897 - 4s/epoch - 287ms/step\n",
      "Epoch 9/15\n",
      "15/15 - 4s - loss: 0.0619 - accuracy: 0.9849 - val_loss: 0.3818 - val_accuracy: 0.8897 - 4s/epoch - 292ms/step\n",
      "Epoch 10/15\n",
      "15/15 - 4s - loss: 0.0549 - accuracy: 0.9894 - val_loss: 0.3605 - val_accuracy: 0.8954 - 4s/epoch - 296ms/step\n",
      "Epoch 11/15\n",
      "15/15 - 4s - loss: 0.0365 - accuracy: 0.9938 - val_loss: 0.3497 - val_accuracy: 0.8967 - 4s/epoch - 277ms/step\n",
      "Epoch 12/15\n",
      "15/15 - 4s - loss: 0.0335 - accuracy: 0.9918 - val_loss: 0.3525 - val_accuracy: 0.9050 - 4s/epoch - 272ms/step\n",
      "Epoch 13/15\n",
      "15/15 - 4s - loss: 0.0307 - accuracy: 0.9931 - val_loss: 0.3621 - val_accuracy: 0.8941 - 4s/epoch - 275ms/step\n",
      "Epoch 14/15\n",
      "15/15 - 4s - loss: 0.0239 - accuracy: 0.9966 - val_loss: 0.3558 - val_accuracy: 0.9005 - 4s/epoch - 276ms/step\n",
      "Epoch 15/15\n",
      "15/15 - 4s - loss: 0.0212 - accuracy: 0.9966 - val_loss: 0.3663 - val_accuracy: 0.9005 - 4s/epoch - 267ms/step\n"
     ]
    },
    {
     "data": {
      "text/plain": [
       "<keras.callbacks.History at 0x7fbead09df00>"
      ]
     },
     "execution_count": 54,
     "metadata": {},
     "output_type": "execute_result"
    }
   ],
   "source": [
    "X_train,X_test,y_train,y_test=train_test_split(X,Y,train_size=0.8)\n",
    "model=baseline_model()\n",
    "model.fit(X_train,y_train,epochs=15,batch_size=200,verbose=2,validation_split=0.35)"
   ]
  },
  {
   "cell_type": "code",
   "execution_count": 56,
   "id": "c5a76bcf-fa6d-4c72-be6f-1c2693eb3e0b",
   "metadata": {},
   "outputs": [
    {
     "name": "stdout",
     "output_type": "stream",
     "text": [
      "175/175 [==============================] - 3s 19ms/step\n"
     ]
    }
   ],
   "source": [
    "predict_all=model.predict(X)"
   ]
  },
  {
   "cell_type": "code",
   "execution_count": 57,
   "id": "9ecfbc0b-9272-4874-877f-a439c08e2bac",
   "metadata": {},
   "outputs": [
    {
     "name": "stdout",
     "output_type": "stream",
     "text": [
      "              precision    recall  f1-score   support\n",
      "\n",
      "           0       0.97      0.94      0.96       207\n",
      "           1       0.93      0.95      0.94       195\n",
      "           2       0.98      0.95      0.97       207\n",
      "           3       0.93      0.93      0.93       199\n",
      "           4       0.85      0.96      0.90       178\n",
      "           5       0.94      0.99      0.96       188\n",
      "           6       0.97      0.96      0.96       203\n",
      "           7       0.94      0.94      0.94       200\n",
      "           8       0.97      0.93      0.95       208\n",
      "           9       0.98      0.88      0.93       224\n",
      "          10       0.97      0.95      0.96       204\n",
      "          11       0.95      0.95      0.95       202\n",
      "          12       0.92      0.92      0.92       200\n",
      "          13       0.98      0.98      0.98       202\n",
      "          14       0.94      0.97      0.95       194\n",
      "          15       0.93      0.98      0.95       188\n",
      "          16       0.97      0.90      0.93       215\n",
      "          17       0.96      0.95      0.96       202\n",
      "          18       0.90      0.93      0.91       194\n",
      "          19       0.92      0.93      0.92       198\n",
      "          20       0.93      0.97      0.95       192\n",
      "          21       0.93      0.96      0.94       193\n",
      "          22       0.99      0.97      0.98       204\n",
      "          23       0.95      0.98      0.97       193\n",
      "          24       0.97      0.92      0.94       212\n",
      "          25       0.93      0.97      0.95       190\n",
      "          26       0.93      0.91      0.92       205\n",
      "          27       0.97      0.96      0.97       203\n",
      "\n",
      "    accuracy                           0.95      5600\n",
      "   macro avg       0.95      0.95      0.95      5600\n",
      "weighted avg       0.95      0.95      0.95      5600\n",
      "\n"
     ]
    }
   ],
   "source": [
    "t_all=[]\n",
    "for i in predict_all:\n",
    "    t_all.append(np.argmax(i))\n",
    "t_all=np.array(t_all)\n",
    "y_all=[]\n",
    "for i in Y:\n",
    "    y_all.append(np.argmax(i))\n",
    "y_all=np.array(y_all)\n",
    "# y_test=np_utils.to_categorical(y_test)\n",
    "print(classification_report(t_all,y_all))"
   ]
  },
  {
   "cell_type": "code",
   "execution_count": 86,
   "id": "53a53c08-1756-4364-ac5a-1d11c4c2b992",
   "metadata": {},
   "outputs": [],
   "source": [
    "pd.to_pickle(model,\"CNN.pkl\")"
   ]
  },
  {
   "cell_type": "code",
   "execution_count": 58,
   "id": "f5c3f1d6-80ab-4727-94c1-5604fffcc588",
   "metadata": {},
   "outputs": [
    {
     "name": "stdout",
     "output_type": "stream",
     "text": [
      "35/35 [==============================] - 1s 20ms/step\n",
      "              precision    recall  f1-score   support\n",
      "\n",
      "           0       0.92      0.92      0.92        37\n",
      "           1       0.84      0.76      0.80        34\n",
      "           2       0.96      0.93      0.95        29\n",
      "           3       0.88      0.86      0.87        44\n",
      "           4       0.72      0.92      0.81        37\n",
      "           5       0.86      0.97      0.91        38\n",
      "           6       0.88      0.85      0.87        34\n",
      "           7       0.84      0.84      0.84        43\n",
      "           8       0.93      0.87      0.90        30\n",
      "           9       1.00      0.76      0.86        45\n",
      "          10       0.93      0.87      0.90        45\n",
      "          11       0.87      0.82      0.85        40\n",
      "          12       0.82      0.82      0.82        50\n",
      "          13       1.00      0.94      0.97        34\n",
      "          14       0.85      0.89      0.87        37\n",
      "          15       0.85      0.93      0.89        42\n",
      "          16       0.92      0.78      0.85        46\n",
      "          17       0.88      0.84      0.86        45\n",
      "          18       0.72      0.76      0.74        41\n",
      "          19       0.80      0.83      0.81        42\n",
      "          20       0.88      0.96      0.92        47\n",
      "          21       0.78      0.97      0.86        29\n",
      "          22       0.98      0.91      0.94        45\n",
      "          23       0.87      0.95      0.91        42\n",
      "          24       0.95      0.83      0.89        42\n",
      "          25       0.82      0.90      0.86        31\n",
      "          26       0.85      0.83      0.84        48\n",
      "          27       0.95      0.98      0.97        43\n",
      "\n",
      "    accuracy                           0.87      1120\n",
      "   macro avg       0.88      0.88      0.87      1120\n",
      "weighted avg       0.88      0.87      0.87      1120\n",
      "\n"
     ]
    }
   ],
   "source": [
    "test=model.predict(X_test)\n",
    "t=[]\n",
    "for i in test:\n",
    "    t.append(np.argmax(i))\n",
    "predict=np.array(t)\n",
    "\n",
    "test=[]\n",
    "for i in y_test:\n",
    "    test.append(np.argmax(i))\n",
    "test=np.array(test)\n",
    "# y_test=np_utils.to_categorical(y_test)\n",
    "print(classification_report(predict,test))"
   ]
  },
  {
   "cell_type": "code",
   "execution_count": 90,
   "id": "10da4f04-0f8a-4402-a342-9132de7f1c3c",
   "metadata": {},
   "outputs": [],
   "source": [
    "pd.to_pickle(model,\"CNN.pkl\")"
   ]
  },
  {
   "cell_type": "code",
   "execution_count": 70,
   "id": "ce1b7250-298f-43f1-b851-2ba125598948",
   "metadata": {},
   "outputs": [
    {
     "data": {
      "text/plain": [
       "2"
      ]
     },
     "execution_count": 70,
     "metadata": {},
     "output_type": "execute_result"
    }
   ],
   "source": [
    "t[0]"
   ]
  },
  {
   "cell_type": "code",
   "execution_count": null,
   "id": "2abf4ba3-ad9e-4cbb-8bcb-a1ce41b19b2f",
   "metadata": {},
   "outputs": [],
   "source": []
  },
  {
   "cell_type": "code",
   "execution_count": null,
   "id": "eb7a929f-ddc1-48c5-80c3-49513f00854c",
   "metadata": {},
   "outputs": [],
   "source": []
  },
  {
   "cell_type": "code",
   "execution_count": 63,
   "id": "3672cf1d-450e-4754-ad0f-3108e38c1c8d",
   "metadata": {},
   "outputs": [
    {
     "data": {
      "text/plain": [
       "(4200,)"
      ]
     },
     "execution_count": 63,
     "metadata": {},
     "output_type": "execute_result"
    }
   ],
   "source": [
    "dataTrain[\"Data\"].shape"
   ]
  },
  {
   "cell_type": "code",
   "execution_count": 64,
   "id": "018e3d45-b47f-4a20-9247-81d13206d528",
   "metadata": {},
   "outputs": [],
   "source": []
  },
  {
   "cell_type": "code",
   "execution_count": 73,
   "id": "090b9c16-1ea5-46d2-8cba-83f264b965f1",
   "metadata": {},
   "outputs": [],
   "source": []
  },
  {
   "cell_type": "code",
   "execution_count": 74,
   "id": "7226db89-36cb-452f-a42f-bc6198ef0dc5",
   "metadata": {},
   "outputs": [
    {
     "name": "stdout",
     "output_type": "stream",
     "text": [
      "35/35 [==============================] - 1s 19ms/step\n"
     ]
    },
    {
     "data": {
      "text/plain": [
       "array([[1.1168308e-11, 5.5450591e-09, 9.9342066e-01, ..., 1.9978363e-11,\n",
       "        2.8048808e-11, 4.3402679e-07],\n",
       "       [2.9541850e-10, 1.9149777e-05, 2.8003615e-03, ..., 1.5600371e-09,\n",
       "        2.7932677e-07, 1.9308529e-05],\n",
       "       [1.0084462e-09, 1.1639679e-07, 2.4451984e-07, ..., 8.9589690e-12,\n",
       "        4.2699448e-08, 6.3126122e-09],\n",
       "       ...,\n",
       "       [9.6079921e-06, 2.0516269e-07, 1.6582852e-06, ..., 7.0076669e-05,\n",
       "        2.2166248e-07, 2.7117159e-04],\n",
       "       [5.7130892e-06, 3.7794427e-06, 5.6550925e-06, ..., 9.1404828e-10,\n",
       "        1.1615558e-06, 1.3095734e-09],\n",
       "       [5.7766059e-09, 3.3185961e-07, 3.3585981e-11, ..., 3.1608803e-08,\n",
       "        6.9016772e-07, 1.1922045e-12]], dtype=float32)"
      ]
     },
     "execution_count": 74,
     "metadata": {},
     "output_type": "execute_result"
    }
   ],
   "source": []
  },
  {
   "cell_type": "code",
   "execution_count": 87,
   "id": "8e2dbec1-e05b-4a7d-9f04-6e30f8539128",
   "metadata": {},
   "outputs": [],
   "source": [
    "a=pd.read_pickle(\"CNN.pkl\")"
   ]
  },
  {
   "cell_type": "code",
   "execution_count": 89,
   "id": "62922d69-e342-49e0-8582-289d8605a554",
   "metadata": {},
   "outputs": [
    {
     "name": "stdout",
     "output_type": "stream",
     "text": [
      "35/35 [==============================] - 1s 13ms/step\n"
     ]
    },
    {
     "data": {
      "text/plain": [
       "array([[1.1168308e-11, 5.5450591e-09, 9.9342066e-01, ..., 1.9978363e-11,\n",
       "        2.8048808e-11, 4.3402679e-07],\n",
       "       [2.9541850e-10, 1.9149777e-05, 2.8003615e-03, ..., 1.5600371e-09,\n",
       "        2.7932677e-07, 1.9308529e-05],\n",
       "       [1.0084462e-09, 1.1639679e-07, 2.4451984e-07, ..., 8.9589690e-12,\n",
       "        4.2699448e-08, 6.3126122e-09],\n",
       "       ...,\n",
       "       [9.6079921e-06, 2.0516269e-07, 1.6582852e-06, ..., 7.0076669e-05,\n",
       "        2.2166248e-07, 2.7117159e-04],\n",
       "       [5.7130892e-06, 3.7794427e-06, 5.6550925e-06, ..., 9.1404828e-10,\n",
       "        1.1615558e-06, 1.3095734e-09],\n",
       "       [5.7766059e-09, 3.3185961e-07, 3.3585981e-11, ..., 3.1608803e-08,\n",
       "        6.9016772e-07, 1.1922045e-12]], dtype=float32)"
      ]
     },
     "execution_count": 89,
     "metadata": {},
     "output_type": "execute_result"
    }
   ],
   "source": []
  },
  {
   "cell_type": "code",
   "execution_count": null,
   "id": "f437b4eb-9e27-497f-8a7d-ed8bec5d5e39",
   "metadata": {},
   "outputs": [],
   "source": []
  }
 ],
 "metadata": {
  "kernelspec": {
   "display_name": "Python 3 (ipykernel)",
   "language": "python",
   "name": "python3"
  },
  "language_info": {
   "codemirror_mode": {
    "name": "ipython",
    "version": 3
   },
   "file_extension": ".py",
   "mimetype": "text/x-python",
   "name": "python",
   "nbconvert_exporter": "python",
   "pygments_lexer": "ipython3",
   "version": "3.10.6"
  }
 },
 "nbformat": 4,
 "nbformat_minor": 5
}
