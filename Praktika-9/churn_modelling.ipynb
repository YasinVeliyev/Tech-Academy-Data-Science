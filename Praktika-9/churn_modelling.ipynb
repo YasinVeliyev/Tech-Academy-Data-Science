{
 "cells": [
  {
   "cell_type": "code",
   "execution_count": null,
   "id": "64f415d9-2780-4db2-ab59-6bb17834c139",
   "metadata": {},
   "outputs": [],
   "source": [
    "import numpy as np\n",
    "import pandas as pd\n",
    "import matplotlib.pyplot as plt\n",
    "from sklearn.preprocessing import OneHotEncoder,StandardScaler\n",
    "from sklearn.compose import ColumnTransformer\n",
    "from sklearn.model_selection import train_test_split\n",
    "from sklearn.metrics import *"
   ]
  },
  {
   "cell_type": "code",
   "execution_count": 1,
   "id": "b12e55fe-d158-4099-badc-d246eaea8744",
   "metadata": {},
   "outputs": [
    {
     "name": "stderr",
     "output_type": "stream",
     "text": [
      "2023-06-11 14:46:41.676610: I tensorflow/tsl/cuda/cudart_stub.cc:28] Could not find cuda drivers on your machine, GPU will not be used.\n",
      "2023-06-11 14:46:41.873877: I tensorflow/tsl/cuda/cudart_stub.cc:28] Could not find cuda drivers on your machine, GPU will not be used.\n",
      "2023-06-11 14:46:41.874677: I tensorflow/core/platform/cpu_feature_guard.cc:182] This TensorFlow binary is optimized to use available CPU instructions in performance-critical operations.\n",
      "To enable the following instructions: AVX2 FMA, in other operations, rebuild TensorFlow with the appropriate compiler flags.\n",
      "2023-06-11 14:46:42.983538: W tensorflow/compiler/tf2tensorrt/utils/py_utils.cc:38] TF-TRT Warning: Could not find TensorRT\n"
     ]
    }
   ],
   "source": [
    "import tensorflow.keras\n",
    "from tensorflow.keras.models import Sequential\n",
    "from tensorflow.keras.layers import Dense"
   ]
  },
  {
   "cell_type": "code",
   "execution_count": null,
   "id": "9482a429-741a-4629-8244-772deb7b32db",
   "metadata": {},
   "outputs": [],
   "source": [
    "data=pd.read_csv(\"Churn_Modelling.csv\")"
   ]
  },
  {
   "cell_type": "code",
   "execution_count": null,
   "id": "f6358757-21ee-4309-afd3-59f9ecf38b89",
   "metadata": {},
   "outputs": [],
   "source": [
    "data.drop([\"RowNumber\",\"CustomerId\",\"Surname\"],inplace=True,axis=1)"
   ]
  },
  {
   "cell_type": "code",
   "execution_count": null,
   "id": "cdfe599f-df02-4b03-9602-d9398c4e154a",
   "metadata": {},
   "outputs": [],
   "source": [
    "data.info()"
   ]
  },
  {
   "cell_type": "code",
   "execution_count": null,
   "id": "3fb946cb-cc70-41f2-bae1-3ac6ae0f8441",
   "metadata": {},
   "outputs": [],
   "source": [
    "X=data.iloc[:,:-1]\n",
    "Y=data.iloc[:,-1]"
   ]
  },
  {
   "cell_type": "code",
   "execution_count": null,
   "id": "8e1dad6f-7050-44ee-b753-1171e72ae730",
   "metadata": {},
   "outputs": [],
   "source": [
    "X"
   ]
  },
  {
   "cell_type": "code",
   "execution_count": null,
   "id": "e33f0ab1-57c1-49e5-938e-f58776be1b54",
   "metadata": {},
   "outputs": [],
   "source": [
    "data[\"Gender\"].value_counts()"
   ]
  },
  {
   "cell_type": "code",
   "execution_count": null,
   "id": "761a4f73-2124-4c34-b26e-81ee70364d01",
   "metadata": {},
   "outputs": [],
   "source": [
    "data[\"Geography\"].value_counts()"
   ]
  },
  {
   "cell_type": "code",
   "execution_count": null,
   "id": "26e5d6e3-80ba-46e5-8185-fe7711758eb2",
   "metadata": {},
   "outputs": [],
   "source": [
    "transfer=ColumnTransformer(transformers=[(\"cat\",OneHotEncoder(),data.dtypes[data.dtypes==\"object\"].index)],remainder=\"passthrough\")"
   ]
  },
  {
   "cell_type": "code",
   "execution_count": null,
   "id": "c3a654b5-28e3-40ac-a049-df5992de45ac",
   "metadata": {},
   "outputs": [],
   "source": [
    "X=transfer.fit_transform(X)"
   ]
  },
  {
   "cell_type": "code",
   "execution_count": null,
   "id": "2bcc4e62-0b79-45d6-a984-eb1120d3ecfc",
   "metadata": {},
   "outputs": [],
   "source": [
    "len(d[0])"
   ]
  },
  {
   "cell_type": "code",
   "execution_count": null,
   "id": "84fb38a5-bc53-4766-985f-c5900aa43dd9",
   "metadata": {},
   "outputs": [],
   "source": [
    "data.dtypes[data.dtypes==\"object\"].index"
   ]
  },
  {
   "cell_type": "code",
   "execution_count": null,
   "id": "a2f83b88-dd18-4f5f-8f49-b63b3afe0bc2",
   "metadata": {},
   "outputs": [],
   "source": [
    "len(data.columns)"
   ]
  },
  {
   "cell_type": "code",
   "execution_count": null,
   "id": "e3eaf507-ad83-4f90-976b-2738e48dc43c",
   "metadata": {},
   "outputs": [],
   "source": [
    "X_train,X_test,Y_train,Y_test=train_test_split(X,Y,train_size=0.8)"
   ]
  },
  {
   "cell_type": "code",
   "execution_count": null,
   "id": "3e62f84c-1136-4dcb-a901-78b0f6effbf9",
   "metadata": {},
   "outputs": [],
   "source": [
    "scaler=StandardScaler()\n",
    "X_train=scaler.fit_transform(X_train)\n",
    "X_test=scaler.transform(X_test)"
   ]
  },
  {
   "cell_type": "code",
   "execution_count": null,
   "id": "1146248d-c562-46e2-95c8-8e07ca33aced",
   "metadata": {},
   "outputs": [],
   "source": []
  },
  {
   "cell_type": "code",
   "execution_count": null,
   "id": "d51bb9ac-5a23-49da-9d9a-9552e11f6464",
   "metadata": {},
   "outputs": [],
   "source": [
    "classifier=Sequential()\n",
    "classifier.add(Dense(units=8,activation=\"relu\"))\n",
    "classifier.add(Dense(units=6,activation=\"relu\"))\n",
    "classifier.add(Dense(units=1,activation=\"relu\"))\n",
    "classifier.compile(optimizer=\"adam\",loss=\"binary_crossentropy\",metrics=[\"accuracy\"])\n",
    "classifier.fit(X_train,Y_train,batch_size=64,epochs=100)"
   ]
  },
  {
   "cell_type": "code",
   "execution_count": null,
   "id": "73442ec6-1d9b-43d2-9f7d-b352902529ed",
   "metadata": {},
   "outputs": [],
   "source": [
    "from sklearn.datasets import make_regression"
   ]
  },
  {
   "cell_type": "code",
   "execution_count": null,
   "id": "f072f2fa-e204-443a-8381-f039a38d274d",
   "metadata": {},
   "outputs": [],
   "source": [
    "data=make_regression()\n",
    "X=data[0]\n",
    "Y=data[1]"
   ]
  },
  {
   "cell_type": "code",
   "execution_count": null,
   "id": "2c52942e-4bdd-45dc-a5d7-5791275c6dfc",
   "metadata": {},
   "outputs": [],
   "source": [
    "classifier=Sequential()\n",
    "classifier.add(Dense(units=8,activation=\"relu\"))\n",
    "classifier.add(Dense(units=6,activation=\"relu\"))\n",
    "classifier.add(Dense(units=1))\n",
    "classifier.compile(optimizer=\"adam\",loss=\"binary_crossentropy\",metrics=[\"accuracy\"])\n",
    "X_train,X_test,Y_train,Y_test=train_test_split(X,Y,train_size=0.8)\n",
    "classifier.fit(X_train,Y_train,batch_size=128,epochs=100)"
   ]
  },
  {
   "cell_type": "code",
   "execution_count": null,
   "id": "36736abe-b096-4eeb-8684-d0c533e1df10",
   "metadata": {},
   "outputs": [],
   "source": []
  },
  {
   "cell_type": "code",
   "execution_count": null,
   "id": "d42a9903-9b73-439f-981f-10c019d28975",
   "metadata": {},
   "outputs": [],
   "source": [
    "y_prediction=classifier.predict(X_test)\n",
    "y_prediction=y_prediction>0.5\n",
    "print(classification_report(y_prediction,Y_test))"
   ]
  },
  {
   "cell_type": "code",
   "execution_count": null,
   "id": "3b7abcae-9bbf-415c-b494-55315c38d3dc",
   "metadata": {},
   "outputs": [],
   "source": [
    "y_prediction>0.5"
   ]
  },
  {
   "cell_type": "code",
   "execution_count": null,
   "id": "5c67de87-1358-4f38-91a7-aed1d71afca9",
   "metadata": {},
   "outputs": [],
   "source": [
    "Y.value_counts()"
   ]
  },
  {
   "cell_type": "code",
   "execution_count": null,
   "id": "e366943e-7c56-4bb4-a264-6c1fb2df45f0",
   "metadata": {},
   "outputs": [],
   "source": []
  },
  {
   "cell_type": "code",
   "execution_count": null,
   "id": "b107e7e7-8de1-453a-a34d-36ba55c11dac",
   "metadata": {},
   "outputs": [],
   "source": []
  },
  {
   "cell_type": "code",
   "execution_count": null,
   "id": "0934834c-0bdc-46a3-9c77-65d8149f9468",
   "metadata": {},
   "outputs": [],
   "source": [
    "classifier"
   ]
  },
  {
   "cell_type": "code",
   "execution_count": null,
   "id": "9eee77e9-8953-428d-9543-308d03d795ec",
   "metadata": {},
   "outputs": [],
   "source": [
    "np.hstack((X_train,Y_train))"
   ]
  },
  {
   "cell_type": "code",
   "execution_count": null,
   "id": "61b2b54e-afa5-4bdf-9194-9bd8c95d96e8",
   "metadata": {},
   "outputs": [],
   "source": [
    "X_[25]"
   ]
  },
  {
   "cell_type": "code",
   "execution_count": null,
   "id": "06c56d3b-0589-428d-9935-2a2cdf101400",
   "metadata": {},
   "outputs": [],
   "source": [
    "Y_train=Y_train.reshape(3000,1)"
   ]
  },
  {
   "cell_type": "code",
   "execution_count": null,
   "id": "2fac90f4-02d5-4c22-b217-85a03feb0b4d",
   "metadata": {},
   "outputs": [],
   "source": [
    "Y_train"
   ]
  },
  {
   "cell_type": "code",
   "execution_count": null,
   "id": "835d64bc-606d-4275-b997-0d3dcfda6f1a",
   "metadata": {},
   "outputs": [],
   "source": [
    "classifier.fit(X_train,Y_train,batch_size=64,epochs=100)"
   ]
  },
  {
   "cell_type": "code",
   "execution_count": 1,
   "id": "8269d8d6-84f6-4a8e-aa5b-5f5780d6b261",
   "metadata": {},
   "outputs": [
    {
     "ename": "SyntaxError",
     "evalue": "invalid syntax (917766579.py, line 1)",
     "output_type": "error",
     "traceback": [
      "\u001b[0;36m  Cell \u001b[0;32mIn[1], line 1\u001b[0;36m\u001b[0m\n\u001b[0;31m    pip3 install xgboost\u001b[0m\n\u001b[0m         ^\u001b[0m\n\u001b[0;31mSyntaxError\u001b[0m\u001b[0;31m:\u001b[0m invalid syntax\n"
     ]
    }
   ],
   "source": []
  },
  {
   "cell_type": "code",
   "execution_count": null,
   "id": "dd3814b5-a1c9-44e5-b2bd-f324d4fe093f",
   "metadata": {},
   "outputs": [],
   "source": []
  }
 ],
 "metadata": {
  "kernelspec": {
   "display_name": "Python 3 (ipykernel)",
   "language": "python",
   "name": "python3"
  },
  "language_info": {
   "codemirror_mode": {
    "name": "ipython",
    "version": 3
   },
   "file_extension": ".py",
   "mimetype": "text/x-python",
   "name": "python",
   "nbconvert_exporter": "python",
   "pygments_lexer": "ipython3",
   "version": "3.10.6"
  }
 },
 "nbformat": 4,
 "nbformat_minor": 5
}
