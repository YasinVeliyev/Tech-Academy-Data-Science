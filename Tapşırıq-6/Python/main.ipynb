{
 "cells": [
  {
   "cell_type": "code",
   "execution_count": 169,
   "id": "81a4c90b-fe21-4f1d-99a1-c437aab511c7",
   "metadata": {},
   "outputs": [],
   "source": [
    "import pandas as pd\n",
    "import numpy as np\n",
    "import matplotlib.pyplot as plt"
   ]
  },
  {
   "cell_type": "code",
   "execution_count": 170,
   "id": "e2968c77-36f2-4be8-a8e5-644d6af0ef79",
   "metadata": {},
   "outputs": [
    {
     "data": {
      "text/html": [
       "<div>\n",
       "<style scoped>\n",
       "    .dataframe tbody tr th:only-of-type {\n",
       "        vertical-align: middle;\n",
       "    }\n",
       "\n",
       "    .dataframe tbody tr th {\n",
       "        vertical-align: top;\n",
       "    }\n",
       "\n",
       "    .dataframe thead th {\n",
       "        text-align: right;\n",
       "    }\n",
       "</style>\n",
       "<table border=\"1\" class=\"dataframe\">\n",
       "  <thead>\n",
       "    <tr style=\"text-align: right;\">\n",
       "      <th></th>\n",
       "      <th>exam_1</th>\n",
       "      <th>exam_2</th>\n",
       "      <th>admitted</th>\n",
       "    </tr>\n",
       "  </thead>\n",
       "  <tbody>\n",
       "    <tr>\n",
       "      <th>0</th>\n",
       "      <td>34.623660</td>\n",
       "      <td>78.024693</td>\n",
       "      <td>0</td>\n",
       "    </tr>\n",
       "    <tr>\n",
       "      <th>1</th>\n",
       "      <td>30.286711</td>\n",
       "      <td>43.894998</td>\n",
       "      <td>0</td>\n",
       "    </tr>\n",
       "    <tr>\n",
       "      <th>2</th>\n",
       "      <td>35.847409</td>\n",
       "      <td>72.902198</td>\n",
       "      <td>0</td>\n",
       "    </tr>\n",
       "    <tr>\n",
       "      <th>3</th>\n",
       "      <td>60.182599</td>\n",
       "      <td>86.308552</td>\n",
       "      <td>1</td>\n",
       "    </tr>\n",
       "    <tr>\n",
       "      <th>4</th>\n",
       "      <td>79.032736</td>\n",
       "      <td>75.344376</td>\n",
       "      <td>1</td>\n",
       "    </tr>\n",
       "    <tr>\n",
       "      <th>...</th>\n",
       "      <td>...</td>\n",
       "      <td>...</td>\n",
       "      <td>...</td>\n",
       "    </tr>\n",
       "    <tr>\n",
       "      <th>95</th>\n",
       "      <td>83.489163</td>\n",
       "      <td>48.380286</td>\n",
       "      <td>1</td>\n",
       "    </tr>\n",
       "    <tr>\n",
       "      <th>96</th>\n",
       "      <td>42.261701</td>\n",
       "      <td>87.103851</td>\n",
       "      <td>1</td>\n",
       "    </tr>\n",
       "    <tr>\n",
       "      <th>97</th>\n",
       "      <td>99.315009</td>\n",
       "      <td>68.775409</td>\n",
       "      <td>1</td>\n",
       "    </tr>\n",
       "    <tr>\n",
       "      <th>98</th>\n",
       "      <td>55.340018</td>\n",
       "      <td>64.931938</td>\n",
       "      <td>1</td>\n",
       "    </tr>\n",
       "    <tr>\n",
       "      <th>99</th>\n",
       "      <td>74.775893</td>\n",
       "      <td>89.529813</td>\n",
       "      <td>1</td>\n",
       "    </tr>\n",
       "  </tbody>\n",
       "</table>\n",
       "<p>100 rows × 3 columns</p>\n",
       "</div>"
      ],
      "text/plain": [
       "       exam_1     exam_2  admitted\n",
       "0   34.623660  78.024693         0\n",
       "1   30.286711  43.894998         0\n",
       "2   35.847409  72.902198         0\n",
       "3   60.182599  86.308552         1\n",
       "4   79.032736  75.344376         1\n",
       "..        ...        ...       ...\n",
       "95  83.489163  48.380286         1\n",
       "96  42.261701  87.103851         1\n",
       "97  99.315009  68.775409         1\n",
       "98  55.340018  64.931938         1\n",
       "99  74.775893  89.529813         1\n",
       "\n",
       "[100 rows x 3 columns]"
      ]
     },
     "execution_count": 170,
     "metadata": {},
     "output_type": "execute_result"
    }
   ],
   "source": [
    "df=pd.read_csv(\"exams.csv\")\n",
    "data=df.copy()\n",
    "data"
   ]
  },
  {
   "cell_type": "code",
   "execution_count": 171,
   "id": "82dbd1c0-6e63-454e-98eb-c1b1c8927fd4",
   "metadata": {},
   "outputs": [
    {
     "data": {
      "text/html": [
       "<div>\n",
       "<style scoped>\n",
       "    .dataframe tbody tr th:only-of-type {\n",
       "        vertical-align: middle;\n",
       "    }\n",
       "\n",
       "    .dataframe tbody tr th {\n",
       "        vertical-align: top;\n",
       "    }\n",
       "\n",
       "    .dataframe thead th {\n",
       "        text-align: right;\n",
       "    }\n",
       "</style>\n",
       "<table border=\"1\" class=\"dataframe\">\n",
       "  <thead>\n",
       "    <tr style=\"text-align: right;\">\n",
       "      <th></th>\n",
       "      <th>exam_1</th>\n",
       "      <th>exam_2</th>\n",
       "      <th>admitted</th>\n",
       "    </tr>\n",
       "  </thead>\n",
       "  <tbody>\n",
       "    <tr>\n",
       "      <th>0</th>\n",
       "      <td>-1.594216</td>\n",
       "      <td>0.635141</td>\n",
       "      <td>0</td>\n",
       "    </tr>\n",
       "    <tr>\n",
       "      <th>1</th>\n",
       "      <td>-1.817101</td>\n",
       "      <td>-1.201489</td>\n",
       "      <td>0</td>\n",
       "    </tr>\n",
       "    <tr>\n",
       "      <th>2</th>\n",
       "      <td>-1.531325</td>\n",
       "      <td>0.359483</td>\n",
       "      <td>0</td>\n",
       "    </tr>\n",
       "    <tr>\n",
       "      <th>3</th>\n",
       "      <td>-0.280687</td>\n",
       "      <td>1.080923</td>\n",
       "      <td>1</td>\n",
       "    </tr>\n",
       "    <tr>\n",
       "      <th>4</th>\n",
       "      <td>0.688062</td>\n",
       "      <td>0.490905</td>\n",
       "      <td>1</td>\n",
       "    </tr>\n",
       "    <tr>\n",
       "      <th>...</th>\n",
       "      <td>...</td>\n",
       "      <td>...</td>\n",
       "      <td>...</td>\n",
       "    </tr>\n",
       "    <tr>\n",
       "      <th>95</th>\n",
       "      <td>0.917087</td>\n",
       "      <td>-0.960121</td>\n",
       "      <td>1</td>\n",
       "    </tr>\n",
       "    <tr>\n",
       "      <th>96</th>\n",
       "      <td>-1.201681</td>\n",
       "      <td>1.123720</td>\n",
       "      <td>1</td>\n",
       "    </tr>\n",
       "    <tr>\n",
       "      <th>97</th>\n",
       "      <td>1.730412</td>\n",
       "      <td>0.137407</td>\n",
       "      <td>1</td>\n",
       "    </tr>\n",
       "    <tr>\n",
       "      <th>98</th>\n",
       "      <td>-0.529558</td>\n",
       "      <td>-0.069422</td>\n",
       "      <td>1</td>\n",
       "    </tr>\n",
       "    <tr>\n",
       "      <th>99</th>\n",
       "      <td>0.469294</td>\n",
       "      <td>1.254269</td>\n",
       "      <td>1</td>\n",
       "    </tr>\n",
       "  </tbody>\n",
       "</table>\n",
       "<p>100 rows × 3 columns</p>\n",
       "</div>"
      ],
      "text/plain": [
       "      exam_1    exam_2  admitted\n",
       "0  -1.594216  0.635141         0\n",
       "1  -1.817101 -1.201489         0\n",
       "2  -1.531325  0.359483         0\n",
       "3  -0.280687  1.080923         1\n",
       "4   0.688062  0.490905         1\n",
       "..       ...       ...       ...\n",
       "95  0.917087 -0.960121         1\n",
       "96 -1.201681  1.123720         1\n",
       "97  1.730412  0.137407         1\n",
       "98 -0.529558 -0.069422         1\n",
       "99  0.469294  1.254269         1\n",
       "\n",
       "[100 rows x 3 columns]"
      ]
     },
     "execution_count": 171,
     "metadata": {},
     "output_type": "execute_result"
    }
   ],
   "source": [
    "data[\"exam_1\"] = (data[\"exam_1\"]-data[\"exam_1\"].mean())/data[\"exam_1\"].std()\n",
    "data[\"exam_2\"] = (data[\"exam_2\"]-data[\"exam_2\"].mean())/data[\"exam_2\"].std()\n",
    "# data[\"exam_1\"] = (data[\"exam_1\"]-data[\"exam_1\"].min())/(data[\"exam_1\"].max()-data[\"exam_1\"].min())\n",
    "# data[\"exam_2\"] = (data[\"exam_2\"]-data[\"exam_2\"].min())/(data[\"exam_2\"].max()-data[\"exam_2\"].min())\n",
    "data"
   ]
  },
  {
   "cell_type": "code",
   "execution_count": 172,
   "id": "e1dc9da1-0c2d-4270-8885-50c208ca161b",
   "metadata": {},
   "outputs": [],
   "source": [
    "x0=np.ones(len(data))"
   ]
  },
  {
   "cell_type": "code",
   "execution_count": 304,
   "id": "d7bcce3f-a790-4e37-882c-24aa4d0d86fb",
   "metadata": {},
   "outputs": [],
   "source": [
    "X=np.array([x0,data[\"exam_1\"],data[\"exam_2\"]])\n",
    "Y=data[\"admitted\"]\n",
    "W=np.array([0,1,2])\n",
    "X=X.T"
   ]
  },
  {
   "cell_type": "code",
   "execution_count": 307,
   "id": "9dd71ff3-d558-4dfc-b051-d31b19adde3c",
   "metadata": {},
   "outputs": [],
   "source": [
    "def sigmoid(X,W):\n",
    "    z=np.dot(X,W)\n",
    "    return 1/(1+np.e**-z)\n",
    "Z=sigmoid(X,W)\n",
    "p=Z.copy()\n",
    "p[p<0.5]=0\n",
    "p[p>=0.5]=1"
   ]
  },
  {
   "cell_type": "code",
   "execution_count": 308,
   "id": "52f285f9-b0c6-4e88-b8b3-d5eb96880b69",
   "metadata": {},
   "outputs": [
    {
     "data": {
      "text/plain": [
       "array([0., 0., 0., 1., 1., 0., 1., 0., 1., 0., 0., 0., 1., 1., 0., 1., 0.,\n",
       "       0., 1., 0., 0., 1., 0., 0., 1., 1., 0., 0., 0., 0., 1., 1., 0., 0.,\n",
       "       0., 0., 1., 1., 0., 0., 0., 0., 1., 0., 0., 0., 1., 1., 1., 1., 1.,\n",
       "       1., 0., 0., 0., 0., 1., 1., 1., 1., 1., 0., 0., 0., 0., 0., 1., 0.,\n",
       "       1., 0., 0., 1., 1., 1., 1., 1., 1., 1., 0., 0., 1., 0., 1., 0., 1.,\n",
       "       1., 1., 1., 1., 0., 1., 1., 0., 1., 0., 0., 1., 1., 0., 1.])"
      ]
     },
     "execution_count": 308,
     "metadata": {},
     "output_type": "execute_result"
    }
   ],
   "source": [
    "p"
   ]
  },
  {
   "cell_type": "code",
   "execution_count": 309,
   "id": "351de4f8-b8d4-4be9-931e-d6c3d1ad5d76",
   "metadata": {},
   "outputs": [
    {
     "name": "stdout",
     "output_type": "stream",
     "text": [
      "Iteration 0\n",
      "0.3803356506404913\n",
      "Iteration 1000\n",
      "0.21882175674308013\n",
      "Iteration 2000\n",
      "0.2091494243468335\n",
      "Iteration 3000\n",
      "0.20600457280782788\n",
      "Iteration 4000\n",
      "0.20471012942631306\n",
      "Iteration 5000\n",
      "0.20411373380799794\n",
      "Iteration 6000\n",
      "0.20382056055462439\n",
      "Iteration 7000\n",
      "0.20367043445683847\n",
      "Iteration 8000\n",
      "0.20359143828179857\n",
      "Iteration 9000\n",
      "0.2035490827451666\n",
      "Iteration 10000\n",
      "0.2035260696139572\n"
     ]
    },
    {
     "data": {
      "text/plain": [
       "[<matplotlib.lines.Line2D at 0x7fca88bf6890>]"
      ]
     },
     "execution_count": 309,
     "metadata": {},
     "output_type": "execute_result"
    },
    {
     "data": {
      "image/png": "[encoded data removed]",
      "text/plain": [
       "<Figure size 640x480 with 1 Axes>"
      ]
     },
     "metadata": {},
     "output_type": "display_data"
    }
   ],
   "source": [
    "def gradientDescent(X,Y,W,alpha=0.05,iteration=10_000):\n",
    "    costH=[]\n",
    "    for i in range(iteration+1):\n",
    "        \n",
    "        H=sigmoid(X,W)\n",
    "        g = np.dot(X.T,H-Y)/len(Y)\n",
    "        W=W-alpha*g\n",
    "        \n",
    "        J = (-Y*np.log(H)-(1-Y)*np.log(1-H)).mean()\n",
    "        costH.append(J)\n",
    "      \n",
    "        if i%1000==0:\n",
    "            print(f\"Iteration {i}\")\n",
    "            print(J)\n",
    "    return costH,W\n",
    "\n",
    "costH,Wn = gradientDescent(X.copy(),Y.copy(),W.copy())\n",
    "\n",
    "plt.plot(costH)"
   ]
  },
  {
   "cell_type": "code",
   "execution_count": 196,
   "id": "8969870f-d9b2-4249-88a9-627313bf2dbb",
   "metadata": {},
   "outputs": [
    {
     "data": {
      "text/plain": [
       "[<matplotlib.lines.Line2D at 0x7fca93806950>]"
      ]
     },
     "execution_count": 196,
     "metadata": {},
     "output_type": "execute_result"
    },
    {
     "data": {
      "image/png": "[encoded data removed]",
      "text/plain": [
       "<Figure size 640x480 with 1 Axes>"
      ]
     },
     "metadata": {},
     "output_type": "display_data"
    }
   ],
   "source": [
    "plt.ylabel(\"Exam_2\")\n",
    "plt.xlabel(\"Exam_1\")\n",
    "\n",
    "plt.scatter(data[data[\"admitted\"]==1][\"exam_1\"],data[data[\"admitted\"]==1][\"exam_2\"],color=\"#006629\")\n",
    "\n",
    "plt.scatter(data[data[\"admitted\"]==0][\"exam_1\"],data[data[\"admitted\"]==0][\"exam_2\"],color=\"#b50404\")\n",
    "\n",
    "xline=[data[\"exam_1\"].min(),data[\"exam_1\"].max()]\n",
    "\n",
    "yline=-(Wn[0] + np.dot(Wn[1],xline))/Wn[2]\n",
    "plt.plot(xline,yline)\n"
   ]
  },
  {
   "cell_type": "code",
   "execution_count": 197,
   "id": "53c5d27d-967b-4b41-be48-3a2384c483c1",
   "metadata": {},
   "outputs": [
    {
     "data": {
      "text/plain": [
       "[<matplotlib.lines.Line2D at 0x7fca936aa650>]"
      ]
     },
     "execution_count": 197,
     "metadata": {},
     "output_type": "execute_result"
    },
    {
     "data": {
      "image/png": "[encoded data removed]",
      "text/plain": [
       "<Figure size 640x480 with 1 Axes>"
      ]
     },
     "metadata": {},
     "output_type": "display_data"
    }
   ],
   "source": [
    "plt.ylabel(\"Exam_2\")\n",
    "plt.xlabel(\"Exam_1\")\n",
    "\n",
    "plt.scatter(data[data[\"admitted\"]==1][\"exam_1\"],data[data[\"admitted\"]==1][\"exam_2\"],color=\"#006629\")\n",
    "plt.scatter(data[data[\"admitted\"]==0][\"exam_1\"],data[data[\"admitted\"]==0][\"exam_2\"],color=\"#b50404\")\n",
    "\n",
    "xline=[data[\"exam_1\"].min(),data[\"exam_1\"].max()]\n",
    "yline=(1-(Wn[0] + np.dot(Wn[1],xline)))/Wn[2]\n",
    "\n",
    "plt.plot(xline,yline)"
   ]
  },
  {
   "cell_type": "code",
   "execution_count": 199,
   "id": "c6c75891-01a5-4c53-b0ba-5a40bbde5d5f",
   "metadata": {},
   "outputs": [
    {
     "data": {
      "text/plain": [
       "array([0., 0., 0., 1., 1., 0., 1., 0., 1., 0., 0., 0., 1., 1., 0., 1., 0.,\n",
       "       0., 1., 0., 0., 1., 0., 0., 1., 1., 0., 0., 0., 0., 1., 1., 0., 0.,\n",
       "       0., 0., 1., 1., 0., 0., 0., 0., 1., 0., 0., 0., 1., 1., 1., 1., 1.,\n",
       "       1., 0., 0., 0., 0., 1., 1., 1., 1., 1., 0., 0., 0., 0., 0., 1., 0.,\n",
       "       1., 0., 0., 1., 1., 1., 1., 1., 1., 1., 0., 0., 1., 0., 1., 0., 1.,\n",
       "       1., 1., 1., 1., 0., 1., 1., 0., 1., 0., 0., 1., 1., 0., 1.])"
      ]
     },
     "execution_count": 199,
     "metadata": {},
     "output_type": "execute_result"
    }
   ],
   "source": [
    "p"
   ]
  },
  {
   "cell_type": "code",
   "execution_count": 200,
   "id": "4ff8b9db-1c40-4a1b-ad64-d702be3313da",
   "metadata": {},
   "outputs": [],
   "source": [
    "Z=sigmoid(X,Wn)\n",
    "p=Z.copy()\n",
    "p[p<0.5]=0\n",
    "p[p>=0.5]=1"
   ]
  },
  {
   "cell_type": "code",
   "execution_count": 202,
   "id": "b5967256-399b-4ddd-b725-956e83715d63",
   "metadata": {},
   "outputs": [],
   "source": [
    "compareDf=pd.DataFrame(p)"
   ]
  },
  {
   "cell_type": "code",
   "execution_count": 208,
   "id": "be608db7-d2f7-4a90-ab42-6e52a879e121",
   "metadata": {},
   "outputs": [],
   "source": [
    "compareDf.columns=[\"Predict\"]"
   ]
  },
  {
   "cell_type": "code",
   "execution_count": 211,
   "id": "4d16343d-480a-4eb9-9420-16adda713311",
   "metadata": {},
   "outputs": [],
   "source": [
    "compareDf[\"Admitted\"]=Y.copy()"
   ]
  },
  {
   "cell_type": "code",
   "execution_count": 215,
   "id": "0f8cf02b-cd06-4159-986c-1d093c168813",
   "metadata": {},
   "outputs": [
    {
     "data": {
      "text/plain": [
       "0.89"
      ]
     },
     "execution_count": 215,
     "metadata": {},
     "output_type": "execute_result"
    }
   ],
   "source": [
    "accuracy = len(compareDf[compareDf[\"Predict\"]==compareDf[\"Admitted\"]])/len(compareDf)\n",
    "accuracy"
   ]
  },
  {
   "cell_type": "code",
   "execution_count": 262,
   "id": "8d642649-87da-465e-82f9-675a07f7420c",
   "metadata": {},
   "outputs": [
    {
     "data": {
      "text/plain": [
       "0    -1.594216\n",
       "1    -1.817101\n",
       "2    -1.531325\n",
       "3    -0.280687\n",
       "4     0.688062\n",
       "        ...   \n",
       "95    0.917087\n",
       "96   -1.201681\n",
       "97    1.730412\n",
       "98   -0.529558\n",
       "99    0.469294\n",
       "Name: exam_1, Length: 100, dtype: float64"
      ]
     },
     "execution_count": 262,
     "metadata": {},
     "output_type": "execute_result"
    }
   ],
   "source": [
    "data.iloc[0:,0]"
   ]
  },
  {
   "cell_type": "code",
   "execution_count": 236,
   "id": "c1d5eb11-7051-4397-a927-37ba24a2ddda",
   "metadata": {},
   "outputs": [
    {
     "data": {
      "text/html": [
       "<div>\n",
       "<style scoped>\n",
       "    .dataframe tbody tr th:only-of-type {\n",
       "        vertical-align: middle;\n",
       "    }\n",
       "\n",
       "    .dataframe tbody tr th {\n",
       "        vertical-align: top;\n",
       "    }\n",
       "\n",
       "    .dataframe thead th {\n",
       "        text-align: right;\n",
       "    }\n",
       "</style>\n",
       "<table border=\"1\" class=\"dataframe\">\n",
       "  <thead>\n",
       "    <tr style=\"text-align: right;\">\n",
       "      <th></th>\n",
       "      <th>exam_1</th>\n",
       "      <th>exam_2</th>\n",
       "      <th>admitted</th>\n",
       "    </tr>\n",
       "  </thead>\n",
       "  <tbody>\n",
       "    <tr>\n",
       "      <th>0</th>\n",
       "      <td>-1.594216</td>\n",
       "      <td>0.635141</td>\n",
       "      <td>0</td>\n",
       "    </tr>\n",
       "    <tr>\n",
       "      <th>1</th>\n",
       "      <td>-1.817101</td>\n",
       "      <td>-1.201489</td>\n",
       "      <td>0</td>\n",
       "    </tr>\n",
       "    <tr>\n",
       "      <th>2</th>\n",
       "      <td>-1.531325</td>\n",
       "      <td>0.359483</td>\n",
       "      <td>0</td>\n",
       "    </tr>\n",
       "    <tr>\n",
       "      <th>3</th>\n",
       "      <td>-0.280687</td>\n",
       "      <td>1.080923</td>\n",
       "      <td>1</td>\n",
       "    </tr>\n",
       "    <tr>\n",
       "      <th>4</th>\n",
       "      <td>0.688062</td>\n",
       "      <td>0.490905</td>\n",
       "      <td>1</td>\n",
       "    </tr>\n",
       "    <tr>\n",
       "      <th>...</th>\n",
       "      <td>...</td>\n",
       "      <td>...</td>\n",
       "      <td>...</td>\n",
       "    </tr>\n",
       "    <tr>\n",
       "      <th>95</th>\n",
       "      <td>0.917087</td>\n",
       "      <td>-0.960121</td>\n",
       "      <td>1</td>\n",
       "    </tr>\n",
       "    <tr>\n",
       "      <th>96</th>\n",
       "      <td>-1.201681</td>\n",
       "      <td>1.123720</td>\n",
       "      <td>1</td>\n",
       "    </tr>\n",
       "    <tr>\n",
       "      <th>97</th>\n",
       "      <td>1.730412</td>\n",
       "      <td>0.137407</td>\n",
       "      <td>1</td>\n",
       "    </tr>\n",
       "    <tr>\n",
       "      <th>98</th>\n",
       "      <td>-0.529558</td>\n",
       "      <td>-0.069422</td>\n",
       "      <td>1</td>\n",
       "    </tr>\n",
       "    <tr>\n",
       "      <th>99</th>\n",
       "      <td>0.469294</td>\n",
       "      <td>1.254269</td>\n",
       "      <td>1</td>\n",
       "    </tr>\n",
       "  </tbody>\n",
       "</table>\n",
       "<p>100 rows × 3 columns</p>\n",
       "</div>"
      ],
      "text/plain": [
       "      exam_1    exam_2  admitted\n",
       "0  -1.594216  0.635141         0\n",
       "1  -1.817101 -1.201489         0\n",
       "2  -1.531325  0.359483         0\n",
       "3  -0.280687  1.080923         1\n",
       "4   0.688062  0.490905         1\n",
       "..       ...       ...       ...\n",
       "95  0.917087 -0.960121         1\n",
       "96 -1.201681  1.123720         1\n",
       "97  1.730412  0.137407         1\n",
       "98 -0.529558 -0.069422         1\n",
       "99  0.469294  1.254269         1\n",
       "\n",
       "[100 rows x 3 columns]"
      ]
     },
     "execution_count": 236,
     "metadata": {},
     "output_type": "execute_result"
    }
   ],
   "source": [
    "data"
   ]
  },
  {
   "cell_type": "code",
   "execution_count": 263,
   "id": "6c7e080f-c37e-406b-bfbe-0b436b4d652e",
   "metadata": {},
   "outputs": [
    {
     "data": {
      "text/plain": [
       "3    -0.280687\n",
       "4     0.688062\n",
       "6    -0.233198\n",
       "7     0.482083\n",
       "8     0.537280\n",
       "9     0.965584\n",
       "12    0.856336\n",
       "13    0.191195\n",
       "15   -0.599912\n",
       "16    0.176063\n",
       "18    0.257847\n",
       "19    0.582505\n",
       "21    1.235082\n",
       "24    0.631086\n",
       "25   -0.173359\n",
       "26    0.747546\n",
       "30   -0.219187\n",
       "31    1.015522\n",
       "33   -0.698875\n",
       "37   -0.075407\n",
       "40    0.938324\n",
       "42    1.480048\n",
       "46    0.593516\n",
       "47    1.651093\n",
       "48   -0.183532\n",
       "49    1.332121\n",
       "50    0.734936\n",
       "51    1.728228\n",
       "52    1.279790\n",
       "56    1.644619\n",
       "58    0.442200\n",
       "59    0.316174\n",
       "60    0.501142\n",
       "66   -1.294400\n",
       "68    0.752140\n",
       "69    0.056657\n",
       "71   -0.082482\n",
       "72    0.344442\n",
       "73   -0.266540\n",
       "74   -0.349637\n",
       "75    1.756768\n",
       "76   -0.944588\n",
       "77   -0.780447\n",
       "80    1.195876\n",
       "81    1.500149\n",
       "82    0.086081\n",
       "83   -0.431980\n",
       "84    0.756620\n",
       "85    0.145144\n",
       "87    0.505361\n",
       "88    0.667643\n",
       "90    1.462110\n",
       "91    1.274745\n",
       "93    0.454739\n",
       "94    1.243769\n",
       "95    0.917087\n",
       "96   -1.201681\n",
       "97    1.730412\n",
       "98   -0.529558\n",
       "99    0.469294\n",
       "Name: exam_1, dtype: float64"
      ]
     },
     "execution_count": 263,
     "metadata": {},
     "output_type": "execute_result"
    }
   ],
   "source": [
    "data[data[\"admitted\"]==1].iloc[0:,0]"
   ]
  },
  {
   "cell_type": "code",
   "execution_count": 303,
   "id": "739574ba-c7c8-44ed-a497-1d649f7b2c8e",
   "metadata": {},
   "outputs": [
    {
     "data": {
      "text/plain": [
       "array([[ True,  True,  True,  True,  True,  True,  True,  True,  True,\n",
       "         True,  True,  True,  True,  True,  True,  True,  True,  True,\n",
       "         True,  True,  True,  True,  True,  True,  True,  True,  True,\n",
       "         True,  True,  True,  True,  True,  True,  True,  True,  True,\n",
       "         True,  True,  True,  True,  True,  True,  True,  True,  True,\n",
       "         True,  True,  True,  True,  True,  True,  True,  True,  True,\n",
       "         True,  True,  True,  True,  True,  True,  True,  True,  True,\n",
       "         True,  True,  True,  True,  True,  True,  True,  True,  True,\n",
       "         True,  True,  True,  True,  True,  True,  True,  True,  True,\n",
       "         True,  True,  True,  True,  True,  True,  True,  True,  True,\n",
       "         True,  True,  True,  True,  True,  True,  True,  True,  True,\n",
       "         True],\n",
       "       [ True,  True,  True,  True,  True,  True,  True,  True,  True,\n",
       "         True,  True,  True,  True,  True,  True,  True,  True,  True,\n",
       "         True,  True,  True,  True,  True,  True,  True,  True,  True,\n",
       "         True,  True,  True,  True,  True,  True,  True,  True,  True,\n",
       "         True,  True,  True,  True,  True,  True,  True,  True,  True,\n",
       "         True,  True,  True,  True,  True,  True,  True,  True,  True,\n",
       "         True,  True,  True,  True,  True,  True,  True,  True,  True,\n",
       "         True,  True,  True,  True,  True,  True,  True,  True,  True,\n",
       "         True,  True,  True,  True,  True,  True,  True,  True,  True,\n",
       "         True,  True,  True,  True,  True,  True,  True,  True,  True,\n",
       "         True,  True,  True,  True,  True,  True,  True,  True,  True,\n",
       "         True],\n",
       "       [ True,  True,  True,  True,  True,  True,  True,  True,  True,\n",
       "         True,  True,  True,  True,  True,  True,  True,  True,  True,\n",
       "         True,  True,  True,  True,  True,  True,  True,  True,  True,\n",
       "         True,  True,  True,  True,  True,  True,  True,  True,  True,\n",
       "         True,  True,  True,  True,  True,  True,  True,  True,  True,\n",
       "         True,  True,  True,  True,  True,  True,  True,  True,  True,\n",
       "         True,  True,  True,  True,  True,  True,  True,  True,  True,\n",
       "         True,  True,  True,  True,  True,  True,  True,  True,  True,\n",
       "         True,  True,  True,  True,  True,  True,  True,  True,  True,\n",
       "         True,  True,  True,  True,  True,  True,  True,  True,  True,\n",
       "         True,  True,  True,  True,  True,  True,  True,  True,  True,\n",
       "         True]])"
      ]
     },
     "execution_count": 303,
     "metadata": {},
     "output_type": "execute_result"
    }
   ],
   "source": [
    "np.array([np.ones(len(data)),*np.array(data[[\"exam_1\",\"exam_2\"]]).T])==X"
   ]
  },
  {
   "cell_type": "code",
   "execution_count": 301,
   "id": "1b10e063-b3c0-4701-97aa-34a7bd3ac834",
   "metadata": {},
   "outputs": [
    {
     "data": {
      "text/plain": [
       "array([[ 1.        ,  1.        ,  1.        ,  1.        ,  1.        ,\n",
       "         1.        ,  1.        ,  1.        ,  1.        ,  1.        ,\n",
       "         1.        ,  1.        ,  1.        ,  1.        ,  1.        ,\n",
       "         1.        ,  1.        ,  1.        ,  1.        ,  1.        ,\n",
       "         1.        ,  1.        ,  1.        ,  1.        ,  1.        ,\n",
       "         1.        ,  1.        ,  1.        ,  1.        ,  1.        ,\n",
       "         1.        ,  1.        ,  1.        ,  1.        ,  1.        ,\n",
       "         1.        ,  1.        ,  1.        ,  1.        ,  1.        ,\n",
       "         1.        ,  1.        ,  1.        ,  1.        ,  1.        ,\n",
       "         1.        ,  1.        ,  1.        ,  1.        ,  1.        ,\n",
       "         1.        ,  1.        ,  1.        ,  1.        ,  1.        ,\n",
       "         1.        ,  1.        ,  1.        ,  1.        ,  1.        ,\n",
       "         1.        ,  1.        ,  1.        ,  1.        ,  1.        ,\n",
       "         1.        ,  1.        ,  1.        ,  1.        ,  1.        ,\n",
       "         1.        ,  1.        ,  1.        ,  1.        ,  1.        ,\n",
       "         1.        ,  1.        ,  1.        ,  1.        ,  1.        ,\n",
       "         1.        ,  1.        ,  1.        ,  1.        ,  1.        ,\n",
       "         1.        ,  1.        ,  1.        ,  1.        ,  1.        ,\n",
       "         1.        ,  1.        ,  1.        ,  1.        ,  1.        ,\n",
       "         1.        ,  1.        ,  1.        ,  1.        ,  1.        ],\n",
       "       [-1.59421626, -1.81710142, -1.53132516, -0.28068724,  0.68806193,\n",
       "        -1.05667395, -0.23319754,  0.48208266,  0.53727995,  0.96558389,\n",
       "         1.55293123,  0.48151286,  0.85633616,  0.19119499, -1.34164029,\n",
       "        -0.59991204,  0.17606285,  0.11833462,  0.25784655,  0.58250489,\n",
       "         0.08879298,  1.23508208, -0.77650905, -1.61536921,  0.63108629,\n",
       "        -0.17335912,  0.74754551,  1.41174843, -0.19601318, -1.3803147 ,\n",
       "        -0.21918676,  1.01552162, -0.69565935, -0.69887522, -1.30574006,\n",
       "        -0.56578491, -1.63061011, -0.07540695,  0.46998018, -1.61682982,\n",
       "         0.93832414, -0.7244523 ,  1.48004752,  0.85950707, -0.75014675,\n",
       "        -0.17584331,  0.59351572,  1.65109252, -0.1835322 ,  1.33212069,\n",
       "         0.73493579,  1.72822843,  1.27979009, -1.59931158, -0.78926932,\n",
       "        -0.82523453,  1.64461889, -1.69938823,  0.44219956,  0.31617421,\n",
       "         0.50114226, -1.56017137, -0.48259581, -1.82881309, -1.0780025 ,\n",
       "         0.0471071 , -1.29440001, -0.85165595,  0.75213962,  0.056657  ,\n",
       "        -1.69190384, -0.08248203,  0.34444155, -0.26653968, -0.34963717,\n",
       "         1.75676808, -0.94458809, -0.78044716, -0.26665939,  0.85220465,\n",
       "         1.19587607,  1.500149  ,  0.08608101, -0.43198025,  0.75662009,\n",
       "         0.14514418, -1.21125246,  0.50536107,  0.66764323, -0.68332399,\n",
       "         1.46210978,  1.27474528, -0.5222529 ,  0.4547393 ,  1.24376895,\n",
       "         0.91708731, -1.20168086,  1.73041166, -0.52955796,  0.46929359],\n",
       "       [ 0.63514139, -1.20148852,  0.35948329,  1.08092281,  0.49090485,\n",
       "        -0.53305397,  1.62997263, -1.05839822,  1.14076409, -1.22094762,\n",
       "        -1.50659457, -1.91675998,  0.5521221 ,  1.69493955,  0.528167  ,\n",
       "         1.23691656, -0.72548489, -1.05169521,  1.43709044, -1.00340376,\n",
       "        -1.25834541, -0.02274321, -0.93453099, -1.18456258,  0.14800592,\n",
       "         0.20085581, -1.15162347, -1.47563084, -0.85917648, -0.06599211,\n",
       "         0.35440812, -0.49346829, -0.16651835,  0.17278693,  0.26614689,\n",
       "        -0.75382208,  1.75686481,  0.79030479, -1.32642042,  0.48516534,\n",
       "        -0.533502  , -1.04213173, -0.03514417, -1.37782069, -1.0977525 ,\n",
       "        -0.7620498 ,  0.2279638 ,  1.1034851 ,  1.64382407,  1.20941489,\n",
       "         0.42733757, -0.28106485, -1.2286317 , -0.31349748, -0.88347689,\n",
       "        -0.34510692,  0.1420441 ,  1.58084768,  0.19386618,  0.65822025,\n",
       "         1.05140003, -1.03329432, -1.45083358, -0.89486188,  0.01227416,\n",
       "        -1.35232166,  1.68506447, -0.77161673,  1.39344374, -0.28147582,\n",
       "        -1.23312127,  0.63551783,  1.61469866,  0.36985849,  0.51856873,\n",
       "         0.33080372,  1.19755296,  0.51595401, -1.27610534, -1.2647255 ,\n",
       "         0.19274781, -1.10466184,  0.01976857, -0.36096402,  1.33124031,\n",
       "         1.04248696,  0.67927328,  1.30241745,  1.6372913 , -0.29341637,\n",
       "         0.5885613 ,  1.14551161, -1.64944586,  1.00217167, -1.12274434,\n",
       "        -0.96012057,  1.12372042,  0.13740737, -0.06942233,  1.25426933]])"
      ]
     },
     "execution_count": 301,
     "metadata": {},
     "output_type": "execute_result"
    }
   ],
   "source": [
    "X"
   ]
  },
  {
   "cell_type": "code",
   "execution_count": null,
   "id": "b0ed9ae3-d213-4eac-b97b-af5edf255897",
   "metadata": {},
   "outputs": [],
   "source": []
  }
 ],
 "metadata": {
  "kernelspec": {
   "display_name": "Python 3 (ipykernel)",
   "language": "python",
   "name": "python3"
  },
  "language_info": {
   "codemirror_mode": {
    "name": "ipython",
    "version": 3
   },
   "file_extension": ".py",
   "mimetype": "text/x-python",
   "name": "python",
   "nbconvert_exporter": "python",
   "pygments_lexer": "ipython3",
   "version": "3.10.6"
  }
 },
 "nbformat": 4,
 "nbformat_minor": 5
}
