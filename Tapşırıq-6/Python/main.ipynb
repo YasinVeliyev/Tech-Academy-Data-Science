{
 "cells": [
  {
   "cell_type": "code",
   "execution_count": 1,
   "id": "81a4c90b-fe21-4f1d-99a1-c437aab511c7",
   "metadata": {},
   "outputs": [],
   "source": [
    "import pandas as pd\n",
    "import numpy as np\n",
    "import matplotlib.pyplot as plt"
   ]
  },
  {
   "cell_type": "code",
   "execution_count": 2,
   "id": "e2968c77-36f2-4be8-a8e5-644d6af0ef79",
   "metadata": {},
   "outputs": [
    {
     "data": {
      "text/plain": [
       "array([[34.62365962, 78.02469282,  0.        ],\n",
       "       [30.28671077, 43.89499752,  0.        ],\n",
       "       [35.84740877, 72.90219803,  0.        ],\n",
       "       [60.18259939, 86.3085521 ,  1.        ],\n",
       "       [79.03273605, 75.34437644,  1.        ],\n",
       "       [45.08327748, 56.31637178,  0.        ],\n",
       "       [61.10666454, 96.51142588,  1.        ],\n",
       "       [75.02474557, 46.55401354,  1.        ],\n",
       "       [76.0987867 , 87.42056972,  1.        ],\n",
       "       [84.43281996, 43.53339331,  1.        ],\n",
       "       [95.86155507, 38.22527806,  0.        ],\n",
       "       [75.01365839, 30.60326323,  0.        ],\n",
       "       [82.30705337, 76.4819633 ,  1.        ],\n",
       "       [69.36458876, 97.71869196,  1.        ],\n",
       "       [39.53833914, 76.03681085,  0.        ],\n",
       "       [53.97105215, 89.20735014,  1.        ],\n",
       "       [69.07014406, 52.74046973,  1.        ],\n",
       "       [67.94685548, 46.67857411,  0.        ],\n",
       "       [70.66150955, 92.92713789,  1.        ],\n",
       "       [76.97878373, 47.57596365,  1.        ],\n",
       "       [67.37202755, 42.83843832,  0.        ],\n",
       "       [89.67677575, 65.79936593,  1.        ],\n",
       "       [50.53478829, 48.85581153,  0.        ],\n",
       "       [34.21206098, 44.2095286 ,  0.        ],\n",
       "       [77.92409145, 68.97235999,  1.        ],\n",
       "       [62.27101367, 69.95445795,  1.        ],\n",
       "       [80.19018075, 44.82162893,  1.        ],\n",
       "       [93.1143888 , 38.80067034,  0.        ],\n",
       "       [61.83020602, 50.25610789,  0.        ],\n",
       "       [38.7858038 , 64.99568096,  0.        ],\n",
       "       [61.37928945, 72.80788731,  1.        ],\n",
       "       [85.40451939, 57.05198398,  1.        ],\n",
       "       [52.10797973, 63.12762377,  0.        ],\n",
       "       [52.04540477, 69.43286012,  1.        ],\n",
       "       [40.23689374, 71.16774802,  0.        ],\n",
       "       [54.63510555, 52.21388588,  0.        ],\n",
       "       [33.91550011, 98.86943574,  0.        ],\n",
       "       [64.17698887, 80.90806059,  1.        ],\n",
       "       [74.78925296, 41.57341523,  0.        ],\n",
       "       [34.18364003, 75.23772034,  0.        ],\n",
       "       [83.90239366, 56.30804622,  1.        ],\n",
       "       [51.54772027, 46.85629026,  0.        ],\n",
       "       [94.44336777, 65.56892161,  1.        ],\n",
       "       [82.36875376, 40.61825516,  0.        ],\n",
       "       [51.04775177, 45.82270146,  0.        ],\n",
       "       [62.22267576, 52.06099195,  0.        ],\n",
       "       [77.19303493, 70.4582    ,  1.        ],\n",
       "       [97.77159928, 86.72782233,  1.        ],\n",
       "       [62.0730638 , 96.76882412,  1.        ],\n",
       "       [91.5649745 , 88.69629255,  1.        ],\n",
       "       [79.94481794, 74.16311935,  1.        ],\n",
       "       [99.27252693, 60.999031  ,  1.        ],\n",
       "       [90.54671411, 43.39060181,  1.        ],\n",
       "       [34.52451385, 60.39634246,  0.        ],\n",
       "       [50.28649612, 49.80453881,  0.        ],\n",
       "       [49.58667722, 59.80895099,  0.        ],\n",
       "       [97.64563396, 68.86157272,  1.        ],\n",
       "       [32.57720017, 95.59854761,  0.        ],\n",
       "       [74.24869137, 69.82457123,  1.        ],\n",
       "       [71.79646206, 78.45356225,  1.        ],\n",
       "       [75.39561147, 85.75993667,  1.        ],\n",
       "       [35.28611282, 47.02051395,  0.        ],\n",
       "       [56.2538175 , 39.26147251,  0.        ],\n",
       "       [30.05882245, 49.59297387,  0.        ],\n",
       "       [44.66826172, 66.45008615,  0.        ],\n",
       "       [66.56089447, 41.09209808,  0.        ],\n",
       "       [40.45755098, 97.53518549,  1.        ],\n",
       "       [49.07256322, 51.88321182,  0.        ],\n",
       "       [80.27957401, 92.11606081,  1.        ],\n",
       "       [66.74671857, 60.99139403,  1.        ],\n",
       "       [32.72283304, 43.30717306,  0.        ],\n",
       "       [64.03932042, 78.03168802,  1.        ],\n",
       "       [72.34649423, 96.22759297,  1.        ],\n",
       "       [60.45788574, 73.0949981 ,  1.        ],\n",
       "       [58.84095622, 75.85844831,  1.        ],\n",
       "       [99.8278578 , 72.36925193,  1.        ],\n",
       "       [47.26426911, 88.475865  ,  1.        ],\n",
       "       [50.4581598 , 75.80985953,  1.        ],\n",
       "       [60.45555629, 42.50840944,  0.        ],\n",
       "       [82.22666158, 42.71987854,  0.        ],\n",
       "       [88.91389642, 69.8037889 ,  1.        ],\n",
       "       [94.83450672, 45.6943068 ,  1.        ],\n",
       "       [67.31925747, 66.58935318,  1.        ],\n",
       "       [57.23870632, 59.51428198,  1.        ],\n",
       "       [80.366756  , 90.9601479 ,  1.        ],\n",
       "       [68.46852179, 85.5943071 ,  1.        ],\n",
       "       [42.07545454, 78.844786  ,  0.        ],\n",
       "       [75.47770201, 90.424539  ,  1.        ],\n",
       "       [78.63542435, 96.64742717,  1.        ],\n",
       "       [52.34800399, 60.76950526,  0.        ],\n",
       "       [94.09433113, 77.15910509,  1.        ],\n",
       "       [90.44855097, 87.50879176,  1.        ],\n",
       "       [55.48216114, 35.57070347,  0.        ],\n",
       "       [74.49269242, 84.84513685,  1.        ],\n",
       "       [89.84580671, 45.35828361,  1.        ],\n",
       "       [83.48916274, 48.3802858 ,  1.        ],\n",
       "       [42.26170081, 87.10385094,  1.        ],\n",
       "       [99.31500881, 68.77540947,  1.        ],\n",
       "       [55.34001756, 64.93193801,  1.        ],\n",
       "       [74.775893  , 89.5298129 ,  1.        ]])"
      ]
     },
     "execution_count": 2,
     "metadata": {},
     "output_type": "execute_result"
    }
   ],
   "source": [
    "df=pd.read_csv(\"exams.csv\")\n",
    "data=df.copy()\n",
    "\n",
    "data\n",
    "df.values"
   ]
  },
  {
   "cell_type": "code",
   "execution_count": 3,
   "id": "82dbd1c0-6e63-454e-98eb-c1b1c8927fd4",
   "metadata": {},
   "outputs": [
    {
     "data": {
      "text/html": [
       "<div>\n",
       "<style scoped>\n",
       "    .dataframe tbody tr th:only-of-type {\n",
       "        vertical-align: middle;\n",
       "    }\n",
       "\n",
       "    .dataframe tbody tr th {\n",
       "        vertical-align: top;\n",
       "    }\n",
       "\n",
       "    .dataframe thead th {\n",
       "        text-align: right;\n",
       "    }\n",
       "</style>\n",
       "<table border=\"1\" class=\"dataframe\">\n",
       "  <thead>\n",
       "    <tr style=\"text-align: right;\">\n",
       "      <th></th>\n",
       "      <th>exam_1</th>\n",
       "      <th>exam_2</th>\n",
       "      <th>admitted</th>\n",
       "    </tr>\n",
       "  </thead>\n",
       "  <tbody>\n",
       "    <tr>\n",
       "      <th>0</th>\n",
       "      <td>0.065428</td>\n",
       "      <td>0.694655</td>\n",
       "      <td>0</td>\n",
       "    </tr>\n",
       "    <tr>\n",
       "      <th>1</th>\n",
       "      <td>0.003266</td>\n",
       "      <td>0.194705</td>\n",
       "      <td>0</td>\n",
       "    </tr>\n",
       "    <tr>\n",
       "      <th>2</th>\n",
       "      <td>0.082968</td>\n",
       "      <td>0.619618</td>\n",
       "      <td>0</td>\n",
       "    </tr>\n",
       "    <tr>\n",
       "      <th>3</th>\n",
       "      <td>0.431764</td>\n",
       "      <td>0.816001</td>\n",
       "      <td>1</td>\n",
       "    </tr>\n",
       "    <tr>\n",
       "      <th>4</th>\n",
       "      <td>0.701943</td>\n",
       "      <td>0.655392</td>\n",
       "      <td>1</td>\n",
       "    </tr>\n",
       "    <tr>\n",
       "      <th>...</th>\n",
       "      <td>...</td>\n",
       "      <td>...</td>\n",
       "      <td>...</td>\n",
       "    </tr>\n",
       "    <tr>\n",
       "      <th>95</th>\n",
       "      <td>0.765817</td>\n",
       "      <td>0.260407</td>\n",
       "      <td>1</td>\n",
       "    </tr>\n",
       "    <tr>\n",
       "      <th>96</th>\n",
       "      <td>0.174904</td>\n",
       "      <td>0.827651</td>\n",
       "      <td>1</td>\n",
       "    </tr>\n",
       "    <tr>\n",
       "      <th>97</th>\n",
       "      <td>0.992649</td>\n",
       "      <td>0.559166</td>\n",
       "      <td>1</td>\n",
       "    </tr>\n",
       "    <tr>\n",
       "      <th>98</th>\n",
       "      <td>0.362356</td>\n",
       "      <td>0.502865</td>\n",
       "      <td>1</td>\n",
       "    </tr>\n",
       "    <tr>\n",
       "      <th>99</th>\n",
       "      <td>0.640930</td>\n",
       "      <td>0.863188</td>\n",
       "      <td>1</td>\n",
       "    </tr>\n",
       "  </tbody>\n",
       "</table>\n",
       "<p>100 rows × 3 columns</p>\n",
       "</div>"
      ],
      "text/plain": [
       "      exam_1    exam_2  admitted\n",
       "0   0.065428  0.694655         0\n",
       "1   0.003266  0.194705         0\n",
       "2   0.082968  0.619618         0\n",
       "3   0.431764  0.816001         1\n",
       "4   0.701943  0.655392         1\n",
       "..       ...       ...       ...\n",
       "95  0.765817  0.260407         1\n",
       "96  0.174904  0.827651         1\n",
       "97  0.992649  0.559166         1\n",
       "98  0.362356  0.502865         1\n",
       "99  0.640930  0.863188         1\n",
       "\n",
       "[100 rows x 3 columns]"
      ]
     },
     "execution_count": 3,
     "metadata": {},
     "output_type": "execute_result"
    }
   ],
   "source": [
    "# data[\"exam_1\"] = (data[\"exam_1\"]-data[\"exam_1\"].min())/data[\"exam_1\"].std()\n",
    "# data[\"exam_2\"] = (data[\"exam_2\"]-data[\"exam_2\"].mean())/data[\"exam_2\"].std()\n",
    "def do_min_max_normalize(data,col):\n",
    "    data[col] = (data[col]-data[col].min())/(data[col].max()-data[col].min())\n",
    "\n",
    "def do_z_score_normalize(data,col):\n",
    "    data[col] = (data[col]-data[col].mean())/data[col].std()\n",
    "\n",
    "do_min_max_normalize(data,\"exam_1\")\n",
    "do_min_max_normalize(data,\"exam_2\")\n",
    "data"
   ]
  },
  {
   "cell_type": "code",
   "execution_count": 4,
   "id": "e1dc9da1-0c2d-4270-8885-50c208ca161b",
   "metadata": {},
   "outputs": [],
   "source": [
    "x0=np.ones(len(data))"
   ]
  },
  {
   "cell_type": "code",
   "execution_count": 5,
   "id": "d7bcce3f-a790-4e37-882c-24aa4d0d86fb",
   "metadata": {},
   "outputs": [],
   "source": [
    "X=np.array([x0,data[\"exam_1\"],data[\"exam_2\"]])\n",
    "Y=data[\"admitted\"]\n",
    "W=np.array([0,1,2])\n",
    "X=X.T"
   ]
  },
  {
   "cell_type": "code",
   "execution_count": 6,
   "id": "9dd71ff3-d558-4dfc-b051-d31b19adde3c",
   "metadata": {},
   "outputs": [],
   "source": [
    "def sigmoid(X,W):\n",
    "    z=np.dot(X,W)\n",
    "    return 1/(1+np.e**-z)\n",
    "Z=sigmoid(X,W)"
   ]
  },
  {
   "cell_type": "code",
   "execution_count": null,
   "id": "52f285f9-b0c6-4e88-b8b3-d5eb96880b69",
   "metadata": {},
   "outputs": [],
   "source": []
  },
  {
   "cell_type": "code",
   "execution_count": 27,
   "id": "351de4f8-b8d4-4be9-931e-d6c3d1ad5d76",
   "metadata": {},
   "outputs": [
    {
     "name": "stdout",
     "output_type": "stream",
     "text": [
      "Iteration 0\n",
      "0.6255604816183553\n",
      "Iteration 1000\n",
      "0.24295154785110332\n",
      "Iteration 2000\n",
      "0.2202929058754835\n",
      "Iteration 3000\n",
      "0.21237549719397258\n",
      "Iteration 4000\n",
      "0.2086660522516031\n",
      "Iteration 5000\n",
      "0.20667739272398045\n",
      "Iteration 6000\n",
      "0.2055249923097141\n",
      "Iteration 7000\n",
      "0.2048226808247228\n",
      "Iteration 8000\n",
      "0.20437943351633758\n",
      "Iteration 9000\n",
      "0.20409248456967014\n",
      "Iteration 10000\n",
      "0.20390313847019706\n"
     ]
    },
    {
     "data": {
      "text/plain": [
       "[<matplotlib.lines.Line2D at 0x7f75e7777c70>]"
      ]
     },
     "execution_count": 27,
     "metadata": {},
     "output_type": "execute_result"
    },
    {
     "data": {
      "image/png": "[encoded data removed]",
      "text/plain": [
       "<Figure size 640x480 with 1 Axes>"
      ]
     },
     "metadata": {},
     "output_type": "display_data"
    }
   ],
   "source": [
    "def gradientDescent(X,Y,W,alpha=0.5,iteration=10_000):\n",
    "    costH=[]\n",
    "    for i in range(iteration+1):\n",
    "        \n",
    "        H=sigmoid(X,W)\n",
    "        g = np.dot(X.T,H-Y)/len(Y)\n",
    "        W=W-alpha*g\n",
    "        \n",
    "        J = (-Y*np.log(H)-(1-Y)*np.log(1-H)).mean()\n",
    "        costH.append(J)\n",
    "      \n",
    "        if i%1000==0:\n",
    "            print(f\"Iteration {i}\")\n",
    "            print(J)\n",
    "    return costH,W\n",
    "\n",
    "costH,Wn = gradientDescent(X,Y,W.copy())\n",
    "\n",
    "plt.plot(costH)"
   ]
  },
  {
   "cell_type": "code",
   "execution_count": 8,
   "id": "8969870f-d9b2-4249-88a9-627313bf2dbb",
   "metadata": {},
   "outputs": [
    {
     "data": {
      "text/plain": [
       "[<matplotlib.lines.Line2D at 0x7f75e7b32f50>]"
      ]
     },
     "execution_count": 8,
     "metadata": {},
     "output_type": "execute_result"
    },
    {
     "data": {
      "image/png": "[encoded data removed]",
      "text/plain": [
       "<Figure size 640x480 with 1 Axes>"
      ]
     },
     "metadata": {},
     "output_type": "display_data"
    }
   ],
   "source": [
    "plt.ylabel(\"Exam_2\")\n",
    "plt.xlabel(\"Exam_1\")\n",
    "\n",
    "plt.scatter(data[data[\"admitted\"]==1][\"exam_1\"],data[data[\"admitted\"]==1][\"exam_2\"],color=\"#006629\")\n",
    "\n",
    "plt.scatter(data[data[\"admitted\"]==0][\"exam_1\"],data[data[\"admitted\"]==0][\"exam_2\"],color=\"#b50404\")\n",
    "\n",
    "xline=[data[\"exam_1\"].min(),data[\"exam_1\"].max()]\n",
    "\n",
    "yline=-(Wn[0] + np.dot(Wn[1],xline))/Wn[2]\n",
    "plt.plot(xline,yline)\n"
   ]
  },
  {
   "cell_type": "code",
   "execution_count": 9,
   "id": "53c5d27d-967b-4b41-be48-3a2384c483c1",
   "metadata": {},
   "outputs": [
    {
     "data": {
      "text/plain": [
       "[<matplotlib.lines.Line2D at 0x7f75e7be82e0>]"
      ]
     },
     "execution_count": 9,
     "metadata": {},
     "output_type": "execute_result"
    },
    {
     "data": {
      "image/png": "[encoded data removed]",
      "text/plain": [
       "<Figure size 640x480 with 1 Axes>"
      ]
     },
     "metadata": {},
     "output_type": "display_data"
    }
   ],
   "source": [
    "plt.ylabel(\"Exam_2\")\n",
    "plt.xlabel(\"Exam_1\")\n",
    "\n",
    "plt.scatter(data[data[\"admitted\"]==1][\"exam_1\"],data[data[\"admitted\"]==1][\"exam_2\"],color=\"#006629\")\n",
    "plt.scatter(data[data[\"admitted\"]==0][\"exam_1\"],data[data[\"admitted\"]==0][\"exam_2\"],color=\"#b50404\")\n",
    "\n",
    "xline=[data[\"exam_1\"].min(),data[\"exam_1\"].max()]\n",
    "yline=(1-(Wn[0] + np.dot(Wn[1],xline)))/Wn[2]\n",
    "\n",
    "plt.plot(xline,yline)"
   ]
  },
  {
   "cell_type": "code",
   "execution_count": 10,
   "id": "c6c75891-01a5-4c53-b0ba-5a40bbde5d5f",
   "metadata": {
    "tags": []
   },
   "outputs": [
    {
     "data": {
      "text/plain": [
       "[0.0, 1.0]"
      ]
     },
     "execution_count": 10,
     "metadata": {},
     "output_type": "execute_result"
    },
    {
     "data": {
      "image/png": "[encoded data removed]",
      "text/plain": [
       "<Figure size 640x480 with 1 Axes>"
      ]
     },
     "metadata": {},
     "output_type": "display_data"
    }
   ],
   "source": [
    "plt.ylabel(\"Exam_1\")\n",
    "plt.xlabel(\"Exam_2\")\n",
    "\n",
    "plt.scatter(data[data[\"admitted\"]==1][\"exam_1\"],data[data[\"admitted\"]==1][\"exam_2\"],color=\"#006629\")\n",
    "plt.scatter(data[data[\"admitted\"]==0][\"exam_1\"],data[data[\"admitted\"]==0][\"exam_2\"],color=\"#b50404\")\n",
    "\n",
    "xline=[data[\"exam_2\"].min(),data[\"exam_2\"].max()]\n",
    "yline=(1-(Wn[0] + np.dot(Wn[2],xline)))/Wn[1]\n",
    "\n",
    "plt.plot(xline,yline)\n",
    "xline"
   ]
  },
  {
   "cell_type": "code",
   "execution_count": 11,
   "id": "4ff8b9db-1c40-4a1b-ad64-d702be3313da",
   "metadata": {},
   "outputs": [
    {
     "data": {
      "text/plain": [
       "array([ 0.87608465, -0.0621925 ])"
      ]
     },
     "execution_count": 11,
     "metadata": {},
     "output_type": "execute_result"
    },
    {
     "data": {
      "image/png": "[encoded data removed]",
      "text/plain": [
       "<Figure size 640x480 with 1 Axes>"
      ]
     },
     "metadata": {},
     "output_type": "display_data"
    }
   ],
   "source": [
    "plt.ylabel(\"Exam_1\")\n",
    "plt.xlabel(\"Exam_2\")\n",
    "\n",
    "plt.scatter(data[data[\"admitted\"]==1][\"exam_1\"],data[data[\"admitted\"]==1][\"exam_2\"],color=\"#006629\")\n",
    "plt.scatter(data[data[\"admitted\"]==0][\"exam_1\"],data[data[\"admitted\"]==0][\"exam_2\"],color=\"#b50404\")\n",
    "\n",
    "xline=[data[\"exam_2\"].min(),data[\"exam_2\"].max()]\n",
    "yline=(-(Wn[0] + np.dot(Wn[2],xline)))/Wn[1]\n",
    "\n",
    "plt.plot(xline,yline)\n",
    "yline"
   ]
  },
  {
   "cell_type": "code",
   "execution_count": 12,
   "id": "b5967256-399b-4ddd-b725-956e83715d63",
   "metadata": {},
   "outputs": [
    {
     "data": {
      "text/plain": [
       "array([0., 0., 0., 1., 1., 0., 1., 0., 1., 1., 1., 0., 1., 1., 0., 1., 0.,\n",
       "       0., 1., 1., 0., 1., 0., 0., 1., 1., 1., 1., 0., 0., 1., 1., 0., 0.,\n",
       "       0., 0., 1., 1., 0., 0., 1., 0., 1., 1., 0., 0., 1., 1., 1., 1., 1.,\n",
       "       1., 1., 0., 0., 0., 1., 1., 1., 1., 1., 0., 0., 0., 0., 0., 1., 0.,\n",
       "       1., 1., 0., 1., 1., 1., 1., 1., 1., 1., 0., 1., 1., 1., 1., 0., 1.,\n",
       "       1., 0., 1., 1., 0., 1., 1., 0., 1., 1., 1., 1., 1., 0., 1.])"
      ]
     },
     "execution_count": 12,
     "metadata": {},
     "output_type": "execute_result"
    }
   ],
   "source": [
    "Z=sigmoid(X,Wn)\n",
    "p=Z.copy()\n",
    "p[p<0.5]=0\n",
    "p[p>=0.5]=1\n",
    "compareDf=pd.DataFrame(p)\n",
    "p"
   ]
  },
  {
   "cell_type": "code",
   "execution_count": 13,
   "id": "be608db7-d2f7-4a90-ab42-6e52a879e121",
   "metadata": {},
   "outputs": [],
   "source": [
    "compareDf.columns=[\"Predict\"]"
   ]
  },
  {
   "cell_type": "code",
   "execution_count": 14,
   "id": "4d16343d-480a-4eb9-9420-16adda713311",
   "metadata": {},
   "outputs": [],
   "source": [
    "compareDf[\"Admitted\"]=Y.copy()"
   ]
  },
  {
   "cell_type": "code",
   "execution_count": 15,
   "id": "0f8cf02b-cd06-4159-986c-1d093c168813",
   "metadata": {},
   "outputs": [
    {
     "data": {
      "text/plain": [
       "0.89"
      ]
     },
     "execution_count": 15,
     "metadata": {},
     "output_type": "execute_result"
    }
   ],
   "source": [
    "accuracy = len(compareDf[compareDf[\"Predict\"]==compareDf[\"Admitted\"]])/len(compareDf)\n",
    "accuracy"
   ]
  },
  {
   "cell_type": "code",
   "execution_count": 16,
   "id": "8d642649-87da-465e-82f9-675a07f7420c",
   "metadata": {},
   "outputs": [
    {
     "data": {
      "text/plain": [
       "0     0.065428\n",
       "1     0.003266\n",
       "2     0.082968\n",
       "3     0.431764\n",
       "4     0.701943\n",
       "        ...   \n",
       "95    0.765817\n",
       "96    0.174904\n",
       "97    0.992649\n",
       "98    0.362356\n",
       "99    0.640930\n",
       "Name: exam_1, Length: 100, dtype: float64"
      ]
     },
     "execution_count": 16,
     "metadata": {},
     "output_type": "execute_result"
    }
   ],
   "source": [
    "data.iloc[0:,0]"
   ]
  },
  {
   "cell_type": "code",
   "execution_count": 17,
   "id": "c1d5eb11-7051-4397-a927-37ba24a2ddda",
   "metadata": {},
   "outputs": [
    {
     "data": {
      "text/html": [
       "<div>\n",
       "<style scoped>\n",
       "    .dataframe tbody tr th:only-of-type {\n",
       "        vertical-align: middle;\n",
       "    }\n",
       "\n",
       "    .dataframe tbody tr th {\n",
       "        vertical-align: top;\n",
       "    }\n",
       "\n",
       "    .dataframe thead th {\n",
       "        text-align: right;\n",
       "    }\n",
       "</style>\n",
       "<table border=\"1\" class=\"dataframe\">\n",
       "  <thead>\n",
       "    <tr style=\"text-align: right;\">\n",
       "      <th></th>\n",
       "      <th>exam_1</th>\n",
       "      <th>exam_2</th>\n",
       "      <th>admitted</th>\n",
       "    </tr>\n",
       "  </thead>\n",
       "  <tbody>\n",
       "    <tr>\n",
       "      <th>0</th>\n",
       "      <td>0.065428</td>\n",
       "      <td>0.694655</td>\n",
       "      <td>0</td>\n",
       "    </tr>\n",
       "    <tr>\n",
       "      <th>1</th>\n",
       "      <td>0.003266</td>\n",
       "      <td>0.194705</td>\n",
       "      <td>0</td>\n",
       "    </tr>\n",
       "    <tr>\n",
       "      <th>2</th>\n",
       "      <td>0.082968</td>\n",
       "      <td>0.619618</td>\n",
       "      <td>0</td>\n",
       "    </tr>\n",
       "    <tr>\n",
       "      <th>3</th>\n",
       "      <td>0.431764</td>\n",
       "      <td>0.816001</td>\n",
       "      <td>1</td>\n",
       "    </tr>\n",
       "    <tr>\n",
       "      <th>4</th>\n",
       "      <td>0.701943</td>\n",
       "      <td>0.655392</td>\n",
       "      <td>1</td>\n",
       "    </tr>\n",
       "    <tr>\n",
       "      <th>...</th>\n",
       "      <td>...</td>\n",
       "      <td>...</td>\n",
       "      <td>...</td>\n",
       "    </tr>\n",
       "    <tr>\n",
       "      <th>95</th>\n",
       "      <td>0.765817</td>\n",
       "      <td>0.260407</td>\n",
       "      <td>1</td>\n",
       "    </tr>\n",
       "    <tr>\n",
       "      <th>96</th>\n",
       "      <td>0.174904</td>\n",
       "      <td>0.827651</td>\n",
       "      <td>1</td>\n",
       "    </tr>\n",
       "    <tr>\n",
       "      <th>97</th>\n",
       "      <td>0.992649</td>\n",
       "      <td>0.559166</td>\n",
       "      <td>1</td>\n",
       "    </tr>\n",
       "    <tr>\n",
       "      <th>98</th>\n",
       "      <td>0.362356</td>\n",
       "      <td>0.502865</td>\n",
       "      <td>1</td>\n",
       "    </tr>\n",
       "    <tr>\n",
       "      <th>99</th>\n",
       "      <td>0.640930</td>\n",
       "      <td>0.863188</td>\n",
       "      <td>1</td>\n",
       "    </tr>\n",
       "  </tbody>\n",
       "</table>\n",
       "<p>100 rows × 3 columns</p>\n",
       "</div>"
      ],
      "text/plain": [
       "      exam_1    exam_2  admitted\n",
       "0   0.065428  0.694655         0\n",
       "1   0.003266  0.194705         0\n",
       "2   0.082968  0.619618         0\n",
       "3   0.431764  0.816001         1\n",
       "4   0.701943  0.655392         1\n",
       "..       ...       ...       ...\n",
       "95  0.765817  0.260407         1\n",
       "96  0.174904  0.827651         1\n",
       "97  0.992649  0.559166         1\n",
       "98  0.362356  0.502865         1\n",
       "99  0.640930  0.863188         1\n",
       "\n",
       "[100 rows x 3 columns]"
      ]
     },
     "execution_count": 17,
     "metadata": {},
     "output_type": "execute_result"
    }
   ],
   "source": [
    "data"
   ]
  },
  {
   "cell_type": "code",
   "execution_count": 18,
   "id": "6c7e080f-c37e-406b-bfbe-0b436b4d652e",
   "metadata": {},
   "outputs": [
    {
     "data": {
      "text/plain": [
       "3     0.431764\n",
       "4     0.701943\n",
       "6     0.445009\n",
       "7     0.644497\n",
       "8     0.659891\n",
       "9     0.779343\n",
       "12    0.748874\n",
       "13    0.563370\n",
       "15    0.342734\n",
       "16    0.559150\n",
       "18    0.581959\n",
       "19    0.672504\n",
       "21    0.854504\n",
       "24    0.686053\n",
       "25    0.461698\n",
       "26    0.718533\n",
       "30    0.448916\n",
       "31    0.793270\n",
       "33    0.315134\n",
       "37    0.489016\n",
       "40    0.771740\n",
       "42    0.922824\n",
       "46    0.675575\n",
       "47    0.970528\n",
       "48    0.458860\n",
       "49    0.881568\n",
       "50    0.715016\n",
       "51    0.992040\n",
       "52    0.866973\n",
       "56    0.968722\n",
       "58    0.633374\n",
       "59    0.598226\n",
       "60    0.649812\n",
       "66    0.149045\n",
       "68    0.719814\n",
       "69    0.525848\n",
       "71    0.487043\n",
       "72    0.606109\n",
       "73    0.435710\n",
       "74    0.412534\n",
       "75    1.000000\n",
       "76    0.246606\n",
       "77    0.292384\n",
       "80    0.843570\n",
       "81    0.928430\n",
       "82    0.534054\n",
       "83    0.389569\n",
       "84    0.721064\n",
       "85    0.550526\n",
       "87    0.650989\n",
       "88    0.696249\n",
       "90    0.917821\n",
       "91    0.865566\n",
       "93    0.636871\n",
       "94    0.856927\n",
       "95    0.765817\n",
       "96    0.174904\n",
       "97    0.992649\n",
       "98    0.362356\n",
       "99    0.640930\n",
       "Name: exam_1, dtype: float64"
      ]
     },
     "execution_count": 18,
     "metadata": {},
     "output_type": "execute_result"
    }
   ],
   "source": [
    "data[data[\"admitted\"]==1].iloc[0:,0]"
   ]
  },
  {
   "cell_type": "code",
   "execution_count": 19,
   "id": "739574ba-c7c8-44ed-a497-1d649f7b2c8e",
   "metadata": {},
   "outputs": [
    {
     "name": "stderr",
     "output_type": "stream",
     "text": [
      "/tmp/ipykernel_6091/272445848.py:1: DeprecationWarning: elementwise comparison failed; this will raise an error in the future.\n",
      "  np.array([np.ones(len(data)),*np.array(data[[\"exam_1\",\"exam_2\"]]).T])==X\n"
     ]
    },
    {
     "data": {
      "text/plain": [
       "False"
      ]
     },
     "execution_count": 19,
     "metadata": {},
     "output_type": "execute_result"
    }
   ],
   "source": [
    "np.array([np.ones(len(data)),*np.array(data[[\"exam_1\",\"exam_2\"]]).T])==X"
   ]
  },
  {
   "cell_type": "code",
   "execution_count": 20,
   "id": "1b10e063-b3c0-4701-97aa-34a7bd3ac834",
   "metadata": {},
   "outputs": [
    {
     "data": {
      "text/plain": [
       "array([[1.        , 0.06542784, 0.69465488],\n",
       "       [1.        , 0.00326632, 0.19470455],\n",
       "       [1.        , 0.08296784, 0.61961779],\n",
       "       [1.        , 0.43176427, 0.81600135],\n",
       "       [1.        , 0.7019434 , 0.65539214],\n",
       "       [1.        , 0.2153456 , 0.37665959],\n",
       "       [1.        , 0.44500891, 0.96545859],\n",
       "       [1.        , 0.64449684, 0.23365526],\n",
       "       [1.        , 0.65989108, 0.83229079],\n",
       "       [1.        , 0.77934283, 0.18940757],\n",
       "       [1.        , 0.94315096, 0.11165142],\n",
       "       [1.        , 0.64433793, 0.        ],\n",
       "       [1.        , 0.74887421, 0.67205614],\n",
       "       [1.        , 0.56336978, 0.98314328],\n",
       "       [1.        , 0.13586997, 0.6655353 ],\n",
       "       [1.        , 0.34273413, 0.85846452],\n",
       "       [1.        , 0.55914951, 0.32427783],\n",
       "       [1.        , 0.5430494 , 0.23547989],\n",
       "       [1.        , 0.58195856, 0.91295399],\n",
       "       [1.        , 0.67250409, 0.24862534],\n",
       "       [1.        , 0.53481039, 0.17922749],\n",
       "       [1.        , 0.85450448, 0.51557164],\n",
       "       [1.        , 0.29348214, 0.26737325],\n",
       "       [1.        , 0.05952839, 0.19931197],\n",
       "       [1.        , 0.68605319, 0.56205138],\n",
       "       [1.        , 0.46169753, 0.57643769],\n",
       "       [1.        , 0.71853306, 0.20827835],\n",
       "       [1.        , 0.90377581, 0.12008007],\n",
       "       [1.        , 0.45537943, 0.28788555],\n",
       "       [1.        , 0.12508388, 0.50379883],\n",
       "       [1.        , 0.44891644, 0.61823627],\n",
       "       [1.        , 0.7932702 , 0.38743524],\n",
       "       [1.        , 0.3160307 , 0.47643451],\n",
       "       [1.        , 0.31513382, 0.56879704],\n",
       "       [1.        , 0.14588236, 0.59421062],\n",
       "       [1.        , 0.35225201, 0.31656415],\n",
       "       [1.        , 0.05527778, 1.        ],\n",
       "       [1.        , 0.48901588, 0.73689201],\n",
       "       [1.        , 0.64112153, 0.16069675],\n",
       "       [1.        , 0.05912103, 0.65382979],\n",
       "       [1.        , 0.77174023, 0.37653763],\n",
       "       [1.        , 0.3080005 , 0.23808317],\n",
       "       [1.        , 0.92282407, 0.51219597],\n",
       "       [1.        , 0.74975856, 0.14670505],\n",
       "       [1.        , 0.30083445, 0.2229426 ],\n",
       "       [1.        , 0.4610047 , 0.31432447],\n",
       "       [1.        , 0.67557495, 0.58381678],\n",
       "       [1.        , 0.97052763, 0.82214305],\n",
       "       [1.        , 0.45886031, 0.9692291 ],\n",
       "       [1.        , 0.88156804, 0.85097827],\n",
       "       [1.        , 0.71501627, 0.63808845],\n",
       "       [1.        , 0.99204044, 0.44525373],\n",
       "       [1.        , 0.86697331, 0.18731589],\n",
       "       [1.        , 0.06400678, 0.43642522],\n",
       "       [1.        , 0.28992337, 0.28127072],\n",
       "       [1.        , 0.27989286, 0.42782079],\n",
       "       [1.        , 0.96872217, 0.56042851],\n",
       "       [1.        , 0.03609592, 0.95208625],\n",
       "       [1.        , 0.63337365, 0.57453504],\n",
       "       [1.        , 0.59822584, 0.70093719],\n",
       "       [1.        , 0.64981247, 0.80796493],\n",
       "       [1.        , 0.07492278, 0.24048881],\n",
       "       [1.        , 0.37545302, 0.12683016],\n",
       "       [1.        , 0.        , 0.2781716 ],\n",
       "       [1.        , 0.20939718, 0.52510375],\n",
       "       [1.        , 0.52318442, 0.15364615],\n",
       "       [1.        , 0.14904504, 0.98045518],\n",
       "       [1.        , 0.27252406, 0.31172025],\n",
       "       [1.        , 0.71981433, 0.90107289],\n",
       "       [1.        , 0.52584783, 0.44514186],\n",
       "       [1.        , 0.03818328, 0.18609378],\n",
       "       [1.        , 0.48704268, 0.69475735],\n",
       "       [1.        , 0.60610945, 0.96130085],\n",
       "       [1.        , 0.43570996, 0.62244203],\n",
       "       [1.        , 0.4125345 , 0.66292255],\n",
       "       [1.        , 1.        , 0.6118109 ],\n",
       "       [1.        , 0.24660577, 0.84774933],\n",
       "       [1.        , 0.29238382, 0.66221079],\n",
       "       [1.        , 0.43567657, 0.17439305],\n",
       "       [1.        , 0.74772195, 0.17749077],\n",
       "       [1.        , 0.84357013, 0.57423061],\n",
       "       [1.        , 0.92843027, 0.22106181],\n",
       "       [1.        , 0.53405404, 0.52714381],\n",
       "       [1.        , 0.38956944, 0.42350432],\n",
       "       [1.        , 0.72106391, 0.88414045],\n",
       "       [1.        , 0.55052645, 0.8055387 ],\n",
       "       [1.        , 0.17223446, 0.70666805],\n",
       "       [1.        , 0.65098907, 0.87629456],\n",
       "       [1.        , 0.69624872, 0.96745081],\n",
       "       [1.        , 0.31947097, 0.44189151],\n",
       "       [1.        , 0.91782133, 0.68197528],\n",
       "       [1.        , 0.86556634, 0.83358311],\n",
       "       [1.        , 0.36439287, 0.07276576],\n",
       "       [1.        , 0.63687092, 0.79456445],\n",
       "       [1.        , 0.8569272 , 0.21613956],\n",
       "       [1.        , 0.76581739, 0.26040749],\n",
       "       [1.        , 0.17490393, 0.82765132],\n",
       "       [1.        , 0.99264933, 0.55916635],\n",
       "       [1.        , 0.36235552, 0.50286509],\n",
       "       [1.        , 0.64093004, 0.86318813]])"
      ]
     },
     "execution_count": 20,
     "metadata": {},
     "output_type": "execute_result"
    }
   ],
   "source": [
    "X"
   ]
  },
  {
   "cell_type": "code",
   "execution_count": null,
   "id": "b0ed9ae3-d213-4eac-b97b-af5edf255897",
   "metadata": {},
   "outputs": [],
   "source": []
  }
 ],
 "metadata": {
  "kernelspec": {
   "display_name": "Python 3 (ipykernel)",
   "language": "python",
   "name": "python3"
  },
  "language_info": {
   "codemirror_mode": {
    "name": "ipython",
    "version": 3
   },
   "file_extension": ".py",
   "mimetype": "text/x-python",
   "name": "python",
   "nbconvert_exporter": "python",
   "pygments_lexer": "ipython3",
   "version": "3.10.6"
  }
 },
 "nbformat": 4,
 "nbformat_minor": 5
}
