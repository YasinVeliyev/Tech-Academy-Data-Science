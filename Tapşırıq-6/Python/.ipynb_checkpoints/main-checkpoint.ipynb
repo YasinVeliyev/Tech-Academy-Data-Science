{
 "cells": [
  {
   "cell_type": "code",
   "execution_count": 169,
   "id": "81a4c90b-fe21-4f1d-99a1-c437aab511c7",
   "metadata": {},
   "outputs": [],
   "source": [
    "import pandas as pd\n",
    "import numpy as np\n",
    "import matplotlib.pyplot as plt"
   ]
  },
  {
   "cell_type": "code",
   "execution_count": 170,
   "id": "e2968c77-36f2-4be8-a8e5-644d6af0ef79",
   "metadata": {},
   "outputs": [
    {
     "data": {
      "text/html": [
       "<div>\n",
       "<style scoped>\n",
       "    .dataframe tbody tr th:only-of-type {\n",
       "        vertical-align: middle;\n",
       "    }\n",
       "\n",
       "    .dataframe tbody tr th {\n",
       "        vertical-align: top;\n",
       "    }\n",
       "\n",
       "    .dataframe thead th {\n",
       "        text-align: right;\n",
       "    }\n",
       "</style>\n",
       "<table border=\"1\" class=\"dataframe\">\n",
       "  <thead>\n",
       "    <tr style=\"text-align: right;\">\n",
       "      <th></th>\n",
       "      <th>exam_1</th>\n",
       "      <th>exam_2</th>\n",
       "      <th>admitted</th>\n",
       "    </tr>\n",
       "  </thead>\n",
       "  <tbody>\n",
       "    <tr>\n",
       "      <th>0</th>\n",
       "      <td>34.623660</td>\n",
       "      <td>78.024693</td>\n",
       "      <td>0</td>\n",
       "    </tr>\n",
       "    <tr>\n",
       "      <th>1</th>\n",
       "      <td>30.286711</td>\n",
       "      <td>43.894998</td>\n",
       "      <td>0</td>\n",
       "    </tr>\n",
       "    <tr>\n",
       "      <th>2</th>\n",
       "      <td>35.847409</td>\n",
       "      <td>72.902198</td>\n",
       "      <td>0</td>\n",
       "    </tr>\n",
       "    <tr>\n",
       "      <th>3</th>\n",
       "      <td>60.182599</td>\n",
       "      <td>86.308552</td>\n",
       "      <td>1</td>\n",
       "    </tr>\n",
       "    <tr>\n",
       "      <th>4</th>\n",
       "      <td>79.032736</td>\n",
       "      <td>75.344376</td>\n",
       "      <td>1</td>\n",
       "    </tr>\n",
       "    <tr>\n",
       "      <th>...</th>\n",
       "      <td>...</td>\n",
       "      <td>...</td>\n",
       "      <td>...</td>\n",
       "    </tr>\n",
       "    <tr>\n",
       "      <th>95</th>\n",
       "      <td>83.489163</td>\n",
       "      <td>48.380286</td>\n",
       "      <td>1</td>\n",
       "    </tr>\n",
       "    <tr>\n",
       "      <th>96</th>\n",
       "      <td>42.261701</td>\n",
       "      <td>87.103851</td>\n",
       "      <td>1</td>\n",
       "    </tr>\n",
       "    <tr>\n",
       "      <th>97</th>\n",
       "      <td>99.315009</td>\n",
       "      <td>68.775409</td>\n",
       "      <td>1</td>\n",
       "    </tr>\n",
       "    <tr>\n",
       "      <th>98</th>\n",
       "      <td>55.340018</td>\n",
       "      <td>64.931938</td>\n",
       "      <td>1</td>\n",
       "    </tr>\n",
       "    <tr>\n",
       "      <th>99</th>\n",
       "      <td>74.775893</td>\n",
       "      <td>89.529813</td>\n",
       "      <td>1</td>\n",
       "    </tr>\n",
       "  </tbody>\n",
       "</table>\n",
       "<p>100 rows × 3 columns</p>\n",
       "</div>"
      ],
      "text/plain": [
       "       exam_1     exam_2  admitted\n",
       "0   34.623660  78.024693         0\n",
       "1   30.286711  43.894998         0\n",
       "2   35.847409  72.902198         0\n",
       "3   60.182599  86.308552         1\n",
       "4   79.032736  75.344376         1\n",
       "..        ...        ...       ...\n",
       "95  83.489163  48.380286         1\n",
       "96  42.261701  87.103851         1\n",
       "97  99.315009  68.775409         1\n",
       "98  55.340018  64.931938         1\n",
       "99  74.775893  89.529813         1\n",
       "\n",
       "[100 rows x 3 columns]"
      ]
     },
     "execution_count": 170,
     "metadata": {},
     "output_type": "execute_result"
    }
   ],
   "source": [
    "df=pd.read_csv(\"exams.csv\")\n",
    "data=df.copy()\n",
    "data"
   ]
  },
  {
   "cell_type": "code",
   "execution_count": 171,
   "id": "82dbd1c0-6e63-454e-98eb-c1b1c8927fd4",
   "metadata": {},
   "outputs": [
    {
     "data": {
      "text/html": [
       "<div>\n",
       "<style scoped>\n",
       "    .dataframe tbody tr th:only-of-type {\n",
       "        vertical-align: middle;\n",
       "    }\n",
       "\n",
       "    .dataframe tbody tr th {\n",
       "        vertical-align: top;\n",
       "    }\n",
       "\n",
       "    .dataframe thead th {\n",
       "        text-align: right;\n",
       "    }\n",
       "</style>\n",
       "<table border=\"1\" class=\"dataframe\">\n",
       "  <thead>\n",
       "    <tr style=\"text-align: right;\">\n",
       "      <th></th>\n",
       "      <th>exam_1</th>\n",
       "      <th>exam_2</th>\n",
       "      <th>admitted</th>\n",
       "    </tr>\n",
       "  </thead>\n",
       "  <tbody>\n",
       "    <tr>\n",
       "      <th>0</th>\n",
       "      <td>-1.594216</td>\n",
       "      <td>0.635141</td>\n",
       "      <td>0</td>\n",
       "    </tr>\n",
       "    <tr>\n",
       "      <th>1</th>\n",
       "      <td>-1.817101</td>\n",
       "      <td>-1.201489</td>\n",
       "      <td>0</td>\n",
       "    </tr>\n",
       "    <tr>\n",
       "      <th>2</th>\n",
       "      <td>-1.531325</td>\n",
       "      <td>0.359483</td>\n",
       "      <td>0</td>\n",
       "    </tr>\n",
       "    <tr>\n",
       "      <th>3</th>\n",
       "      <td>-0.280687</td>\n",
       "      <td>1.080923</td>\n",
       "      <td>1</td>\n",
       "    </tr>\n",
       "    <tr>\n",
       "      <th>4</th>\n",
       "      <td>0.688062</td>\n",
       "      <td>0.490905</td>\n",
       "      <td>1</td>\n",
       "    </tr>\n",
       "    <tr>\n",
       "      <th>...</th>\n",
       "      <td>...</td>\n",
       "      <td>...</td>\n",
       "      <td>...</td>\n",
       "    </tr>\n",
       "    <tr>\n",
       "      <th>95</th>\n",
       "      <td>0.917087</td>\n",
       "      <td>-0.960121</td>\n",
       "      <td>1</td>\n",
       "    </tr>\n",
       "    <tr>\n",
       "      <th>96</th>\n",
       "      <td>-1.201681</td>\n",
       "      <td>1.123720</td>\n",
       "      <td>1</td>\n",
       "    </tr>\n",
       "    <tr>\n",
       "      <th>97</th>\n",
       "      <td>1.730412</td>\n",
       "      <td>0.137407</td>\n",
       "      <td>1</td>\n",
       "    </tr>\n",
       "    <tr>\n",
       "      <th>98</th>\n",
       "      <td>-0.529558</td>\n",
       "      <td>-0.069422</td>\n",
       "      <td>1</td>\n",
       "    </tr>\n",
       "    <tr>\n",
       "      <th>99</th>\n",
       "      <td>0.469294</td>\n",
       "      <td>1.254269</td>\n",
       "      <td>1</td>\n",
       "    </tr>\n",
       "  </tbody>\n",
       "</table>\n",
       "<p>100 rows × 3 columns</p>\n",
       "</div>"
      ],
      "text/plain": [
       "      exam_1    exam_2  admitted\n",
       "0  -1.594216  0.635141         0\n",
       "1  -1.817101 -1.201489         0\n",
       "2  -1.531325  0.359483         0\n",
       "3  -0.280687  1.080923         1\n",
       "4   0.688062  0.490905         1\n",
       "..       ...       ...       ...\n",
       "95  0.917087 -0.960121         1\n",
       "96 -1.201681  1.123720         1\n",
       "97  1.730412  0.137407         1\n",
       "98 -0.529558 -0.069422         1\n",
       "99  0.469294  1.254269         1\n",
       "\n",
       "[100 rows x 3 columns]"
      ]
     },
     "execution_count": 171,
     "metadata": {},
     "output_type": "execute_result"
    }
   ],
   "source": [
    "data[\"exam_1\"] = (data[\"exam_1\"]-data[\"exam_1\"].mean())/data[\"exam_1\"].std()\n",
    "data[\"exam_2\"] = (data[\"exam_2\"]-data[\"exam_2\"].mean())/data[\"exam_2\"].std()\n",
    "# data[\"exam_1\"] = (data[\"exam_1\"]-data[\"exam_1\"].min())/(data[\"exam_1\"].max()-data[\"exam_1\"].min())\n",
    "# data[\"exam_2\"] = (data[\"exam_2\"]-data[\"exam_2\"].min())/(data[\"exam_2\"].max()-data[\"exam_2\"].min())\n",
    "data"
   ]
  },
  {
   "cell_type": "code",
   "execution_count": 172,
   "id": "e1dc9da1-0c2d-4270-8885-50c208ca161b",
   "metadata": {},
   "outputs": [],
   "source": [
    "x0=np.ones(len(data))"
   ]
  },
  {
   "cell_type": "code",
   "execution_count": 173,
   "id": "d7bcce3f-a790-4e37-882c-24aa4d0d86fb",
   "metadata": {},
   "outputs": [],
   "source": [
    "X=np.array([x0,data[\"exam_1\"],data[\"exam_2\"]])\n",
    "Y=data[\"admitted\"]\n",
    "W=np.array([0,1,2])\n",
    "X=X.T"
   ]
  },
  {
   "cell_type": "code",
   "execution_count": 174,
   "id": "9dd71ff3-d558-4dfc-b051-d31b19adde3c",
   "metadata": {},
   "outputs": [],
   "source": [
    "def sigmoid(X,W):\n",
    "    z=np.dot(X,W)\n",
    "    return 1/(1+np.e**-z)\n",
    "Z=sigmoid(X,W)\n",
    "p=Z.copy()\n",
    "p[p<0.5]=0\n",
    "p[p>=0.5]=1"
   ]
  },
  {
   "cell_type": "code",
   "execution_count": 175,
   "id": "52f285f9-b0c6-4e88-b8b3-d5eb96880b69",
   "metadata": {},
   "outputs": [
    {
     "data": {
      "text/plain": [
       "0     0\n",
       "1     0\n",
       "2     0\n",
       "3     1\n",
       "4     1\n",
       "     ..\n",
       "95    1\n",
       "96    1\n",
       "97    1\n",
       "98    1\n",
       "99    1\n",
       "Name: admitted, Length: 100, dtype: int64"
      ]
     },
     "execution_count": 175,
     "metadata": {},
     "output_type": "execute_result"
    }
   ],
   "source": [
    "Y"
   ]
  },
  {
   "cell_type": "code",
   "execution_count": 176,
   "id": "351de4f8-b8d4-4be9-931e-d6c3d1ad5d76",
   "metadata": {},
   "outputs": [
    {
     "name": "stdout",
     "output_type": "stream",
     "text": [
      "Iteration 0\n",
      "0.3803356506404913\n",
      "Iteration 1000\n",
      "0.21882175674308013\n",
      "Iteration 2000\n",
      "0.2091494243468335\n",
      "Iteration 3000\n",
      "0.20600457280782788\n",
      "Iteration 4000\n",
      "0.20471012942631306\n",
      "Iteration 5000\n",
      "0.20411373380799794\n",
      "Iteration 6000\n",
      "0.20382056055462439\n",
      "Iteration 7000\n",
      "0.20367043445683847\n",
      "Iteration 8000\n",
      "0.20359143828179857\n",
      "Iteration 9000\n",
      "0.2035490827451666\n",
      "Iteration 10000\n",
      "0.2035260696139572\n"
     ]
    },
    {
     "data": {
      "text/plain": [
       "[<matplotlib.lines.Line2D at 0x7fca984d3730>]"
      ]
     },
     "execution_count": 176,
     "metadata": {},
     "output_type": "execute_result"
    },
    {
     "data": {
      "image/png": "[encoded data removed]",
      "text/plain": [
       "<Figure size 640x480 with 1 Axes>"
      ]
     },
     "metadata": {},
     "output_type": "display_data"
    }
   ],
   "source": [
    "def gradientDescent(X,Y,W,alpha=0.05,iteration=10_000):\n",
    "    costH=[]\n",
    "    for i in range(iteration+1):\n",
    "        \n",
    "        H=sigmoid(X,W)\n",
    "        g = np.dot(X.T,H-Y)/len(Y)\n",
    "        W=W-alpha*g\n",
    "        \n",
    "        J = (-Y*np.log(H)-(1-Y)*np.log(1-H)).mean()\n",
    "        costH.append(J)\n",
    "      \n",
    "        if i%1000==0:\n",
    "            print(f\"Iteration {i}\")\n",
    "            print(J)\n",
    "    return costH,W\n",
    "\n",
    "costH,Wn = gradientDescent(X.copy(),Y.copy(),W.copy())\n",
    "\n",
    "plt.plot(costH)"
   ]
  },
  {
   "cell_type": "code",
   "execution_count": null,
   "id": "8969870f-d9b2-4249-88a9-627313bf2dbb",
   "metadata": {},
   "outputs": [],
   "source": []
  },
  {
   "cell_type": "code",
   "execution_count": 177,
   "id": "53c5d27d-967b-4b41-be48-3a2384c483c1",
   "metadata": {},
   "outputs": [
    {
     "name": "stderr",
     "output_type": "stream",
     "text": [
      "/tmp/ipykernel_6131/2933082444.py:1: RuntimeWarning: divide by zero encountered in log\n",
      "  np.log(0)\n"
     ]
    },
    {
     "data": {
      "text/plain": [
       "-inf"
      ]
     },
     "execution_count": 177,
     "metadata": {},
     "output_type": "execute_result"
    }
   ],
   "source": [
    "np.log(0)"
   ]
  },
  {
   "cell_type": "code",
   "execution_count": null,
   "id": "c6c75891-01a5-4c53-b0ba-5a40bbde5d5f",
   "metadata": {},
   "outputs": [],
   "source": []
  }
 ],
 "metadata": {
  "kernelspec": {
   "display_name": "Python 3 (ipykernel)",
   "language": "python",
   "name": "python3"
  },
  "language_info": {
   "codemirror_mode": {
    "name": "ipython",
    "version": 3
   },
   "file_extension": ".py",
   "mimetype": "text/x-python",
   "name": "python",
   "nbconvert_exporter": "python",
   "pygments_lexer": "ipython3",
   "version": "3.10.6"
  }
 },
 "nbformat": 4,
 "nbformat_minor": 5
}
