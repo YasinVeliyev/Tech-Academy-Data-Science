{
 "cells": [
  {
   "cell_type": "code",
   "execution_count": 1,
   "id": "b32187a6-ed99-4355-92c8-70769e5ee92d",
   "metadata": {},
   "outputs": [
    {
     "name": "stdout",
     "output_type": "stream",
     "text": [
      "     Unnamed: 0       WTT       PTI       EQW       SBI       LQE       QWG  \\\n",
      "0             0  0.913917  1.162073  0.567946  0.755464  0.780862  0.352608   \n",
      "1             1  0.635632  1.003722  0.535342  0.825645  0.924109  0.648450   \n",
      "2             2  0.721360  1.201493  0.921990  0.855595  1.526629  0.720781   \n",
      "3             3  1.234204  1.386726  0.653046  0.825624  1.142504  0.875128   \n",
      "4             4  1.279491  0.949750  0.627280  0.668976  1.232537  0.703727   \n",
      "..          ...       ...       ...       ...       ...       ...       ...   \n",
      "995         995  1.010953  1.034006  0.853116  0.622460  1.036610  0.586240   \n",
      "996         996  0.575529  0.955786  0.941835  0.792882  1.414277  1.269540   \n",
      "997         997  1.135470  0.982462  0.781905  0.916738  0.901031  0.884738   \n",
      "998         998  1.084894  0.861769  0.407158  0.665696  1.608612  0.943859   \n",
      "999         999  0.837460  0.961184  0.417006  0.799784  0.934399  0.424762   \n",
      "\n",
      "          FDJ       PJF       HQE       NXJ  TARGET CLASS  \n",
      "0    0.759697  0.643798  0.879422  1.231409             1  \n",
      "1    0.675334  1.013546  0.621552  1.492702             0  \n",
      "2    1.626351  1.154483  0.957877  1.285597             0  \n",
      "3    1.409708  1.380003  1.522692  1.153093             1  \n",
      "4    1.115596  0.646691  1.463812  1.419167             1  \n",
      "..        ...       ...       ...       ...           ...  \n",
      "995  0.746811  0.319752  1.117340  1.348517             1  \n",
      "996  1.055928  0.713193  0.958684  1.663489             0  \n",
      "997  0.386802  0.389584  0.919191  1.385504             1  \n",
      "998  0.855806  1.061338  1.277456  1.188063             1  \n",
      "999  0.778234  0.907962  1.257190  1.364837             1  \n",
      "\n",
      "[1000 rows x 12 columns]\n"
     ]
    }
   ],
   "source": [
    "import pandas as pd\n",
    "import numpy as np\n",
    "from sklearn.linear_model import LogisticRegression\n",
    "from sklearn.model_selection import train_test_split\n",
    "\n",
    "df=pd.read_csv(\"Classified Data\")\n",
    "print(df)\n",
    "X_train, X_test, y_train, y_test = train_test_split(df[['WTT', 'PTI', 'EQW', 'SBI', 'LQE', 'QWG', 'FDJ', 'PJF',\n",
    "       'HQE', 'NXJ']], y, test_size=0.33, random_state=42)"
   ]
  },
  {
   "cell_type": "code",
   "execution_count": null,
   "id": "2f8a3973-247b-4e0c-8ac4-baef8275415f",
   "metadata": {},
   "outputs": [],
   "source": [
    "clf = LogisticRegression(random_state=0).fit(X, y)"
   ]
  },
  {
   "cell_type": "code",
   "execution_count": 3,
   "id": "ad4b77c0-a656-4c71-868b-f07f686995bd",
   "metadata": {},
   "outputs": [
    {
     "data": {
      "text/plain": [
       "Index(['Unnamed: 0', 'WTT', 'PTI', 'EQW', 'SBI', 'LQE', 'QWG', 'FDJ', 'PJF',\n",
       "       'HQE', 'NXJ', 'TARGET CLASS'],\n",
       "      dtype='object')"
      ]
     },
     "execution_count": 3,
     "metadata": {},
     "output_type": "execute_result"
    }
   ],
   "source": [
    "df.columns"
   ]
  },
  {
   "cell_type": "code",
   "execution_count": null,
   "id": "88ce255a-374e-4132-82bf-e7b8019919ea",
   "metadata": {},
   "outputs": [],
   "source": []
  }
 ],
 "metadata": {
  "kernelspec": {
   "display_name": "Python 3 (ipykernel)",
   "language": "python",
   "name": "python3"
  },
  "language_info": {
   "codemirror_mode": {
    "name": "ipython",
    "version": 3
   },
   "file_extension": ".py",
   "mimetype": "text/x-python",
   "name": "python",
   "nbconvert_exporter": "python",
   "pygments_lexer": "ipython3",
   "version": "3.10.6"
  }
 },
 "nbformat": 4,
 "nbformat_minor": 5
}
