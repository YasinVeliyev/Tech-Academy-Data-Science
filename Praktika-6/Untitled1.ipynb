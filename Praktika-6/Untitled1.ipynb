{
 "cells": [
  {
   "cell_type": "code",
   "execution_count": 19,
   "id": "e7afb1c5-1f80-404a-9751-424a5fee5cc5",
   "metadata": {},
   "outputs": [],
   "source": [
    "import pandas as pd\n",
    "import numpy as np\n",
    "from sklearn.tree import DecisionTreeClassifier\n",
    "from sklearn.linear_model import LogisticRegression\n",
    "from sklearn.preprocessing import StandardScaler\n",
    "from sklearn.metrics import *\n",
    "\n",
    "from sklearn.model_selection import train_test_split,StratifiedShuffleSplit,KFold,GroupKFold,StratifiedGroupKFold,GridSearchCV,RandomizedSearchCV\n",
    "from sklearn.ensemble import RandomForestClassifier,AdaBoostClassifier,StackingClassifier,BaggingClassifier\n",
    "from xgboost import XGBClassifier"
   ]
  },
  {
   "cell_type": "code",
   "execution_count": 2,
   "id": "92455ca7-96d2-49e0-835b-e3a37b62f767",
   "metadata": {},
   "outputs": [],
   "source": [
    "dataTrain=pd.read_csv(\"data/Train.txt\",sep=\"#|;\",engine=\"python\",header=None,index_col = False)\n",
    "dataTest=pd.read_csv(\"data/Test.txt\",sep=\"#|;\",engine=\"python\",header=None,index_col = False)\n",
    "dataCros=pd.read_csv(\"data/Cross_Validation.txt\",sep=\"#|;\",engine=\"python\",header=None,index_col = False)\n",
    "\n",
    "data=pd.concat([dataTrain,dataTest,dataCros])"
   ]
  },
  {
   "cell_type": "code",
   "execution_count": 3,
   "id": "5129e1bf-2bee-4b7f-a5b4-e6baeaa05a43",
   "metadata": {},
   "outputs": [
    {
     "data": {
      "text/html": [
       "<div>\n",
       "<style scoped>\n",
       "    .dataframe tbody tr th:only-of-type {\n",
       "        vertical-align: middle;\n",
       "    }\n",
       "\n",
       "    .dataframe tbody tr th {\n",
       "        vertical-align: top;\n",
       "    }\n",
       "\n",
       "    .dataframe thead th {\n",
       "        text-align: right;\n",
       "    }\n",
       "</style>\n",
       "<table border=\"1\" class=\"dataframe\">\n",
       "  <thead>\n",
       "    <tr style=\"text-align: right;\">\n",
       "      <th></th>\n",
       "      <th>0</th>\n",
       "      <th>1</th>\n",
       "      <th>2</th>\n",
       "      <th>3</th>\n",
       "      <th>4</th>\n",
       "      <th>5</th>\n",
       "      <th>6</th>\n",
       "      <th>7</th>\n",
       "      <th>8</th>\n",
       "      <th>9</th>\n",
       "      <th>...</th>\n",
       "      <th>537</th>\n",
       "      <th>538</th>\n",
       "      <th>539</th>\n",
       "      <th>540</th>\n",
       "      <th>541</th>\n",
       "      <th>542</th>\n",
       "      <th>543</th>\n",
       "      <th>544</th>\n",
       "      <th>545</th>\n",
       "      <th>546</th>\n",
       "    </tr>\n",
       "  </thead>\n",
       "  <tbody>\n",
       "    <tr>\n",
       "      <th>count</th>\n",
       "      <td>20189.000000</td>\n",
       "      <td>20189.000000</td>\n",
       "      <td>20189.000000</td>\n",
       "      <td>20189.000000</td>\n",
       "      <td>20189.000000</td>\n",
       "      <td>20189.000000</td>\n",
       "      <td>20189.000000</td>\n",
       "      <td>20189.000000</td>\n",
       "      <td>20189.000000</td>\n",
       "      <td>20189.000000</td>\n",
       "      <td>...</td>\n",
       "      <td>20189.000000</td>\n",
       "      <td>20189.000000</td>\n",
       "      <td>20189.000000</td>\n",
       "      <td>20189.000000</td>\n",
       "      <td>20189.000000</td>\n",
       "      <td>20189.000000</td>\n",
       "      <td>20189.000000</td>\n",
       "      <td>20189.000000</td>\n",
       "      <td>20189.000000</td>\n",
       "      <td>20189.000000</td>\n",
       "    </tr>\n",
       "    <tr>\n",
       "      <th>mean</th>\n",
       "      <td>11.224479</td>\n",
       "      <td>-3.423828</td>\n",
       "      <td>-1.005713</td>\n",
       "      <td>1.706400</td>\n",
       "      <td>-1.159582</td>\n",
       "      <td>-0.855778</td>\n",
       "      <td>-1.103048</td>\n",
       "      <td>-0.267441</td>\n",
       "      <td>-0.128349</td>\n",
       "      <td>0.159302</td>\n",
       "      <td>...</td>\n",
       "      <td>-0.303256</td>\n",
       "      <td>0.773173</td>\n",
       "      <td>-0.236877</td>\n",
       "      <td>0.099867</td>\n",
       "      <td>0.113846</td>\n",
       "      <td>0.347402</td>\n",
       "      <td>0.046918</td>\n",
       "      <td>0.146214</td>\n",
       "      <td>0.026270</td>\n",
       "      <td>4.104033</td>\n",
       "    </tr>\n",
       "    <tr>\n",
       "      <th>std</th>\n",
       "      <td>6.941206</td>\n",
       "      <td>12.906586</td>\n",
       "      <td>6.641375</td>\n",
       "      <td>5.304308</td>\n",
       "      <td>4.364610</td>\n",
       "      <td>3.429600</td>\n",
       "      <td>2.600222</td>\n",
       "      <td>2.251118</td>\n",
       "      <td>1.959483</td>\n",
       "      <td>1.809170</td>\n",
       "      <td>...</td>\n",
       "      <td>3.432375</td>\n",
       "      <td>2.807844</td>\n",
       "      <td>2.592954</td>\n",
       "      <td>2.329421</td>\n",
       "      <td>1.958721</td>\n",
       "      <td>1.758277</td>\n",
       "      <td>1.606191</td>\n",
       "      <td>1.455374</td>\n",
       "      <td>1.358208</td>\n",
       "      <td>1.047831</td>\n",
       "    </tr>\n",
       "    <tr>\n",
       "      <th>min</th>\n",
       "      <td>0.000000</td>\n",
       "      <td>-41.387033</td>\n",
       "      <td>-25.716292</td>\n",
       "      <td>-16.649619</td>\n",
       "      <td>-16.727334</td>\n",
       "      <td>-14.097185</td>\n",
       "      <td>-11.150499</td>\n",
       "      <td>-10.332489</td>\n",
       "      <td>-9.643177</td>\n",
       "      <td>-9.146440</td>\n",
       "      <td>...</td>\n",
       "      <td>-15.739322</td>\n",
       "      <td>-12.423641</td>\n",
       "      <td>-10.907989</td>\n",
       "      <td>-14.311366</td>\n",
       "      <td>-9.523313</td>\n",
       "      <td>-8.734160</td>\n",
       "      <td>-7.556286</td>\n",
       "      <td>-5.533654</td>\n",
       "      <td>-8.683989</td>\n",
       "      <td>-0.528020</td>\n",
       "    </tr>\n",
       "    <tr>\n",
       "      <th>25%</th>\n",
       "      <td>5.000000</td>\n",
       "      <td>-13.156473</td>\n",
       "      <td>-5.589819</td>\n",
       "      <td>-2.133137</td>\n",
       "      <td>-3.958086</td>\n",
       "      <td>-3.075181</td>\n",
       "      <td>-2.867972</td>\n",
       "      <td>-1.727710</td>\n",
       "      <td>-1.367883</td>\n",
       "      <td>-0.974871</td>\n",
       "      <td>...</td>\n",
       "      <td>-2.618182</td>\n",
       "      <td>-1.118800</td>\n",
       "      <td>-1.925435</td>\n",
       "      <td>-1.350946</td>\n",
       "      <td>-1.086751</td>\n",
       "      <td>-0.725954</td>\n",
       "      <td>-0.952058</td>\n",
       "      <td>-0.771705</td>\n",
       "      <td>-0.825883</td>\n",
       "      <td>3.514669</td>\n",
       "    </tr>\n",
       "    <tr>\n",
       "      <th>50%</th>\n",
       "      <td>11.000000</td>\n",
       "      <td>-1.369778</td>\n",
       "      <td>-1.044129</td>\n",
       "      <td>1.768324</td>\n",
       "      <td>-0.981802</td>\n",
       "      <td>-0.777229</td>\n",
       "      <td>-1.086701</td>\n",
       "      <td>-0.218771</td>\n",
       "      <td>-0.067052</td>\n",
       "      <td>0.209278</td>\n",
       "      <td>...</td>\n",
       "      <td>-0.208494</td>\n",
       "      <td>0.889173</td>\n",
       "      <td>-0.080375</td>\n",
       "      <td>0.239705</td>\n",
       "      <td>0.201000</td>\n",
       "      <td>0.377365</td>\n",
       "      <td>0.078007</td>\n",
       "      <td>0.169320</td>\n",
       "      <td>0.056811</td>\n",
       "      <td>4.168822</td>\n",
       "    </tr>\n",
       "    <tr>\n",
       "      <th>75%</th>\n",
       "      <td>17.000000</td>\n",
       "      <td>6.766844</td>\n",
       "      <td>3.764928</td>\n",
       "      <td>5.421992</td>\n",
       "      <td>1.693227</td>\n",
       "      <td>1.461983</td>\n",
       "      <td>0.679469</td>\n",
       "      <td>1.242841</td>\n",
       "      <td>1.138865</td>\n",
       "      <td>1.347726</td>\n",
       "      <td>...</td>\n",
       "      <td>2.165309</td>\n",
       "      <td>2.715580</td>\n",
       "      <td>1.540627</td>\n",
       "      <td>1.672862</td>\n",
       "      <td>1.382336</td>\n",
       "      <td>1.474741</td>\n",
       "      <td>1.087508</td>\n",
       "      <td>1.099771</td>\n",
       "      <td>0.911312</td>\n",
       "      <td>4.761209</td>\n",
       "    </tr>\n",
       "    <tr>\n",
       "      <th>max</th>\n",
       "      <td>23.000000</td>\n",
       "      <td>28.907357</td>\n",
       "      <td>19.357245</td>\n",
       "      <td>21.135432</td>\n",
       "      <td>20.982353</td>\n",
       "      <td>11.971851</td>\n",
       "      <td>14.983369</td>\n",
       "      <td>10.504401</td>\n",
       "      <td>9.182450</td>\n",
       "      <td>8.129699</td>\n",
       "      <td>...</td>\n",
       "      <td>15.025263</td>\n",
       "      <td>10.739319</td>\n",
       "      <td>11.194952</td>\n",
       "      <td>9.769175</td>\n",
       "      <td>11.536425</td>\n",
       "      <td>7.482802</td>\n",
       "      <td>7.454840</td>\n",
       "      <td>6.677344</td>\n",
       "      <td>5.998552</td>\n",
       "      <td>7.183624</td>\n",
       "    </tr>\n",
       "  </tbody>\n",
       "</table>\n",
       "<p>8 rows × 547 columns</p>\n",
       "</div>"
      ],
      "text/plain": [
       "                0             1             2             3             4    \\\n",
       "count  20189.000000  20189.000000  20189.000000  20189.000000  20189.000000   \n",
       "mean      11.224479     -3.423828     -1.005713      1.706400     -1.159582   \n",
       "std        6.941206     12.906586      6.641375      5.304308      4.364610   \n",
       "min        0.000000    -41.387033    -25.716292    -16.649619    -16.727334   \n",
       "25%        5.000000    -13.156473     -5.589819     -2.133137     -3.958086   \n",
       "50%       11.000000     -1.369778     -1.044129      1.768324     -0.981802   \n",
       "75%       17.000000      6.766844      3.764928      5.421992      1.693227   \n",
       "max       23.000000     28.907357     19.357245     21.135432     20.982353   \n",
       "\n",
       "                5             6             7             8             9    \\\n",
       "count  20189.000000  20189.000000  20189.000000  20189.000000  20189.000000   \n",
       "mean      -0.855778     -1.103048     -0.267441     -0.128349      0.159302   \n",
       "std        3.429600      2.600222      2.251118      1.959483      1.809170   \n",
       "min      -14.097185    -11.150499    -10.332489     -9.643177     -9.146440   \n",
       "25%       -3.075181     -2.867972     -1.727710     -1.367883     -0.974871   \n",
       "50%       -0.777229     -1.086701     -0.218771     -0.067052      0.209278   \n",
       "75%        1.461983      0.679469      1.242841      1.138865      1.347726   \n",
       "max       11.971851     14.983369     10.504401      9.182450      8.129699   \n",
       "\n",
       "       ...           537           538           539           540  \\\n",
       "count  ...  20189.000000  20189.000000  20189.000000  20189.000000   \n",
       "mean   ...     -0.303256      0.773173     -0.236877      0.099867   \n",
       "std    ...      3.432375      2.807844      2.592954      2.329421   \n",
       "min    ...    -15.739322    -12.423641    -10.907989    -14.311366   \n",
       "25%    ...     -2.618182     -1.118800     -1.925435     -1.350946   \n",
       "50%    ...     -0.208494      0.889173     -0.080375      0.239705   \n",
       "75%    ...      2.165309      2.715580      1.540627      1.672862   \n",
       "max    ...     15.025263     10.739319     11.194952      9.769175   \n",
       "\n",
       "                541           542           543           544           545  \\\n",
       "count  20189.000000  20189.000000  20189.000000  20189.000000  20189.000000   \n",
       "mean       0.113846      0.347402      0.046918      0.146214      0.026270   \n",
       "std        1.958721      1.758277      1.606191      1.455374      1.358208   \n",
       "min       -9.523313     -8.734160     -7.556286     -5.533654     -8.683989   \n",
       "25%       -1.086751     -0.725954     -0.952058     -0.771705     -0.825883   \n",
       "50%        0.201000      0.377365      0.078007      0.169320      0.056811   \n",
       "75%        1.382336      1.474741      1.087508      1.099771      0.911312   \n",
       "max       11.536425      7.482802      7.454840      6.677344      5.998552   \n",
       "\n",
       "                546  \n",
       "count  20189.000000  \n",
       "mean       4.104033  \n",
       "std        1.047831  \n",
       "min       -0.528020  \n",
       "25%        3.514669  \n",
       "50%        4.168822  \n",
       "75%        4.761209  \n",
       "max        7.183624  \n",
       "\n",
       "[8 rows x 547 columns]"
      ]
     },
     "execution_count": 3,
     "metadata": {},
     "output_type": "execute_result"
    }
   ],
   "source": [
    "data.describe()"
   ]
  },
  {
   "cell_type": "code",
   "execution_count": 4,
   "id": "4cbdbbe7-e542-4a7b-9ec0-b3ede8f6836d",
   "metadata": {},
   "outputs": [],
   "source": [
    "scaler=StandardScaler()\n",
    "X=data.drop(0,axis=1)\n",
    "X=scaler.fit_transform(X)\n",
    "Y=data[0]"
   ]
  },
  {
   "cell_type": "code",
   "execution_count": 5,
   "id": "20102b9e-5a56-41e5-8402-7e96c39e171c",
   "metadata": {},
   "outputs": [
    {
     "name": "stdout",
     "output_type": "stream",
     "text": [
      "(0.44, 1) Model: DecisionTreeClassifier, Validation Accuracy:0.736, Test Accuracy:0.728\n",
      "(0.09, 2) Model: DecisionTreeClassifier, Validation Accuracy:0.602, Test Accuracy:0.609\n",
      "(0.21, 3) Model: DecisionTreeClassifier, Validation Accuracy:0.686, Test Accuracy:0.68\n",
      "(0.68, 4) Model: DecisionTreeClassifier, Validation Accuracy:0.759, Test Accuracy:0.765\n",
      "CPU times: user 27.3 s, sys: 170 ms, total: 27.5 s\n",
      "Wall time: 27.5 s\n"
     ]
    }
   ],
   "source": [
    "%%time\n",
    "def find_best_model(learning_algorithm,X,Y,expected_accuracy=0.75,model_selection=None,model_selection_params={},params={}): \n",
    "    while True:\n",
    "        for (train_size,rand) in zip(np.random.random(50),np.arange(1,50)):\n",
    "            train_size=round((train_size+0.1)*0.8,2)\n",
    "            X_train,X_test,y_train,y_test = train_test_split(X,Y,train_size=train_size,random_state=rand)\n",
    "            \n",
    "            model = learning_algorithm()\n",
    "            #If params is not empty adding default parametrs\n",
    "            for (key,value) in params.items():\n",
    "                if hasattr(value,\"__iter__\"):\n",
    "                    l=list(value)\n",
    "                else:\n",
    "                    l=[value]\n",
    "                l.append(model.__dict__.get(key))\n",
    "                params[key]=l\n",
    "            \n",
    "            if model_selection:\n",
    "                model_selection = model_selection(model,params,scoring=\"accuracy\",**model_selection_params)\n",
    "                model = model_selection.fit(X_train,y_train)\n",
    "            else:\n",
    "                model.fit(X_train,y_train)\n",
    "\n",
    "            X_val,X_test,y_val,y_test=train_test_split(X_test,y_test,train_size=0.50,random_state=1)\n",
    "\n",
    "            y_val_predict=model.predict(X_val)\n",
    "            y_test_predict=model.predict(X_test)\n",
    "\n",
    "            val_accuracy = accuracy_score(y_val_predict,y_val)\n",
    "            test_accuracy=accuracy_score(y_test_predict,y_test)\n",
    "\n",
    "            print((train_size,rand),f\"Model: {Model.__name__}, Validation Accuracy:{val_accuracy:.3}, Test Accuracy:{test_accuracy:.3}\")\n",
    "            if val_accuracy>=expected_accuracy and test_accuracy>=expected_accuracy:\n",
    "                return test_accuracy,model\n",
    "\n",
    "accuracy,model=find_best_model(DecisionTreeClassifier,X,Y,model_selection=None)"
   ]
  },
  {
   "cell_type": "code",
   "execution_count": 6,
   "id": "2ccbeca8-579f-4ac9-964c-7e29a433a9e6",
   "metadata": {},
   "outputs": [
    {
     "name": "stdout",
     "output_type": "stream",
     "text": [
      "(0.12, 1) Model: LogisticRegression, Validation Accuracy:0.892, Test Accuracy:0.895\n"
     ]
    },
    {
     "name": "stderr",
     "output_type": "stream",
     "text": [
      "/usr/local/lib/python3.10/dist-packages/sklearn/linear_model/_logistic.py:458: ConvergenceWarning: lbfgs failed to converge (status=1):\n",
      "STOP: TOTAL NO. of ITERATIONS REACHED LIMIT.\n",
      "\n",
      "Increase the number of iterations (max_iter) or scale the data as shown in:\n",
      "    https://scikit-learn.org/stable/modules/preprocessing.html\n",
      "Please also refer to the documentation for alternative solver options:\n",
      "    https://scikit-learn.org/stable/modules/linear_model.html#logistic-regression\n",
      "  n_iter_i = _check_optimize_result(\n"
     ]
    }
   ],
   "source": [
    "accuracy,model=find_best_model(LogisticRegression,X,Y)"
   ]
  },
  {
   "cell_type": "code",
   "execution_count": 8,
   "id": "70087837-4d77-406d-ac2b-728f392b98e9",
   "metadata": {
    "tags": []
   },
   "outputs": [
    {
     "name": "stdout",
     "output_type": "stream",
     "text": [
      "(0.2, 1) Model: RandomForestClassifier, Validation Accuracy:0.934, Test Accuracy:0.937\n",
      "(0.71, 2) Model: RandomForestClassifier, Validation Accuracy:0.97, Test Accuracy:0.97\n",
      "(0.75, 3) Model: RandomForestClassifier, Validation Accuracy:0.969, Test Accuracy:0.975\n",
      "(0.84, 4) Model: RandomForestClassifier, Validation Accuracy:0.976, Test Accuracy:0.972\n"
     ]
    }
   ],
   "source": [
    "accuracy,model=find_best_model(RandomForestClassifier,X,Y,expected_accuracy=0.97)"
   ]
  },
  {
   "cell_type": "code",
   "execution_count": null,
   "id": "5afa901f-e660-4c51-a213-a95f82502c1d",
   "metadata": {},
   "outputs": [],
   "source": [
    "X_train,X_test,y_train,y_test = train_test_split(X,Y,train_size=0.66)          \n",
    "model = LogisticRegression()\n",
    "model.fit(X_train,y_train)\n",
    "X_val,X_test,y_val,y_test=train_test_split(X_test,y_test,train_size=0.70,random_state=1)\n",
    "y_val_predict=model.predict(X_val)\n",
    "y_test_predict=model.predict(X_test)\n",
    "val_accuracy = accuracy_score(y_val_predict,y_val)\n",
    "test_accuracy=accuracy_score(y_test_predict,y_test)\n",
    "print(f\"Validation Accuracy:{val_accuracy:.3}, Test Accuracy:{test_accuracy:.3}\")"
   ]
  },
  {
   "cell_type": "code",
   "execution_count": null,
   "id": "dedc6377-3879-4caa-963d-8f42035f4ec4",
   "metadata": {},
   "outputs": [],
   "source": [
    "find_best_model(BaggingClassifier,X,Y,expected_accuracy=0.8)"
   ]
  },
  {
   "cell_type": "code",
   "execution_count": null,
   "id": "8519bc77-ed2e-4c5b-85c7-a46e8acd8605",
   "metadata": {},
   "outputs": [
    {
     "name": "stdout",
     "output_type": "stream",
     "text": [
      "(0.22, 1) Model: XGBClassifier, Validation Accuracy:0.914, Test Accuracy:0.922\n",
      "(0.35, 2) Model: XGBClassifier, Validation Accuracy:0.937, Test Accuracy:0.936\n"
     ]
    }
   ],
   "source": [
    "find_best_model(XGBClassifier,X,Y,expected_accuracy=0.96)"
   ]
  },
  {
   "cell_type": "code",
   "execution_count": null,
   "id": "e0250088-cd52-4673-b9e3-c4f3d59148f0",
   "metadata": {},
   "outputs": [],
   "source": [
    "GridSearchCV()"
   ]
  },
  {
   "cell_type": "code",
   "execution_count": null,
   "id": "d26b0518-e87b-4352-a3af-ce56e513ebbb",
   "metadata": {},
   "outputs": [],
   "source": [
    "d.update({\"a\":5})"
   ]
  },
  {
   "cell_type": "code",
   "execution_count": null,
   "id": "64ec4350-3bd5-4f45-ae11-4ef6dd019f25",
   "metadata": {},
   "outputs": [],
   "source": [
    "DecisionTreeClassifier.__name__"
   ]
  },
  {
   "cell_type": "code",
   "execution_count": null,
   "id": "89a63751-f9cc-4b9f-92ea-5f05ef3706a5",
   "metadata": {},
   "outputs": [],
   "source": [
    "estimator,\n",
    "    param_grid,\n",
    "    *,\n",
    "    scoring=None,\n",
    "    n_jobs=None,\n",
    "    refit=True,\n",
    "    cv=None,\n",
    "    verbose=0,\n",
    "    pre_dispatch='2*n_jobs',\n",
    "    error_score=nan,\n",
    "    return_train_score=False,\n",
    ")"
   ]
  },
  {
   "cell_type": "code",
   "execution_count": null,
   "id": "e7037797-86bb-4671-81f4-3f74543cfa4f",
   "metadata": {},
   "outputs": [],
   "source": [
    "{**DecisionTreeClassifier().__dict__,'criterion': 'entropy'}"
   ]
  },
  {
   "cell_type": "code",
   "execution_count": null,
   "id": "a24bca67-9b47-4bed-974b-4243ee8204f1",
   "metadata": {},
   "outputs": [],
   "source": [
    "RandomizedSearchCV()"
   ]
  },
  {
   "cell_type": "code",
   "execution_count": null,
   "id": "0337d764-5638-4cbe-b1e0-2fa5701c854c",
   "metadata": {},
   "outputs": [],
   "source": [
    "model = DecisionTreeClassifier()\n",
    "params = {\"random_state\": 2}\n",
    "for (key,value) in params.items():\n",
    "    if hasattr(value,\"__iter__\"):\n",
    "        l=list(value)\n",
    "    else:\n",
    "        l=[value]\n",
    "    l.append(model.__dict__.get(key))\n",
    "    params[key]=l\n",
    "                \n",
    "                "
   ]
  },
  {
   "cell_type": "code",
   "execution_count": null,
   "id": "06d070bc-6de8-498a-9d4b-c02e3d345319",
   "metadata": {},
   "outputs": [],
   "source": [
    "DecisionTreeClassifier(**{})"
   ]
  },
  {
   "cell_type": "code",
   "execution_count": null,
   "id": "6d50cca4-5874-481c-a9e9-c39c23b151df",
   "metadata": {},
   "outputs": [],
   "source": [
    "dir(())"
   ]
  },
  {
   "cell_type": "code",
   "execution_count": null,
   "id": "497e6d86-d1f2-4ad6-965d-af4c9ff01744",
   "metadata": {},
   "outputs": [],
   "source": [
    "hasattr([],\"__iter__\")"
   ]
  },
  {
   "cell_type": "code",
   "execution_count": null,
   "id": "ef449609-8fa6-401f-b1f8-a7574340707c",
   "metadata": {},
   "outputs": [],
   "source": [
    "print(model.__dict__.get(\"estimator5\"))"
   ]
  },
  {
   "cell_type": "code",
   "execution_count": null,
   "id": "45660c4b-2076-4d62-9151-3bfb2f462aa2",
   "metadata": {},
   "outputs": [],
   "source": [
    "DecisionTreeClassifier().__dict__"
   ]
  },
  {
   "cell_type": "code",
   "execution_count": 15,
   "id": "80a14ccc-e8af-43c6-86d4-efae20e8b09a",
   "metadata": {},
   "outputs": [
    {
     "data": {
      "text/plain": [
       "{0,\n",
       " 1,\n",
       " 2,\n",
       " 3,\n",
       " 4,\n",
       " 5,\n",
       " 6,\n",
       " 7,\n",
       " 8,\n",
       " 9,\n",
       " 10,\n",
       " 11,\n",
       " 12,\n",
       " 13,\n",
       " 14,\n",
       " 15,\n",
       " 16,\n",
       " 17,\n",
       " 18,\n",
       " 19,\n",
       " 20,\n",
       " 21,\n",
       " 22,\n",
       " 23}"
      ]
     },
     "execution_count": 15,
     "metadata": {},
     "output_type": "execute_result"
    }
   ],
   "source": [
    "set(Y.value_counts().index)"
   ]
  },
  {
   "cell_type": "code",
   "execution_count": 18,
   "id": "a1f06e1f-0344-41a3-8e07-64b9a9c96ef0",
   "metadata": {},
   "outputs": [
    {
     "name": "stdout",
     "output_type": "stream",
     "text": [
      "(0.35, 1) Model: BaggingClassifier, Validation Accuracy:0.874, Test Accuracy:0.872\n"
     ]
    },
    {
     "ename": "AttributeError",
     "evalue": "'tuple' object has no attribute '_target'",
     "output_type": "error",
     "traceback": [
      "\u001b[0;31m---------------------------------------------------------------------------\u001b[0m",
      "\u001b[0;31mAttributeError\u001b[0m                            Traceback (most recent call last)",
      "File \u001b[0;32m/usr/lib/python3.10/threading.py:952\u001b[0m, in \u001b[0;36mThread.run\u001b[0;34m(self)\u001b[0m\n\u001b[1;32m    951\u001b[0m \u001b[38;5;28;01mtry\u001b[39;00m:\n\u001b[0;32m--> 952\u001b[0m     \u001b[38;5;28;01mif\u001b[39;00m \u001b[38;5;28;43mself\u001b[39;49m\u001b[38;5;241;43m.\u001b[39;49m\u001b[43m_target\u001b[49m \u001b[38;5;129;01mis\u001b[39;00m \u001b[38;5;129;01mnot\u001b[39;00m \u001b[38;5;28;01mNone\u001b[39;00m:\n\u001b[1;32m    953\u001b[0m         \u001b[38;5;28mself\u001b[39m\u001b[38;5;241m.\u001b[39m_target(\u001b[38;5;241m*\u001b[39m\u001b[38;5;28mself\u001b[39m\u001b[38;5;241m.\u001b[39m_args, \u001b[38;5;241m*\u001b[39m\u001b[38;5;241m*\u001b[39m\u001b[38;5;28mself\u001b[39m\u001b[38;5;241m.\u001b[39m_kwargs)\n",
      "\u001b[0;31mAttributeError\u001b[0m: 'tuple' object has no attribute '_target'",
      "\nDuring handling of the above exception, another exception occurred:\n",
      "\u001b[0;31mAttributeError\u001b[0m                            Traceback (most recent call last)",
      "Cell \u001b[0;32mIn [18], line 3\u001b[0m\n\u001b[1;32m      1\u001b[0m \u001b[38;5;28;01mimport\u001b[39;00m \u001b[38;5;21;01mthreading\u001b[39;00m\n\u001b[0;32m----> 3\u001b[0m threading\u001b[38;5;241m.\u001b[39mThread\u001b[38;5;241m.\u001b[39mrun(find_best_model(BaggingClassifier,X,Y,expected_accuracy\u001b[38;5;241m=\u001b[39m\u001b[38;5;241m0.8\u001b[39m))\n",
      "File \u001b[0;32m/usr/lib/python3.10/threading.py:957\u001b[0m, in \u001b[0;36mThread.run\u001b[0;34m(self)\u001b[0m\n\u001b[1;32m    953\u001b[0m         \u001b[38;5;28mself\u001b[39m\u001b[38;5;241m.\u001b[39m_target(\u001b[38;5;241m*\u001b[39m\u001b[38;5;28mself\u001b[39m\u001b[38;5;241m.\u001b[39m_args, \u001b[38;5;241m*\u001b[39m\u001b[38;5;241m*\u001b[39m\u001b[38;5;28mself\u001b[39m\u001b[38;5;241m.\u001b[39m_kwargs)\n\u001b[1;32m    954\u001b[0m \u001b[38;5;28;01mfinally\u001b[39;00m:\n\u001b[1;32m    955\u001b[0m     \u001b[38;5;66;03m# Avoid a refcycle if the thread is running a function with\u001b[39;00m\n\u001b[1;32m    956\u001b[0m     \u001b[38;5;66;03m# an argument that has a member that points to the thread.\u001b[39;00m\n\u001b[0;32m--> 957\u001b[0m     \u001b[38;5;28;01mdel\u001b[39;00m \u001b[38;5;28mself\u001b[39m\u001b[38;5;241m.\u001b[39m_target, \u001b[38;5;28mself\u001b[39m\u001b[38;5;241m.\u001b[39m_args, \u001b[38;5;28mself\u001b[39m\u001b[38;5;241m.\u001b[39m_kwargs\n",
      "\u001b[0;31mAttributeError\u001b[0m: 'tuple' object has no attribute '_target'"
     ]
    }
   ],
   "source": [
    "import threading\n",
    "\n",
    "threading.Thread.run(find_best_model(BaggingClassifier,X,Y,expected_accuracy=0.8))"
   ]
  },
  {
   "cell_type": "code",
   "execution_count": null,
   "id": "a4d9d208-4f0d-4265-bbe8-b6bf6dc9ad61",
   "metadata": {},
   "outputs": [],
   "source": [
    "print(\"sd\")"
   ]
  },
  {
   "cell_type": "code",
   "execution_count": null,
   "id": "086740a2-2b75-4751-a228-9c9cf9f2ba1c",
   "metadata": {},
   "outputs": [],
   "source": []
  }
 ],
 "metadata": {
  "kernelspec": {
   "display_name": "Python 3 (ipykernel)",
   "language": "python",
   "name": "python3"
  },
  "language_info": {
   "codemirror_mode": {
    "name": "ipython",
    "version": 3
   },
   "file_extension": ".py",
   "mimetype": "text/x-python",
   "name": "python",
   "nbconvert_exporter": "python",
   "pygments_lexer": "ipython3",
   "version": "3.10.6"
  }
 },
 "nbformat": 4,
 "nbformat_minor": 5
}
