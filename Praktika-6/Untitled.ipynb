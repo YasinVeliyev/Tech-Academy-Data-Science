{
 "cells": [
  {
   "cell_type": "code",
   "execution_count": 1,
   "id": "0766d88b-640e-4e2e-95af-a0d5e708b6eb",
   "metadata": {},
   "outputs": [],
   "source": [
    "import pandas as pd\n",
    "import numpy as np\n",
    "import re\n",
    "pattern=re.compile(\"[0-9]+\\.[0-9]+\")"
   ]
  },
  {
   "cell_type": "code",
   "execution_count": 2,
   "id": "20508e32-2870-4684-bea3-686891fa8404",
   "metadata": {},
   "outputs": [],
   "source": [
    "dataTrain=pd.read_csv(\"data/Train.txt\",sep=\"#|;\",engine=\"python\",header=None,index_col = False)"
   ]
  },
  {
   "cell_type": "code",
   "execution_count": null,
   "id": "7d56f62a-e690-42ea-85b5-4108b6b21eb2",
   "metadata": {
    "collapsed": true,
    "jupyter": {
     "outputs_hidden": true
    },
    "tags": []
   },
   "outputs": [],
   "source": []
  },
  {
   "cell_type": "code",
   "execution_count": 3,
   "id": "f90b008c-7c34-44d3-b643-7069fd6b0e0e",
   "metadata": {},
   "outputs": [
    {
     "name": "stdout",
     "output_type": "stream",
     "text": [
      "1.42553096883508\n"
     ]
    }
   ],
   "source": [
    "a=pattern.match(\"1.42553096883508;\")\n",
    "print(a[0])"
   ]
  },
  {
   "cell_type": "code",
   "execution_count": 4,
   "id": "06bee3af-fed3-48fc-bfd9-ed089d32a518",
   "metadata": {},
   "outputs": [
    {
     "data": {
      "text/html": [
       "<div>\n",
       "<style scoped>\n",
       "    .dataframe tbody tr th:only-of-type {\n",
       "        vertical-align: middle;\n",
       "    }\n",
       "\n",
       "    .dataframe tbody tr th {\n",
       "        vertical-align: top;\n",
       "    }\n",
       "\n",
       "    .dataframe thead th {\n",
       "        text-align: right;\n",
       "    }\n",
       "</style>\n",
       "<table border=\"1\" class=\"dataframe\">\n",
       "  <thead>\n",
       "    <tr style=\"text-align: right;\">\n",
       "      <th></th>\n",
       "      <th>0</th>\n",
       "      <th>1</th>\n",
       "      <th>2</th>\n",
       "      <th>3</th>\n",
       "      <th>4</th>\n",
       "      <th>5</th>\n",
       "      <th>6</th>\n",
       "      <th>7</th>\n",
       "      <th>8</th>\n",
       "      <th>9</th>\n",
       "      <th>...</th>\n",
       "      <th>537</th>\n",
       "      <th>538</th>\n",
       "      <th>539</th>\n",
       "      <th>540</th>\n",
       "      <th>541</th>\n",
       "      <th>542</th>\n",
       "      <th>543</th>\n",
       "      <th>544</th>\n",
       "      <th>545</th>\n",
       "      <th>546</th>\n",
       "    </tr>\n",
       "  </thead>\n",
       "  <tbody>\n",
       "    <tr>\n",
       "      <th>0</th>\n",
       "      <td>0</td>\n",
       "      <td>-6.024003</td>\n",
       "      <td>8.434972</td>\n",
       "      <td>-1.653654</td>\n",
       "      <td>-0.574355</td>\n",
       "      <td>-2.350995</td>\n",
       "      <td>0.785241</td>\n",
       "      <td>-2.032504</td>\n",
       "      <td>-1.689566</td>\n",
       "      <td>-0.503721</td>\n",
       "      <td>...</td>\n",
       "      <td>3.419179</td>\n",
       "      <td>2.334640</td>\n",
       "      <td>-0.974489</td>\n",
       "      <td>0.695670</td>\n",
       "      <td>-3.212498</td>\n",
       "      <td>-0.472166</td>\n",
       "      <td>1.425531</td>\n",
       "      <td>0.963218</td>\n",
       "      <td>0.243333</td>\n",
       "      <td>5.883590</td>\n",
       "    </tr>\n",
       "    <tr>\n",
       "      <th>1</th>\n",
       "      <td>0</td>\n",
       "      <td>-13.949878</td>\n",
       "      <td>9.602716</td>\n",
       "      <td>1.763657</td>\n",
       "      <td>4.703395</td>\n",
       "      <td>-1.207065</td>\n",
       "      <td>0.873615</td>\n",
       "      <td>1.585900</td>\n",
       "      <td>-2.387653</td>\n",
       "      <td>-3.466051</td>\n",
       "      <td>...</td>\n",
       "      <td>-3.674066</td>\n",
       "      <td>-4.262962</td>\n",
       "      <td>-3.463864</td>\n",
       "      <td>-2.229005</td>\n",
       "      <td>-3.212898</td>\n",
       "      <td>-1.256255</td>\n",
       "      <td>-2.589354</td>\n",
       "      <td>-1.541394</td>\n",
       "      <td>-2.369498</td>\n",
       "      <td>1.900734</td>\n",
       "    </tr>\n",
       "    <tr>\n",
       "      <th>2</th>\n",
       "      <td>0</td>\n",
       "      <td>5.170417</td>\n",
       "      <td>2.401173</td>\n",
       "      <td>6.257058</td>\n",
       "      <td>1.202883</td>\n",
       "      <td>1.516425</td>\n",
       "      <td>-1.410218</td>\n",
       "      <td>-4.488354</td>\n",
       "      <td>-1.157383</td>\n",
       "      <td>1.112390</td>\n",
       "      <td>...</td>\n",
       "      <td>-5.495467</td>\n",
       "      <td>0.622731</td>\n",
       "      <td>-0.687237</td>\n",
       "      <td>1.318741</td>\n",
       "      <td>-1.138520</td>\n",
       "      <td>-2.500563</td>\n",
       "      <td>-0.281380</td>\n",
       "      <td>1.664352</td>\n",
       "      <td>1.963432</td>\n",
       "      <td>4.670355</td>\n",
       "    </tr>\n",
       "    <tr>\n",
       "      <th>3</th>\n",
       "      <td>0</td>\n",
       "      <td>-3.411793</td>\n",
       "      <td>11.979136</td>\n",
       "      <td>0.022563</td>\n",
       "      <td>0.797471</td>\n",
       "      <td>-2.327754</td>\n",
       "      <td>-3.992630</td>\n",
       "      <td>2.597402</td>\n",
       "      <td>-1.321857</td>\n",
       "      <td>1.213038</td>\n",
       "      <td>...</td>\n",
       "      <td>-1.263155</td>\n",
       "      <td>-5.289630</td>\n",
       "      <td>-1.436241</td>\n",
       "      <td>-4.418044</td>\n",
       "      <td>-3.450107</td>\n",
       "      <td>-1.565164</td>\n",
       "      <td>1.307567</td>\n",
       "      <td>0.455341</td>\n",
       "      <td>-0.370953</td>\n",
       "      <td>4.833021</td>\n",
       "    </tr>\n",
       "    <tr>\n",
       "      <th>4</th>\n",
       "      <td>0</td>\n",
       "      <td>-8.137907</td>\n",
       "      <td>16.958149</td>\n",
       "      <td>0.525468</td>\n",
       "      <td>-0.518099</td>\n",
       "      <td>0.318236</td>\n",
       "      <td>-1.400949</td>\n",
       "      <td>-1.171182</td>\n",
       "      <td>-0.158977</td>\n",
       "      <td>-1.085432</td>\n",
       "      <td>...</td>\n",
       "      <td>-5.699882</td>\n",
       "      <td>-4.840200</td>\n",
       "      <td>-2.620963</td>\n",
       "      <td>-0.714717</td>\n",
       "      <td>-1.426346</td>\n",
       "      <td>1.110394</td>\n",
       "      <td>2.860897</td>\n",
       "      <td>1.772555</td>\n",
       "      <td>1.419513</td>\n",
       "      <td>4.536200</td>\n",
       "    </tr>\n",
       "    <tr>\n",
       "      <th>...</th>\n",
       "      <td>...</td>\n",
       "      <td>...</td>\n",
       "      <td>...</td>\n",
       "      <td>...</td>\n",
       "      <td>...</td>\n",
       "      <td>...</td>\n",
       "      <td>...</td>\n",
       "      <td>...</td>\n",
       "      <td>...</td>\n",
       "      <td>...</td>\n",
       "      <td>...</td>\n",
       "      <td>...</td>\n",
       "      <td>...</td>\n",
       "      <td>...</td>\n",
       "      <td>...</td>\n",
       "      <td>...</td>\n",
       "      <td>...</td>\n",
       "      <td>...</td>\n",
       "      <td>...</td>\n",
       "      <td>...</td>\n",
       "      <td>...</td>\n",
       "    </tr>\n",
       "    <tr>\n",
       "      <th>18165</th>\n",
       "      <td>23</td>\n",
       "      <td>-20.270353</td>\n",
       "      <td>1.089628</td>\n",
       "      <td>-3.105801</td>\n",
       "      <td>-2.609111</td>\n",
       "      <td>-2.497966</td>\n",
       "      <td>-4.682183</td>\n",
       "      <td>0.509501</td>\n",
       "      <td>-0.511175</td>\n",
       "      <td>2.287552</td>\n",
       "      <td>...</td>\n",
       "      <td>2.988654</td>\n",
       "      <td>-1.562807</td>\n",
       "      <td>-6.267464</td>\n",
       "      <td>0.333675</td>\n",
       "      <td>1.501495</td>\n",
       "      <td>1.040096</td>\n",
       "      <td>-3.691595</td>\n",
       "      <td>0.407229</td>\n",
       "      <td>0.095279</td>\n",
       "      <td>2.750888</td>\n",
       "    </tr>\n",
       "    <tr>\n",
       "      <th>18166</th>\n",
       "      <td>23</td>\n",
       "      <td>-15.053128</td>\n",
       "      <td>-2.819717</td>\n",
       "      <td>-0.884350</td>\n",
       "      <td>-2.045222</td>\n",
       "      <td>1.609190</td>\n",
       "      <td>-2.138863</td>\n",
       "      <td>0.775223</td>\n",
       "      <td>1.138954</td>\n",
       "      <td>-0.206750</td>\n",
       "      <td>...</td>\n",
       "      <td>-3.805477</td>\n",
       "      <td>0.334937</td>\n",
       "      <td>2.721093</td>\n",
       "      <td>-3.690767</td>\n",
       "      <td>1.325286</td>\n",
       "      <td>2.754217</td>\n",
       "      <td>-0.306933</td>\n",
       "      <td>-2.612856</td>\n",
       "      <td>-0.956152</td>\n",
       "      <td>3.460388</td>\n",
       "    </tr>\n",
       "    <tr>\n",
       "      <th>18167</th>\n",
       "      <td>23</td>\n",
       "      <td>-20.249252</td>\n",
       "      <td>2.040117</td>\n",
       "      <td>-1.584354</td>\n",
       "      <td>-4.785700</td>\n",
       "      <td>-1.209069</td>\n",
       "      <td>-6.339949</td>\n",
       "      <td>0.402131</td>\n",
       "      <td>-1.203664</td>\n",
       "      <td>0.005176</td>\n",
       "      <td>...</td>\n",
       "      <td>-3.800741</td>\n",
       "      <td>3.777278</td>\n",
       "      <td>-3.952350</td>\n",
       "      <td>-3.115205</td>\n",
       "      <td>-2.404258</td>\n",
       "      <td>0.414806</td>\n",
       "      <td>-0.902465</td>\n",
       "      <td>-0.838150</td>\n",
       "      <td>-1.429881</td>\n",
       "      <td>1.083172</td>\n",
       "    </tr>\n",
       "    <tr>\n",
       "      <th>18168</th>\n",
       "      <td>23</td>\n",
       "      <td>8.053919</td>\n",
       "      <td>-3.056077</td>\n",
       "      <td>5.910312</td>\n",
       "      <td>-3.730439</td>\n",
       "      <td>-0.544434</td>\n",
       "      <td>3.621176</td>\n",
       "      <td>-2.932716</td>\n",
       "      <td>-4.207619</td>\n",
       "      <td>1.945056</td>\n",
       "      <td>...</td>\n",
       "      <td>4.062116</td>\n",
       "      <td>4.873626</td>\n",
       "      <td>-1.237416</td>\n",
       "      <td>-1.985327</td>\n",
       "      <td>-1.190132</td>\n",
       "      <td>2.142913</td>\n",
       "      <td>-1.322156</td>\n",
       "      <td>0.048656</td>\n",
       "      <td>0.282358</td>\n",
       "      <td>4.390202</td>\n",
       "    </tr>\n",
       "    <tr>\n",
       "      <th>18169</th>\n",
       "      <td>23</td>\n",
       "      <td>-8.382033</td>\n",
       "      <td>-1.802527</td>\n",
       "      <td>3.500032</td>\n",
       "      <td>-7.476188</td>\n",
       "      <td>1.264811</td>\n",
       "      <td>-1.516278</td>\n",
       "      <td>-3.435613</td>\n",
       "      <td>-0.151561</td>\n",
       "      <td>0.021371</td>\n",
       "      <td>...</td>\n",
       "      <td>-3.911131</td>\n",
       "      <td>-0.929488</td>\n",
       "      <td>4.075818</td>\n",
       "      <td>1.589389</td>\n",
       "      <td>-0.663771</td>\n",
       "      <td>1.547092</td>\n",
       "      <td>-0.822408</td>\n",
       "      <td>2.031590</td>\n",
       "      <td>-0.825817</td>\n",
       "      <td>3.749878</td>\n",
       "    </tr>\n",
       "  </tbody>\n",
       "</table>\n",
       "<p>18170 rows × 547 columns</p>\n",
       "</div>"
      ],
      "text/plain": [
       "       0          1          2         3         4         5         6    \\\n",
       "0        0  -6.024003   8.434972 -1.653654 -0.574355 -2.350995  0.785241   \n",
       "1        0 -13.949878   9.602716  1.763657  4.703395 -1.207065  0.873615   \n",
       "2        0   5.170417   2.401173  6.257058  1.202883  1.516425 -1.410218   \n",
       "3        0  -3.411793  11.979136  0.022563  0.797471 -2.327754 -3.992630   \n",
       "4        0  -8.137907  16.958149  0.525468 -0.518099  0.318236 -1.400949   \n",
       "...    ...        ...        ...       ...       ...       ...       ...   \n",
       "18165   23 -20.270353   1.089628 -3.105801 -2.609111 -2.497966 -4.682183   \n",
       "18166   23 -15.053128  -2.819717 -0.884350 -2.045222  1.609190 -2.138863   \n",
       "18167   23 -20.249252   2.040117 -1.584354 -4.785700 -1.209069 -6.339949   \n",
       "18168   23   8.053919  -3.056077  5.910312 -3.730439 -0.544434  3.621176   \n",
       "18169   23  -8.382033  -1.802527  3.500032 -7.476188  1.264811 -1.516278   \n",
       "\n",
       "            7         8         9    ...       537       538       539  \\\n",
       "0     -2.032504 -1.689566 -0.503721  ...  3.419179  2.334640 -0.974489   \n",
       "1      1.585900 -2.387653 -3.466051  ... -3.674066 -4.262962 -3.463864   \n",
       "2     -4.488354 -1.157383  1.112390  ... -5.495467  0.622731 -0.687237   \n",
       "3      2.597402 -1.321857  1.213038  ... -1.263155 -5.289630 -1.436241   \n",
       "4     -1.171182 -0.158977 -1.085432  ... -5.699882 -4.840200 -2.620963   \n",
       "...         ...       ...       ...  ...       ...       ...       ...   \n",
       "18165  0.509501 -0.511175  2.287552  ...  2.988654 -1.562807 -6.267464   \n",
       "18166  0.775223  1.138954 -0.206750  ... -3.805477  0.334937  2.721093   \n",
       "18167  0.402131 -1.203664  0.005176  ... -3.800741  3.777278 -3.952350   \n",
       "18168 -2.932716 -4.207619  1.945056  ...  4.062116  4.873626 -1.237416   \n",
       "18169 -3.435613 -0.151561  0.021371  ... -3.911131 -0.929488  4.075818   \n",
       "\n",
       "            540       541       542       543       544       545       546  \n",
       "0      0.695670 -3.212498 -0.472166  1.425531  0.963218  0.243333  5.883590  \n",
       "1     -2.229005 -3.212898 -1.256255 -2.589354 -1.541394 -2.369498  1.900734  \n",
       "2      1.318741 -1.138520 -2.500563 -0.281380  1.664352  1.963432  4.670355  \n",
       "3     -4.418044 -3.450107 -1.565164  1.307567  0.455341 -0.370953  4.833021  \n",
       "4     -0.714717 -1.426346  1.110394  2.860897  1.772555  1.419513  4.536200  \n",
       "...         ...       ...       ...       ...       ...       ...       ...  \n",
       "18165  0.333675  1.501495  1.040096 -3.691595  0.407229  0.095279  2.750888  \n",
       "18166 -3.690767  1.325286  2.754217 -0.306933 -2.612856 -0.956152  3.460388  \n",
       "18167 -3.115205 -2.404258  0.414806 -0.902465 -0.838150 -1.429881  1.083172  \n",
       "18168 -1.985327 -1.190132  2.142913 -1.322156  0.048656  0.282358  4.390202  \n",
       "18169  1.589389 -0.663771  1.547092 -0.822408  2.031590 -0.825817  3.749878  \n",
       "\n",
       "[18170 rows x 547 columns]"
      ]
     },
     "execution_count": 4,
     "metadata": {},
     "output_type": "execute_result"
    }
   ],
   "source": [
    "dataTrain"
   ]
  },
  {
   "cell_type": "code",
   "execution_count": 5,
   "id": "159ffaf6-e6c3-4731-8dc7-6be8dd9278e8",
   "metadata": {},
   "outputs": [],
   "source": [
    "dataTest=pd.read_csv(\"data/Test.txt\",sep=\"#|;\",engine=\"python\",header=None,index_col = False)\n",
    "dataCros=pd.read_csv(\"data/Cross_Validation.txt\",sep=\"#|;\",engine=\"python\",header=None,index_col = False)"
   ]
  },
  {
   "cell_type": "code",
   "execution_count": 6,
   "id": "5ddaa51e-2e15-4d16-b600-f3eea47c1804",
   "metadata": {},
   "outputs": [],
   "source": [
    "dataTrain.dropna(inplace=True,axis=1)\n",
    "dataCros.dropna(inplace=True,axis=1)\n",
    "dataTest.dropna(inplace=True,axis=1)"
   ]
  },
  {
   "cell_type": "code",
   "execution_count": null,
   "id": "0a3f587d-b1fa-4de4-9644-e5bebbcb1d17",
   "metadata": {},
   "outputs": [],
   "source": []
  },
  {
   "cell_type": "code",
   "execution_count": 7,
   "id": "d93f71f4-ce74-4980-ae51-1273e004c166",
   "metadata": {},
   "outputs": [],
   "source": [
    "X_train=dataTrain.drop(0,axis=1)\n",
    "Y_train=dataTrain[0]\n",
    "\n",
    "X_test=dataTest.drop(0,axis=1)\n",
    "Y_test=dataTest[0]\n",
    "\n",
    "X_cross=dataCros.drop(0,axis=1)\n",
    "Y_cross=dataCros[0]"
   ]
  },
  {
   "cell_type": "code",
   "execution_count": 8,
   "id": "cf208284-dcbc-4cf6-b08a-4a83eaf73060",
   "metadata": {},
   "outputs": [],
   "source": [
    "from sklearn.preprocessing import StandardScaler\n",
    "scaler=StandardScaler()\n",
    "\n",
    "X_train=scaler.fit_transform(X_train)\n",
    "# Y_train=scaler.fit_transform(Y_train)\n",
    "\n",
    "X_test=scaler.transform(X_test)\n",
    "X_cross=scaler.transform(X_cross)"
   ]
  },
  {
   "cell_type": "code",
   "execution_count": 9,
   "id": "20144bbd-a62e-454e-a59c-9aaf328e5514",
   "metadata": {},
   "outputs": [],
   "source": [
    "from sklearn.model_selection import GridSearchCV\n",
    "from sklearn.ensemble import RandomForestClassifier"
   ]
  },
  {
   "cell_type": "code",
   "execution_count": 10,
   "id": "cba4560b-ad8f-4dd3-abec-487c085756c8",
   "metadata": {},
   "outputs": [
    {
     "data": {
      "text/html": [
       "<style>#sk-container-id-1 {color: black;background-color: white;}#sk-container-id-1 pre{padding: 0;}#sk-container-id-1 div.sk-toggleable {background-color: white;}#sk-container-id-1 label.sk-toggleable__label {cursor: pointer;display: block;width: 100%;margin-bottom: 0;padding: 0.3em;box-sizing: border-box;text-align: center;}#sk-container-id-1 label.sk-toggleable__label-arrow:before {content: \"▸\";float: left;margin-right: 0.25em;color: #696969;}#sk-container-id-1 label.sk-toggleable__label-arrow:hover:before {color: black;}#sk-container-id-1 div.sk-estimator:hover label.sk-toggleable__label-arrow:before {color: black;}#sk-container-id-1 div.sk-toggleable__content {max-height: 0;max-width: 0;overflow: hidden;text-align: left;background-color: #f0f8ff;}#sk-container-id-1 div.sk-toggleable__content pre {margin: 0.2em;color: black;border-radius: 0.25em;background-color: #f0f8ff;}#sk-container-id-1 input.sk-toggleable__control:checked~div.sk-toggleable__content {max-height: 200px;max-width: 100%;overflow: auto;}#sk-container-id-1 input.sk-toggleable__control:checked~label.sk-toggleable__label-arrow:before {content: \"▾\";}#sk-container-id-1 div.sk-estimator input.sk-toggleable__control:checked~label.sk-toggleable__label {background-color: #d4ebff;}#sk-container-id-1 div.sk-label input.sk-toggleable__control:checked~label.sk-toggleable__label {background-color: #d4ebff;}#sk-container-id-1 input.sk-hidden--visually {border: 0;clip: rect(1px 1px 1px 1px);clip: rect(1px, 1px, 1px, 1px);height: 1px;margin: -1px;overflow: hidden;padding: 0;position: absolute;width: 1px;}#sk-container-id-1 div.sk-estimator {font-family: monospace;background-color: #f0f8ff;border: 1px dotted black;border-radius: 0.25em;box-sizing: border-box;margin-bottom: 0.5em;}#sk-container-id-1 div.sk-estimator:hover {background-color: #d4ebff;}#sk-container-id-1 div.sk-parallel-item::after {content: \"\";width: 100%;border-bottom: 1px solid gray;flex-grow: 1;}#sk-container-id-1 div.sk-label:hover label.sk-toggleable__label {background-color: #d4ebff;}#sk-container-id-1 div.sk-serial::before {content: \"\";position: absolute;border-left: 1px solid gray;box-sizing: border-box;top: 0;bottom: 0;left: 50%;z-index: 0;}#sk-container-id-1 div.sk-serial {display: flex;flex-direction: column;align-items: center;background-color: white;padding-right: 0.2em;padding-left: 0.2em;position: relative;}#sk-container-id-1 div.sk-item {position: relative;z-index: 1;}#sk-container-id-1 div.sk-parallel {display: flex;align-items: stretch;justify-content: center;background-color: white;position: relative;}#sk-container-id-1 div.sk-item::before, #sk-container-id-1 div.sk-parallel-item::before {content: \"\";position: absolute;border-left: 1px solid gray;box-sizing: border-box;top: 0;bottom: 0;left: 50%;z-index: -1;}#sk-container-id-1 div.sk-parallel-item {display: flex;flex-direction: column;z-index: 1;position: relative;background-color: white;}#sk-container-id-1 div.sk-parallel-item:first-child::after {align-self: flex-end;width: 50%;}#sk-container-id-1 div.sk-parallel-item:last-child::after {align-self: flex-start;width: 50%;}#sk-container-id-1 div.sk-parallel-item:only-child::after {width: 0;}#sk-container-id-1 div.sk-dashed-wrapped {border: 1px dashed gray;margin: 0 0.4em 0.5em 0.4em;box-sizing: border-box;padding-bottom: 0.4em;background-color: white;}#sk-container-id-1 div.sk-label label {font-family: monospace;font-weight: bold;display: inline-block;line-height: 1.2em;}#sk-container-id-1 div.sk-label-container {text-align: center;}#sk-container-id-1 div.sk-container {/* jupyter's `normalize.less` sets `[hidden] { display: none; }` but bootstrap.min.css set `[hidden] { display: none !important; }` so we also need the `!important` here to be able to override the default hidden behavior on the sphinx rendered scikit-learn.org. See: https://github.com/scikit-learn/scikit-learn/issues/21755 */display: inline-block !important;position: relative;}#sk-container-id-1 div.sk-text-repr-fallback {display: none;}</style><div id=\"sk-container-id-1\" class=\"sk-top-container\"><div class=\"sk-text-repr-fallback\"><pre>RandomForestClassifier()</pre><b>In a Jupyter environment, please rerun this cell to show the HTML representation or trust the notebook. <br />On GitHub, the HTML representation is unable to render, please try loading this page with nbviewer.org.</b></div><div class=\"sk-container\" hidden><div class=\"sk-item\"><div class=\"sk-estimator sk-toggleable\"><input class=\"sk-toggleable__control sk-hidden--visually\" id=\"sk-estimator-id-1\" type=\"checkbox\" checked><label for=\"sk-estimator-id-1\" class=\"sk-toggleable__label sk-toggleable__label-arrow\">RandomForestClassifier</label><div class=\"sk-toggleable__content\"><pre>RandomForestClassifier()</pre></div></div></div></div></div>"
      ],
      "text/plain": [
       "RandomForestClassifier()"
      ]
     },
     "execution_count": 10,
     "metadata": {},
     "output_type": "execute_result"
    }
   ],
   "source": [
    "rm=RandomForestClassifier()\n",
    "rm.fit(X_train,Y_train)"
   ]
  },
  {
   "cell_type": "code",
   "execution_count": 11,
   "id": "668ce88a-dcc5-40d1-a8a9-f1a29516d40f",
   "metadata": {},
   "outputs": [],
   "source": [
    "y_predict=rm.predict(X_test)"
   ]
  },
  {
   "cell_type": "code",
   "execution_count": 12,
   "id": "d16978f2-c71f-4147-bbe3-c36f5643ecbb",
   "metadata": {},
   "outputs": [],
   "source": [
    "from sklearn.metrics import accuracy_score,recall_score,precision_score"
   ]
  },
  {
   "cell_type": "code",
   "execution_count": 13,
   "id": "cad8752a-55dd-4358-a30d-99c6aac8e834",
   "metadata": {},
   "outputs": [
    {
     "data": {
      "text/plain": [
       "0.9692765113974232"
      ]
     },
     "execution_count": 13,
     "metadata": {},
     "output_type": "execute_result"
    }
   ],
   "source": [
    "accuracy_score(y_predict,Y_test)"
   ]
  },
  {
   "cell_type": "code",
   "execution_count": 14,
   "id": "93c50c5d-c661-444b-b09e-a052750ab68a",
   "metadata": {},
   "outputs": [
    {
     "data": {
      "text/plain": [
       "0.9689573950656234"
      ]
     },
     "execution_count": 14,
     "metadata": {},
     "output_type": "execute_result"
    }
   ],
   "source": [
    "recall_score(y_predict,Y_test,average=\"macro\")"
   ]
  },
  {
   "cell_type": "code",
   "execution_count": 15,
   "id": "34043ca2-82ba-4698-adac-989f65557e52",
   "metadata": {},
   "outputs": [
    {
     "data": {
      "text/plain": [
       "0.9701006474162567"
      ]
     },
     "execution_count": 15,
     "metadata": {},
     "output_type": "execute_result"
    }
   ],
   "source": [
    "precision_score(y_predict,Y_test,average=\"macro\")"
   ]
  },
  {
   "cell_type": "code",
   "execution_count": 16,
   "id": "3e5b4b71-489c-4493-b947-ef44212a9706",
   "metadata": {},
   "outputs": [
    {
     "data": {
      "text/plain": [
       "0.9693069306930693"
      ]
     },
     "execution_count": 16,
     "metadata": {},
     "output_type": "execute_result"
    }
   ],
   "source": [
    "y_Cpredict=rm.predict(X_cross)\n",
    "accuracy_score(y_Cpredict,Y_cross)"
   ]
  },
  {
   "cell_type": "code",
   "execution_count": 17,
   "id": "249a76f4-92bb-41eb-9228-a1637fdfe8c2",
   "metadata": {},
   "outputs": [
    {
     "data": {
      "text/plain": [
       "array([ 5,  6,  7,  8,  9, 10, 11, 12, 13, 14, 15, 16, 17, 18, 19, 20, 21,\n",
       "       22, 23, 24, 25, 26, 27, 28, 29, 30, 31, 32, 33, 34, 35, 36, 37, 38,\n",
       "       39, 40, 41, 42, 43, 44, 45, 46, 47, 48, 49, 50, 51, 52, 53, 54, 55,\n",
       "       56, 57, 58, 59, 60, 61, 62, 63, 64, 65, 66, 67, 68, 69, 70, 71, 72,\n",
       "       73, 74, 75, 76, 77, 78, 79, 80, 81, 82, 83, 84, 85, 86, 87, 88, 89,\n",
       "       90, 91, 92, 93, 94, 95, 96, 97, 98, 99])"
      ]
     },
     "execution_count": 17,
     "metadata": {},
     "output_type": "execute_result"
    }
   ],
   "source": [
    "import numpy as np\n",
    "np.arange(5,100)"
   ]
  },
  {
   "cell_type": "code",
   "execution_count": 18,
   "id": "bf89f382-e2ea-49fd-a6f0-6ba045e9856d",
   "metadata": {},
   "outputs": [
    {
     "data": {
      "text/plain": [
       "array([0.24120147, 0.26093858, 0.25761032, 0.31313136, 0.97715322,\n",
       "       0.49214637, 0.23259958, 0.53224467, 0.97085207, 0.42100153,\n",
       "       0.57118193, 0.36219839, 0.76414985, 0.69586097, 0.81481816,\n",
       "       0.65290262, 0.18283472, 0.42955509, 0.72562087, 0.63832127,\n",
       "       0.3610112 , 0.93799135, 0.8973366 , 0.51704504, 0.11112429,\n",
       "       0.36604807, 0.45529201, 0.59993654, 0.2838712 , 0.28074111,\n",
       "       0.89682178, 0.75817502, 0.96430512, 0.08333195, 0.28192978,\n",
       "       0.30086238, 0.94112373, 0.4297987 , 0.63403275, 0.32427923,\n",
       "       0.54002206, 0.59165639, 0.80885427, 0.46048997, 0.74869232,\n",
       "       0.79684164, 0.18698933, 0.4032263 , 0.86668174, 0.72952692])"
      ]
     },
     "execution_count": 18,
     "metadata": {},
     "output_type": "execute_result"
    }
   ],
   "source": [
    "np.random.sample(50)"
   ]
  },
  {
   "cell_type": "code",
   "execution_count": 19,
   "id": "2ba0945c-5cb7-4f89-bcf2-0c391c481104",
   "metadata": {},
   "outputs": [],
   "source": [
    "from xgboost import XGBClassifier"
   ]
  },
  {
   "cell_type": "code",
   "execution_count": 22,
   "id": "48289172-3dd0-40eb-88a3-03159fa9f86d",
   "metadata": {},
   "outputs": [
    {
     "data": {
      "text/html": [
       "<style>#sk-container-id-2 {color: black;background-color: white;}#sk-container-id-2 pre{padding: 0;}#sk-container-id-2 div.sk-toggleable {background-color: white;}#sk-container-id-2 label.sk-toggleable__label {cursor: pointer;display: block;width: 100%;margin-bottom: 0;padding: 0.3em;box-sizing: border-box;text-align: center;}#sk-container-id-2 label.sk-toggleable__label-arrow:before {content: \"▸\";float: left;margin-right: 0.25em;color: #696969;}#sk-container-id-2 label.sk-toggleable__label-arrow:hover:before {color: black;}#sk-container-id-2 div.sk-estimator:hover label.sk-toggleable__label-arrow:before {color: black;}#sk-container-id-2 div.sk-toggleable__content {max-height: 0;max-width: 0;overflow: hidden;text-align: left;background-color: #f0f8ff;}#sk-container-id-2 div.sk-toggleable__content pre {margin: 0.2em;color: black;border-radius: 0.25em;background-color: #f0f8ff;}#sk-container-id-2 input.sk-toggleable__control:checked~div.sk-toggleable__content {max-height: 200px;max-width: 100%;overflow: auto;}#sk-container-id-2 input.sk-toggleable__control:checked~label.sk-toggleable__label-arrow:before {content: \"▾\";}#sk-container-id-2 div.sk-estimator input.sk-toggleable__control:checked~label.sk-toggleable__label {background-color: #d4ebff;}#sk-container-id-2 div.sk-label input.sk-toggleable__control:checked~label.sk-toggleable__label {background-color: #d4ebff;}#sk-container-id-2 input.sk-hidden--visually {border: 0;clip: rect(1px 1px 1px 1px);clip: rect(1px, 1px, 1px, 1px);height: 1px;margin: -1px;overflow: hidden;padding: 0;position: absolute;width: 1px;}#sk-container-id-2 div.sk-estimator {font-family: monospace;background-color: #f0f8ff;border: 1px dotted black;border-radius: 0.25em;box-sizing: border-box;margin-bottom: 0.5em;}#sk-container-id-2 div.sk-estimator:hover {background-color: #d4ebff;}#sk-container-id-2 div.sk-parallel-item::after {content: \"\";width: 100%;border-bottom: 1px solid gray;flex-grow: 1;}#sk-container-id-2 div.sk-label:hover label.sk-toggleable__label {background-color: #d4ebff;}#sk-container-id-2 div.sk-serial::before {content: \"\";position: absolute;border-left: 1px solid gray;box-sizing: border-box;top: 0;bottom: 0;left: 50%;z-index: 0;}#sk-container-id-2 div.sk-serial {display: flex;flex-direction: column;align-items: center;background-color: white;padding-right: 0.2em;padding-left: 0.2em;position: relative;}#sk-container-id-2 div.sk-item {position: relative;z-index: 1;}#sk-container-id-2 div.sk-parallel {display: flex;align-items: stretch;justify-content: center;background-color: white;position: relative;}#sk-container-id-2 div.sk-item::before, #sk-container-id-2 div.sk-parallel-item::before {content: \"\";position: absolute;border-left: 1px solid gray;box-sizing: border-box;top: 0;bottom: 0;left: 50%;z-index: -1;}#sk-container-id-2 div.sk-parallel-item {display: flex;flex-direction: column;z-index: 1;position: relative;background-color: white;}#sk-container-id-2 div.sk-parallel-item:first-child::after {align-self: flex-end;width: 50%;}#sk-container-id-2 div.sk-parallel-item:last-child::after {align-self: flex-start;width: 50%;}#sk-container-id-2 div.sk-parallel-item:only-child::after {width: 0;}#sk-container-id-2 div.sk-dashed-wrapped {border: 1px dashed gray;margin: 0 0.4em 0.5em 0.4em;box-sizing: border-box;padding-bottom: 0.4em;background-color: white;}#sk-container-id-2 div.sk-label label {font-family: monospace;font-weight: bold;display: inline-block;line-height: 1.2em;}#sk-container-id-2 div.sk-label-container {text-align: center;}#sk-container-id-2 div.sk-container {/* jupyter's `normalize.less` sets `[hidden] { display: none; }` but bootstrap.min.css set `[hidden] { display: none !important; }` so we also need the `!important` here to be able to override the default hidden behavior on the sphinx rendered scikit-learn.org. See: https://github.com/scikit-learn/scikit-learn/issues/21755 */display: inline-block !important;position: relative;}#sk-container-id-2 div.sk-text-repr-fallback {display: none;}</style><div id=\"sk-container-id-2\" class=\"sk-top-container\"><div class=\"sk-text-repr-fallback\"><pre>XGBClassifier(base_score=None, booster=None, callbacks=None,\n",
       "              colsample_bylevel=None, colsample_bynode=None,\n",
       "              colsample_bytree=None, early_stopping_rounds=None,\n",
       "              enable_categorical=False, eval_metric=None, feature_types=None,\n",
       "              gamma=None, gpu_id=None, grow_policy=None, importance_type=None,\n",
       "              interaction_constraints=None, learning_rate=None, max_bin=None,\n",
       "              max_cat_threshold=None, max_cat_to_onehot=None,\n",
       "              max_delta_step=None, max_depth=None, max_leaves=None,\n",
       "              min_child_weight=None, missing=nan, monotone_constraints=None,\n",
       "              n_estimators=100, n_jobs=None, num_parallel_tree=None,\n",
       "              objective=&#x27;multi:softprob&#x27;, predictor=None, ...)</pre><b>In a Jupyter environment, please rerun this cell to show the HTML representation or trust the notebook. <br />On GitHub, the HTML representation is unable to render, please try loading this page with nbviewer.org.</b></div><div class=\"sk-container\" hidden><div class=\"sk-item\"><div class=\"sk-estimator sk-toggleable\"><input class=\"sk-toggleable__control sk-hidden--visually\" id=\"sk-estimator-id-2\" type=\"checkbox\" checked><label for=\"sk-estimator-id-2\" class=\"sk-toggleable__label sk-toggleable__label-arrow\">XGBClassifier</label><div class=\"sk-toggleable__content\"><pre>XGBClassifier(base_score=None, booster=None, callbacks=None,\n",
       "              colsample_bylevel=None, colsample_bynode=None,\n",
       "              colsample_bytree=None, early_stopping_rounds=None,\n",
       "              enable_categorical=False, eval_metric=None, feature_types=None,\n",
       "              gamma=None, gpu_id=None, grow_policy=None, importance_type=None,\n",
       "              interaction_constraints=None, learning_rate=None, max_bin=None,\n",
       "              max_cat_threshold=None, max_cat_to_onehot=None,\n",
       "              max_delta_step=None, max_depth=None, max_leaves=None,\n",
       "              min_child_weight=None, missing=nan, monotone_constraints=None,\n",
       "              n_estimators=100, n_jobs=None, num_parallel_tree=None,\n",
       "              objective=&#x27;multi:softprob&#x27;, predictor=None, ...)</pre></div></div></div></div></div>"
      ],
      "text/plain": [
       "XGBClassifier(base_score=None, booster=None, callbacks=None,\n",
       "              colsample_bylevel=None, colsample_bynode=None,\n",
       "              colsample_bytree=None, early_stopping_rounds=None,\n",
       "              enable_categorical=False, eval_metric=None, feature_types=None,\n",
       "              gamma=None, gpu_id=None, grow_policy=None, importance_type=None,\n",
       "              interaction_constraints=None, learning_rate=None, max_bin=None,\n",
       "              max_cat_threshold=None, max_cat_to_onehot=None,\n",
       "              max_delta_step=None, max_depth=None, max_leaves=None,\n",
       "              min_child_weight=None, missing=nan, monotone_constraints=None,\n",
       "              n_estimators=100, n_jobs=None, num_parallel_tree=None,\n",
       "              objective='multi:softprob', predictor=None, ...)"
      ]
     },
     "execution_count": 22,
     "metadata": {},
     "output_type": "execute_result"
    }
   ],
   "source": [
    "xg=XGBClassifier()\n",
    "xg.fit(X_train,Y_train)"
   ]
  },
  {
   "cell_type": "code",
   "execution_count": 26,
   "id": "a2704874-db90-4176-8752-36e1779b2eea",
   "metadata": {},
   "outputs": [],
   "source": [
    "Y_predict=xg.predict(X_test)"
   ]
  },
  {
   "cell_type": "code",
   "execution_count": 27,
   "id": "0149b16b-34c2-4bc5-96aa-7bd7cc818049",
   "metadata": {},
   "outputs": [
    {
     "data": {
      "text/plain": [
       "0.9534192269573836"
      ]
     },
     "execution_count": 27,
     "metadata": {},
     "output_type": "execute_result"
    }
   ],
   "source": [
    "accuracy_score(Y_predict,Y_test)"
   ]
  },
  {
   "cell_type": "code",
   "execution_count": 28,
   "id": "c7b2525e-cb6f-4412-be2a-ed5a6fe57f31",
   "metadata": {},
   "outputs": [],
   "source": [
    "from sklearn.metrics import classification_report"
   ]
  },
  {
   "cell_type": "code",
   "execution_count": 38,
   "id": "635c6370-1ef0-4239-afaf-e1e8c44cb828",
   "metadata": {},
   "outputs": [],
   "source": [
    "from sklearn.linear_model import LogisticRegression"
   ]
  },
  {
   "cell_type": "code",
   "execution_count": 39,
   "id": "9eff6614-5b2b-4571-9b4d-4c05d666494f",
   "metadata": {},
   "outputs": [
    {
     "data": {
      "text/plain": [
       "{'penalty': 'l2',\n",
       " 'dual': False,\n",
       " 'tol': 0.0001,\n",
       " 'C': 1.0,\n",
       " 'fit_intercept': True,\n",
       " 'intercept_scaling': 1,\n",
       " 'class_weight': None,\n",
       " 'random_state': None,\n",
       " 'solver': 'lbfgs',\n",
       " 'max_iter': 100,\n",
       " 'multi_class': 'auto',\n",
       " 'verbose': 0,\n",
       " 'warm_start': False,\n",
       " 'n_jobs': None,\n",
       " 'l1_ratio': None}"
      ]
     },
     "execution_count": 39,
     "metadata": {},
     "output_type": "execute_result"
    }
   ],
   "source": [
    "LogisticRegression().__dict__"
   ]
  },
  {
   "cell_type": "code",
   "execution_count": 33,
   "id": "53ce2b86-3f5b-4607-a27d-c0d570ca5377",
   "metadata": {},
   "outputs": [],
   "source": [
    "with open(\"randomforest.pkl\",\"rb\") as file:\n",
    "    model=pickle.load(file)"
   ]
  },
  {
   "cell_type": "code",
   "execution_count": 35,
   "id": "73a46054-9f58-49c1-9d45-2c8241b5b440",
   "metadata": {},
   "outputs": [],
   "source": [
    "Y_predict=model.predict(X_test)"
   ]
  },
  {
   "cell_type": "code",
   "execution_count": 36,
   "id": "ef8f2667-1970-430f-b986-53e44b69e606",
   "metadata": {},
   "outputs": [
    {
     "data": {
      "text/plain": [
       "0.9920713577799801"
      ]
     },
     "execution_count": 36,
     "metadata": {},
     "output_type": "execute_result"
    }
   ],
   "source": [
    "accuracy_score(Y_test,Y_predict)"
   ]
  },
  {
   "cell_type": "code",
   "execution_count": 44,
   "id": "1b640502-ad4a-45eb-ae10-691d954e56ad",
   "metadata": {},
   "outputs": [
    {
     "ename": "FileNotFoundError",
     "evalue": "[Errno 2] No such file or directory: 'logistic_regression.pkl'",
     "output_type": "error",
     "traceback": [
      "\u001b[0;31m---------------------------------------------------------------------------\u001b[0m",
      "\u001b[0;31mFileNotFoundError\u001b[0m                         Traceback (most recent call last)",
      "Cell \u001b[0;32mIn [44], line 1\u001b[0m\n\u001b[0;32m----> 1\u001b[0m \u001b[38;5;28;01mwith\u001b[39;00m \u001b[38;5;28mopen\u001b[39m(\u001b[38;5;124m\"\u001b[39m\u001b[38;5;124mlogistic_regression.pkl\u001b[39m\u001b[38;5;124m\"\u001b[39m,\u001b[38;5;124m\"\u001b[39m\u001b[38;5;124mw\u001b[39m\u001b[38;5;124m\"\u001b[39m) \u001b[38;5;28;01mas\u001b[39;00m file:\n\u001b[1;32m      2\u001b[0m     pickle\u001b[38;5;241m.\u001b[39mdump(model,file)\n",
      "\u001b[0;31mFileNotFoundError\u001b[0m: [Errno 2] No such file or directory: 'logistic_regression.pkl'"
     ]
    }
   ],
   "source": [
    "with open(\"logistic_regression.pkl\",\"w\") as file:\n",
    "    pickle.dump(model,file)"
   ]
  },
  {
   "cell_type": "code",
   "execution_count": null,
   "id": "3ee77e5d-66af-464c-8cd6-408722bc9484",
   "metadata": {},
   "outputs": [],
   "source": []
  }
 ],
 "metadata": {
  "kernelspec": {
   "display_name": "Python 3 (ipykernel)",
   "language": "python",
   "name": "python3"
  },
  "language_info": {
   "codemirror_mode": {
    "name": "ipython",
    "version": 3
   },
   "file_extension": ".py",
   "mimetype": "text/x-python",
   "name": "python",
   "nbconvert_exporter": "python",
   "pygments_lexer": "ipython3",
   "version": "3.10.6"
  }
 },
 "nbformat": 4,
 "nbformat_minor": 5
}
