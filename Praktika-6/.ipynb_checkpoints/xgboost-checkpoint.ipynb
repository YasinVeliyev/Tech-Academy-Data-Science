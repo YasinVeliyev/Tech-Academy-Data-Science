{
 "cells": [
  {
   "cell_type": "code",
   "execution_count": 1,
   "id": "5165a4c0-e8ac-42f1-adb9-5414e0f60aca",
   "metadata": {},
   "outputs": [],
   "source": [
    "import pandas as pd\n",
    "import numpy as np\n",
    "from sklearn.preprocessing import MinMaxScaler,StandardScaler\n",
    "from sklearn.metrics import *\n",
    "from sklearn.model_selection import train_test_split\n",
    "from xgboost import XGBClassifier\n",
    "from sklearn.utils import shuffle"
   ]
  },
  {
   "cell_type": "code",
   "execution_count": 102,
   "id": "d1b49126-7df8-4aa1-99aa-ffe277b7a2be",
   "metadata": {},
   "outputs": [],
   "source": [
    "dataTrain=pd.read_csv(\"data/Train.txt\",sep=\"#|;\",engine=\"python\",header=None,index_col = False)\n",
    "dataTest=pd.read_csv(\"data/Test.txt\",sep=\"#|;\",engine=\"python\",header=None,index_col = False)\n",
    "dataCros=pd.read_csv(\"data/Cross_Validation.txt\",sep=\"#|;\",engine=\"python\",header=None,index_col = False)\n",
    "\n",
    "data=shuffle(pd.concat([dataTrain,dataTest,dataCros]))\n",
    "data.reset_index(inplace=True)"
   ]
  },
  {
   "cell_type": "code",
   "execution_count": 103,
   "id": "0b271f28-d1fc-4378-84a0-f2d86ccab88e",
   "metadata": {},
   "outputs": [],
   "source": [
    "data.drop(\"index\",axis=1,inplace=True)"
   ]
  },
  {
   "cell_type": "code",
   "execution_count": 15,
   "id": "90c1674d-5298-47a8-aff6-266fe9c89c2a",
   "metadata": {},
   "outputs": [],
   "source": [
    "def find_best_model(learning_algorithm,X,Y,expected_accuracy=0.75,model_selection=None,model_selection_params={},params={}):\n",
    "    import pickle\n",
    "    while True:\n",
    "        train_size=np.round(np.random.random(500),2)\n",
    "        train_size = train_size[(train_size>0.5)&(train_size<0.95)]\n",
    "        for size in train_size:\n",
    "            X_train,X_val,y_train,y_val = train_test_split(X,Y,train_size=size)\n",
    "            \n",
    "            #adding default parametrs If params is not empty and model_selection is not None\n",
    "            if model_selection:\n",
    "                for (key,value) in params.items():\n",
    "                    model = learning_algorithm()\n",
    "                    l=set()\n",
    "                    if hasattr(value,\"__iter__\") and type(value)!=str:\n",
    "                        l=set(value)\n",
    "                    else:\n",
    "                        l.add(value)\n",
    "                    l.add(model.__dict__.get(key))\n",
    "                    params[key]=list(l)\n",
    "                selected_model = model_selection(model,params,scoring=\"accuracy\",**model_selection_params)\n",
    "                model = selected_model.fit(X_train,y_train)\n",
    "            else:\n",
    "                model = learning_algorithm(**params)\n",
    "                model.fit(X_train,y_train)\n",
    "            \n",
    "            y_val_predict=model.predict(X_val)\n",
    "            test_accuracy=accuracy_score(y_val_predict,y_val)\n",
    "\n",
    "            print(f\"Train Size: {size}, Model: {learning_algorithm.__name__}, Test Accuracy:{test_accuracy:.3}\")\n",
    "            if test_accuracy>=expected_accuracy:\n",
    "                return test_accuracy,model"
   ]
  },
  {
   "cell_type": "code",
   "execution_count": 257,
   "id": "cb4d4e14-5ce7-4135-a8a3-8f06eaf95ee4",
   "metadata": {},
   "outputs": [],
   "source": [
    "new_data=data.copy()\n",
    "scaler=MinMaxScaler()\n",
    "X=new_data.drop(0,axis=1).copy()\n",
    "X=scaler.fit_transform(X)\n",
    "Y=new_data[0].copy()\n",
    "X_train,X_test,Y_train,Y_test=train_test_split(X,Y,train_size=0.8)"
   ]
  },
  {
   "cell_type": "code",
   "execution_count": 255,
   "id": "41b7eec1-d332-4bf1-962e-37e1b957c11e",
   "metadata": {},
   "outputs": [],
   "source": []
  },
  {
   "cell_type": "code",
   "execution_count": 256,
   "id": "04db0f3a-a354-4345-ad59-50a24e68a80a",
   "metadata": {},
   "outputs": [
    {
     "data": {
      "text/html": [
       "<div>\n",
       "<style scoped>\n",
       "    .dataframe tbody tr th:only-of-type {\n",
       "        vertical-align: middle;\n",
       "    }\n",
       "\n",
       "    .dataframe tbody tr th {\n",
       "        vertical-align: top;\n",
       "    }\n",
       "\n",
       "    .dataframe thead th {\n",
       "        text-align: right;\n",
       "    }\n",
       "</style>\n",
       "<table border=\"1\" class=\"dataframe\">\n",
       "  <thead>\n",
       "    <tr style=\"text-align: right;\">\n",
       "      <th></th>\n",
       "      <th>level_0</th>\n",
       "      <th>0</th>\n",
       "    </tr>\n",
       "  </thead>\n",
       "  <tbody>\n",
       "    <tr>\n",
       "      <th>0</th>\n",
       "      <td>0</td>\n",
       "      <td>7</td>\n",
       "    </tr>\n",
       "    <tr>\n",
       "      <th>1</th>\n",
       "      <td>1</td>\n",
       "      <td>21</td>\n",
       "    </tr>\n",
       "    <tr>\n",
       "      <th>2</th>\n",
       "      <td>2</td>\n",
       "      <td>17</td>\n",
       "    </tr>\n",
       "    <tr>\n",
       "      <th>3</th>\n",
       "      <td>3</td>\n",
       "      <td>6</td>\n",
       "    </tr>\n",
       "    <tr>\n",
       "      <th>4</th>\n",
       "      <td>4</td>\n",
       "      <td>16</td>\n",
       "    </tr>\n",
       "    <tr>\n",
       "      <th>...</th>\n",
       "      <td>...</td>\n",
       "      <td>...</td>\n",
       "    </tr>\n",
       "    <tr>\n",
       "      <th>16146</th>\n",
       "      <td>16146</td>\n",
       "      <td>0</td>\n",
       "    </tr>\n",
       "    <tr>\n",
       "      <th>16147</th>\n",
       "      <td>16147</td>\n",
       "      <td>5</td>\n",
       "    </tr>\n",
       "    <tr>\n",
       "      <th>16148</th>\n",
       "      <td>16148</td>\n",
       "      <td>8</td>\n",
       "    </tr>\n",
       "    <tr>\n",
       "      <th>16149</th>\n",
       "      <td>16149</td>\n",
       "      <td>12</td>\n",
       "    </tr>\n",
       "    <tr>\n",
       "      <th>16150</th>\n",
       "      <td>16150</td>\n",
       "      <td>12</td>\n",
       "    </tr>\n",
       "  </tbody>\n",
       "</table>\n",
       "<p>16151 rows × 2 columns</p>\n",
       "</div>"
      ],
      "text/plain": [
       "       level_0   0\n",
       "0            0   7\n",
       "1            1  21\n",
       "2            2  17\n",
       "3            3   6\n",
       "4            4  16\n",
       "...        ...  ..\n",
       "16146    16146   0\n",
       "16147    16147   5\n",
       "16148    16148   8\n",
       "16149    16149  12\n",
       "16150    16150  12\n",
       "\n",
       "[16151 rows x 2 columns]"
      ]
     },
     "execution_count": 256,
     "metadata": {},
     "output_type": "execute_result"
    }
   ],
   "source": [
    "Y_train"
   ]
  },
  {
   "cell_type": "code",
   "execution_count": 259,
   "id": "b0181944-d5d6-4788-a7d5-498a04609f9c",
   "metadata": {},
   "outputs": [],
   "source": [
    "Y_bin_train=Y_train.copy()\n",
    "Y_bin_train[Y_bin_train<10]=0\n",
    "Y_bin_train[Y_bin_train>=10]=1\n",
    "\n",
    "Y_bin_test=Y_test.copy()\n",
    "Y_bin_test[Y_bin_test<10]=0\n",
    "Y_bin_test[Y_bin_test>=10]=1"
   ]
  },
  {
   "cell_type": "code",
   "execution_count": 260,
   "id": "538464b3-f804-42e3-be25-4821d4c1984c",
   "metadata": {},
   "outputs": [
    {
     "name": "stdout",
     "output_type": "stream",
     "text": [
      "Train Size: 0.75, Model: XGBClassifier, Test Accuracy:0.983\n",
      "Train Size: 0.79, Model: XGBClassifier, Test Accuracy:0.983\n",
      "Train Size: 0.73, Model: XGBClassifier, Test Accuracy:0.979\n",
      "Train Size: 0.69, Model: XGBClassifier, Test Accuracy:0.978\n",
      "Train Size: 0.86, Model: XGBClassifier, Test Accuracy:0.981\n",
      "Train Size: 0.61, Model: XGBClassifier, Test Accuracy:0.976\n",
      "Train Size: 0.93, Model: XGBClassifier, Test Accuracy:0.985\n"
     ]
    }
   ],
   "source": [
    "accuracy,model_chooser=find_best_model(XGBClassifier,X_train,Y_bin_train,expected_accuracy=0.984)"
   ]
  },
  {
   "cell_type": "code",
   "execution_count": 261,
   "id": "a83f5653-f97f-4dfa-900b-8805dd9cca5a",
   "metadata": {},
   "outputs": [
    {
     "data": {
      "text/plain": [
       "0.9841505695889053"
      ]
     },
     "execution_count": 261,
     "metadata": {},
     "output_type": "execute_result"
    }
   ],
   "source": [
    "y_predict=model_chooser.predict(X_test)\n",
    "accuracy_score(y_predict,Y_bin_test)"
   ]
  },
  {
   "cell_type": "code",
   "execution_count": 276,
   "id": "2a923d54-f667-42ac-b985-ca1d64b0b6d9",
   "metadata": {},
   "outputs": [],
   "source": [
    "newData=pd.DataFrame(X_train)\n",
    "newData[546]=Y_train.reset_index()[0]"
   ]
  },
  {
   "cell_type": "code",
   "execution_count": 282,
   "id": "4ef572d2-a9f6-4914-8750-6405b25b2e5d",
   "metadata": {},
   "outputs": [],
   "source": [
    "X_xgb_train=newData[newData[546]<10].drop(546,axis=1)\n",
    "Y_xgb_train=newData[newData[546]<10][546]"
   ]
  },
  {
   "cell_type": "code",
   "execution_count": 283,
   "id": "9519f416-3537-4825-9f07-bbe7a787c5c9",
   "metadata": {},
   "outputs": [
    {
     "data": {
      "text/plain": [
       "1        8\n",
       "4        5\n",
       "6        9\n",
       "7        2\n",
       "8        7\n",
       "        ..\n",
       "16142    9\n",
       "16145    6\n",
       "16146    3\n",
       "16147    3\n",
       "16150    6\n",
       "Name: 546, Length: 7011, dtype: int64"
      ]
     },
     "execution_count": 283,
     "metadata": {},
     "output_type": "execute_result"
    }
   ],
   "source": [
    "Y_xgb_train"
   ]
  },
  {
   "cell_type": "code",
   "execution_count": 187,
   "id": "40bf9bac-1b7a-4a07-b212-017910ce65fc",
   "metadata": {},
   "outputs": [
    {
     "data": {
      "text/plain": [
       "6250     7\n",
       "8114     6\n",
       "8534     7\n",
       "9152     5\n",
       "3549     6\n",
       "        ..\n",
       "3925     6\n",
       "1378     9\n",
       "18755    0\n",
       "2237     5\n",
       "19493    8\n",
       "Name: 0, Length: 7054, dtype: int64"
      ]
     },
     "execution_count": 187,
     "metadata": {},
     "output_type": "execute_result"
    }
   ],
   "source": [
    "Y_xgb_train"
   ]
  },
  {
   "cell_type": "code",
   "execution_count": 284,
   "id": "33ee0873-df2a-4929-a95d-f20cfd094432",
   "metadata": {},
   "outputs": [
    {
     "name": "stdout",
     "output_type": "stream",
     "text": [
      "Train Size: 0.58, Model: XGBClassifier, Test Accuracy:0.968\n",
      "Train Size: 0.73, Model: XGBClassifier, Test Accuracy:0.976\n"
     ]
    }
   ],
   "source": [
    "accuracy,model1=find_best_model(XGBClassifier,X_xgb_train,Y_xgb_train,expected_accuracy=0.975)"
   ]
  },
  {
   "cell_type": "code",
   "execution_count": 291,
   "id": "982785aa-89d9-4095-b61f-681996d51100",
   "metadata": {},
   "outputs": [
    {
     "data": {
      "text/plain": [
       "7011"
      ]
     },
     "execution_count": 291,
     "metadata": {},
     "output_type": "execute_result"
    }
   ],
   "source": [
    "pre=model_chooser.predict(X_xgb_train)\n",
    "len(pre[pre==0])\n",
    "len(pre)"
   ]
  },
  {
   "cell_type": "code",
   "execution_count": 443,
   "id": "6fc391bd-70e8-4c0d-89e7-3685ca1cabea",
   "metadata": {},
   "outputs": [],
   "source": [
    "testData=pd.DataFrame(X_test)\n",
    "testData[546]=Y_test.reset_index()[0]\n"
   ]
  },
  {
   "cell_type": "code",
   "execution_count": null,
   "id": "9c02b704-21b0-4aa6-b82a-deec7e470e1e",
   "metadata": {},
   "outputs": [
    {
     "data": {
      "text/plain": [
       "0.4395740465577018"
      ]
     },
     "execution_count": 294,
     "metadata": {},
     "output_type": "execute_result"
    }
   ],
   "source": [
    "accuracy_score(model1.predict(X_test),Y_test)"
   ]
  },
  {
   "cell_type": "code",
   "execution_count": 344,
   "id": "614172cf-eaa5-414f-90b8-1e04867f012c",
   "metadata": {},
   "outputs": [],
   "source": [
    "X_xgb1_train=newData[newData[546]>=10].drop(546,axis=1)\n",
    "Y_xgb1_train=newData[newData[546]>=10][546]"
   ]
  },
  {
   "cell_type": "code",
   "execution_count": 345,
   "id": "e60e8e30-c41f-44ee-9c58-4fd40baefef2",
   "metadata": {},
   "outputs": [
    {
     "name": "stdout",
     "output_type": "stream",
     "text": [
      "Train Size: 0.6, Model: XGBClassifier, Test Accuracy:0.96\n",
      "Train Size: 0.52, Model: XGBClassifier, Test Accuracy:0.957\n",
      "Train Size: 0.67, Model: XGBClassifier, Test Accuracy:0.971\n",
      "Train Size: 0.65, Model: XGBClassifier, Test Accuracy:0.958\n",
      "Train Size: 0.93, Model: XGBClassifier, Test Accuracy:0.969\n",
      "Train Size: 0.64, Model: XGBClassifier, Test Accuracy:0.961\n",
      "Train Size: 0.59, Model: XGBClassifier, Test Accuracy:0.962\n",
      "Train Size: 0.89, Model: XGBClassifier, Test Accuracy:0.966\n",
      "Train Size: 0.76, Model: XGBClassifier, Test Accuracy:0.968\n",
      "Train Size: 0.7, Model: XGBClassifier, Test Accuracy:0.962\n",
      "Train Size: 0.51, Model: XGBClassifier, Test Accuracy:0.953\n",
      "Train Size: 0.9, Model: XGBClassifier, Test Accuracy:0.97\n",
      "Train Size: 0.52, Model: XGBClassifier, Test Accuracy:0.958\n",
      "Train Size: 0.85, Model: XGBClassifier, Test Accuracy:0.967\n",
      "Train Size: 0.61, Model: XGBClassifier, Test Accuracy:0.96\n",
      "Train Size: 0.57, Model: XGBClassifier, Test Accuracy:0.955\n",
      "Train Size: 0.54, Model: XGBClassifier, Test Accuracy:0.96\n",
      "Train Size: 0.83, Model: XGBClassifier, Test Accuracy:0.967\n",
      "Train Size: 0.91, Model: XGBClassifier, Test Accuracy:0.973\n",
      "Train Size: 0.88, Model: XGBClassifier, Test Accuracy:0.979\n"
     ]
    }
   ],
   "source": [
    "#Invalid classes inferred from unique values of `y`.  Expected: [ 0  1  2  3  4  5  6  7  8  9 10 11 12 13], got [10 11 12 13 14 15 16 17 18 19 20 21 22 23]\n",
    "#Y_xgb1_train dəyərləri [10-23] aralığında olduğu üçün [0-13] aralığına gətirmək üçün 10 çıxılır.accuracy_score üçünsə isə modelin tapdığı dəyərlərin üzərinə 10 əlavə edilir\n",
    "accuracy,model2=find_best_model(XGBClassifier,X_xgb1_train,Y_xgb1_train-10,expected_accuracy=0.975)"
   ]
  },
  {
   "cell_type": "code",
   "execution_count": 442,
   "id": "94ea8ffe-3b1d-4f10-b9d0-d46d6750a6df",
   "metadata": {},
   "outputs": [
    {
     "data": {
      "text/plain": [
       "0.9701492537313433"
      ]
     },
     "execution_count": 442,
     "metadata": {},
     "output_type": "execute_result"
    }
   ],
   "source": [
    "X_2_test=testData[testData[546]>=10].drop(546,axis=1)\n",
    "Y_2_test=testData[testData[546]>=10][546]\n",
    "predict_=model2.predict(X_2_test)+10\n",
    "accuracy_score(predict_,Y_2_test)"
   ]
  },
  {
   "cell_type": "code",
   "execution_count": 446,
   "id": "d6618c33-03cb-4c66-a7ee-ccff674bf449",
   "metadata": {},
   "outputs": [
    {
     "ename": "ValueError",
     "evalue": "Invalid classes inferred from unique values of `y`.  Expected: [ 0  1  2  3  4  5  6  7  8  9 10 11 12 13], got [10 11 12 13 14 15 16 17 18 19 20 21 22 23]",
     "output_type": "error",
     "traceback": [
      "\u001b[0;31m---------------------------------------------------------------------------\u001b[0m",
      "\u001b[0;31mValueError\u001b[0m                                Traceback (most recent call last)",
      "Cell \u001b[0;32mIn [446], line 1\u001b[0m\n\u001b[0;32m----> 1\u001b[0m XGBClassifier()\u001b[38;5;241m.\u001b[39mfit(X_xgb1_train,Y_xgb1_train)\n",
      "File \u001b[0;32m~/.local/lib/python3.10/site-packages/xgboost/core.py:620\u001b[0m, in \u001b[0;36mrequire_keyword_args.<locals>.throw_if.<locals>.inner_f\u001b[0;34m(*args, **kwargs)\u001b[0m\n\u001b[1;32m    618\u001b[0m \u001b[38;5;28;01mfor\u001b[39;00m k, arg \u001b[38;5;129;01min\u001b[39;00m \u001b[38;5;28mzip\u001b[39m(sig\u001b[38;5;241m.\u001b[39mparameters, args):\n\u001b[1;32m    619\u001b[0m     kwargs[k] \u001b[38;5;241m=\u001b[39m arg\n\u001b[0;32m--> 620\u001b[0m \u001b[38;5;28;01mreturn\u001b[39;00m \u001b[43mfunc\u001b[49m\u001b[43m(\u001b[49m\u001b[38;5;241;43m*\u001b[39;49m\u001b[38;5;241;43m*\u001b[39;49m\u001b[43mkwargs\u001b[49m\u001b[43m)\u001b[49m\n",
      "File \u001b[0;32m~/.local/lib/python3.10/site-packages/xgboost/sklearn.py:1440\u001b[0m, in \u001b[0;36mXGBClassifier.fit\u001b[0;34m(self, X, y, sample_weight, base_margin, eval_set, eval_metric, early_stopping_rounds, verbose, xgb_model, sample_weight_eval_set, base_margin_eval_set, feature_weights, callbacks)\u001b[0m\n\u001b[1;32m   1435\u001b[0m     expected_classes \u001b[38;5;241m=\u001b[39m np\u001b[38;5;241m.\u001b[39marange(\u001b[38;5;28mself\u001b[39m\u001b[38;5;241m.\u001b[39mn_classes_)\n\u001b[1;32m   1436\u001b[0m \u001b[38;5;28;01mif\u001b[39;00m (\n\u001b[1;32m   1437\u001b[0m     \u001b[38;5;28mself\u001b[39m\u001b[38;5;241m.\u001b[39mclasses_\u001b[38;5;241m.\u001b[39mshape \u001b[38;5;241m!=\u001b[39m expected_classes\u001b[38;5;241m.\u001b[39mshape\n\u001b[1;32m   1438\u001b[0m     \u001b[38;5;129;01mor\u001b[39;00m \u001b[38;5;129;01mnot\u001b[39;00m (\u001b[38;5;28mself\u001b[39m\u001b[38;5;241m.\u001b[39mclasses_ \u001b[38;5;241m==\u001b[39m expected_classes)\u001b[38;5;241m.\u001b[39mall()\n\u001b[1;32m   1439\u001b[0m ):\n\u001b[0;32m-> 1440\u001b[0m     \u001b[38;5;28;01mraise\u001b[39;00m \u001b[38;5;167;01mValueError\u001b[39;00m(\n\u001b[1;32m   1441\u001b[0m         \u001b[38;5;124mf\u001b[39m\u001b[38;5;124m\"\u001b[39m\u001b[38;5;124mInvalid classes inferred from unique values of `y`.  \u001b[39m\u001b[38;5;124m\"\u001b[39m\n\u001b[1;32m   1442\u001b[0m         \u001b[38;5;124mf\u001b[39m\u001b[38;5;124m\"\u001b[39m\u001b[38;5;124mExpected: \u001b[39m\u001b[38;5;132;01m{\u001b[39;00mexpected_classes\u001b[38;5;132;01m}\u001b[39;00m\u001b[38;5;124m, got \u001b[39m\u001b[38;5;132;01m{\u001b[39;00m\u001b[38;5;28mself\u001b[39m\u001b[38;5;241m.\u001b[39mclasses_\u001b[38;5;132;01m}\u001b[39;00m\u001b[38;5;124m\"\u001b[39m\n\u001b[1;32m   1443\u001b[0m     )\n\u001b[1;32m   1445\u001b[0m params \u001b[38;5;241m=\u001b[39m \u001b[38;5;28mself\u001b[39m\u001b[38;5;241m.\u001b[39mget_xgb_params()\n\u001b[1;32m   1447\u001b[0m \u001b[38;5;28;01mif\u001b[39;00m callable(\u001b[38;5;28mself\u001b[39m\u001b[38;5;241m.\u001b[39mobjective):\n",
      "\u001b[0;31mValueError\u001b[0m: Invalid classes inferred from unique values of `y`.  Expected: [ 0  1  2  3  4  5  6  7  8  9 10 11 12 13], got [10 11 12 13 14 15 16 17 18 19 20 21 22 23]"
     ]
    }
   ],
   "source": [
    "XGBClassifier().fit(X_xgb1_train,Y_xgb1_train)"
   ]
  },
  {
   "cell_type": "code",
   "execution_count": 397,
   "id": "49c1bdf0-2b02-4dcf-96dd-294e77cce208",
   "metadata": {},
   "outputs": [],
   "source": [
    "class Model():\n",
    "    def __init__(self,model_chooser,model1,model2):\n",
    "        self.model_chooser=model_chooser\n",
    "        self.model1=model1\n",
    "        self.model2=model2\n",
    "    def predict(self,X):\n",
    "        data=pd.DataFrame(X)\n",
    "        data[546]=np.nan\n",
    "    \n",
    "        data[546]=self.model_chooser.predict(X)\n",
    "        \n",
    "        X_zeros=data[data[546]==0].drop(546,axis=1)\n",
    "        X_ones=data[data[546]==1].drop(546,axis=1)\n",
    "        data.iloc[data[546]==1,546]=-1\n",
    "        if not X_zeros.empty:\n",
    "            data.iloc[data[546]==0,546] = self.model1.predict(X_zeros)\n",
    "            \n",
    "        if not X_ones.empty:\n",
    "              \n",
    "            data.iloc[data[546]==-1,546] = self.model2.predict(X_ones)+10\n",
    "            \n",
    "        return data[546]"
   ]
  },
  {
   "cell_type": "code",
   "execution_count": 398,
   "id": "f09a1fd1-ebed-481b-854b-b2173741ffa6",
   "metadata": {},
   "outputs": [],
   "source": [
    "model=Model(model_chooser,model1,model2)"
   ]
  },
  {
   "cell_type": "code",
   "execution_count": 402,
   "id": "f9e5ec65-8c9b-4d11-9ac3-83856dce8641",
   "metadata": {},
   "outputs": [],
   "source": [
    "import pickle"
   ]
  },
  {
   "cell_type": "code",
   "execution_count": 406,
   "id": "d809b3c4-8494-4df8-82df-99872726f9ee",
   "metadata": {},
   "outputs": [],
   "source": [
    "with open(\"xgbclassifier.pkl\",\"rb\") as file:\n",
    "    module_=pickle.load(file)"
   ]
  },
  {
   "cell_type": "code",
   "execution_count": 407,
   "id": "d12d7dad-6036-43eb-8209-d023b6c2b563",
   "metadata": {},
   "outputs": [],
   "source": [
    "y_predict = module_.predict(X_test)"
   ]
  },
  {
   "cell_type": "code",
   "execution_count": null,
   "id": "dd6d6fd5-e7ee-4ff9-bc6a-cb4e93460176",
   "metadata": {},
   "outputs": [],
   "source": []
  },
  {
   "cell_type": "code",
   "execution_count": null,
   "id": "545a35fe-5e0e-4d31-820f-f3da93da4b44",
   "metadata": {},
   "outputs": [],
   "source": []
  },
  {
   "cell_type": "code",
   "execution_count": null,
   "id": "d3e4a1d8-aeef-43c0-b3a0-cc918bb9f7b9",
   "metadata": {},
   "outputs": [],
   "source": []
  },
  {
   "cell_type": "code",
   "execution_count": null,
   "id": "5ac60266-b8eb-42ae-96ec-dea2aa41cf31",
   "metadata": {},
   "outputs": [],
   "source": []
  },
  {
   "cell_type": "code",
   "execution_count": null,
   "id": "a2329054-c0a9-477e-be8e-5b37308bd0f1",
   "metadata": {},
   "outputs": [],
   "source": []
  }
 ],
 "metadata": {
  "kernelspec": {
   "display_name": "Python 3 (ipykernel)",
   "language": "python",
   "name": "python3"
  },
  "language_info": {
   "codemirror_mode": {
    "name": "ipython",
    "version": 3
   },
   "file_extension": ".py",
   "mimetype": "text/x-python",
   "name": "python",
   "nbconvert_exporter": "python",
   "pygments_lexer": "ipython3",
   "version": "3.10.6"
  }
 },
 "nbformat": 4,
 "nbformat_minor": 5
}
