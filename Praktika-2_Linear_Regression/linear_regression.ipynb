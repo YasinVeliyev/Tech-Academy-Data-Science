{
 "cells": [
  {
   "cell_type": "code",
   "execution_count": 2,
   "id": "ea4a0a10-9eb6-4ca4-be5f-930890f3ed39",
   "metadata": {},
   "outputs": [],
   "source": [
    "import pandas as pd\n",
    "import numpy as np\n",
    "import matplotlib.pyplot as plt\n"
   ]
  },
  {
   "cell_type": "code",
   "execution_count": 3,
   "id": "207d32b8-199b-4b10-978a-ccae013f937d",
   "metadata": {},
   "outputs": [
    {
     "data": {
      "text/html": [
       "<div>\n",
       "<style scoped>\n",
       "    .dataframe tbody tr th:only-of-type {\n",
       "        vertical-align: middle;\n",
       "    }\n",
       "\n",
       "    .dataframe tbody tr th {\n",
       "        vertical-align: top;\n",
       "    }\n",
       "\n",
       "    .dataframe thead th {\n",
       "        text-align: right;\n",
       "    }\n",
       "</style>\n",
       "<table border=\"1\" class=\"dataframe\">\n",
       "  <thead>\n",
       "    <tr style=\"text-align: right;\">\n",
       "      <th></th>\n",
       "      <th>x</th>\n",
       "      <th>y</th>\n",
       "    </tr>\n",
       "  </thead>\n",
       "  <tbody>\n",
       "    <tr>\n",
       "      <th>0</th>\n",
       "      <td>24.0</td>\n",
       "      <td>21.549452</td>\n",
       "    </tr>\n",
       "    <tr>\n",
       "      <th>1</th>\n",
       "      <td>50.0</td>\n",
       "      <td>47.464463</td>\n",
       "    </tr>\n",
       "    <tr>\n",
       "      <th>2</th>\n",
       "      <td>15.0</td>\n",
       "      <td>17.218656</td>\n",
       "    </tr>\n",
       "    <tr>\n",
       "      <th>3</th>\n",
       "      <td>38.0</td>\n",
       "      <td>36.586398</td>\n",
       "    </tr>\n",
       "    <tr>\n",
       "      <th>4</th>\n",
       "      <td>87.0</td>\n",
       "      <td>87.288984</td>\n",
       "    </tr>\n",
       "    <tr>\n",
       "      <th>...</th>\n",
       "      <td>...</td>\n",
       "      <td>...</td>\n",
       "    </tr>\n",
       "    <tr>\n",
       "      <th>695</th>\n",
       "      <td>58.0</td>\n",
       "      <td>58.595006</td>\n",
       "    </tr>\n",
       "    <tr>\n",
       "      <th>696</th>\n",
       "      <td>93.0</td>\n",
       "      <td>94.625094</td>\n",
       "    </tr>\n",
       "    <tr>\n",
       "      <th>697</th>\n",
       "      <td>82.0</td>\n",
       "      <td>88.603770</td>\n",
       "    </tr>\n",
       "    <tr>\n",
       "      <th>698</th>\n",
       "      <td>66.0</td>\n",
       "      <td>63.648685</td>\n",
       "    </tr>\n",
       "    <tr>\n",
       "      <th>699</th>\n",
       "      <td>97.0</td>\n",
       "      <td>94.975266</td>\n",
       "    </tr>\n",
       "  </tbody>\n",
       "</table>\n",
       "<p>700 rows × 2 columns</p>\n",
       "</div>"
      ],
      "text/plain": [
       "        x          y\n",
       "0    24.0  21.549452\n",
       "1    50.0  47.464463\n",
       "2    15.0  17.218656\n",
       "3    38.0  36.586398\n",
       "4    87.0  87.288984\n",
       "..    ...        ...\n",
       "695  58.0  58.595006\n",
       "696  93.0  94.625094\n",
       "697  82.0  88.603770\n",
       "698  66.0  63.648685\n",
       "699  97.0  94.975266\n",
       "\n",
       "[700 rows x 2 columns]"
      ]
     },
     "execution_count": 3,
     "metadata": {},
     "output_type": "execute_result"
    }
   ],
   "source": [
    "df = pd.read_csv(\"train.csv\")\n",
    "df"
   ]
  },
  {
   "cell_type": "code",
   "execution_count": 217,
   "id": "8161da49-ef73-406a-85a5-4ca83fb9b892",
   "metadata": {},
   "outputs": [],
   "source": [
    "data=df.copy()\n",
    "data.dropna(axis=0,inplace=True)\n",
    "data=data.reset_index()\n",
    "W=[1,2]\n",
    "for column in data.columns:\n",
    "    data[column]=(data[column]-data[column].mean())/data[column].std()\n",
    "X=pd.DataFrame()\n",
    "X[\"x0\"]=np.ones(len(data)).copy()\n",
    "X[\"x1\"] = data[\"x\"].copy()\n",
    "Y=data[\"y\"].copy()"
   ]
  },
  {
   "cell_type": "code",
   "execution_count": 218,
   "id": "9aa8a720-90cd-45f7-bdb2-bc62bb23590e",
   "metadata": {},
   "outputs": [
    {
     "data": {
      "text/plain": [
       "[<matplotlib.lines.Line2D at 0x7fa6ca36f610>]"
      ]
     },
     "execution_count": 218,
     "metadata": {},
     "output_type": "execute_result"
    },
    {
     "data": {
      "image/png": "[encoded data removed]",
      "text/plain": [
       "<Figure size 640x480 with 1 Axes>"
      ]
     },
     "metadata": {},
     "output_type": "display_data"
    }
   ],
   "source": [
    "def gradient_decent(X,W,Y,alpha=0.001,iteration=20):\n",
    "    J=np.mean((X.dot(W)-Y)**2)/2\n",
    "    costH=[J]\n",
    "    for i in range(iteration):\n",
    "        diff= X.dot(W)-Y\n",
    "        g=np.mean(X.T.dot(diff))\n",
    "        W=W-alpha*g\n",
    "        J=np.mean((X.dot(W)-Y)**2)/2\n",
    "        costH.append(J)\n",
    "    return costH,W\n",
    "costH,Wn=gradient_decent(X,W,Y)\n",
    "plt.plot(costH)"
   ]
  },
  {
   "cell_type": "code",
   "execution_count": 219,
   "id": "c4cd0e07-1c95-48fe-a9fa-806d0dae0742",
   "metadata": {},
   "outputs": [
    {
     "data": {
      "text/plain": [
       "array([-0.00232838,  0.99767162])"
      ]
     },
     "execution_count": 219,
     "metadata": {},
     "output_type": "execute_result"
    }
   ],
   "source": [
    "Wn"
   ]
  },
  {
   "cell_type": "code",
   "execution_count": 220,
   "id": "f3307a82-b9af-4982-a87b-6cee5cc1aca4",
   "metadata": {},
   "outputs": [],
   "source": [
    "X[\"y\"]=X.dot(Wn)"
   ]
  },
  {
   "cell_type": "code",
   "execution_count": 221,
   "id": "2498ae23-9fb4-4db3-985f-2a2761254686",
   "metadata": {},
   "outputs": [
    {
     "data": {
      "text/html": [
       "<div>\n",
       "<style scoped>\n",
       "    .dataframe tbody tr th:only-of-type {\n",
       "        vertical-align: middle;\n",
       "    }\n",
       "\n",
       "    .dataframe tbody tr th {\n",
       "        vertical-align: top;\n",
       "    }\n",
       "\n",
       "    .dataframe thead th {\n",
       "        text-align: right;\n",
       "    }\n",
       "</style>\n",
       "<table border=\"1\" class=\"dataframe\">\n",
       "  <thead>\n",
       "    <tr style=\"text-align: right;\">\n",
       "      <th></th>\n",
       "      <th>x0</th>\n",
       "      <th>x1</th>\n",
       "      <th>y</th>\n",
       "    </tr>\n",
       "  </thead>\n",
       "  <tbody>\n",
       "    <tr>\n",
       "      <th>0</th>\n",
       "      <td>1.0</td>\n",
       "      <td>-0.898453</td>\n",
       "      <td>-0.898689</td>\n",
       "    </tr>\n",
       "    <tr>\n",
       "      <th>1</th>\n",
       "      <td>1.0</td>\n",
       "      <td>-0.000494</td>\n",
       "      <td>-0.002821</td>\n",
       "    </tr>\n",
       "    <tr>\n",
       "      <th>2</th>\n",
       "      <td>1.0</td>\n",
       "      <td>-1.209285</td>\n",
       "      <td>-1.208797</td>\n",
       "    </tr>\n",
       "    <tr>\n",
       "      <th>3</th>\n",
       "      <td>1.0</td>\n",
       "      <td>-0.414937</td>\n",
       "      <td>-0.416299</td>\n",
       "    </tr>\n",
       "    <tr>\n",
       "      <th>4</th>\n",
       "      <td>1.0</td>\n",
       "      <td>1.277370</td>\n",
       "      <td>1.272068</td>\n",
       "    </tr>\n",
       "    <tr>\n",
       "      <th>...</th>\n",
       "      <td>...</td>\n",
       "      <td>...</td>\n",
       "      <td>...</td>\n",
       "    </tr>\n",
       "    <tr>\n",
       "      <th>694</th>\n",
       "      <td>1.0</td>\n",
       "      <td>0.275801</td>\n",
       "      <td>0.272830</td>\n",
       "    </tr>\n",
       "    <tr>\n",
       "      <th>695</th>\n",
       "      <td>1.0</td>\n",
       "      <td>1.484591</td>\n",
       "      <td>1.478806</td>\n",
       "    </tr>\n",
       "    <tr>\n",
       "      <th>696</th>\n",
       "      <td>1.0</td>\n",
       "      <td>1.104686</td>\n",
       "      <td>1.099785</td>\n",
       "    </tr>\n",
       "    <tr>\n",
       "      <th>697</th>\n",
       "      <td>1.0</td>\n",
       "      <td>0.552096</td>\n",
       "      <td>0.548482</td>\n",
       "    </tr>\n",
       "    <tr>\n",
       "      <th>698</th>\n",
       "      <td>1.0</td>\n",
       "      <td>1.622739</td>\n",
       "      <td>1.616632</td>\n",
       "    </tr>\n",
       "  </tbody>\n",
       "</table>\n",
       "<p>699 rows × 3 columns</p>\n",
       "</div>"
      ],
      "text/plain": [
       "      x0        x1         y\n",
       "0    1.0 -0.898453 -0.898689\n",
       "1    1.0 -0.000494 -0.002821\n",
       "2    1.0 -1.209285 -1.208797\n",
       "3    1.0 -0.414937 -0.416299\n",
       "4    1.0  1.277370  1.272068\n",
       "..   ...       ...       ...\n",
       "694  1.0  0.275801  0.272830\n",
       "695  1.0  1.484591  1.478806\n",
       "696  1.0  1.104686  1.099785\n",
       "697  1.0  0.552096  0.548482\n",
       "698  1.0  1.622739  1.616632\n",
       "\n",
       "[699 rows x 3 columns]"
      ]
     },
     "execution_count": 221,
     "metadata": {},
     "output_type": "execute_result"
    }
   ],
   "source": [
    "X"
   ]
  },
  {
   "cell_type": "code",
   "execution_count": 222,
   "id": "6aded287-c6a1-4c01-82b8-e1aef57ec745",
   "metadata": {},
   "outputs": [
    {
     "data": {
      "text/plain": [
       "[<matplotlib.lines.Line2D at 0x7fa6ca3eb280>]"
      ]
     },
     "execution_count": 222,
     "metadata": {},
     "output_type": "execute_result"
    },
    {
     "data": {
      "image/png": "[encoded data removed]",
      "text/plain": [
       "<Figure size 640x480 with 1 Axes>"
      ]
     },
     "metadata": {},
     "output_type": "display_data"
    }
   ],
   "source": [
    "fig,ax=plt.subplots()\n",
    "ax.scatter(data[\"x\"],data[\"y\"])\n",
    "ax.plot(X[\"x1\"],X[\"y\"],color=\"red\")"
   ]
  },
  {
   "cell_type": "code",
   "execution_count": 223,
   "id": "64b6de0d-8d56-4122-be6c-119893d176f8",
   "metadata": {},
   "outputs": [],
   "source": [
    "df_test=pd.read_csv(\"test.csv\")"
   ]
  },
  {
   "cell_type": "code",
   "execution_count": 224,
   "id": "9f22a612-366c-4e67-ac6b-3a61aa9f4e04",
   "metadata": {},
   "outputs": [
    {
     "data": {
      "text/html": [
       "<div>\n",
       "<style scoped>\n",
       "    .dataframe tbody tr th:only-of-type {\n",
       "        vertical-align: middle;\n",
       "    }\n",
       "\n",
       "    .dataframe tbody tr th {\n",
       "        vertical-align: top;\n",
       "    }\n",
       "\n",
       "    .dataframe thead th {\n",
       "        text-align: right;\n",
       "    }\n",
       "</style>\n",
       "<table border=\"1\" class=\"dataframe\">\n",
       "  <thead>\n",
       "    <tr style=\"text-align: right;\">\n",
       "      <th></th>\n",
       "      <th>x</th>\n",
       "      <th>y</th>\n",
       "    </tr>\n",
       "  </thead>\n",
       "  <tbody>\n",
       "    <tr>\n",
       "      <th>0</th>\n",
       "      <td>77</td>\n",
       "      <td>79.775152</td>\n",
       "    </tr>\n",
       "    <tr>\n",
       "      <th>1</th>\n",
       "      <td>21</td>\n",
       "      <td>23.177279</td>\n",
       "    </tr>\n",
       "    <tr>\n",
       "      <th>2</th>\n",
       "      <td>22</td>\n",
       "      <td>25.609262</td>\n",
       "    </tr>\n",
       "    <tr>\n",
       "      <th>3</th>\n",
       "      <td>20</td>\n",
       "      <td>17.857388</td>\n",
       "    </tr>\n",
       "    <tr>\n",
       "      <th>4</th>\n",
       "      <td>36</td>\n",
       "      <td>41.849864</td>\n",
       "    </tr>\n",
       "    <tr>\n",
       "      <th>...</th>\n",
       "      <td>...</td>\n",
       "      <td>...</td>\n",
       "    </tr>\n",
       "    <tr>\n",
       "      <th>295</th>\n",
       "      <td>71</td>\n",
       "      <td>68.545888</td>\n",
       "    </tr>\n",
       "    <tr>\n",
       "      <th>296</th>\n",
       "      <td>46</td>\n",
       "      <td>47.334876</td>\n",
       "    </tr>\n",
       "    <tr>\n",
       "      <th>297</th>\n",
       "      <td>55</td>\n",
       "      <td>54.090637</td>\n",
       "    </tr>\n",
       "    <tr>\n",
       "      <th>298</th>\n",
       "      <td>62</td>\n",
       "      <td>63.297171</td>\n",
       "    </tr>\n",
       "    <tr>\n",
       "      <th>299</th>\n",
       "      <td>47</td>\n",
       "      <td>52.459467</td>\n",
       "    </tr>\n",
       "  </tbody>\n",
       "</table>\n",
       "<p>300 rows × 2 columns</p>\n",
       "</div>"
      ],
      "text/plain": [
       "      x          y\n",
       "0    77  79.775152\n",
       "1    21  23.177279\n",
       "2    22  25.609262\n",
       "3    20  17.857388\n",
       "4    36  41.849864\n",
       "..   ..        ...\n",
       "295  71  68.545888\n",
       "296  46  47.334876\n",
       "297  55  54.090637\n",
       "298  62  63.297171\n",
       "299  47  52.459467\n",
       "\n",
       "[300 rows x 2 columns]"
      ]
     },
     "execution_count": 224,
     "metadata": {},
     "output_type": "execute_result"
    }
   ],
   "source": [
    "df_test"
   ]
  },
  {
   "cell_type": "code",
   "execution_count": 225,
   "id": "1e5a1fd5-0056-40ee-b247-73caf0cc546c",
   "metadata": {},
   "outputs": [],
   "source": [
    "data_test=df_test.copy()\n",
    "for column in data_test.columns:\n",
    "    data_test[column]=(data_test[column]-data_test[column].mean())/data_test[column].std()"
   ]
  },
  {
   "cell_type": "code",
   "execution_count": 226,
   "id": "96233e6c-b199-426e-a3ae-8d4446d66868",
   "metadata": {},
   "outputs": [
    {
     "data": {
      "text/html": [
       "<div>\n",
       "<style scoped>\n",
       "    .dataframe tbody tr th:only-of-type {\n",
       "        vertical-align: middle;\n",
       "    }\n",
       "\n",
       "    .dataframe tbody tr th {\n",
       "        vertical-align: top;\n",
       "    }\n",
       "\n",
       "    .dataframe thead th {\n",
       "        text-align: right;\n",
       "    }\n",
       "</style>\n",
       "<table border=\"1\" class=\"dataframe\">\n",
       "  <thead>\n",
       "    <tr style=\"text-align: right;\">\n",
       "      <th></th>\n",
       "      <th>x</th>\n",
       "      <th>y</th>\n",
       "    </tr>\n",
       "  </thead>\n",
       "  <tbody>\n",
       "    <tr>\n",
       "      <th>0</th>\n",
       "      <td>0.914365</td>\n",
       "      <td>0.982754</td>\n",
       "    </tr>\n",
       "    <tr>\n",
       "      <th>1</th>\n",
       "      <td>-1.050251</td>\n",
       "      <td>-0.964099</td>\n",
       "    </tr>\n",
       "    <tr>\n",
       "      <th>2</th>\n",
       "      <td>-1.015169</td>\n",
       "      <td>-0.880443</td>\n",
       "    </tr>\n",
       "    <tr>\n",
       "      <th>3</th>\n",
       "      <td>-1.085334</td>\n",
       "      <td>-1.147092</td>\n",
       "    </tr>\n",
       "    <tr>\n",
       "      <th>4</th>\n",
       "      <td>-0.524015</td>\n",
       "      <td>-0.321799</td>\n",
       "    </tr>\n",
       "    <tr>\n",
       "      <th>...</th>\n",
       "      <td>...</td>\n",
       "      <td>...</td>\n",
       "    </tr>\n",
       "    <tr>\n",
       "      <th>295</th>\n",
       "      <td>0.703871</td>\n",
       "      <td>0.596490</td>\n",
       "    </tr>\n",
       "    <tr>\n",
       "      <th>296</th>\n",
       "      <td>-0.173190</td>\n",
       "      <td>-0.133126</td>\n",
       "    </tr>\n",
       "    <tr>\n",
       "      <th>297</th>\n",
       "      <td>0.142552</td>\n",
       "      <td>0.099258</td>\n",
       "    </tr>\n",
       "    <tr>\n",
       "      <th>298</th>\n",
       "      <td>0.388129</td>\n",
       "      <td>0.415944</td>\n",
       "    </tr>\n",
       "    <tr>\n",
       "      <th>299</th>\n",
       "      <td>-0.138108</td>\n",
       "      <td>0.043149</td>\n",
       "    </tr>\n",
       "  </tbody>\n",
       "</table>\n",
       "<p>300 rows × 2 columns</p>\n",
       "</div>"
      ],
      "text/plain": [
       "            x         y\n",
       "0    0.914365  0.982754\n",
       "1   -1.050251 -0.964099\n",
       "2   -1.015169 -0.880443\n",
       "3   -1.085334 -1.147092\n",
       "4   -0.524015 -0.321799\n",
       "..        ...       ...\n",
       "295  0.703871  0.596490\n",
       "296 -0.173190 -0.133126\n",
       "297  0.142552  0.099258\n",
       "298  0.388129  0.415944\n",
       "299 -0.138108  0.043149\n",
       "\n",
       "[300 rows x 2 columns]"
      ]
     },
     "execution_count": 226,
     "metadata": {},
     "output_type": "execute_result"
    }
   ],
   "source": [
    "data_test"
   ]
  },
  {
   "cell_type": "code",
   "execution_count": 227,
   "id": "e29f8b31-53b1-4a2e-a36a-6fa5b783f4bb",
   "metadata": {},
   "outputs": [],
   "source": [
    "Yp=data_test[\"x\"]*Wn[1]+Wn[0]"
   ]
  },
  {
   "cell_type": "code",
   "execution_count": 228,
   "id": "118e1745-e5c2-42e1-b229-cb73c2618f74",
   "metadata": {},
   "outputs": [
    {
     "name": "stdout",
     "output_type": "stream",
     "text": [
      "0      0.909908\n",
      "1     -1.050134\n",
      "2     -1.015134\n",
      "3     -1.085135\n",
      "4     -0.525123\n",
      "         ...   \n",
      "295    0.699904\n",
      "296   -0.175115\n",
      "297    0.139891\n",
      "298    0.384897\n",
      "299   -0.140115\n",
      "Name: x, Length: 300, dtype: float64,0      0.982754\n",
      "1     -0.964099\n",
      "2     -0.880443\n",
      "3     -1.147092\n",
      "4     -0.321799\n",
      "         ...   \n",
      "295    0.596490\n",
      "296   -0.133126\n",
      "297    0.099258\n",
      "298    0.415944\n",
      "299    0.043149\n",
      "Name: y, Length: 300, dtype: float64\n"
     ]
    }
   ],
   "source": [
    "print(f\"{Yp},{data_test['y']}\")"
   ]
  },
  {
   "cell_type": "code",
   "execution_count": 229,
   "id": "5d7c421f-6f19-48d8-8f54-6d0152b7f475",
   "metadata": {},
   "outputs": [
    {
     "data": {
      "text/plain": [
       "[<matplotlib.lines.Line2D at 0x7fa6ca2909a0>]"
      ]
     },
     "execution_count": 229,
     "metadata": {},
     "output_type": "execute_result"
    },
    {
     "data": {
      "image/png": "[encoded data removed]",
      "text/plain": [
       "<Figure size 640x480 with 1 Axes>"
      ]
     },
     "metadata": {},
     "output_type": "display_data"
    }
   ],
   "source": [
    "fig,ax=plt.subplots()\n",
    "ax.scatter(data_test[\"x\"],data_test[\"y\"])\n",
    "ax.plot(data_test[\"x\"],Yp,color=\"red\")"
   ]
  },
  {
   "cell_type": "code",
   "execution_count": null,
   "id": "82d989b0-1cdc-47eb-85b0-68755ac012b4",
   "metadata": {},
   "outputs": [],
   "source": []
  }
 ],
 "metadata": {
  "kernelspec": {
   "display_name": "Python 3 (ipykernel)",
   "language": "python",
   "name": "python3"
  },
  "language_info": {
   "codemirror_mode": {
    "name": "ipython",
    "version": 3
   },
   "file_extension": ".py",
   "mimetype": "text/x-python",
   "name": "python",
   "nbconvert_exporter": "python",
   "pygments_lexer": "ipython3",
   "version": "3.10.6"
  }
 },
 "nbformat": 4,
 "nbformat_minor": 5
}
